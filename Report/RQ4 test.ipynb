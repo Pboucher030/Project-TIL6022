{
 "cells": [
  {
   "cell_type": "code",
   "execution_count": 6,
   "metadata": {},
   "outputs": [
    {
     "name": "stdout",
     "output_type": "stream",
     "text": [
      "Periods in df_filtered: ['2013' '2014' '2015' '2016' '2017' '2018' '2019' '2020' '2021' '2022'\n",
      " '2023']\n",
      "Periods in df_mat_total: ['1999' '2003' '2007' '2011' '2015' '2019' '2020' '2021' '2022' '2023']\n"
     ]
    },
    {
     "name": "stderr",
     "output_type": "stream",
     "text": [
      "C:\\Users\\Pelle Boucher\\AppData\\Local\\Temp\\ipykernel_25120\\187803277.py:54: SettingWithCopyWarning: \n",
      "A value is trying to be set on a copy of a slice from a DataFrame.\n",
      "Try using .loc[row_indexer,col_indexer] = value instead\n",
      "\n",
      "See the caveats in the documentation: https://pandas.pydata.org/pandas-docs/stable/user_guide/indexing.html#returning-a-view-versus-a-copy\n",
      "  df_filtered['Perioden'] = df_filtered['Perioden'].astype(str)\n",
      "C:\\Users\\Pelle Boucher\\AppData\\Local\\Temp\\ipykernel_25120\\187803277.py:55: SettingWithCopyWarning: \n",
      "A value is trying to be set on a copy of a slice from a DataFrame.\n",
      "Try using .loc[row_indexer,col_indexer] = value instead\n",
      "\n",
      "See the caveats in the documentation: https://pandas.pydata.org/pandas-docs/stable/user_guide/indexing.html#returning-a-view-versus-a-copy\n",
      "  df_mat_total['Perioden'] = df_mat_total['Perioden'].astype(str)\n"
     ]
    },
    {
     "data": {
      "text/html": [
       "<div>\n",
       "<style scoped>\n",
       "    .dataframe tbody tr th:only-of-type {\n",
       "        vertical-align: middle;\n",
       "    }\n",
       "\n",
       "    .dataframe tbody tr th {\n",
       "        vertical-align: top;\n",
       "    }\n",
       "\n",
       "    .dataframe thead th {\n",
       "        text-align: right;\n",
       "    }\n",
       "</style>\n",
       "<table border=\"1\" class=\"dataframe\">\n",
       "  <thead>\n",
       "    <tr style=\"text-align: right;\">\n",
       "      <th></th>\n",
       "      <th>Perioden</th>\n",
       "      <th>Werkzame beroepsbevolking (x 1 000)</th>\n",
       "      <th>Ritten per persoon per dag (gemiddeld) (aantal)</th>\n",
       "      <th>Leeftijd</th>\n",
       "      <th>Vervoerwijzen</th>\n",
       "      <th>Reismotieven</th>\n",
       "      <th>Thuiswerker</th>\n",
       "      <th>Positie werkkring</th>\n",
       "      <th>Persoonskenmerken</th>\n",
       "    </tr>\n",
       "  </thead>\n",
       "  <tbody>\n",
       "    <tr>\n",
       "      <th>0</th>\n",
       "      <td>2015</td>\n",
       "      <td>58065</td>\n",
       "      <td>0.25</td>\n",
       "      <td>Totaal</td>\n",
       "      <td>Auto (bestuurder)</td>\n",
       "      <td>Van en naar het werk</td>\n",
       "      <td>Meestal of soms thuiswerken</td>\n",
       "      <td>Totaal</td>\n",
       "      <td>Totaal personen</td>\n",
       "    </tr>\n",
       "    <tr>\n",
       "      <th>1</th>\n",
       "      <td>2019</td>\n",
       "      <td>62664</td>\n",
       "      <td>0.25</td>\n",
       "      <td>Totaal</td>\n",
       "      <td>Auto (bestuurder)</td>\n",
       "      <td>Van en naar het werk</td>\n",
       "      <td>Meestal of soms thuiswerken</td>\n",
       "      <td>Totaal</td>\n",
       "      <td>Totaal personen</td>\n",
       "    </tr>\n",
       "    <tr>\n",
       "      <th>2</th>\n",
       "      <td>2020</td>\n",
       "      <td>62657</td>\n",
       "      <td>0.19</td>\n",
       "      <td>Totaal</td>\n",
       "      <td>Auto (bestuurder)</td>\n",
       "      <td>Van en naar het werk</td>\n",
       "      <td>Meestal of soms thuiswerken</td>\n",
       "      <td>Totaal</td>\n",
       "      <td>Totaal personen</td>\n",
       "    </tr>\n",
       "    <tr>\n",
       "      <th>3</th>\n",
       "      <td>2021</td>\n",
       "      <td>64785</td>\n",
       "      <td>0.19</td>\n",
       "      <td>Totaal</td>\n",
       "      <td>Auto (bestuurder)</td>\n",
       "      <td>Van en naar het werk</td>\n",
       "      <td>Meestal of soms thuiswerken</td>\n",
       "      <td>Totaal</td>\n",
       "      <td>Totaal personen</td>\n",
       "    </tr>\n",
       "    <tr>\n",
       "      <th>4</th>\n",
       "      <td>2022</td>\n",
       "      <td>66836</td>\n",
       "      <td>0.21</td>\n",
       "      <td>Totaal</td>\n",
       "      <td>Auto (bestuurder)</td>\n",
       "      <td>Van en naar het werk</td>\n",
       "      <td>Meestal of soms thuiswerken</td>\n",
       "      <td>Totaal</td>\n",
       "      <td>Totaal personen</td>\n",
       "    </tr>\n",
       "    <tr>\n",
       "      <th>5</th>\n",
       "      <td>2023</td>\n",
       "      <td>68159</td>\n",
       "      <td>0.22</td>\n",
       "      <td>Totaal</td>\n",
       "      <td>Auto (bestuurder)</td>\n",
       "      <td>Van en naar het werk</td>\n",
       "      <td>Meestal of soms thuiswerken</td>\n",
       "      <td>Totaal</td>\n",
       "      <td>Totaal personen</td>\n",
       "    </tr>\n",
       "  </tbody>\n",
       "</table>\n",
       "</div>"
      ],
      "text/plain": [
       "  Perioden  Werkzame beroepsbevolking (x 1 000)  \\\n",
       "0     2015                                58065   \n",
       "1     2019                                62664   \n",
       "2     2020                                62657   \n",
       "3     2021                                64785   \n",
       "4     2022                                66836   \n",
       "5     2023                                68159   \n",
       "\n",
       "  Ritten per persoon per dag (gemiddeld) (aantal) Leeftijd      Vervoerwijzen  \\\n",
       "0                                            0.25   Totaal  Auto (bestuurder)   \n",
       "1                                            0.25   Totaal  Auto (bestuurder)   \n",
       "2                                            0.19   Totaal  Auto (bestuurder)   \n",
       "3                                            0.19   Totaal  Auto (bestuurder)   \n",
       "4                                            0.21   Totaal  Auto (bestuurder)   \n",
       "5                                            0.22   Totaal  Auto (bestuurder)   \n",
       "\n",
       "           Reismotieven                  Thuiswerker Positie werkkring  \\\n",
       "0  Van en naar het werk  Meestal of soms thuiswerken            Totaal   \n",
       "1  Van en naar het werk  Meestal of soms thuiswerken            Totaal   \n",
       "2  Van en naar het werk  Meestal of soms thuiswerken            Totaal   \n",
       "3  Van en naar het werk  Meestal of soms thuiswerken            Totaal   \n",
       "4  Van en naar het werk  Meestal of soms thuiswerken            Totaal   \n",
       "5  Van en naar het werk  Meestal of soms thuiswerken            Totaal   \n",
       "\n",
       "  Persoonskenmerken  \n",
       "0   Totaal personen  \n",
       "1   Totaal personen  \n",
       "2   Totaal personen  \n",
       "3   Totaal personen  \n",
       "4   Totaal personen  \n",
       "5   Totaal personen  "
      ]
     },
     "execution_count": 6,
     "metadata": {},
     "output_type": "execute_result"
    }
   ],
   "source": [
    "import pandas as pd\n",
    "import plotly_express as px\n",
    "\n",
    "dataframe_mat = 'Data/Mobiliteitstrend__per_rit_en_motief_02102024_122208.csv'\n",
    "dataframe_wfh1 = 'Data/Werkzame_beroepsbevolking__thuiswerken_04102024_193141.csv'\n",
    "dataframe_wfh2 ='Data/Werkzame_beroepsbevolking__thuiswerken_07102024_101921.csv'\n",
    "\n",
    "df_mat = pd.read_csv(dataframe_mat,  delimiter=\";\", encoding=\"UTF-8-SIG\")\n",
    "df_mat['Perioden'] = df_mat['Perioden'].str.replace('*', '', regex=False)\n",
    "\n",
    "df_mat_total = df_mat[\n",
    "    (df_mat['Geslacht'] == \"Totaal mannen en vrouwen\") &\n",
    "    (df_mat[\"Leeftijd\"] == \"Totaal\") &\n",
    "    (df_mat[\"Vervoerwijzen\"] != \"Totaal\") &\n",
    "    (df_mat[\"Reismotieven\"] == \"Van en naar het werk\")\n",
    "]\n",
    "\n",
    "\n",
    "df_wfh1 = pd.read_csv(dataframe_wfh1, delimiter=\";\", encoding=\"UTF-8-SIG\")\n",
    "df_wfh2 = pd.read_csv(dataframe_wfh2, delimiter=\";\", encoding=\"UTF-8-SIG\")\n",
    "\n",
    "\n",
    "df_wfh2.rename(columns={\n",
    "    'Positie in de werkkring': 'Positie werkkring',\n",
    "    'Thuiswerken': 'Thuiswerker'\n",
    "}, inplace=True)\n",
    "\n",
    "# Merge WFH datasets\n",
    "df_merged = pd.concat([df_wfh1, df_wfh2])\n",
    "\n",
    "# Map WFH categories\n",
    "thuiswerker_mapping = {\n",
    "    'Thuiswerker die gewoonlijk thuis werkt': 'Meestal of soms thuiswerken',\n",
    "    'Thuiswerker, incidenteel op vaste dagen': 'Meestal of soms thuiswerken',\n",
    "    'Thuiswerker, incidenteel geen vaste dag': 'Meestal of soms thuiswerken',\n",
    "    'Geen thuiswerker': 'Niet thuiswerken'\n",
    "}\n",
    "df_merged['Thuiswerker'] = df_merged['Thuiswerker'].replace(thuiswerker_mapping)\n",
    "\n",
    "# Filter WFH data\n",
    "df_filtered = df_merged[\n",
    "    (df_merged['Positie werkkring'] == 'Totaal') &\n",
    "    (df_merged['Persoonskenmerken'] == 'Totaal personen') &\n",
    "    (~df_merged['Thuiswerker'].isin([\n",
    "        \"Thuiswerker\",\n",
    "        \"Totaal\",\n",
    "        \"Meestal thuiswerken\",\n",
    "        \"Soms thuiswerken\",\n",
    "        \"Thuiswerker die incidenteel thuis werkt\"\n",
    "    ]))\n",
    "]\n",
    "\n",
    "# Convert Perioden to string type in both dataframes\n",
    "df_filtered['Perioden'] = df_filtered['Perioden'].astype(str)\n",
    "df_mat_total['Perioden'] = df_mat_total['Perioden'].astype(str)\n",
    "\n",
    "# Print unique values to check matching periods\n",
    "print(\"Periods in df_filtered:\", df_filtered['Perioden'].unique())\n",
    "print(\"Periods in df_mat_total:\", df_mat_total['Perioden'].unique())\n",
    "\n",
    "# Merge filtered datasets on 'Perioden'\n",
    "final_df = pd.merge(df_filtered, df_mat_total, on='Perioden', how='inner')\n",
    "\n",
    "final_df_agg = final_df.groupby('Perioden').agg({\n",
    "    'Werkzame beroepsbevolking (x 1 000)': 'sum',\n",
    "    'Ritten per persoon per dag (gemiddeld) (aantal)': 'first', \n",
    "    'Leeftijd': 'first',\n",
    "    'Vervoerwijzen': 'first',\n",
    "    'Reismotieven': 'first',\n",
    "    'Thuiswerker': 'first',\n",
    "    'Positie werkkring': 'first',\n",
    "    'Persoonskenmerken': 'first'\n",
    "}).reset_index()\n",
    "\n",
    "final_df_agg"
   ]
  },
  {
   "cell_type": "code",
   "execution_count": 7,
   "metadata": {},
   "outputs": [
    {
     "data": {
      "application/vnd.plotly.v1+json": {
       "config": {
        "plotlyServerURL": "https://plot.ly"
       },
       "data": [
        {
         "hovertemplate": "Werkzame beroepsbevolking (x 1 000)=%{x}<br>Ritten per persoon per dag (gemiddeld) (aantal)=%{y}<extra></extra>",
         "legendgroup": "",
         "marker": {
          "color": "#636efa",
          "symbol": "circle"
         },
         "mode": "markers",
         "name": "",
         "orientation": "h",
         "showlegend": false,
         "type": "scatter",
         "x": [
          58065,
          62664,
          62657,
          64785,
          66836,
          68159
         ],
         "xaxis": "x",
         "y": [
          "    0.25",
          "    0.25",
          "    0.19",
          "    0.19",
          "    0.21",
          "    0.22"
         ],
         "yaxis": "y"
        },
        {
         "hovertemplate": "<b>OLS trendline</b><br>Ritten per persoon per dag (gemiddeld) (aantal) = -3.57507e-06 * Werkzame beroepsbevolking (x 1 000) + 0.446641<br>R<sup>2</sup>=0.224346<br><br>Werkzame beroepsbevolking (x 1 000)=%{x}<br>Ritten per persoon per dag (gemiddeld) (aantal)=%{y} <b>(trend)</b><extra></extra>",
         "legendgroup": "",
         "marker": {
          "color": "#636efa",
          "symbol": "circle"
         },
         "mode": "lines",
         "name": "",
         "showlegend": false,
         "type": "scatter",
         "x": [
          58065,
          62657,
          62664,
          64785,
          66836,
          68159
         ],
         "xaxis": "x",
         "y": [
          0.2390544497951424,
          0.22263771984472341,
          0.2226126943417502,
          0.2150299669408707,
          0.2076974945697232,
          0.20296767450778846
         ],
         "yaxis": "y"
        }
       ],
       "layout": {
        "legend": {
         "tracegroupgap": 0
        },
        "margin": {
         "t": 60
        },
        "template": {
         "data": {
          "bar": [
           {
            "error_x": {
             "color": "#2a3f5f"
            },
            "error_y": {
             "color": "#2a3f5f"
            },
            "marker": {
             "line": {
              "color": "#E5ECF6",
              "width": 0.5
             },
             "pattern": {
              "fillmode": "overlay",
              "size": 10,
              "solidity": 0.2
             }
            },
            "type": "bar"
           }
          ],
          "barpolar": [
           {
            "marker": {
             "line": {
              "color": "#E5ECF6",
              "width": 0.5
             },
             "pattern": {
              "fillmode": "overlay",
              "size": 10,
              "solidity": 0.2
             }
            },
            "type": "barpolar"
           }
          ],
          "carpet": [
           {
            "aaxis": {
             "endlinecolor": "#2a3f5f",
             "gridcolor": "white",
             "linecolor": "white",
             "minorgridcolor": "white",
             "startlinecolor": "#2a3f5f"
            },
            "baxis": {
             "endlinecolor": "#2a3f5f",
             "gridcolor": "white",
             "linecolor": "white",
             "minorgridcolor": "white",
             "startlinecolor": "#2a3f5f"
            },
            "type": "carpet"
           }
          ],
          "choropleth": [
           {
            "colorbar": {
             "outlinewidth": 0,
             "ticks": ""
            },
            "type": "choropleth"
           }
          ],
          "contour": [
           {
            "colorbar": {
             "outlinewidth": 0,
             "ticks": ""
            },
            "colorscale": [
             [
              0,
              "#0d0887"
             ],
             [
              0.1111111111111111,
              "#46039f"
             ],
             [
              0.2222222222222222,
              "#7201a8"
             ],
             [
              0.3333333333333333,
              "#9c179e"
             ],
             [
              0.4444444444444444,
              "#bd3786"
             ],
             [
              0.5555555555555556,
              "#d8576b"
             ],
             [
              0.6666666666666666,
              "#ed7953"
             ],
             [
              0.7777777777777778,
              "#fb9f3a"
             ],
             [
              0.8888888888888888,
              "#fdca26"
             ],
             [
              1,
              "#f0f921"
             ]
            ],
            "type": "contour"
           }
          ],
          "contourcarpet": [
           {
            "colorbar": {
             "outlinewidth": 0,
             "ticks": ""
            },
            "type": "contourcarpet"
           }
          ],
          "heatmap": [
           {
            "colorbar": {
             "outlinewidth": 0,
             "ticks": ""
            },
            "colorscale": [
             [
              0,
              "#0d0887"
             ],
             [
              0.1111111111111111,
              "#46039f"
             ],
             [
              0.2222222222222222,
              "#7201a8"
             ],
             [
              0.3333333333333333,
              "#9c179e"
             ],
             [
              0.4444444444444444,
              "#bd3786"
             ],
             [
              0.5555555555555556,
              "#d8576b"
             ],
             [
              0.6666666666666666,
              "#ed7953"
             ],
             [
              0.7777777777777778,
              "#fb9f3a"
             ],
             [
              0.8888888888888888,
              "#fdca26"
             ],
             [
              1,
              "#f0f921"
             ]
            ],
            "type": "heatmap"
           }
          ],
          "heatmapgl": [
           {
            "colorbar": {
             "outlinewidth": 0,
             "ticks": ""
            },
            "colorscale": [
             [
              0,
              "#0d0887"
             ],
             [
              0.1111111111111111,
              "#46039f"
             ],
             [
              0.2222222222222222,
              "#7201a8"
             ],
             [
              0.3333333333333333,
              "#9c179e"
             ],
             [
              0.4444444444444444,
              "#bd3786"
             ],
             [
              0.5555555555555556,
              "#d8576b"
             ],
             [
              0.6666666666666666,
              "#ed7953"
             ],
             [
              0.7777777777777778,
              "#fb9f3a"
             ],
             [
              0.8888888888888888,
              "#fdca26"
             ],
             [
              1,
              "#f0f921"
             ]
            ],
            "type": "heatmapgl"
           }
          ],
          "histogram": [
           {
            "marker": {
             "pattern": {
              "fillmode": "overlay",
              "size": 10,
              "solidity": 0.2
             }
            },
            "type": "histogram"
           }
          ],
          "histogram2d": [
           {
            "colorbar": {
             "outlinewidth": 0,
             "ticks": ""
            },
            "colorscale": [
             [
              0,
              "#0d0887"
             ],
             [
              0.1111111111111111,
              "#46039f"
             ],
             [
              0.2222222222222222,
              "#7201a8"
             ],
             [
              0.3333333333333333,
              "#9c179e"
             ],
             [
              0.4444444444444444,
              "#bd3786"
             ],
             [
              0.5555555555555556,
              "#d8576b"
             ],
             [
              0.6666666666666666,
              "#ed7953"
             ],
             [
              0.7777777777777778,
              "#fb9f3a"
             ],
             [
              0.8888888888888888,
              "#fdca26"
             ],
             [
              1,
              "#f0f921"
             ]
            ],
            "type": "histogram2d"
           }
          ],
          "histogram2dcontour": [
           {
            "colorbar": {
             "outlinewidth": 0,
             "ticks": ""
            },
            "colorscale": [
             [
              0,
              "#0d0887"
             ],
             [
              0.1111111111111111,
              "#46039f"
             ],
             [
              0.2222222222222222,
              "#7201a8"
             ],
             [
              0.3333333333333333,
              "#9c179e"
             ],
             [
              0.4444444444444444,
              "#bd3786"
             ],
             [
              0.5555555555555556,
              "#d8576b"
             ],
             [
              0.6666666666666666,
              "#ed7953"
             ],
             [
              0.7777777777777778,
              "#fb9f3a"
             ],
             [
              0.8888888888888888,
              "#fdca26"
             ],
             [
              1,
              "#f0f921"
             ]
            ],
            "type": "histogram2dcontour"
           }
          ],
          "mesh3d": [
           {
            "colorbar": {
             "outlinewidth": 0,
             "ticks": ""
            },
            "type": "mesh3d"
           }
          ],
          "parcoords": [
           {
            "line": {
             "colorbar": {
              "outlinewidth": 0,
              "ticks": ""
             }
            },
            "type": "parcoords"
           }
          ],
          "pie": [
           {
            "automargin": true,
            "type": "pie"
           }
          ],
          "scatter": [
           {
            "fillpattern": {
             "fillmode": "overlay",
             "size": 10,
             "solidity": 0.2
            },
            "type": "scatter"
           }
          ],
          "scatter3d": [
           {
            "line": {
             "colorbar": {
              "outlinewidth": 0,
              "ticks": ""
             }
            },
            "marker": {
             "colorbar": {
              "outlinewidth": 0,
              "ticks": ""
             }
            },
            "type": "scatter3d"
           }
          ],
          "scattercarpet": [
           {
            "marker": {
             "colorbar": {
              "outlinewidth": 0,
              "ticks": ""
             }
            },
            "type": "scattercarpet"
           }
          ],
          "scattergeo": [
           {
            "marker": {
             "colorbar": {
              "outlinewidth": 0,
              "ticks": ""
             }
            },
            "type": "scattergeo"
           }
          ],
          "scattergl": [
           {
            "marker": {
             "colorbar": {
              "outlinewidth": 0,
              "ticks": ""
             }
            },
            "type": "scattergl"
           }
          ],
          "scattermapbox": [
           {
            "marker": {
             "colorbar": {
              "outlinewidth": 0,
              "ticks": ""
             }
            },
            "type": "scattermapbox"
           }
          ],
          "scatterpolar": [
           {
            "marker": {
             "colorbar": {
              "outlinewidth": 0,
              "ticks": ""
             }
            },
            "type": "scatterpolar"
           }
          ],
          "scatterpolargl": [
           {
            "marker": {
             "colorbar": {
              "outlinewidth": 0,
              "ticks": ""
             }
            },
            "type": "scatterpolargl"
           }
          ],
          "scatterternary": [
           {
            "marker": {
             "colorbar": {
              "outlinewidth": 0,
              "ticks": ""
             }
            },
            "type": "scatterternary"
           }
          ],
          "surface": [
           {
            "colorbar": {
             "outlinewidth": 0,
             "ticks": ""
            },
            "colorscale": [
             [
              0,
              "#0d0887"
             ],
             [
              0.1111111111111111,
              "#46039f"
             ],
             [
              0.2222222222222222,
              "#7201a8"
             ],
             [
              0.3333333333333333,
              "#9c179e"
             ],
             [
              0.4444444444444444,
              "#bd3786"
             ],
             [
              0.5555555555555556,
              "#d8576b"
             ],
             [
              0.6666666666666666,
              "#ed7953"
             ],
             [
              0.7777777777777778,
              "#fb9f3a"
             ],
             [
              0.8888888888888888,
              "#fdca26"
             ],
             [
              1,
              "#f0f921"
             ]
            ],
            "type": "surface"
           }
          ],
          "table": [
           {
            "cells": {
             "fill": {
              "color": "#EBF0F8"
             },
             "line": {
              "color": "white"
             }
            },
            "header": {
             "fill": {
              "color": "#C8D4E3"
             },
             "line": {
              "color": "white"
             }
            },
            "type": "table"
           }
          ]
         },
         "layout": {
          "annotationdefaults": {
           "arrowcolor": "#2a3f5f",
           "arrowhead": 0,
           "arrowwidth": 1
          },
          "autotypenumbers": "strict",
          "coloraxis": {
           "colorbar": {
            "outlinewidth": 0,
            "ticks": ""
           }
          },
          "colorscale": {
           "diverging": [
            [
             0,
             "#8e0152"
            ],
            [
             0.1,
             "#c51b7d"
            ],
            [
             0.2,
             "#de77ae"
            ],
            [
             0.3,
             "#f1b6da"
            ],
            [
             0.4,
             "#fde0ef"
            ],
            [
             0.5,
             "#f7f7f7"
            ],
            [
             0.6,
             "#e6f5d0"
            ],
            [
             0.7,
             "#b8e186"
            ],
            [
             0.8,
             "#7fbc41"
            ],
            [
             0.9,
             "#4d9221"
            ],
            [
             1,
             "#276419"
            ]
           ],
           "sequential": [
            [
             0,
             "#0d0887"
            ],
            [
             0.1111111111111111,
             "#46039f"
            ],
            [
             0.2222222222222222,
             "#7201a8"
            ],
            [
             0.3333333333333333,
             "#9c179e"
            ],
            [
             0.4444444444444444,
             "#bd3786"
            ],
            [
             0.5555555555555556,
             "#d8576b"
            ],
            [
             0.6666666666666666,
             "#ed7953"
            ],
            [
             0.7777777777777778,
             "#fb9f3a"
            ],
            [
             0.8888888888888888,
             "#fdca26"
            ],
            [
             1,
             "#f0f921"
            ]
           ],
           "sequentialminus": [
            [
             0,
             "#0d0887"
            ],
            [
             0.1111111111111111,
             "#46039f"
            ],
            [
             0.2222222222222222,
             "#7201a8"
            ],
            [
             0.3333333333333333,
             "#9c179e"
            ],
            [
             0.4444444444444444,
             "#bd3786"
            ],
            [
             0.5555555555555556,
             "#d8576b"
            ],
            [
             0.6666666666666666,
             "#ed7953"
            ],
            [
             0.7777777777777778,
             "#fb9f3a"
            ],
            [
             0.8888888888888888,
             "#fdca26"
            ],
            [
             1,
             "#f0f921"
            ]
           ]
          },
          "colorway": [
           "#636efa",
           "#EF553B",
           "#00cc96",
           "#ab63fa",
           "#FFA15A",
           "#19d3f3",
           "#FF6692",
           "#B6E880",
           "#FF97FF",
           "#FECB52"
          ],
          "font": {
           "color": "#2a3f5f"
          },
          "geo": {
           "bgcolor": "white",
           "lakecolor": "white",
           "landcolor": "#E5ECF6",
           "showlakes": true,
           "showland": true,
           "subunitcolor": "white"
          },
          "hoverlabel": {
           "align": "left"
          },
          "hovermode": "closest",
          "mapbox": {
           "style": "light"
          },
          "paper_bgcolor": "white",
          "plot_bgcolor": "#E5ECF6",
          "polar": {
           "angularaxis": {
            "gridcolor": "white",
            "linecolor": "white",
            "ticks": ""
           },
           "bgcolor": "#E5ECF6",
           "radialaxis": {
            "gridcolor": "white",
            "linecolor": "white",
            "ticks": ""
           }
          },
          "scene": {
           "xaxis": {
            "backgroundcolor": "#E5ECF6",
            "gridcolor": "white",
            "gridwidth": 2,
            "linecolor": "white",
            "showbackground": true,
            "ticks": "",
            "zerolinecolor": "white"
           },
           "yaxis": {
            "backgroundcolor": "#E5ECF6",
            "gridcolor": "white",
            "gridwidth": 2,
            "linecolor": "white",
            "showbackground": true,
            "ticks": "",
            "zerolinecolor": "white"
           },
           "zaxis": {
            "backgroundcolor": "#E5ECF6",
            "gridcolor": "white",
            "gridwidth": 2,
            "linecolor": "white",
            "showbackground": true,
            "ticks": "",
            "zerolinecolor": "white"
           }
          },
          "shapedefaults": {
           "line": {
            "color": "#2a3f5f"
           }
          },
          "ternary": {
           "aaxis": {
            "gridcolor": "white",
            "linecolor": "white",
            "ticks": ""
           },
           "baxis": {
            "gridcolor": "white",
            "linecolor": "white",
            "ticks": ""
           },
           "bgcolor": "#E5ECF6",
           "caxis": {
            "gridcolor": "white",
            "linecolor": "white",
            "ticks": ""
           }
          },
          "title": {
           "x": 0.05
          },
          "xaxis": {
           "automargin": true,
           "gridcolor": "white",
           "linecolor": "white",
           "ticks": "",
           "title": {
            "standoff": 15
           },
           "zerolinecolor": "white",
           "zerolinewidth": 2
          },
          "yaxis": {
           "automargin": true,
           "gridcolor": "white",
           "linecolor": "white",
           "ticks": "",
           "title": {
            "standoff": 15
           },
           "zerolinecolor": "white",
           "zerolinewidth": 2
          }
         }
        },
        "xaxis": {
         "anchor": "y",
         "domain": [
          0,
          1
         ],
         "title": {
          "text": "Werkzame beroepsbevolking (x 1 000)"
         }
        },
        "yaxis": {
         "anchor": "x",
         "domain": [
          0,
          1
         ],
         "title": {
          "text": "Ritten per persoon per dag (gemiddeld) (aantal)"
         }
        }
       }
      }
     },
     "metadata": {},
     "output_type": "display_data"
    }
   ],
   "source": [
    "px.scatter(final_df_agg,\n",
    "           x=\"Werkzame beroepsbevolking (x 1 000)\",\n",
    "           y='Ritten per persoon per dag (gemiddeld) (aantal)',\n",
    "           trendline= \"ols\"\n",
    "           )\n",
    "\n"
   ]
  },
  {
   "cell_type": "code",
   "execution_count": null,
   "metadata": {},
   "outputs": [],
   "source": []
  }
 ],
 "metadata": {
  "kernelspec": {
   "display_name": "TIL6022",
   "language": "python",
   "name": "python3"
  },
  "language_info": {
   "codemirror_mode": {
    "name": "ipython",
    "version": 3
   },
   "file_extension": ".py",
   "mimetype": "text/x-python",
   "name": "python",
   "nbconvert_exporter": "python",
   "pygments_lexer": "ipython3",
   "version": "3.8.19"
  }
 },
 "nbformat": 4,
 "nbformat_minor": 2
}
