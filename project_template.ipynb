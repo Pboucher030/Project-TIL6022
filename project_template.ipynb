{
 "cells": [
  {
   "cell_type": "markdown",
   "metadata": {},
   "source": [
    "# Research proposal TIL Programming: \n",
    "### Working from home and mobility patterns\n",
    "\n",
    "\n",
    "\n"
   ]
  },
  {
   "cell_type": "markdown",
   "metadata": {},
   "source": [
    "## Project Group 20\n",
    "\n",
    "Members and student numbers: \n",
    "\n",
    "- Stijn Brons - 5403707\n",
    "- Philippe Sturm - 5168163\n",
    "- Naut Linssen - 5032563\n",
    "- Pelle Boucher - 4885236\n",
    "- Teun van Wingerden - 5063108\n"
   ]
  },
  {
   "cell_type": "markdown",
   "metadata": {},
   "source": [
    "# 1. Introduction\n",
    "Over the past decade, the Netherlands has witnessed a notable increase in remote work, which has significantly altered various aspects of mobility and commuting patterns. The objective of this research is to examine the impact of remote work on mobility trends, transportation modes and their long-term implications for urban planning and environmental outcomes.\n"
   ]
  },
  {
   "cell_type": "markdown",
   "metadata": {},
   "source": [
    "# 2. Research Objective\n",
    "\n",
    "*Requires data modeling and quantitative research in Transport, Infrastructure & Logistics*"
   ]
  },
  {
   "cell_type": "markdown",
   "metadata": {},
   "source": [
    "*The primary objective of this research is to quantify and understand the impact of the increase in remote work over the past 10 years on mobility in the Netherlands.*"
   ]
  },
  {
   "cell_type": "markdown",
   "metadata": {},
   "source": [
    "# 3.Sub-Objectives\n",
    "- **Commuting Patterns**: To assess how remote work has influenced commuting patterns and reduced the frequency of commuting trips in the past decade.\n",
    "- **Transport Modes**: The aim is to assess how remote work has influenced commuting patterns and reduced the frequency of commuting trips over the past decade.\n",
    "- **Emissions and Air Quality**: To analyze how remote work has influenced transport-related emissions and air quality in the Netherlands\n",
    "- **Long-term Trends**: To project long-term trends in remote work adoption and their potential effect on future mobility demand and urban infrastructure planning.\n",
    "\n",
    "# 4. Research questions\n",
    "The research questions for this project are:\n",
    "\n",
    "- **RQ1**: How has the frequency and pattern of commuting changed due to the rise of remote work over the past decade?\n",
    "- **RQ2**: To what extent has the use of different transport modes (cars, public transport, bicycles) been affected by remote work in the last 10 years?\n",
    "- **RQ3**: How has the increase in remote work affected transport-related emissions and air quality in The Netherlands?\n",
    "- **RQ4**: What long-term trends are projected in remote work adoption, and how will they influence future mobility and urban infrastructure planning?\n"
   ]
  },
  {
   "cell_type": "markdown",
   "metadata": {},
   "source": [
    "# Contribution Statement\n",
    "\n",
    "*Be specific. Some of the tasks can be coding (expect everyone to do this), background research, conceptualisation, visualisation, data analysis, data modelling*"
   ]
  },
  {
   "cell_type": "markdown",
   "metadata": {},
   "source": [
    "**Author 1**: Pelle Boucher - Implementing data in the code, implementing text in the notebook\n",
    "\n",
    "**Author 2**: Teun van Wingerden - Writing text\n",
    "\n",
    "**Author 3**: Stijn Brons - Setting up the notebook\n",
    "\n",
    "**Author 4**: Philippe Sturm - Data Research\n",
    "\n",
    "**Author 5**: Naut Linssen - Data Research"
   ]
  },
  {
   "cell_type": "markdown",
   "metadata": {},
   "source": [
    "# Data Used"
   ]
  },
  {
   "cell_type": "markdown",
   "metadata": {},
   "source": [
    "## Data Sources\n",
    "\n",
    "All data will be collected from the **CBS Statline Database**. This will be the primary data source for mobility, transport usage, and environmental data over the past 10 years in the Netherlands. (Available at [CBS Statline](https://opendata.cbs.nl)).\n",
    "\n",
    "- **Mobility and Transport**: Data on trips, modes of transport, travel motives, age, and gender. (Available at [Mobiliteitstrend](https://opendata.cbs.nl/statline/#/CBS/nl/dataset/84755NED/table?ts=1727864298786)).\n",
    "\n",
    "- **Emissions and Air Quality**: Data on CO2 emissions, particulate matter levels, and other environmental metrics.\n",
    "\n",
    "- **Working from home**: Data on people working from home, per age group, education level, labour duration and position in the family Available at [Working from home](https://opendata.cbs.nl/statline/#/CBS/nl/dataset/83258NED/table?ts=1728062945121).\n",
    "\n",
    "\n",
    "The data is imported as an csv file and decoded below:"
   ]
  },
  {
   "cell_type": "code",
   "execution_count": 13,
   "metadata": {},
   "outputs": [
    {
     "data": {
      "text/plain": [
       "{'encoding': 'UTF-8-SIG', 'confidence': 1.0, 'language': ''}"
      ]
     },
     "execution_count": 13,
     "metadata": {},
     "output_type": "execute_result"
    }
   ],
   "source": [
    "import pandas as pd\n",
    "import chardet\n",
    "import plotly_express as px\n",
    "\"\"\" MOBILITY AND TRANSPORT\"\"\"\n",
    "dataset_path_mat = 'Mobiliteitstrend__per_rit_en_motief_02102024_122208.csv'\n",
    "with open(dataset_path_mat, 'rb') as rawdata:\n",
    "\n",
    "    result = chardet.detect(rawdata.read(100000))\n",
    "    \n",
    "result\n",
    "\n"
   ]
  },
  {
   "cell_type": "code",
   "execution_count": 2,
   "metadata": {},
   "outputs": [
    {
     "ename": "NameError",
     "evalue": "name 'pd' is not defined",
     "output_type": "error",
     "traceback": [
      "\u001b[0;31m---------------------------------------------------------------------------\u001b[0m",
      "\u001b[0;31mNameError\u001b[0m                                 Traceback (most recent call last)",
      "Cell \u001b[0;32mIn[2], line 1\u001b[0m\n\u001b[0;32m----> 1\u001b[0m df_mat \u001b[38;5;241m=\u001b[39m \u001b[43mpd\u001b[49m\u001b[38;5;241m.\u001b[39mread_csv(dataset_path_mat,delimiter\u001b[38;5;241m=\u001b[39m\u001b[38;5;124m'\u001b[39m\u001b[38;5;124m;\u001b[39m\u001b[38;5;124m'\u001b[39m,encoding\u001b[38;5;241m=\u001b[39m\u001b[38;5;124m'\u001b[39m\u001b[38;5;124mUTF-8-SIG\u001b[39m\u001b[38;5;124m'\u001b[39m)\n\u001b[1;32m      2\u001b[0m df_mat\n",
      "\u001b[0;31mNameError\u001b[0m: name 'pd' is not defined"
     ]
    }
   ],
   "source": [
    "df_mat = pd.read_csv(dataset_path_mat,delimiter=';',encoding='UTF-8-SIG')\n",
    "df_mat"
   ]
  },
  {
   "cell_type": "code",
   "execution_count": 31,
   "metadata": {},
   "outputs": [
    {
     "ename": "SyntaxError",
     "evalue": "invalid syntax (4111516058.py, line 1)",
     "output_type": "error",
     "traceback": [
      "\u001b[0;36m  Cell \u001b[0;32mIn[31], line 1\u001b[0;36m\u001b[0m\n\u001b[0;31m    pip install matplotlib\u001b[0m\n\u001b[0m        ^\u001b[0m\n\u001b[0;31mSyntaxError\u001b[0m\u001b[0;31m:\u001b[0m invalid syntax\n"
     ]
    }
   ],
   "source": [
    "import matplotlib.pyplot as plt"
   ]
  },
  {
   "cell_type": "code",
   "execution_count": 3,
   "metadata": {},
   "outputs": [
    {
     "ename": "NameError",
     "evalue": "name 'df_mat' is not defined",
     "output_type": "error",
     "traceback": [
      "\u001b[0;31m---------------------------------------------------------------------------\u001b[0m",
      "\u001b[0;31mNameError\u001b[0m                                 Traceback (most recent call last)",
      "Cell \u001b[0;32mIn[3], line 3\u001b[0m\n\u001b[1;32m      1\u001b[0m \u001b[38;5;28;01mimport\u001b[39;00m \u001b[38;5;21;01mmatplotlib\u001b[39;00m\u001b[38;5;21;01m.\u001b[39;00m\u001b[38;5;21;01mpyplot\u001b[39;00m \u001b[38;5;28;01mas\u001b[39;00m \u001b[38;5;21;01mplt\u001b[39;00m\n\u001b[0;32m----> 3\u001b[0m df_mat \u001b[38;5;241m=\u001b[39m \u001b[43mdf_mat\u001b[49m[df_mat[\u001b[38;5;124m'\u001b[39m\u001b[38;5;124mLeeftijd\u001b[39m\u001b[38;5;124m'\u001b[39m]\u001b[38;5;241m==\u001b[39m\u001b[38;5;124m'\u001b[39m\u001b[38;5;124mTotaal\u001b[39m\u001b[38;5;124m'\u001b[39m]\n\u001b[1;32m      4\u001b[0m df_mat \u001b[38;5;241m=\u001b[39m df_mat[df_mat[\u001b[38;5;124m'\u001b[39m\u001b[38;5;124mReismotieven\u001b[39m\u001b[38;5;124m'\u001b[39m]\u001b[38;5;241m==\u001b[39m\u001b[38;5;124m'\u001b[39m\u001b[38;5;124mTotaal\u001b[39m\u001b[38;5;124m'\u001b[39m]\n\u001b[1;32m      5\u001b[0m df_mat \u001b[38;5;241m=\u001b[39m df_mat[df_mat[\u001b[38;5;124m'\u001b[39m\u001b[38;5;124mVervoerwijzen\u001b[39m\u001b[38;5;124m'\u001b[39m]\u001b[38;5;241m!=\u001b[39m\u001b[38;5;124m'\u001b[39m\u001b[38;5;124mTotaal\u001b[39m\u001b[38;5;124m'\u001b[39m]\n",
      "\u001b[0;31mNameError\u001b[0m: name 'df_mat' is not defined"
     ]
    }
   ],
   "source": [
    "import matplotlib.pyplot as plt\n",
    "\n",
    "df_mat = df_mat[df_mat['Leeftijd']=='Totaal']\n",
    "df_mat = df_mat[df_mat['Reismotieven']=='Totaal']\n",
    "df_mat = df_mat[df_mat['Vervoerwijzen']!='Totaal']\n",
    "\n",
    "fig = plt.figure(figsize=(12, 9))\n",
    "gs = fig.add_gridspec(nrows=2)\n",
    "colors = ['blue','orange','green','red','purple','brown','black']\n",
    "\n",
    "\n",
    "x = df_mat['Perioden'].drop_duplicates()\n",
    "y = df_mat['Vervoerwijzen'].drop_duplicates()\n",
    "labels = ['Car(driver)','Car(passenger)','Train','Bus/Tram/Metro','Bike','Walk','Other Modes']\n",
    "ax = fig.add_subplot(gs[0])\n",
    "j=0\n",
    "for i in y:\n",
    "    ax.plot(x,df_mat[df_mat['Vervoerwijzen']==i]['Ritten per persoon per dag (gemiddeld) (aantal)'],color = colors[j],marker = '.')\n",
    "    j+=1\n",
    "ax.set_xlabel('Year')\n",
    "ax.set_ylabel('Trips per person per day (on Average)')\n",
    "ax.set_xticks(ax.get_xticks()[::3])\n",
    "ax.set_title('Trend of Trips per Day of Different Modes')\n",
    "ax.legend(labels,loc='upper right',bbox_to_anchor=(1.23, 1))\n",
    "\n",
    "ax = fig.add_subplot(gs[1])\n",
    "j=0\n",
    "for i in y:\n",
    "    ax.plot(x,df_mat[df_mat['Vervoerwijzen']==i]['Afgelegde afstand per rit (gemiddeld) (km)'],color = colors[j],marker = '.')\n",
    "    j+=1\n",
    "ax.set_xlabel('Year')\n",
    "ax.set_ylabel('Distance Travelled per Trip (on Average) (km)')\n",
    "ax.set_xticks(ax.get_xticks()[::3])\n",
    "ax.set_title('Trend of Distance Travelled per Trip of Different Modes')\n",
    "ax.legend(labels,loc='upper right',bbox_to_anchor=(1.23, 1))\n",
    "\n",
    "plt.show()"
   ]
  },
  {
   "cell_type": "code",
   "execution_count": 123,
   "metadata": {},
   "outputs": [
    {
     "data": {
      "text/plain": [
       "{'encoding': 'UTF-8-SIG', 'confidence': 1.0, 'language': ''}"
      ]
     },
     "execution_count": 123,
     "metadata": {},
     "output_type": "execute_result"
    }
   ],
   "source": [
    "\"\"\" EMISSIONS AND AIR QUALITY \"\"\"\n",
    "dataset_path_eaq = 'Emissies_naar_lucht__Nederland_totaal_04102024_195121.csv'\n",
    "with open(dataset_path_eaq, 'rb') as rawdata:\n",
    "\n",
    "    result = chardet.detect(rawdata.read(100000))\n",
    "    \n",
    "result"
   ]
  },
  {
   "cell_type": "code",
   "execution_count": 124,
   "metadata": {},
   "outputs": [
    {
     "data": {
      "text/html": [
       "<div>\n",
       "<style scoped>\n",
       "    .dataframe tbody tr th:only-of-type {\n",
       "        vertical-align: middle;\n",
       "    }\n",
       "\n",
       "    .dataframe tbody tr th {\n",
       "        vertical-align: top;\n",
       "    }\n",
       "\n",
       "    .dataframe thead th {\n",
       "        text-align: right;\n",
       "    }\n",
       "</style>\n",
       "<table border=\"1\" class=\"dataframe\">\n",
       "  <thead>\n",
       "    <tr style=\"text-align: right;\">\n",
       "      <th></th>\n",
       "      <th>Emissiebronnen</th>\n",
       "      <th>Emissies naar lucht</th>\n",
       "      <th>Perioden</th>\n",
       "      <th>Emissies naar lucht (mln kg)</th>\n",
       "    </tr>\n",
       "  </thead>\n",
       "  <tbody>\n",
       "    <tr>\n",
       "      <th>0</th>\n",
       "      <td>Vervoer</td>\n",
       "      <td>Kooldioxide (CO2)</td>\n",
       "      <td>1990</td>\n",
       "      <td>30000.0</td>\n",
       "    </tr>\n",
       "    <tr>\n",
       "      <th>1</th>\n",
       "      <td>Vervoer</td>\n",
       "      <td>Kooldioxide (CO2)</td>\n",
       "      <td>1995</td>\n",
       "      <td>31800.0</td>\n",
       "    </tr>\n",
       "    <tr>\n",
       "      <th>2</th>\n",
       "      <td>Vervoer</td>\n",
       "      <td>Kooldioxide (CO2)</td>\n",
       "      <td>2000</td>\n",
       "      <td>35600.0</td>\n",
       "    </tr>\n",
       "    <tr>\n",
       "      <th>3</th>\n",
       "      <td>Vervoer</td>\n",
       "      <td>Kooldioxide (CO2)</td>\n",
       "      <td>2001</td>\n",
       "      <td>36100.0</td>\n",
       "    </tr>\n",
       "    <tr>\n",
       "      <th>4</th>\n",
       "      <td>Vervoer</td>\n",
       "      <td>Kooldioxide (CO2)</td>\n",
       "      <td>2002</td>\n",
       "      <td>36600.0</td>\n",
       "    </tr>\n",
       "    <tr>\n",
       "      <th>...</th>\n",
       "      <td>...</td>\n",
       "      <td>...</td>\n",
       "      <td>...</td>\n",
       "      <td>...</td>\n",
       "    </tr>\n",
       "    <tr>\n",
       "      <th>2075</th>\n",
       "      <td>Railverkeer; totaal</td>\n",
       "      <td>Koolmonoxide (CO)</td>\n",
       "      <td>2019</td>\n",
       "      <td>0.2</td>\n",
       "    </tr>\n",
       "    <tr>\n",
       "      <th>2076</th>\n",
       "      <td>Railverkeer; totaal</td>\n",
       "      <td>Koolmonoxide (CO)</td>\n",
       "      <td>2020</td>\n",
       "      <td>0.2</td>\n",
       "    </tr>\n",
       "    <tr>\n",
       "      <th>2077</th>\n",
       "      <td>Railverkeer; totaal</td>\n",
       "      <td>Koolmonoxide (CO)</td>\n",
       "      <td>2021</td>\n",
       "      <td>0.2</td>\n",
       "    </tr>\n",
       "    <tr>\n",
       "      <th>2078</th>\n",
       "      <td>Railverkeer; totaal</td>\n",
       "      <td>Koolmonoxide (CO)</td>\n",
       "      <td>2022</td>\n",
       "      <td>0.2</td>\n",
       "    </tr>\n",
       "    <tr>\n",
       "      <th>2079</th>\n",
       "      <td>Railverkeer; totaal</td>\n",
       "      <td>Koolmonoxide (CO)</td>\n",
       "      <td>2023*</td>\n",
       "      <td>0.3</td>\n",
       "    </tr>\n",
       "  </tbody>\n",
       "</table>\n",
       "<p>2080 rows × 4 columns</p>\n",
       "</div>"
      ],
      "text/plain": [
       "           Emissiebronnen Emissies naar lucht Perioden  \\\n",
       "0                 Vervoer   Kooldioxide (CO2)     1990   \n",
       "1                 Vervoer   Kooldioxide (CO2)     1995   \n",
       "2                 Vervoer   Kooldioxide (CO2)     2000   \n",
       "3                 Vervoer   Kooldioxide (CO2)     2001   \n",
       "4                 Vervoer   Kooldioxide (CO2)     2002   \n",
       "...                   ...                 ...      ...   \n",
       "2075  Railverkeer; totaal   Koolmonoxide (CO)     2019   \n",
       "2076  Railverkeer; totaal   Koolmonoxide (CO)     2020   \n",
       "2077  Railverkeer; totaal   Koolmonoxide (CO)     2021   \n",
       "2078  Railverkeer; totaal   Koolmonoxide (CO)     2022   \n",
       "2079  Railverkeer; totaal   Koolmonoxide (CO)    2023*   \n",
       "\n",
       "      Emissies naar lucht (mln kg)  \n",
       "0                          30000.0  \n",
       "1                          31800.0  \n",
       "2                          35600.0  \n",
       "3                          36100.0  \n",
       "4                          36600.0  \n",
       "...                            ...  \n",
       "2075                           0.2  \n",
       "2076                           0.2  \n",
       "2077                           0.2  \n",
       "2078                           0.2  \n",
       "2079                           0.3  \n",
       "\n",
       "[2080 rows x 4 columns]"
      ]
     },
     "execution_count": 124,
     "metadata": {},
     "output_type": "execute_result"
    }
   ],
   "source": [
    "df_eaq = pd.read_csv(dataset_path_eaq,delimiter=\";\",encoding=\"UTF-8-SIG\")\n",
    "df_eaq"
   ]
  },
  {
   "cell_type": "code",
   "execution_count": 129,
   "metadata": {},
   "outputs": [],
   "source": [
    "\"\"\" WORKING FROM HOME \"\"\"\n",
    "dataset_path_wfh1 = 'Data/Werkzame_beroepsbevolking__thuiswerken_04102024_193141.csv'\n",
    "dataset_path_wfh2 = 'Data/Werkzame_beroepsbevolking__thuiswerken_07102024_101921.csv'\n",
    "with open(dataset_path_wfh1, 'rb') as rawdata:\n",
    "\n",
    "    result = chardet.detect(rawdata.read(100000))\n",
    "    result"
   ]
  },
  {
   "cell_type": "code",
   "execution_count": 130,
   "metadata": {},
   "outputs": [
    {
     "data": {
      "text/html": [
       "<div>\n",
       "<style scoped>\n",
       "    .dataframe tbody tr th:only-of-type {\n",
       "        vertical-align: middle;\n",
       "    }\n",
       "\n",
       "    .dataframe tbody tr th {\n",
       "        vertical-align: top;\n",
       "    }\n",
       "\n",
       "    .dataframe thead th {\n",
       "        text-align: right;\n",
       "    }\n",
       "</style>\n",
       "<table border=\"1\" class=\"dataframe\">\n",
       "  <thead>\n",
       "    <tr style=\"text-align: right;\">\n",
       "      <th></th>\n",
       "      <th>Geslacht</th>\n",
       "      <th>Thuiswerker</th>\n",
       "      <th>Positie werkkring</th>\n",
       "      <th>Persoonskenmerken</th>\n",
       "      <th>Perioden</th>\n",
       "      <th>Werkzame beroepsbevolking (x 1 000)</th>\n",
       "    </tr>\n",
       "  </thead>\n",
       "  <tbody>\n",
       "    <tr>\n",
       "      <th>0</th>\n",
       "      <td>Totaal mannen en vrouwen</td>\n",
       "      <td>Totaal</td>\n",
       "      <td>Totaal</td>\n",
       "      <td>Totaal personen</td>\n",
       "      <td>2013</td>\n",
       "      <td>8266</td>\n",
       "    </tr>\n",
       "    <tr>\n",
       "      <th>1</th>\n",
       "      <td>Totaal mannen en vrouwen</td>\n",
       "      <td>Totaal</td>\n",
       "      <td>Totaal</td>\n",
       "      <td>Totaal personen</td>\n",
       "      <td>2014</td>\n",
       "      <td>8214</td>\n",
       "    </tr>\n",
       "    <tr>\n",
       "      <th>2</th>\n",
       "      <td>Totaal mannen en vrouwen</td>\n",
       "      <td>Totaal</td>\n",
       "      <td>Totaal</td>\n",
       "      <td>Totaal personen</td>\n",
       "      <td>2015</td>\n",
       "      <td>8294</td>\n",
       "    </tr>\n",
       "    <tr>\n",
       "      <th>3</th>\n",
       "      <td>Totaal mannen en vrouwen</td>\n",
       "      <td>Totaal</td>\n",
       "      <td>Totaal</td>\n",
       "      <td>Totaal personen</td>\n",
       "      <td>2016</td>\n",
       "      <td>8403</td>\n",
       "    </tr>\n",
       "    <tr>\n",
       "      <th>4</th>\n",
       "      <td>Totaal mannen en vrouwen</td>\n",
       "      <td>Totaal</td>\n",
       "      <td>Totaal</td>\n",
       "      <td>Totaal personen</td>\n",
       "      <td>2017</td>\n",
       "      <td>8579</td>\n",
       "    </tr>\n",
       "    <tr>\n",
       "      <th>...</th>\n",
       "      <td>...</td>\n",
       "      <td>...</td>\n",
       "      <td>...</td>\n",
       "      <td>...</td>\n",
       "      <td>...</td>\n",
       "      <td>...</td>\n",
       "    </tr>\n",
       "    <tr>\n",
       "      <th>3595</th>\n",
       "      <td>Totaal mannen en vrouwen</td>\n",
       "      <td>Soms thuiswerken</td>\n",
       "      <td>Zelfstandige zonder personeel (zzp)</td>\n",
       "      <td>13 Beroepsklasse overig</td>\n",
       "      <td>2022</td>\n",
       "      <td>3</td>\n",
       "    </tr>\n",
       "    <tr>\n",
       "      <th>3596</th>\n",
       "      <td>Totaal mannen en vrouwen</td>\n",
       "      <td>Soms thuiswerken</td>\n",
       "      <td>Zelfstandige zonder personeel (zzp)</td>\n",
       "      <td>13 Beroepsklasse overig</td>\n",
       "      <td>2023</td>\n",
       "      <td>4</td>\n",
       "    </tr>\n",
       "    <tr>\n",
       "      <th>3597</th>\n",
       "      <td>Totaal mannen en vrouwen</td>\n",
       "      <td>Niet thuiswerken</td>\n",
       "      <td>Zelfstandige zonder personeel (zzp)</td>\n",
       "      <td>13 Beroepsklasse overig</td>\n",
       "      <td>2021</td>\n",
       "      <td>4</td>\n",
       "    </tr>\n",
       "    <tr>\n",
       "      <th>3598</th>\n",
       "      <td>Totaal mannen en vrouwen</td>\n",
       "      <td>Niet thuiswerken</td>\n",
       "      <td>Zelfstandige zonder personeel (zzp)</td>\n",
       "      <td>13 Beroepsklasse overig</td>\n",
       "      <td>2022</td>\n",
       "      <td>6</td>\n",
       "    </tr>\n",
       "    <tr>\n",
       "      <th>3599</th>\n",
       "      <td>Totaal mannen en vrouwen</td>\n",
       "      <td>Niet thuiswerken</td>\n",
       "      <td>Zelfstandige zonder personeel (zzp)</td>\n",
       "      <td>13 Beroepsklasse overig</td>\n",
       "      <td>2023</td>\n",
       "      <td>7</td>\n",
       "    </tr>\n",
       "  </tbody>\n",
       "</table>\n",
       "<p>5224 rows × 6 columns</p>\n",
       "</div>"
      ],
      "text/plain": [
       "                      Geslacht       Thuiswerker  \\\n",
       "0     Totaal mannen en vrouwen            Totaal   \n",
       "1     Totaal mannen en vrouwen            Totaal   \n",
       "2     Totaal mannen en vrouwen            Totaal   \n",
       "3     Totaal mannen en vrouwen            Totaal   \n",
       "4     Totaal mannen en vrouwen            Totaal   \n",
       "...                        ...               ...   \n",
       "3595  Totaal mannen en vrouwen  Soms thuiswerken   \n",
       "3596  Totaal mannen en vrouwen  Soms thuiswerken   \n",
       "3597  Totaal mannen en vrouwen  Niet thuiswerken   \n",
       "3598  Totaal mannen en vrouwen  Niet thuiswerken   \n",
       "3599  Totaal mannen en vrouwen  Niet thuiswerken   \n",
       "\n",
       "                        Positie werkkring        Persoonskenmerken  Perioden  \\\n",
       "0                                  Totaal          Totaal personen      2013   \n",
       "1                                  Totaal          Totaal personen      2014   \n",
       "2                                  Totaal          Totaal personen      2015   \n",
       "3                                  Totaal          Totaal personen      2016   \n",
       "4                                  Totaal          Totaal personen      2017   \n",
       "...                                   ...                      ...       ...   \n",
       "3595  Zelfstandige zonder personeel (zzp)  13 Beroepsklasse overig      2022   \n",
       "3596  Zelfstandige zonder personeel (zzp)  13 Beroepsklasse overig      2023   \n",
       "3597  Zelfstandige zonder personeel (zzp)  13 Beroepsklasse overig      2021   \n",
       "3598  Zelfstandige zonder personeel (zzp)  13 Beroepsklasse overig      2022   \n",
       "3599  Zelfstandige zonder personeel (zzp)  13 Beroepsklasse overig      2023   \n",
       "\n",
       "      Werkzame beroepsbevolking (x 1 000)  \n",
       "0                                    8266  \n",
       "1                                    8214  \n",
       "2                                    8294  \n",
       "3                                    8403  \n",
       "4                                    8579  \n",
       "...                                   ...  \n",
       "3595                                    3  \n",
       "3596                                    4  \n",
       "3597                                    4  \n",
       "3598                                    6  \n",
       "3599                                    7  \n",
       "\n",
       "[5224 rows x 6 columns]"
      ]
     },
     "execution_count": 130,
     "metadata": {},
     "output_type": "execute_result"
    }
   ],
   "source": [
    "df_wfh1 = pd.read_csv(dataset_path_wfh1,delimiter=\";\",encoding=\"UTF-8-SIG\")\n",
    "df_wfh2 = pd.read_csv(dataset_path_wfh2,delimiter=\";\",encoding=\"UTF-8-SIG\")\n",
    "\n",
    "df_wfh1\n",
    "\n",
    "df_wfh2.rename(columns={'Positie in de werkkring': 'Positie werkkring'}, inplace=True)\n",
    "df_wfh2.rename(columns={'Thuiswerken': 'Thuiswerker'}, inplace=True)\n",
    "\n",
    "columns = list(df_wfh2.columns)\n",
    "columns.insert(1, columns.pop(columns.index('Thuiswerker')))\n",
    "df_wfh2 = df_wfh2[columns]  \n",
    "\n",
    "df_merged = pd.concat([df_wfh1,df_wfh2])\n",
    "\n",
    "df_merged"
   ]
  },
  {
   "cell_type": "markdown",
   "metadata": {},
   "source": [
    "# Data Pipeline"
   ]
  },
  {
   "cell_type": "markdown",
   "metadata": {},
   "source": [
    "## 5. Intended Data Pipeline\n",
    "\n",
    "### Data Collection\n",
    "The primary data source for this research will be the CBS Statline database, which provides a wide range of data on mobility, transport, commuting patterns, and environmental factors.\n",
    "\n",
    "### Data Cleaning\n",
    "Data from CBS will be pre-processed to remove incomplete records, normalize values across different datasets, and ensure consistency in time-series data.\n",
    "\n",
    "### Data Integration\n",
    "Different datasets (e.g., mobility data, emissions data, public transport usage data) will be integrated using geographic and temporal references to allow for comprehensive analysis.\n",
    "\n",
    "### Data Analysis\n",
    "Quantitative analysis will be performed to answer each research question:\n",
    "- Time-series analysis of mobility trends over the past decade.\n",
    "- Statistical comparisons of transport mode usage in urban vs. rural areas.\n",
    "- Congestion analysis using data on peak-hour traffic volumes.\n",
    "- Air quality and emissions analysis in cities before and after the rise of remote work.\n",
    "\n",
    "### Visualization\n",
    "The results will be visualized through:\n",
    "- Line graphs showing changes in commuting frequency and transport mode usage.\n",
    "- Heatmaps depicting traffic congestion and emissions levels across regions.\n",
    "- Geographic visualizations comparing urban and rural mobility trends.\n"
   ]
  },
  {
   "cell_type": "markdown",
   "metadata": {},
   "source": [
    "### Time and Spatial Scale\n",
    "\n",
    "- **Time Scale**: The study will focus on a 10-year period, from 2013 to 2023, with a special focus on the years following the COVID-19 pandemic (2020–2023) due to the rapid adoption of remote work.\n",
    "\n",
    "- **Spatial Scale**: The geographical boundary will cover the entirety of the Netherlands, with a particular focus on urban centers (e.g., Amsterdam, Rotterdam, Utrecht) compared to rural areas. This will allow for regional comparison and identification of mobility trends in different parts of the country.\n"
   ]
  },
  {
   "cell_type": "markdown",
   "metadata": {},
   "source": []
  },
  {
   "cell_type": "markdown",
   "metadata": {},
   "source": []
  }
 ],
 "metadata": {
  "kernelspec": {
   "display_name": "Python 3",
   "language": "python",
   "name": "python3"
  },
  "language_info": {
   "codemirror_mode": {
    "name": "ipython",
    "version": 3
   },
   "file_extension": ".py",
   "mimetype": "text/x-python",
   "name": "python",
   "nbconvert_exporter": "python",
   "pygments_lexer": "ipython3",
   "version": "3.8.19"
  },
  "orig_nbformat": 4,
  "vscode": {
   "interpreter": {
    "hash": "31f2aee4e71d21fbe5cf8b01ff0e069b9275f58929596ceb00d14d90e3e16cd6"
   }
  }
 },
 "nbformat": 4,
 "nbformat_minor": 2
}
