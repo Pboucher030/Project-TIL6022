{
 "cells": [
  {
   "cell_type": "code",
   "execution_count": null,
   "metadata": {},
   "outputs": [],
   "source": []
  }
 ],
 "metadata": {
  "kernelspec": {
   "display_name": "TIL6022",
   "language": "python",
   "name": "python3"
  },
  "language_info": {
   "name": "python",
   "version": "3.8.19"
  }
 },
 "nbformat": 4,
 "nbformat_minor": 2
}

{
 "cells": [
  {
   "cell_type": "markdown",
   "metadata": {},
   "source": [
    "### Group project \n",
    "\n",
    "**Group 14**\n",
    "\n",
    "**members**:\n",
    "\n",
    "Kairui Cui(5512158)\n",
    "\n",
    "Ying Wu(5491363)\n",
    "\n",
    "Lu Han(5446635)\n",
    "\n",
    "Fengyan Zhang(5462150)"
   ]
  }

