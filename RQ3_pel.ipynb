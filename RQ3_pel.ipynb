{
 "cells": [
  {
   "cell_type": "code",
   "execution_count": 1,
   "metadata": {},
   "outputs": [
    {
     "data": {
      "text/html": [
       "<div>\n",
       "<style scoped>\n",
       "    .dataframe tbody tr th:only-of-type {\n",
       "        vertical-align: middle;\n",
       "    }\n",
       "\n",
       "    .dataframe tbody tr th {\n",
       "        vertical-align: top;\n",
       "    }\n",
       "\n",
       "    .dataframe thead th {\n",
       "        text-align: right;\n",
       "    }\n",
       "</style>\n",
       "<table border=\"1\" class=\"dataframe\">\n",
       "  <thead>\n",
       "    <tr style=\"text-align: right;\">\n",
       "      <th></th>\n",
       "      <th>Emissiebronnen</th>\n",
       "      <th>Emissies naar lucht</th>\n",
       "      <th>Perioden</th>\n",
       "      <th>Emissies naar lucht (mln kg)</th>\n",
       "    </tr>\n",
       "  </thead>\n",
       "  <tbody>\n",
       "    <tr>\n",
       "      <th>0</th>\n",
       "      <td>Vervoer</td>\n",
       "      <td>Kooldioxide (CO2)</td>\n",
       "      <td>1990</td>\n",
       "      <td>30000.0</td>\n",
       "    </tr>\n",
       "    <tr>\n",
       "      <th>1</th>\n",
       "      <td>Vervoer</td>\n",
       "      <td>Kooldioxide (CO2)</td>\n",
       "      <td>1995</td>\n",
       "      <td>31800.0</td>\n",
       "    </tr>\n",
       "    <tr>\n",
       "      <th>2</th>\n",
       "      <td>Vervoer</td>\n",
       "      <td>Kooldioxide (CO2)</td>\n",
       "      <td>2000</td>\n",
       "      <td>35600.0</td>\n",
       "    </tr>\n",
       "    <tr>\n",
       "      <th>3</th>\n",
       "      <td>Vervoer</td>\n",
       "      <td>Kooldioxide (CO2)</td>\n",
       "      <td>2001</td>\n",
       "      <td>36100.0</td>\n",
       "    </tr>\n",
       "    <tr>\n",
       "      <th>4</th>\n",
       "      <td>Vervoer</td>\n",
       "      <td>Kooldioxide (CO2)</td>\n",
       "      <td>2002</td>\n",
       "      <td>36600.0</td>\n",
       "    </tr>\n",
       "  </tbody>\n",
       "</table>\n",
       "</div>"
      ],
      "text/plain": [
       "  Emissiebronnen Emissies naar lucht Perioden  Emissies naar lucht (mln kg)\n",
       "0        Vervoer   Kooldioxide (CO2)     1990                       30000.0\n",
       "1        Vervoer   Kooldioxide (CO2)     1995                       31800.0\n",
       "2        Vervoer   Kooldioxide (CO2)     2000                       35600.0\n",
       "3        Vervoer   Kooldioxide (CO2)     2001                       36100.0\n",
       "4        Vervoer   Kooldioxide (CO2)     2002                       36600.0"
      ]
     },
     "execution_count": 1,
     "metadata": {},
     "output_type": "execute_result"
    }
   ],
   "source": [
    "import chardet\n",
    "import pandas as pd\n",
    "import plotly_express as px\n",
    "\n",
    "df_eaq = pd.read_csv(\"Data/Emissies_naar_lucht__Nederland_totaal_04102024_195121.csv\",encoding='UTF-8-SIG',delimiter=';')\n",
    "df_eaq.head()\n"
   ]
  },
  {
   "cell_type": "code",
   "execution_count": null,
   "metadata": {},
   "outputs": [],
   "source": []
  }
 ],
 "metadata": {
  "kernelspec": {
   "display_name": "TIL6022",
   "language": "python",
   "name": "python3"
  },
  "language_info": {
   "codemirror_mode": {
    "name": "ipython",
    "version": 3
   },
   "file_extension": ".py",
   "mimetype": "text/x-python",
   "name": "python",
   "nbconvert_exporter": "python",
   "pygments_lexer": "ipython3",
   "version": "3.8.19"
  }
 },
 "nbformat": 4,
 "nbformat_minor": 2
}
