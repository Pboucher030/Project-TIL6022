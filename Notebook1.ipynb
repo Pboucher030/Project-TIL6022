
{
 "cells": [
  {
   "cell_type": "markdown",
   "metadata": {},
   "source": [
    "### Group project \n",
    "\n",
    "**Group 14**\n",
    "\n",
    "**members**:\n",
    "\n",
    "Kairui Cui(5512158)\n",
    "\n",
    "Ying Wu(5491363)\n",
    "\n",
    "Lu Han(5446635)\n",
    "\n",
    "Fengyan Zhang(5462150)"
   ]
  }

