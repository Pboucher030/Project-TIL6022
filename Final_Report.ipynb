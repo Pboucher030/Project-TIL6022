{
 "cells": [
  {
   "cell_type": "markdown",
   "metadata": {},
   "source": [
    "# Research proposal TIL Programming: \n",
    "### Working from home and mobility patterns\n",
    "\n",
    "\n",
    "\n"
   ]
  },
  {
   "cell_type": "markdown",
   "metadata": {},
   "source": [
    "## Project Group 20\n",
    "\n",
    "Members and student numbers: \n",
    "\n",
    "- Stijn Brons - 5403707\n",
    "- Philippe Sturm - 5168163\n",
    "- Naut Linssen - 5032563\n",
    "- Pelle Boucher - 4885236\n",
    "- Teun van Wingerden - 5063108\n"
   ]
  },
  {
   "cell_type": "markdown",
   "metadata": {},
   "source": [
    "# 1. Introduction\n",
    "Over the past decade, the Netherlands has witnessed a notable increase in remote work, which has significantly altered various aspects of mobility and commuting patterns. The objective of this research is to examine the impact of remote work on mobility trends, transportation modes and their long-term implications for urban planning and environmental outcomes.\n"
   ]
  },
  {
   "cell_type": "markdown",
   "metadata": {},
   "source": [
    "# 2. Research Objective\n",
    "\n",
    "*Requires data modeling and quantitative research in Transport, Infrastructure & Logistics*"
   ]
  },
  {
   "cell_type": "markdown",
   "metadata": {},
   "source": [
    "*The primary objective of this research is to quantify and understand the impact of the increase in remote work over the past 10 years on mobility in the Netherlands.*"
   ]
  },
  {
   "cell_type": "markdown",
   "metadata": {},
   "source": [
    "# 3.Sub-Objectives\n",
    "- **Commuting Patterns**: To assess how remote work has influenced commuting patterns and reduced the frequency of commuting trips in the past decade.\n",
    "- **Transport Modes**: The aim is to assess how remote work has influenced commuting patterns and reduced the frequency of commuting trips over the past decade.\n",
    "- **Emissions and Air Quality**: To analyze how remote work has influenced transport-related emissions and air quality in the Netherlands\n",
    "- **Long-term Trends**: To project long-term trends in remote work adoption and their potential effect on future mobility demand and urban infrastructure planning.\n",
    "\n",
    "# 4. Research questions\n",
    "The main function is:\n",
    "- How has the rise of remote work over the past decade influenced commuting patterns, transport mode usage, environmental impact, and future mobility planning?\n",
    "\n",
    "The sub-research questions for this project are:\n",
    "\n",
    "- **RQ1**: How has the frequency and pattern of commuting changed due to the rise of remote work over the past decade?\n",
    "- **RQ2**: To what extent has the use of different transport modes (cars, public transport, bicycles) been affected by remote work in the last 10 years?\n",
    "- **RQ3**: How has the increase in remote work affected transport-related emissions and air quality in The Netherlands?\n",
    "- **RQ4**: What long-term trends are projected in remote work adoption, and how will they influence future mobility and urban infrastructure planning?\n"
   ]
  },
  {
   "cell_type": "markdown",
   "metadata": {},
   "source": []
  },
  {
   "cell_type": "markdown",
   "metadata": {},
   "source": [
    "# 5.Method\n",
    "\n",
    "## Intended Data Pipeline\n",
    "\n",
    "### Data Collection\n",
    "The primary data source for this research will be the CBS Statline database, which provides a wide range of data on mobility, transport, commuting patterns, and environmental factors.\n",
    "\n",
    "### Data Sources\n",
    "\n",
    "All data will be collected from the **CBS Statline Database**. This will be the primary data source for mobility, transport usage, and environmental data over the past 10 years in the Netherlands. (Available at [CBS Statline](https://opendata.cbs.nl)).\n",
    "\n",
    "- **Mobility and Transport**: Data on trips, modes of transport, travel motives, age, and gender. (Available at [Mobiliteitstrend](https://opendata.cbs.nl/statline/#/CBS/nl/dataset/84755NED/table?ts=1727864298786)).\n",
    "\n",
    "- **Emissions and Air Quality**: Data on CO2 emissions, particulate matter levels, and other environmental metrics.\n",
    "\n",
    "- **Working from home**: Data on people working from home, per age group, education level, labour duration and position in the family Available at [Working from home](https://opendata.cbs.nl/statline/#/CBS/nl/dataset/83258NED/table?ts=1728062945121).\n",
    "\n",
    "\n",
    "The data is imported as an csv file and decoded below:\n",
    "### Data Cleaning\n",
    "Data from CBS are be pre-processed to remove incomplete records, normalize values across different datasets, and ensure consistency in time-series data.\n",
    "\n",
    "### Data Combination and integration\n",
    "\n",
    "Hier moet text om uit te leggen hoe data is gecombineerd\n",
    "\n",
    "## Research\n",
    "\n",
    "## Data Analysis\n",
    "Quantitative analysis will be performed to answer each research question:\n",
    "- Time-series analysis of mobility trends over the past decade.\n",
    "- Air quality and emissions analysis before and after the rise of remote work.\n",
    "\n",
    "### Visualization\n",
    "The results will be visualized through:\n",
    "- Line graphs showing changes in commuting frequency and transport mode usage.\n",
    "\n",
    "### Time and Spatial Scale\n",
    "\n",
    "- **Time Scale**: The study will focus on a 10-year period, from 2013 to 2023, with a special focus on the years following the COVID-19 pandemic (2020–2023) due to the rapid adoption of remote work.\n",
    "\n",
    "- **Spatial Scale**: The geographical boundary will cover the entirety of the Netherlands, with a particular focus on urban centers (e.g., Amsterdam, Rotterdam, Utrecht) compared to rural areas. This will allow for regional comparison and identification of mobility trends in different parts of the country.\n",
    "\n",
    "\n",
    "\n",
    "\n"
   ]
  },
  {
   "cell_type": "markdown",
   "metadata": {},
   "source": [
    "# 6.Results\n",
    "\n",
    "### Working from home\n",
    "![Population working from home](Graphs/fig_wfh_tot.png)\n",
    "\n",
    "\n",
    "![Types of remote workers](Graphs/Types_of_remote_workers.png)\n",
    "\n",
    "\n",
    "![Percentage of remote workers](Graphs/Percentage_working_People.png)\n",
    "\n",
    "### Travel motives\n",
    "![Travel motives](Graphs/Travel_motives_over_time.png)\n",
    "\n",
    "![Travel motive percentages](Graphs/Travel_Percentage.png)\n",
    "\n",
    "### Co2 emissions\n",
    "\n",
    "![Co2 Emissions](Graphs/Co2_emissions.png)\n",
    "\n",
    "![Emissions per mode](Graphs/Emissions_per_mode.png)\n",
    "\n",
    "![Emissions road](Graphs/Emissions_road.png)\n",
    "\n",
    "### Travel modes\n",
    "\n",
    "![Travel modes](Graphs/Travel_modes.png)\n",
    "\n",
    "![Travel mode percentages](Graphs/Travel_modes_pct.png)\n",
    "\n",
    "### The effect of working from home on motives, emissions and travel modes\n"
   ]
  },
  {
   "cell_type": "markdown",
   "metadata": {},
   "source": [
    "# Conclusion\n",
    "\n",
    "# Discussion\n"
   ]
  },
  {
   "cell_type": "markdown",
   "metadata": {},
   "source": [
    "# Contribution Statement\n",
    "\n",
    "**Author 1**: Pelle Boucher - Combining data for RQ1, Filtering, adding data (percentages) and visualizing for different research questions. Saving and importing graphs and setting up the final report file.\n",
    "\n",
    "**Author 2**: Teun van Wingerden - Writing text\n",
    "\n",
    "**Author 3**: Stijn Brons - Setting up the notebook\n",
    "\n",
    "**Author 4**: Philippe Sturm - Data Research\n",
    "\n",
    "**Author 5**: Naut Linssen - Data Research\n",
    "\n",
    "*Be specific. Some of the tasks can be coding (expect everyone to do this), background research, conceptualisation, visualisation, data analysis, data modelling*"
   ]
  },
  {
   "cell_type": "markdown",
   "metadata": {},
   "source": []
  }
 ],
 "metadata": {
  "kernelspec": {
   "display_name": "TIL6022",
   "language": "python",
   "name": "python3"
  },
  "language_info": {
   "codemirror_mode": {
    "name": "ipython",
    "version": 3
   },
   "file_extension": ".py",
   "mimetype": "text/x-python",
   "name": "python",
   "nbconvert_exporter": "python",
   "pygments_lexer": "ipython3",
   "version": "3.8.19"
  },
  "orig_nbformat": 4
 },
 "nbformat": 4,
 "nbformat_minor": 2
}
