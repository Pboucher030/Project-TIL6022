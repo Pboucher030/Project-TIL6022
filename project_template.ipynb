{
 "cells": [
  {
   "cell_type": "markdown",
   "metadata": {},
   "source": [
    "# Research proposal TIL Programming: \n",
    "### Working from home and mobility patterns\n",
    "\n",
    "\n",
    "\n"
   ]
  },
  {
   "cell_type": "markdown",
   "metadata": {},
   "source": [
    "## Project Group 20\n",
    "\n",
    "Members and student numbers: \n",
    "\n",
    "- Stijn Brons - 5403707\n",
    "- Philippe Sturm - 5168163\n",
    "- Naut Linssen - 5032563\n",
    "- Pelle Boucher - 4885236\n",
    "- Teun van Wingerden - 5063108\n"
   ]
  },
  {
   "cell_type": "markdown",
   "metadata": {},
   "source": [
    "# 1. Introduction\n",
    "Over the past decade, the Netherlands has witnessed a notable increase in remote work, which has significantly altered various aspects of mobility and commuting patterns. The objective of this research is to examine the impact of remote work on mobility trends, transportation modes and their long-term implications for urban planning and environmental outcomes.\n"
   ]
  },
  {
   "cell_type": "markdown",
   "metadata": {},
   "source": [
    "# 2. Research Objective\n",
    "\n",
    "*Requires data modeling and quantitative research in Transport, Infrastructure & Logistics*"
   ]
  },
  {
   "cell_type": "markdown",
   "metadata": {},
   "source": [
    "*The primary objective of this research is to quantify and understand the impact of the increase in remote work over the past 10 years on mobility in the Netherlands.*"
   ]
  },
  {
   "cell_type": "markdown",
   "metadata": {},
   "source": [
    "# 3.Sub-Objectives\n",
    "- **Commuting Patterns**: To assess how remote work has influenced commuting patterns and reduced the frequency of commuting trips in the past decade.\n",
    "- **Transport Modes**: The aim is to assess how remote work has influenced commuting patterns and reduced the frequency of commuting trips over the past decade.\n",
    "- **Traffic Congestion and Public Transport**: To investigate how the rise of remote work has impacted traffic congestion and crowding in public transport, especially during peak hours in urban areas.\n",
    "- **Emissions and Air Quality**: To analyze how remote work has influenced transport-related emissions and air quality in cities.\n",
    "- **Long-term Trends**: To project long-term trends in remote work adoption and their potential effect on future mobility demand and urban infrastructure planning.\n",
    "\n",
    "# 4. Research questions\n",
    "The research questions for this project are:\n",
    "\n",
    "- **RQ1**: How has the frequency and pattern of commuting changed due to the rise of remote work over the past decade?\n",
    "- **RQ2**: To what extent has the use of different transport modes (cars, public transport, bicycles) been affected by remote work in the last 10 years?\n",
    "- **RQ3**: How has remote work influenced traffic congestion and crowding in public transport during peak hours in urban centers?\n",
    "- **RQ4**: How has the increase in remote work affected transport-related emissions and air quality in Dutch cities?\n",
    "- **RQ5**: What long-term trends are projected in remote work adoption, and how will they influence future mobility and urban infrastructure planning?\n"
   ]
  },
  {
   "cell_type": "markdown",
   "metadata": {},
   "source": [
    "# Contribution Statement\n",
    "\n",
    "*Be specific. Some of the tasks can be coding (expect everyone to do this), background research, conceptualisation, visualisation, data analysis, data modelling*"
   ]
  },
  {
   "cell_type": "markdown",
   "metadata": {},
   "source": [
    "**Author 1**: Pelle Boucher - Implementing data in the code, implementing text in the notebook\n",
    "\n",
    "**Author 2**: Teun van Wingerden - Writing text\n",
    "\n",
    "**Author 3**: Stijn Brons - Setting up the notebook\n",
    "\n",
    "**Author 4**: Philippe Sturm - Data Research\n",
    "\n",
    "**Author 5**: Naut Linssen - Data Research"
   ]
  },
  {
   "cell_type": "markdown",
   "metadata": {},
   "source": [
    "# Data Used"
   ]
  },
  {
   "cell_type": "markdown",
   "metadata": {},
   "source": [
    "## Data Sources\n",
    "\n",
    "All data will be collected from the **CBS Statline Database**. This will be the primary data source for mobility, transport usage, and environmental data over the past 10 years in the Netherlands. (Available at [CBS Statline](https://opendata.cbs.nl)).\n",
    "\n",
    "- **Mobility and Transport**: Data on trips, modes of transport, travel motives, age, and gender. (Available at [Mobiliteitstrend](https://opendata.cbs.nl/statline/#/CBS/nl/dataset/84755NED/table?ts=1727864298786)).\n",
    "\n",
    "- **Emissions and Air Quality**: Data on CO2 emissions, particulate matter levels, and other environmental metrics.\n",
    "\n",
    "- **Working from home**: Data on people working from home, per age group, education level, labour duration and position in the family Available at [Working from home](https://opendata.cbs.nl/statline/#/CBS/nl/dataset/83258NED/table?ts=1728062945121).\n",
    "\n",
    "\n",
    "The data is imported as an csv file and decoded below:"
   ]
  },
  {
   "cell_type": "code",
   "execution_count": 50,
   "metadata": {},
   "outputs": [
    {
     "data": {
      "text/plain": [
       "{'encoding': 'UTF-8-SIG', 'confidence': 1.0, 'language': ''}"
      ]
     },
     "execution_count": 50,
     "metadata": {},
     "output_type": "execute_result"
    }
   ],
   "source": [
    "import pandas as pd\n",
    "import chardet\n",
    "import plotly_express as px\n",
    "\"\"\" MOBILITY AND TRANSPORT\"\"\"\n",
    "dataset_path_mat = 'Mobiliteitstrend__per_rit_en_motief_02102024_122208.csv'\n",
    "with open(dataset_path_mat, 'rb') as rawdata:\n",
    "\n",
    "    result = chardet.detect(rawdata.read(100000))\n",
    "    \n",
    "result\n",
    "\n"
   ]
  },
  {
   "cell_type": "code",
   "execution_count": 43,
   "metadata": {},
   "outputs": [
    {
     "data": {
      "text/html": [
       "<div>\n",
       "<style scoped>\n",
       "    .dataframe tbody tr th:only-of-type {\n",
       "        vertical-align: middle;\n",
       "    }\n",
       "\n",
       "    .dataframe tbody tr th {\n",
       "        vertical-align: top;\n",
       "    }\n",
       "\n",
       "    .dataframe thead th {\n",
       "        text-align: right;\n",
       "    }\n",
       "</style>\n",
       "<table border=\"1\" class=\"dataframe\">\n",
       "  <thead>\n",
       "    <tr style=\"text-align: right;\">\n",
       "      <th></th>\n",
       "      <th>Geslacht</th>\n",
       "      <th>Leeftijd</th>\n",
       "      <th>Vervoerwijzen</th>\n",
       "      <th>Reismotieven</th>\n",
       "      <th>Marges</th>\n",
       "      <th>Perioden</th>\n",
       "      <th>Ritten per persoon per dag (gemiddeld) (aantal)</th>\n",
       "      <th>Afgelegde afstand per rit (gemiddeld) (km)</th>\n",
       "      <th>Reisduur per rit (Minuten)</th>\n",
       "    </tr>\n",
       "  </thead>\n",
       "  <tbody>\n",
       "    <tr>\n",
       "      <th>0</th>\n",
       "      <td>Totaal mannen en vrouwen</td>\n",
       "      <td>Totaal</td>\n",
       "      <td>Totaal</td>\n",
       "      <td>Totaal</td>\n",
       "      <td>Waarde</td>\n",
       "      <td>1999*</td>\n",
       "      <td>3.41</td>\n",
       "      <td>10.96</td>\n",
       "      <td>23.72</td>\n",
       "    </tr>\n",
       "    <tr>\n",
       "      <th>1</th>\n",
       "      <td>Totaal mannen en vrouwen</td>\n",
       "      <td>Totaal</td>\n",
       "      <td>Totaal</td>\n",
       "      <td>Totaal</td>\n",
       "      <td>Waarde</td>\n",
       "      <td>2003*</td>\n",
       "      <td>3.30</td>\n",
       "      <td>11.04</td>\n",
       "      <td>23.65</td>\n",
       "    </tr>\n",
       "    <tr>\n",
       "      <th>2</th>\n",
       "      <td>Totaal mannen en vrouwen</td>\n",
       "      <td>Totaal</td>\n",
       "      <td>Totaal</td>\n",
       "      <td>Totaal</td>\n",
       "      <td>Waarde</td>\n",
       "      <td>2007*</td>\n",
       "      <td>3.20</td>\n",
       "      <td>11.07</td>\n",
       "      <td>23.88</td>\n",
       "    </tr>\n",
       "    <tr>\n",
       "      <th>3</th>\n",
       "      <td>Totaal mannen en vrouwen</td>\n",
       "      <td>Totaal</td>\n",
       "      <td>Totaal</td>\n",
       "      <td>Totaal</td>\n",
       "      <td>Waarde</td>\n",
       "      <td>2011*</td>\n",
       "      <td>3.09</td>\n",
       "      <td>11.21</td>\n",
       "      <td>23.76</td>\n",
       "    </tr>\n",
       "    <tr>\n",
       "      <th>4</th>\n",
       "      <td>Totaal mannen en vrouwen</td>\n",
       "      <td>Totaal</td>\n",
       "      <td>Totaal</td>\n",
       "      <td>Totaal</td>\n",
       "      <td>Waarde</td>\n",
       "      <td>2015*</td>\n",
       "      <td>3.03</td>\n",
       "      <td>11.36</td>\n",
       "      <td>24.14</td>\n",
       "    </tr>\n",
       "    <tr>\n",
       "      <th>...</th>\n",
       "      <td>...</td>\n",
       "      <td>...</td>\n",
       "      <td>...</td>\n",
       "      <td>...</td>\n",
       "      <td>...</td>\n",
       "      <td>...</td>\n",
       "      <td>...</td>\n",
       "      <td>...</td>\n",
       "      <td>...</td>\n",
       "    </tr>\n",
       "    <tr>\n",
       "      <th>1435</th>\n",
       "      <td>Totaal mannen en vrouwen</td>\n",
       "      <td>60 tot 65 jaar</td>\n",
       "      <td>Overige vervoerwijze</td>\n",
       "      <td>Overige reismotieven</td>\n",
       "      <td>Waarde</td>\n",
       "      <td>2019*</td>\n",
       "      <td>.</td>\n",
       "      <td>.</td>\n",
       "      <td>.</td>\n",
       "    </tr>\n",
       "    <tr>\n",
       "      <th>1436</th>\n",
       "      <td>Totaal mannen en vrouwen</td>\n",
       "      <td>60 tot 65 jaar</td>\n",
       "      <td>Overige vervoerwijze</td>\n",
       "      <td>Overige reismotieven</td>\n",
       "      <td>Waarde</td>\n",
       "      <td>2020*</td>\n",
       "      <td>.</td>\n",
       "      <td>.</td>\n",
       "      <td>.</td>\n",
       "    </tr>\n",
       "    <tr>\n",
       "      <th>1437</th>\n",
       "      <td>Totaal mannen en vrouwen</td>\n",
       "      <td>60 tot 65 jaar</td>\n",
       "      <td>Overige vervoerwijze</td>\n",
       "      <td>Overige reismotieven</td>\n",
       "      <td>Waarde</td>\n",
       "      <td>2021*</td>\n",
       "      <td>.</td>\n",
       "      <td>.</td>\n",
       "      <td>.</td>\n",
       "    </tr>\n",
       "    <tr>\n",
       "      <th>1438</th>\n",
       "      <td>Totaal mannen en vrouwen</td>\n",
       "      <td>60 tot 65 jaar</td>\n",
       "      <td>Overige vervoerwijze</td>\n",
       "      <td>Overige reismotieven</td>\n",
       "      <td>Waarde</td>\n",
       "      <td>2022*</td>\n",
       "      <td>.</td>\n",
       "      <td>.</td>\n",
       "      <td>.</td>\n",
       "    </tr>\n",
       "    <tr>\n",
       "      <th>1439</th>\n",
       "      <td>Totaal mannen en vrouwen</td>\n",
       "      <td>60 tot 65 jaar</td>\n",
       "      <td>Overige vervoerwijze</td>\n",
       "      <td>Overige reismotieven</td>\n",
       "      <td>Waarde</td>\n",
       "      <td>2023*</td>\n",
       "      <td>.</td>\n",
       "      <td>.</td>\n",
       "      <td>.</td>\n",
       "    </tr>\n",
       "  </tbody>\n",
       "</table>\n",
       "<p>1440 rows × 9 columns</p>\n",
       "</div>"
      ],
      "text/plain": [
       "                      Geslacht        Leeftijd         Vervoerwijzen  \\\n",
       "0     Totaal mannen en vrouwen          Totaal                Totaal   \n",
       "1     Totaal mannen en vrouwen          Totaal                Totaal   \n",
       "2     Totaal mannen en vrouwen          Totaal                Totaal   \n",
       "3     Totaal mannen en vrouwen          Totaal                Totaal   \n",
       "4     Totaal mannen en vrouwen          Totaal                Totaal   \n",
       "...                        ...             ...                   ...   \n",
       "1435  Totaal mannen en vrouwen  60 tot 65 jaar  Overige vervoerwijze   \n",
       "1436  Totaal mannen en vrouwen  60 tot 65 jaar  Overige vervoerwijze   \n",
       "1437  Totaal mannen en vrouwen  60 tot 65 jaar  Overige vervoerwijze   \n",
       "1438  Totaal mannen en vrouwen  60 tot 65 jaar  Overige vervoerwijze   \n",
       "1439  Totaal mannen en vrouwen  60 tot 65 jaar  Overige vervoerwijze   \n",
       "\n",
       "              Reismotieven  Marges Perioden  \\\n",
       "0                   Totaal  Waarde    1999*   \n",
       "1                   Totaal  Waarde    2003*   \n",
       "2                   Totaal  Waarde    2007*   \n",
       "3                   Totaal  Waarde    2011*   \n",
       "4                   Totaal  Waarde    2015*   \n",
       "...                    ...     ...      ...   \n",
       "1435  Overige reismotieven  Waarde    2019*   \n",
       "1436  Overige reismotieven  Waarde    2020*   \n",
       "1437  Overige reismotieven  Waarde    2021*   \n",
       "1438  Overige reismotieven  Waarde    2022*   \n",
       "1439  Overige reismotieven  Waarde    2023*   \n",
       "\n",
       "     Ritten per persoon per dag (gemiddeld) (aantal)  \\\n",
       "0                                               3.41   \n",
       "1                                               3.30   \n",
       "2                                               3.20   \n",
       "3                                               3.09   \n",
       "4                                               3.03   \n",
       "...                                              ...   \n",
       "1435                                               .   \n",
       "1436                                               .   \n",
       "1437                                               .   \n",
       "1438                                               .   \n",
       "1439                                               .   \n",
       "\n",
       "     Afgelegde afstand per rit (gemiddeld) (km) Reisduur per rit (Minuten)  \n",
       "0                                         10.96                      23.72  \n",
       "1                                         11.04                      23.65  \n",
       "2                                         11.07                      23.88  \n",
       "3                                         11.21                      23.76  \n",
       "4                                         11.36                      24.14  \n",
       "...                                         ...                        ...  \n",
       "1435                                          .                          .  \n",
       "1436                                          .                          .  \n",
       "1437                                          .                          .  \n",
       "1438                                          .                          .  \n",
       "1439                                          .                          .  \n",
       "\n",
       "[1440 rows x 9 columns]"
      ]
     },
     "execution_count": 43,
     "metadata": {},
     "output_type": "execute_result"
    }
   ],
   "source": [
    "df_mat = pd.read_csv(dataset_path_mat,delimiter=';',encoding='UTF-8-SIG')\n",
    "df_mat"
   ]
  },
  {
   "cell_type": "code",
   "execution_count": 64,
   "metadata": {},
   "outputs": [
    {
     "data": {
      "application/vnd.plotly.v1+json": {
       "config": {
        "plotlyServerURL": "https://plot.ly"
       },
       "data": [
        {
         "hovertemplate": "Vervoerwijzen=Totaal<br>Perioden=%{x}<br>Ritten per persoon per dag (gemiddeld) (aantal)=%{y}<extra></extra>",
         "legendgroup": "Totaal",
         "line": {
          "color": "#636efa",
          "dash": "solid"
         },
         "marker": {
          "symbol": "circle"
         },
         "mode": "lines",
         "name": "Totaal",
         "showlegend": true,
         "type": "scattergl",
         "x": [
          "1999*",
          "2003*",
          "2007*",
          "2011*",
          "2015*",
          "2019*",
          "2020*",
          "2021*",
          "2022*",
          "2023*",
          "1999*",
          "2003*",
          "2007*",
          "2011*",
          "2015*",
          "2019*",
          "2020*",
          "2021*",
          "2022*",
          "2023*",
          "1999*",
          "2003*",
          "2007*",
          "2011*",
          "2015*",
          "2019*",
          "2020*",
          "2021*",
          "2022*",
          "2023*",
          "1999*",
          "2003*",
          "2007*",
          "2011*",
          "2015*",
          "2019*",
          "2020*",
          "2021*",
          "2022*",
          "2023*",
          "1999*",
          "2003*",
          "2007*",
          "2011*",
          "2015*",
          "2019*",
          "2020*",
          "2021*",
          "2022*",
          "2023*",
          "1999*",
          "2003*",
          "2007*",
          "2011*",
          "2015*",
          "2019*",
          "2020*",
          "2021*",
          "2022*",
          "2023*",
          "1999*",
          "2003*",
          "2007*",
          "2011*",
          "2015*",
          "2019*",
          "2020*",
          "2021*",
          "2022*",
          "2023*",
          "1999*",
          "2003*",
          "2007*",
          "2011*",
          "2015*",
          "2019*",
          "2020*",
          "2021*",
          "2022*",
          "2023*",
          "1999*",
          "2003*",
          "2007*",
          "2011*",
          "2015*",
          "2019*",
          "2020*",
          "2021*",
          "2022*",
          "2023*",
          "1999*",
          "2003*",
          "2007*",
          "2011*",
          "2015*",
          "2019*",
          "2020*",
          "2021*",
          "2022*",
          "2023*",
          "1999*",
          "2003*",
          "2007*",
          "2011*",
          "2015*",
          "2019*",
          "2020*",
          "2021*",
          "2022*",
          "2023*",
          "1999*",
          "2003*",
          "2007*",
          "2011*",
          "2015*",
          "2019*",
          "2020*",
          "2021*",
          "2022*",
          "2023*",
          "1999*",
          "2003*",
          "2007*",
          "2011*",
          "2015*",
          "2019*",
          "2020*",
          "2021*",
          "2022*",
          "2023*",
          "1999*",
          "2003*",
          "2007*",
          "2011*",
          "2015*",
          "2019*",
          "2020*",
          "2021*",
          "2022*",
          "2023*",
          "1999*",
          "2003*",
          "2007*",
          "2011*",
          "2015*",
          "2019*",
          "2020*",
          "2021*",
          "2022*",
          "2023*",
          "1999*",
          "2003*",
          "2007*",
          "2011*",
          "2015*",
          "2019*",
          "2020*",
          "2021*",
          "2022*",
          "2023*",
          "1999*",
          "2003*",
          "2007*",
          "2011*",
          "2015*",
          "2019*",
          "2020*",
          "2021*",
          "2022*",
          "2023*",
          "1999*",
          "2003*",
          "2007*",
          "2011*",
          "2015*",
          "2019*",
          "2020*",
          "2021*",
          "2022*",
          "2023*"
         ],
         "xaxis": "x",
         "y": [
          "    3.41",
          "    3.30",
          "    3.20",
          "    3.09",
          "    3.03",
          "    2.97",
          "    2.48",
          "    2.62",
          "    2.86",
          "    2.93",
          "    0.59",
          "    0.58",
          "    0.61",
          "    0.62",
          "    0.61",
          "    0.61",
          "    0.41",
          "    0.41",
          "    0.48",
          "    0.51",
          "    0.73",
          "    0.70",
          "    0.65",
          "    0.61",
          "    0.61",
          "    0.57",
          "    0.57",
          "    0.57",
          "    0.60",
          "    0.60",
          "    0.30",
          "    0.29",
          "    0.30",
          "    0.30",
          "    0.29",
          "    0.28",
          "    0.17",
          "    0.17",
          "    0.22",
          "    0.23",
          "    1.19",
          "    1.15",
          "    1.10",
          "    1.05",
          "    1.07",
          "    1.05",
          "    0.93",
          "    1.03",
          "    1.11",
          "    1.12",
          "    0.59",
          "    0.58",
          "    0.54",
          "    0.51",
          "    0.45",
          "    0.45",
          "    0.40",
          "    0.44",
          "    0.46",
          "    0.46",
          "    4.04",
          "    3.89",
          "    3.75",
          "    3.65",
          "    3.56",
          "    3.44",
          "    2.66",
          "    2.81",
          "    3.13",
          "    3.24",
          "    0.94",
          "    0.90",
          "    0.87",
          "    0.84",
          "    0.79",
          "    0.77",
          "    0.55",
          "    0.54",
          "    0.62",
          "    0.66",
          "    0.62",
          "    0.58",
          "    0.52",
          "    0.49",
          "    0.47",
          "    0.43",
          "    0.45",
          "    0.46",
          "    0.47",
          "    0.46",
          "    0.58",
          "    0.59",
          "    0.67",
          "    0.72",
          "    0.75",
          "    0.76",
          "    0.39",
          "    0.42",
          "    0.55",
          "    0.62",
          "    1.37",
          "    1.32",
          "    1.26",
          "    1.20",
          "    1.22",
          "    1.16",
          "    0.97",
          "    1.07",
          "    1.17",
          "    1.19",
          "    0.52",
          "    0.50",
          "    0.44",
          "    0.40",
          "    0.33",
          "    0.32",
          "    0.30",
          "    0.32",
          "    0.32",
          "    0.31",
          "    2.88",
          "    2.85",
          "    2.80",
          "    2.73",
          "    2.76",
          "    2.77",
          "    2.40",
          "    2.56",
          "    2.77",
          "    2.84",
          "    0.24",
          "    0.28",
          "    0.36",
          "    0.45",
          "    0.55",
          "    0.63",
          "    0.45",
          "    0.46",
          "    0.54",
          "    0.58",
          "    0.95",
          "    0.91",
          "    0.83",
          "    0.77",
          "    0.74",
          "    0.70",
          "    0.67",
          "    0.69",
          "    0.72",
          "    0.73",
          "    0.03",
          "       .",
          "       .",
          "       .",
          "       .",
          "    0.02",
          "       .",
          "       .",
          "    0.02",
          "       .",
          "    1.19",
          "    1.16",
          "    1.12",
          "    1.04",
          "    1.04",
          "    1.02",
          "    0.90",
          "    1.00",
          "    1.08",
          "    1.09",
          "    0.48",
          "    0.48",
          "    0.46",
          "    0.45",
          "    0.40",
          "    0.40",
          "    0.36",
          "    0.40",
          "    0.42",
          "    0.42"
         ],
         "yaxis": "y"
        },
        {
         "hovertemplate": "Vervoerwijzen=Auto (bestuurder)<br>Perioden=%{x}<br>Ritten per persoon per dag (gemiddeld) (aantal)=%{y}<extra></extra>",
         "legendgroup": "Auto (bestuurder)",
         "line": {
          "color": "#EF553B",
          "dash": "solid"
         },
         "marker": {
          "symbol": "circle"
         },
         "mode": "lines",
         "name": "Auto (bestuurder)",
         "showlegend": true,
         "type": "scattergl",
         "x": [
          "1999*",
          "2003*",
          "2007*",
          "2011*",
          "2015*",
          "2019*",
          "2020*",
          "2021*",
          "2022*",
          "2023*",
          "1999*",
          "2003*",
          "2007*",
          "2011*",
          "2015*",
          "2019*",
          "2020*",
          "2021*",
          "2022*",
          "2023*",
          "1999*",
          "2003*",
          "2007*",
          "2011*",
          "2015*",
          "2019*",
          "2020*",
          "2021*",
          "2022*",
          "2023*",
          "1999*",
          "2003*",
          "2007*",
          "2011*",
          "2015*",
          "2019*",
          "2020*",
          "2021*",
          "2022*",
          "2023*",
          "1999*",
          "2003*",
          "2007*",
          "2011*",
          "2015*",
          "2019*",
          "2020*",
          "2021*",
          "2022*",
          "2023*",
          "1999*",
          "2003*",
          "2007*",
          "2011*",
          "2015*",
          "2019*",
          "2020*",
          "2021*",
          "2022*",
          "2023*",
          "1999*",
          "2003*",
          "2007*",
          "2011*",
          "2015*",
          "2019*",
          "2020*",
          "2021*",
          "2022*",
          "2023*",
          "1999*",
          "2003*",
          "2007*",
          "2011*",
          "2015*",
          "2019*",
          "2020*",
          "2021*",
          "2022*",
          "2023*",
          "1999*",
          "2003*",
          "2007*",
          "2011*",
          "2015*",
          "2019*",
          "2020*",
          "2021*",
          "2022*",
          "2023*",
          "1999*",
          "2003*",
          "2007*",
          "2011*",
          "2015*",
          "2019*",
          "2020*",
          "2021*",
          "2022*",
          "2023*",
          "1999*",
          "2003*",
          "2007*",
          "2011*",
          "2015*",
          "2019*",
          "2020*",
          "2021*",
          "2022*",
          "2023*",
          "1999*",
          "2003*",
          "2007*",
          "2011*",
          "2015*",
          "2019*",
          "2020*",
          "2021*",
          "2022*",
          "2023*",
          "1999*",
          "2003*",
          "2007*",
          "2011*",
          "2015*",
          "2019*",
          "2020*",
          "2021*",
          "2022*",
          "2023*",
          "1999*",
          "2003*",
          "2007*",
          "2011*",
          "2015*",
          "2019*",
          "2020*",
          "2021*",
          "2022*",
          "2023*",
          "1999*",
          "2003*",
          "2007*",
          "2011*",
          "2015*",
          "2019*",
          "2020*",
          "2021*",
          "2022*",
          "2023*",
          "1999*",
          "2003*",
          "2007*",
          "2011*",
          "2015*",
          "2019*",
          "2020*",
          "2021*",
          "2022*",
          "2023*",
          "1999*",
          "2003*",
          "2007*",
          "2011*",
          "2015*",
          "2019*",
          "2020*",
          "2021*",
          "2022*",
          "2023*",
          "1999*",
          "2003*",
          "2007*",
          "2011*",
          "2015*",
          "2019*",
          "2020*",
          "2021*",
          "2022*",
          "2023*"
         ],
         "xaxis": "x",
         "y": [
          "    1.06",
          "    1.04",
          "    1.01",
          "    0.97",
          "    0.95",
          "    0.94",
          "    0.79",
          "    0.81",
          "    0.86",
          "    0.90",
          "    0.23",
          "    0.24",
          "    0.26",
          "    0.26",
          "    0.25",
          "    0.25",
          "    0.19",
          "    0.19",
          "    0.21",
          "    0.22",
          "    0.23",
          "    0.23",
          "    0.22",
          "    0.20",
          "    0.21",
          "    0.20",
          "    0.20",
          "    0.20",
          "    0.20",
          "    0.20",
          "    0.02",
          "    0.02",
          "    0.02",
          "    0.02",
          "    0.02",
          "    0.01",
          "    0.01",
          "    0.01",
          "    0.01",
          "    0.01",
          "    0.31",
          "    0.30",
          "    0.27",
          "    0.26",
          "    0.26",
          "    0.26",
          "    0.20",
          "    0.21",
          "    0.23",
          "    0.25",
          "    0.26",
          "    0.26",
          "    0.25",
          "    0.23",
          "    0.21",
          "    0.21",
          "    0.19",
          "    0.20",
          "    0.21",
          "    0.21",
          "    0.96",
          "    0.95",
          "    0.87",
          "    0.80",
          "    0.75",
          "    0.72",
          "    0.63",
          "    0.63",
          "    0.65",
          "    0.66",
          "    0.27",
          "    0.27",
          "    0.26",
          "    0.25",
          "    0.24",
          "    0.22",
          "    0.19",
          "    0.19",
          "    0.20",
          "    0.20",
          "    0.15",
          "    0.14",
          "    0.12",
          "    0.11",
          "    0.10",
          "    0.09",
          "    0.10",
          "    0.10",
          "    0.09",
          "    0.09",
          "    0.05",
          "    0.06",
          "    0.05",
          "    0.05",
          "    0.05",
          "    0.05",
          "    0.04",
          "    0.04",
          "    0.05",
          "    0.05",
          "    0.32",
          "    0.31",
          "    0.28",
          "    0.27",
          "    0.25",
          "    0.24",
          "    0.19",
          "    0.20",
          "    0.21",
          "    0.22",
          "    0.17",
          "    0.17",
          "    0.15",
          "    0.13",
          "    0.11",
          "    0.11",
          "    0.11",
          "    0.11",
          "    0.10",
          "    0.10",
          "    0.94",
          "    0.98",
          "    0.99",
          "    0.97",
          "    1.00",
          "    1.04",
          "    0.88",
          "    0.90",
          "    0.98",
          "    1.04",
          "    0.08",
          "    0.10",
          "    0.14",
          "    0.18",
          "    0.23",
          "    0.28",
          "    0.22",
          "    0.22",
          "    0.25",
          "    0.27",
          "    0.28",
          "    0.29",
          "    0.27",
          "    0.25",
          "    0.25",
          "    0.25",
          "    0.25",
          "    0.25",
          "    0.25",
          "    0.26",
          "       .",
          "       .",
          "       .",
          "       .",
          "       .",
          "       .",
          "       .",
          "       .",
          "       .",
          "       .",
          "    0.36",
          "    0.36",
          "    0.33",
          "    0.30",
          "    0.29",
          "    0.29",
          "    0.22",
          "    0.23",
          "    0.26",
          "    0.28",
          "    0.22",
          "    0.23",
          "    0.23",
          "    0.22",
          "    0.21",
          "    0.21",
          "    0.19",
          "    0.20",
          "    0.21",
          "    0.22"
         ],
         "yaxis": "y"
        },
        {
         "hovertemplate": "Vervoerwijzen=Auto (passagier)<br>Perioden=%{x}<br>Ritten per persoon per dag (gemiddeld) (aantal)=%{y}<extra></extra>",
         "legendgroup": "Auto (passagier)",
         "line": {
          "color": "#00cc96",
          "dash": "solid"
         },
         "marker": {
          "symbol": "circle"
         },
         "mode": "lines",
         "name": "Auto (passagier)",
         "showlegend": true,
         "type": "scattergl",
         "x": [
          "1999*",
          "2003*",
          "2007*",
          "2011*",
          "2015*",
          "2019*",
          "2020*",
          "2021*",
          "2022*",
          "2023*",
          "1999*",
          "2003*",
          "2007*",
          "2011*",
          "2015*",
          "2019*",
          "2020*",
          "2021*",
          "2022*",
          "2023*",
          "1999*",
          "2003*",
          "2007*",
          "2011*",
          "2015*",
          "2019*",
          "2020*",
          "2021*",
          "2022*",
          "2023*",
          "1999*",
          "2003*",
          "2007*",
          "2011*",
          "2015*",
          "2019*",
          "2020*",
          "2021*",
          "2022*",
          "2023*",
          "1999*",
          "2003*",
          "2007*",
          "2011*",
          "2015*",
          "2019*",
          "2020*",
          "2021*",
          "2022*",
          "2023*",
          "1999*",
          "2003*",
          "2007*",
          "2011*",
          "2015*",
          "2019*",
          "2020*",
          "2021*",
          "2022*",
          "2023*",
          "1999*",
          "2003*",
          "2007*",
          "2011*",
          "2015*",
          "2019*",
          "2020*",
          "2021*",
          "2022*",
          "2023*",
          "1999*",
          "2003*",
          "2007*",
          "2011*",
          "2015*",
          "2019*",
          "2020*",
          "2021*",
          "2022*",
          "2023*",
          "1999*",
          "2003*",
          "2007*",
          "2011*",
          "2015*",
          "2019*",
          "2020*",
          "2021*",
          "2022*",
          "2023*",
          "1999*",
          "2003*",
          "2007*",
          "2011*",
          "2015*",
          "2019*",
          "2020*",
          "2021*",
          "2022*",
          "2023*",
          "1999*",
          "2003*",
          "2007*",
          "2011*",
          "2015*",
          "2019*",
          "2020*",
          "2021*",
          "2022*",
          "2023*",
          "1999*",
          "2003*",
          "2007*",
          "2011*",
          "2015*",
          "2019*",
          "2020*",
          "2021*",
          "2022*",
          "2023*",
          "1999*",
          "2003*",
          "2007*",
          "2011*",
          "2015*",
          "2019*",
          "2020*",
          "2021*",
          "2022*",
          "2023*",
          "1999*",
          "2003*",
          "2007*",
          "2011*",
          "2015*",
          "2019*",
          "2020*",
          "2021*",
          "2022*",
          "2023*",
          "1999*",
          "2003*",
          "2007*",
          "2011*",
          "2015*",
          "2019*",
          "2020*",
          "2021*",
          "2022*",
          "2023*",
          "1999*",
          "2003*",
          "2007*",
          "2011*",
          "2015*",
          "2019*",
          "2020*",
          "2021*",
          "2022*",
          "2023*",
          "1999*",
          "2003*",
          "2007*",
          "2011*",
          "2015*",
          "2019*",
          "2020*",
          "2021*",
          "2022*",
          "2023*",
          "1999*",
          "2003*",
          "2007*",
          "2011*",
          "2015*",
          "2019*",
          "2020*",
          "2021*",
          "2022*",
          "2023*"
         ],
         "xaxis": "x",
         "y": [
          "    0.48",
          "    0.44",
          "    0.40",
          "    0.36",
          "    0.34",
          "    0.32",
          "    0.25",
          "    0.27",
          "    0.29",
          "    0.31",
          "    0.05",
          "    0.04",
          "    0.03",
          "    0.03",
          "    0.02",
          "    0.02",
          "    0.01",
          "    0.01",
          "    0.01",
          "    0.02",
          "    0.09",
          "    0.09",
          "    0.08",
          "    0.07",
          "    0.07",
          "    0.06",
          "    0.05",
          "    0.05",
          "    0.06",
          "    0.06",
          "    0.03",
          "    0.02",
          "    0.03",
          "    0.03",
          "    0.02",
          "    0.02",
          "    0.02",
          "    0.02",
          "    0.02",
          "    0.02",
          "    0.25",
          "    0.23",
          "    0.21",
          "    0.19",
          "    0.18",
          "    0.18",
          "    0.13",
          "    0.14",
          "    0.15",
          "    0.16",
          "    0.07",
          "    0.06",
          "    0.06",
          "    0.05",
          "    0.05",
          "    0.05",
          "    0.04",
          "    0.04",
          "    0.04",
          "    0.04",
          "    0.53",
          "    0.49",
          "    0.44",
          "    0.38",
          "    0.35",
          "    0.32",
          "    0.28",
          "    0.29",
          "    0.31",
          "    0.32",
          "    0.09",
          "    0.08",
          "    0.07",
          "    0.05",
          "    0.04",
          "    0.03",
          "    0.03",
          "    0.03",
          "    0.03",
          "    0.03",
          "    0.08",
          "    0.08",
          "    0.07",
          "    0.06",
          "    0.06",
          "    0.05",
          "    0.05",
          "    0.05",
          "    0.05",
          "    0.06",
          "    0.02",
          "    0.02",
          "       .",
          "    0.02",
          "       .",
          "    0.02",
          "    0.02",
          "    0.02",
          "    0.02",
          "    0.02",
          "    0.26",
          "    0.25",
          "    0.22",
          "    0.20",
          "    0.19",
          "    0.18",
          "    0.14",
          "    0.15",
          "    0.16",
          "    0.17",
          "    0.07",
          "    0.07",
          "    0.06",
          "    0.05",
          "       .",
          "    0.04",
          "    0.04",
          "    0.05",
          "    0.04",
          "    0.04",
          "    0.39",
          "    0.36",
          "    0.32",
          "    0.28",
          "    0.27",
          "    0.25",
          "    0.18",
          "    0.20",
          "    0.22",
          "    0.24",
          "       .",
          "       .",
          "       .",
          "       .",
          "       .",
          "       .",
          "       .",
          "       .",
          "       .",
          "       .",
          "    0.10",
          "    0.10",
          "    0.09",
          "    0.07",
          "    0.07",
          "    0.06",
          "    0.05",
          "    0.05",
          "    0.06",
          "    0.06",
          "       .",
          "       .",
          "       .",
          "       .",
          "       .",
          "       .",
          "       .",
          "       .",
          "       .",
          "       .",
          "    0.21",
          "    0.19",
          "    0.17",
          "    0.14",
          "    0.14",
          "    0.13",
          "    0.09",
          "    0.10",
          "    0.11",
          "    0.12",
          "    0.06",
          "    0.05",
          "    0.05",
          "    0.04",
          "    0.04",
          "    0.04",
          "    0.03",
          "    0.03",
          "    0.04",
          "    0.04"
         ],
         "yaxis": "y"
        },
        {
         "hovertemplate": "Vervoerwijzen=Trein<br>Perioden=%{x}<br>Ritten per persoon per dag (gemiddeld) (aantal)=%{y}<extra></extra>",
         "legendgroup": "Trein",
         "line": {
          "color": "#ab63fa",
          "dash": "solid"
         },
         "marker": {
          "symbol": "circle"
         },
         "mode": "lines",
         "name": "Trein",
         "showlegend": true,
         "type": "scattergl",
         "x": [
          "1999*",
          "2003*",
          "2007*",
          "2011*",
          "2015*",
          "2019*",
          "2020*",
          "2021*",
          "2022*",
          "2023*",
          "1999*",
          "2003*",
          "2007*",
          "2011*",
          "2015*",
          "2019*",
          "2020*",
          "2021*",
          "2022*",
          "2023*",
          "1999*",
          "2003*",
          "2007*",
          "2011*",
          "2015*",
          "2019*",
          "2020*",
          "2021*",
          "2022*",
          "2023*",
          "1999*",
          "2003*",
          "2007*",
          "2011*",
          "2015*",
          "2019*",
          "2020*",
          "2021*",
          "2022*",
          "2023*",
          "1999*",
          "2003*",
          "2007*",
          "2011*",
          "2015*",
          "2019*",
          "2020*",
          "2021*",
          "2022*",
          "2023*",
          "1999*",
          "2003*",
          "2007*",
          "2011*",
          "2015*",
          "2019*",
          "2020*",
          "2021*",
          "2022*",
          "2023*",
          "1999*",
          "2003*",
          "2007*",
          "2011*",
          "2015*",
          "2019*",
          "2020*",
          "2021*",
          "2022*",
          "2023*",
          "1999*",
          "2003*",
          "2007*",
          "2011*",
          "2015*",
          "2019*",
          "2020*",
          "2021*",
          "2022*",
          "2023*",
          "1999*",
          "2003*",
          "2007*",
          "2011*",
          "2015*",
          "2019*",
          "2020*",
          "2021*",
          "2022*",
          "2023*",
          "1999*",
          "2003*",
          "2007*",
          "2011*",
          "2015*",
          "2019*",
          "2020*",
          "2021*",
          "2022*",
          "2023*",
          "1999*",
          "2003*",
          "2007*",
          "2011*",
          "2015*",
          "2019*",
          "2020*",
          "2021*",
          "2022*",
          "2023*",
          "1999*",
          "2003*",
          "2007*",
          "2011*",
          "2015*",
          "2019*",
          "2020*",
          "2021*",
          "2022*",
          "2023*",
          "1999*",
          "2003*",
          "2007*",
          "2011*",
          "2015*",
          "2019*",
          "2020*",
          "2021*",
          "2022*",
          "2023*",
          "1999*",
          "2003*",
          "2007*",
          "2011*",
          "2015*",
          "2019*",
          "2020*",
          "2021*",
          "2022*",
          "2023*",
          "1999*",
          "2003*",
          "2007*",
          "2011*",
          "2015*",
          "2019*",
          "2020*",
          "2021*",
          "2022*",
          "2023*",
          "1999*",
          "2003*",
          "2007*",
          "2011*",
          "2015*",
          "2019*",
          "2020*",
          "2021*",
          "2022*",
          "2023*",
          "1999*",
          "2003*",
          "2007*",
          "2011*",
          "2015*",
          "2019*",
          "2020*",
          "2021*",
          "2022*",
          "2023*",
          "1999*",
          "2003*",
          "2007*",
          "2011*",
          "2015*",
          "2019*",
          "2020*",
          "2021*",
          "2022*",
          "2023*"
         ],
         "xaxis": "x",
         "y": [
          "    0.07",
          "    0.07",
          "    0.07",
          "    0.07",
          "    0.08",
          "    0.08",
          "    0.04",
          "    0.04",
          "    0.05",
          "    0.07",
          "    0.02",
          "    0.03",
          "    0.03",
          "    0.03",
          "    0.03",
          "    0.03",
          "    0.01",
          "    0.01",
          "    0.02",
          "    0.02",
          "    0.01",
          "    0.01",
          "    0.01",
          "    0.01",
          "    0.00",
          "    0.00",
          "    0.00",
          "    0.00",
          "    0.00",
          "    0.00",
          "    0.01",
          "    0.01",
          "    0.01",
          "    0.01",
          "    0.02",
          "    0.02",
          "    0.01",
          "    0.01",
          "    0.01",
          "    0.01",
          "    0.02",
          "    0.02",
          "    0.02",
          "    0.02",
          "    0.02",
          "    0.02",
          "    0.01",
          "    0.01",
          "    0.02",
          "    0.02",
          "    0.01",
          "    0.01",
          "    0.01",
          "    0.01",
          "    0.01",
          "    0.01",
          "    0.00",
          "    0.00",
          "    0.01",
          "    0.01",
          "    0.21",
          "    0.21",
          "    0.23",
          "    0.24",
          "    0.25",
          "    0.25",
          "    0.13",
          "    0.14",
          "    0.18",
          "    0.21",
          "    0.05",
          "    0.05",
          "    0.05",
          "    0.05",
          "       .",
          "    0.05",
          "    0.02",
          "    0.02",
          "    0.03",
          "    0.04",
          "    0.01",
          "       .",
          "       .",
          "       .",
          "       .",
          "       .",
          "       .",
          "       .",
          "    0.01",
          "    0.01",
          "    0.08",
          "    0.08",
          "    0.10",
          "    0.10",
          "    0.11",
          "    0.11",
          "    0.05",
          "    0.06",
          "    0.08",
          "    0.09",
          "    0.04",
          "    0.04",
          "    0.04",
          "    0.05",
          "    0.06",
          "    0.06",
          "    0.03",
          "    0.04",
          "    0.05",
          "    0.06",
          "    0.03",
          "       .",
          "       .",
          "       .",
          "       .",
          "    0.02",
          "    0.01",
          "    0.01",
          "    0.01",
          "    0.02",
          "    0.04",
          "    0.04",
          "    0.04",
          "    0.04",
          "    0.05",
          "    0.05",
          "    0.02",
          "       .",
          "    0.03",
          "    0.04",
          "       .",
          "       .",
          "       .",
          "       .",
          "       .",
          "    0.02",
          "       .",
          "       .",
          "       .",
          "       .",
          "       .",
          "       .",
          "       .",
          "       .",
          "       .",
          "       .",
          "       .",
          "       .",
          "       .",
          "       .",
          "       .",
          "       .",
          "       .",
          "       .",
          "       .",
          "       .",
          "       .",
          "       .",
          "       .",
          "       .",
          "    0.02",
          "       .",
          "       .",
          "       .",
          "       .",
          "       .",
          "       .",
          "       .",
          "       .",
          "       .",
          "       .",
          "       .",
          "       .",
          "       .",
          "       .",
          "       .",
          "       .",
          "       .",
          "       .",
          "       ."
         ],
         "yaxis": "y"
        },
        {
         "hovertemplate": "Vervoerwijzen=Bus/tram/metro<br>Perioden=%{x}<br>Ritten per persoon per dag (gemiddeld) (aantal)=%{y}<extra></extra>",
         "legendgroup": "Bus/tram/metro",
         "line": {
          "color": "#FFA15A",
          "dash": "solid"
         },
         "marker": {
          "symbol": "circle"
         },
         "mode": "lines",
         "name": "Bus/tram/metro",
         "showlegend": true,
         "type": "scattergl",
         "x": [
          "1999*",
          "2003*",
          "2007*",
          "2011*",
          "2015*",
          "2019*",
          "2020*",
          "2021*",
          "2022*",
          "2023*",
          "1999*",
          "2003*",
          "2007*",
          "2011*",
          "2015*",
          "2019*",
          "2020*",
          "2021*",
          "2022*",
          "2023*",
          "1999*",
          "2003*",
          "2007*",
          "2011*",
          "2015*",
          "2019*",
          "2020*",
          "2021*",
          "2022*",
          "2023*",
          "1999*",
          "2003*",
          "2007*",
          "2011*",
          "2015*",
          "2019*",
          "2020*",
          "2021*",
          "2022*",
          "2023*",
          "1999*",
          "2003*",
          "2007*",
          "2011*",
          "2015*",
          "2019*",
          "2020*",
          "2021*",
          "2022*",
          "2023*",
          "1999*",
          "2003*",
          "2007*",
          "2011*",
          "2015*",
          "2019*",
          "2020*",
          "2021*",
          "2022*",
          "2023*",
          "1999*",
          "2003*",
          "2007*",
          "2011*",
          "2015*",
          "2019*",
          "2020*",
          "2021*",
          "2022*",
          "2023*",
          "1999*",
          "2003*",
          "2007*",
          "2011*",
          "2015*",
          "2019*",
          "2020*",
          "2021*",
          "2022*",
          "2023*",
          "1999*",
          "2003*",
          "2007*",
          "2011*",
          "2015*",
          "2019*",
          "2020*",
          "2021*",
          "2022*",
          "2023*",
          "1999*",
          "2003*",
          "2007*",
          "2011*",
          "2015*",
          "2019*",
          "2020*",
          "2021*",
          "2022*",
          "2023*",
          "1999*",
          "2003*",
          "2007*",
          "2011*",
          "2015*",
          "2019*",
          "2020*",
          "2021*",
          "2022*",
          "2023*",
          "1999*",
          "2003*",
          "2007*",
          "2011*",
          "2015*",
          "2019*",
          "2020*",
          "2021*",
          "2022*",
          "2023*",
          "1999*",
          "2003*",
          "2007*",
          "2011*",
          "2015*",
          "2019*",
          "2020*",
          "2021*",
          "2022*",
          "2023*",
          "1999*",
          "2003*",
          "2007*",
          "2011*",
          "2015*",
          "2019*",
          "2020*",
          "2021*",
          "2022*",
          "2023*",
          "1999*",
          "2003*",
          "2007*",
          "2011*",
          "2015*",
          "2019*",
          "2020*",
          "2021*",
          "2022*",
          "2023*",
          "1999*",
          "2003*",
          "2007*",
          "2011*",
          "2015*",
          "2019*",
          "2020*",
          "2021*",
          "2022*",
          "2023*",
          "1999*",
          "2003*",
          "2007*",
          "2011*",
          "2015*",
          "2019*",
          "2020*",
          "2021*",
          "2022*",
          "2023*",
          "1999*",
          "2003*",
          "2007*",
          "2011*",
          "2015*",
          "2019*",
          "2020*",
          "2021*",
          "2022*",
          "2023*"
         ],
         "xaxis": "x",
         "y": [
          "    0.16",
          "    0.14",
          "    0.13",
          "    0.13",
          "    0.12",
          "    0.12",
          "    0.06",
          "    0.06",
          "    0.08",
          "    0.10",
          "    0.04",
          "    0.04",
          "    0.04",
          "    0.04",
          "    0.04",
          "    0.04",
          "    0.02",
          "    0.02",
          "    0.02",
          "    0.03",
          "    0.03",
          "    0.02",
          "    0.02",
          "    0.02",
          "    0.02",
          "    0.01",
          "    0.01",
          "    0.01",
          "    0.01",
          "    0.01",
          "    0.03",
          "    0.03",
          "    0.03",
          "    0.03",
          "    0.03",
          "    0.03",
          "    0.01",
          "    0.02",
          "    0.02",
          "    0.02",
          "    0.04",
          "    0.03",
          "    0.03",
          "    0.03",
          "    0.03",
          "    0.03",
          "    0.01",
          "    0.02",
          "    0.02",
          "    0.03",
          "    0.02",
          "    0.02",
          "    0.01",
          "    0.01",
          "    0.01",
          "    0.01",
          "    0.01",
          "    0.01",
          "    0.01",
          "    0.01",
          "    0.43",
          "    0.40",
          "    0.40",
          "    0.40",
          "    0.39",
          "    0.38",
          "    0.20",
          "    0.22",
          "    0.28",
          "    0.31",
          "    0.10",
          "    0.10",
          "    0.09",
          "    0.09",
          "    0.08",
          "    0.08",
          "    0.04",
          "    0.04",
          "    0.05",
          "    0.06",
          "    0.04",
          "    0.04",
          "       .",
          "       .",
          "       .",
          "    0.03",
          "    0.02",
          "    0.02",
          "    0.02",
          "    0.02",
          "    0.17",
          "    0.16",
          "    0.17",
          "    0.17",
          "    0.18",
          "    0.17",
          "    0.08",
          "    0.09",
          "    0.12",
          "    0.13",
          "    0.08",
          "    0.08",
          "    0.07",
          "    0.08",
          "    0.08",
          "    0.08",
          "    0.04",
          "    0.05",
          "    0.07",
          "    0.07",
          "    0.04",
          "       .",
          "       .",
          "       .",
          "       .",
          "    0.02",
          "    0.02",
          "    0.02",
          "    0.02",
          "    0.02",
          "    0.10",
          "    0.09",
          "    0.08",
          "    0.07",
          "    0.07",
          "    0.07",
          "    0.03",
          "    0.03",
          "    0.04",
          "    0.05",
          "       .",
          "       .",
          "       .",
          "       .",
          "       .",
          "    0.03",
          "       .",
          "       .",
          "       .",
          "       .",
          "    0.03",
          "       .",
          "       .",
          "       .",
          "       .",
          "       .",
          "       .",
          "       .",
          "       .",
          "       .",
          "       .",
          "       .",
          "       .",
          "       .",
          "       .",
          "       .",
          "       .",
          "       .",
          "       .",
          "       .",
          "    0.03",
          "       .",
          "       .",
          "       .",
          "       .",
          "    0.02",
          "       .",
          "       .",
          "       .",
          "       .",
          "       .",
          "       .",
          "       .",
          "       .",
          "       .",
          "       .",
          "       .",
          "       .",
          "       .",
          "       ."
         ],
         "yaxis": "y"
        },
        {
         "hovertemplate": "Vervoerwijzen=Fiets<br>Perioden=%{x}<br>Ritten per persoon per dag (gemiddeld) (aantal)=%{y}<extra></extra>",
         "legendgroup": "Fiets",
         "line": {
          "color": "#19d3f3",
          "dash": "solid"
         },
         "marker": {
          "symbol": "circle"
         },
         "mode": "lines",
         "name": "Fiets",
         "showlegend": true,
         "type": "scattergl",
         "x": [
          "1999*",
          "2003*",
          "2007*",
          "2011*",
          "2015*",
          "2019*",
          "2020*",
          "2021*",
          "2022*",
          "2023*",
          "1999*",
          "2003*",
          "2007*",
          "2011*",
          "2015*",
          "2019*",
          "2020*",
          "2021*",
          "2022*",
          "2023*",
          "1999*",
          "2003*",
          "2007*",
          "2011*",
          "2015*",
          "2019*",
          "2020*",
          "2021*",
          "2022*",
          "2023*",
          "1999*",
          "2003*",
          "2007*",
          "2011*",
          "2015*",
          "2019*",
          "2020*",
          "2021*",
          "2022*",
          "2023*",
          "1999*",
          "2003*",
          "2007*",
          "2011*",
          "2015*",
          "2019*",
          "2020*",
          "2021*",
          "2022*",
          "2023*",
          "1999*",
          "2003*",
          "2007*",
          "2011*",
          "2015*",
          "2019*",
          "2020*",
          "2021*",
          "2022*",
          "2023*",
          "1999*",
          "2003*",
          "2007*",
          "2011*",
          "2015*",
          "2019*",
          "2020*",
          "2021*",
          "2022*",
          "2023*",
          "1999*",
          "2003*",
          "2007*",
          "2011*",
          "2015*",
          "2019*",
          "2020*",
          "2021*",
          "2022*",
          "2023*",
          "1999*",
          "2003*",
          "2007*",
          "2011*",
          "2015*",
          "2019*",
          "2020*",
          "2021*",
          "2022*",
          "2023*",
          "1999*",
          "2003*",
          "2007*",
          "2011*",
          "2015*",
          "2019*",
          "2020*",
          "2021*",
          "2022*",
          "2023*",
          "1999*",
          "2003*",
          "2007*",
          "2011*",
          "2015*",
          "2019*",
          "2020*",
          "2021*",
          "2022*",
          "2023*",
          "1999*",
          "2003*",
          "2007*",
          "2011*",
          "2015*",
          "2019*",
          "2020*",
          "2021*",
          "2022*",
          "2023*",
          "1999*",
          "2003*",
          "2007*",
          "2011*",
          "2015*",
          "2019*",
          "2020*",
          "2021*",
          "2022*",
          "2023*",
          "1999*",
          "2003*",
          "2007*",
          "2011*",
          "2015*",
          "2019*",
          "2020*",
          "2021*",
          "2022*",
          "2023*",
          "1999*",
          "2003*",
          "2007*",
          "2011*",
          "2015*",
          "2019*",
          "2020*",
          "2021*",
          "2022*",
          "2023*",
          "1999*",
          "2003*",
          "2007*",
          "2011*",
          "2015*",
          "2019*",
          "2020*",
          "2021*",
          "2022*",
          "2023*",
          "1999*",
          "2003*",
          "2007*",
          "2011*",
          "2015*",
          "2019*",
          "2020*",
          "2021*",
          "2022*",
          "2023*",
          "1999*",
          "2003*",
          "2007*",
          "2011*",
          "2015*",
          "2019*",
          "2020*",
          "2021*",
          "2022*",
          "2023*"
         ],
         "xaxis": "x",
         "y": [
          "    0.87",
          "    0.87",
          "    0.85",
          "    0.85",
          "    0.84",
          "    0.82",
          "    0.65",
          "    0.67",
          "    0.78",
          "    0.78",
          "    0.15",
          "    0.15",
          "    0.15",
          "    0.16",
          "    0.16",
          "    0.16",
          "    0.11",
          "    0.11",
          "    0.13",
          "    0.14",
          "    0.20",
          "    0.20",
          "    0.18",
          "    0.17",
          "    0.18",
          "    0.16",
          "    0.16",
          "    0.15",
          "    0.17",
          "    0.17",
          "    0.12",
          "    0.12",
          "    0.13",
          "    0.14",
          "    0.13",
          "    0.13",
          "    0.08",
          "    0.08",
          "    0.10",
          "    0.11",
          "    0.27",
          "    0.28",
          "    0.27",
          "    0.26",
          "    0.28",
          "    0.27",
          "    0.22",
          "    0.23",
          "    0.27",
          "    0.27",
          "    0.13",
          "    0.13",
          "    0.12",
          "    0.11",
          "    0.10",
          "    0.10",
          "    0.09",
          "    0.09",
          "    0.11",
          "    0.10",
          "    0.96",
          "    0.95",
          "    0.92",
          "    0.93",
          "    0.93",
          "    0.91",
          "    0.68",
          "    0.69",
          "    0.82",
          "    0.83",
          "    0.24",
          "    0.23",
          "    0.23",
          "    0.23",
          "    0.22",
          "    0.22",
          "    0.16",
          "    0.16",
          "    0.18",
          "    0.19",
          "    0.16",
          "    0.15",
          "    0.14",
          "    0.13",
          "    0.13",
          "    0.11",
          "    0.12",
          "    0.11",
          "    0.12",
          "    0.12",
          "    0.12",
          "    0.13",
          "    0.15",
          "    0.18",
          "    0.19",
          "    0.20",
          "    0.10",
          "    0.10",
          "    0.14",
          "    0.15",
          "    0.32",
          "    0.32",
          "    0.31",
          "    0.31",
          "    0.33",
          "    0.32",
          "    0.25",
          "    0.26",
          "    0.31",
          "    0.31",
          "    0.12",
          "    0.11",
          "       .",
          "    0.09",
          "       .",
          "    0.06",
          "    0.06",
          "    0.06",
          "    0.07",
          "    0.06",
          "    0.72",
          "    0.73",
          "    0.70",
          "    0.72",
          "    0.73",
          "    0.73",
          "    0.60",
          "    0.61",
          "    0.71",
          "    0.71",
          "    0.06",
          "    0.08",
          "    0.10",
          "    0.13",
          "    0.15",
          "    0.18",
          "    0.13",
          "    0.13",
          "    0.15",
          "    0.16",
          "    0.30",
          "    0.29",
          "    0.26",
          "    0.25",
          "    0.25",
          "    0.23",
          "    0.21",
          "    0.21",
          "    0.24",
          "    0.23",
          "       .",
          "       .",
          "       .",
          "       .",
          "       .",
          "       .",
          "       .",
          "       .",
          "       .",
          "       .",
          "    0.27",
          "    0.27",
          "    0.25",
          "    0.24",
          "    0.25",
          "    0.24",
          "    0.19",
          "    0.20",
          "    0.23",
          "    0.23",
          "    0.09",
          "    0.09",
          "    0.08",
          "    0.08",
          "    0.07",
          "    0.07",
          "    0.07",
          "    0.07",
          "    0.08",
          "    0.08"
         ],
         "yaxis": "y"
        },
        {
         "hovertemplate": "Vervoerwijzen=Lopen<br>Perioden=%{x}<br>Ritten per persoon per dag (gemiddeld) (aantal)=%{y}<extra></extra>",
         "legendgroup": "Lopen",
         "line": {
          "color": "#FF6692",
          "dash": "solid"
         },
         "marker": {
          "symbol": "circle"
         },
         "mode": "lines",
         "name": "Lopen",
         "showlegend": true,
         "type": "scattergl",
         "x": [
          "1999*",
          "2003*",
          "2007*",
          "2011*",
          "2015*",
          "2019*",
          "2020*",
          "2021*",
          "2022*",
          "2023*",
          "1999*",
          "2003*",
          "2007*",
          "2011*",
          "2015*",
          "2019*",
          "2020*",
          "2021*",
          "2022*",
          "2023*",
          "1999*",
          "2003*",
          "2007*",
          "2011*",
          "2015*",
          "2019*",
          "2020*",
          "2021*",
          "2022*",
          "2023*",
          "1999*",
          "2003*",
          "2007*",
          "2011*",
          "2015*",
          "2019*",
          "2020*",
          "2021*",
          "2022*",
          "2023*",
          "1999*",
          "2003*",
          "2007*",
          "2011*",
          "2015*",
          "2019*",
          "2020*",
          "2021*",
          "2022*",
          "2023*",
          "1999*",
          "2003*",
          "2007*",
          "2011*",
          "2015*",
          "2019*",
          "2020*",
          "2021*",
          "2022*",
          "2023*",
          "1999*",
          "2003*",
          "2007*",
          "2011*",
          "2015*",
          "2019*",
          "2020*",
          "2021*",
          "2022*",
          "2023*",
          "1999*",
          "2003*",
          "2007*",
          "2011*",
          "2015*",
          "2019*",
          "2020*",
          "2021*",
          "2022*",
          "2023*",
          "1999*",
          "2003*",
          "2007*",
          "2011*",
          "2015*",
          "2019*",
          "2020*",
          "2021*",
          "2022*",
          "2023*",
          "1999*",
          "2003*",
          "2007*",
          "2011*",
          "2015*",
          "2019*",
          "2020*",
          "2021*",
          "2022*",
          "2023*",
          "1999*",
          "2003*",
          "2007*",
          "2011*",
          "2015*",
          "2019*",
          "2020*",
          "2021*",
          "2022*",
          "2023*",
          "1999*",
          "2003*",
          "2007*",
          "2011*",
          "2015*",
          "2019*",
          "2020*",
          "2021*",
          "2022*",
          "2023*",
          "1999*",
          "2003*",
          "2007*",
          "2011*",
          "2015*",
          "2019*",
          "2020*",
          "2021*",
          "2022*",
          "2023*",
          "1999*",
          "2003*",
          "2007*",
          "2011*",
          "2015*",
          "2019*",
          "2020*",
          "2021*",
          "2022*",
          "2023*",
          "1999*",
          "2003*",
          "2007*",
          "2011*",
          "2015*",
          "2019*",
          "2020*",
          "2021*",
          "2022*",
          "2023*",
          "1999*",
          "2003*",
          "2007*",
          "2011*",
          "2015*",
          "2019*",
          "2020*",
          "2021*",
          "2022*",
          "2023*",
          "1999*",
          "2003*",
          "2007*",
          "2011*",
          "2015*",
          "2019*",
          "2020*",
          "2021*",
          "2022*",
          "2023*",
          "1999*",
          "2003*",
          "2007*",
          "2011*",
          "2015*",
          "2019*",
          "2020*",
          "2021*",
          "2022*",
          "2023*"
         ],
         "xaxis": "x",
         "y": [
          "    0.65",
          "    0.62",
          "    0.63",
          "    0.61",
          "    0.60",
          "    0.58",
          "    0.61",
          "    0.69",
          "    0.70",
          "    0.69",
          "    0.05",
          "    0.05",
          "    0.06",
          "    0.07",
          "    0.07",
          "    0.07",
          "    0.04",
          "    0.04",
          "    0.05",
          "    0.06",
          "    0.16",
          "    0.15",
          "    0.13",
          "    0.13",
          "    0.13",
          "    0.12",
          "    0.13",
          "    0.15",
          "    0.14",
          "    0.14",
          "    0.08",
          "    0.07",
          "    0.07",
          "    0.07",
          "    0.06",
          "    0.06",
          "    0.03",
          "    0.04",
          "    0.05",
          "    0.05",
          "    0.27",
          "    0.27",
          "    0.28",
          "    0.27",
          "    0.28",
          "    0.27",
          "    0.34",
          "    0.40",
          "    0.38",
          "    0.37",
          "    0.09",
          "    0.09",
          "    0.08",
          "    0.07",
          "    0.06",
          "    0.06",
          "    0.06",
          "    0.07",
          "    0.07",
          "    0.07",
          "    0.76",
          "    0.73",
          "    0.76",
          "    0.77",
          "    0.76",
          "    0.74",
          "    0.63",
          "    0.72",
          "    0.77",
          "    0.79",
          "    0.11",
          "    0.11",
          "    0.12",
          "    0.13",
          "    0.12",
          "    0.12",
          "    0.07",
          "    0.07",
          "    0.09",
          "    0.10",
          "    0.15",
          "    0.14",
          "    0.14",
          "    0.14",
          "    0.13",
          "    0.13",
          "    0.14",
          "    0.16",
          "    0.16",
          "    0.15",
          "    0.12",
          "    0.12",
          "    0.16",
          "    0.18",
          "    0.18",
          "    0.19",
          "    0.09",
          "    0.10",
          "    0.14",
          "    0.16",
          "    0.30",
          "    0.28",
          "    0.29",
          "    0.26",
          "    0.27",
          "    0.25",
          "    0.28",
          "    0.34",
          "    0.33",
          "    0.31",
          "    0.08",
          "    0.07",
          "       .",
          "    0.06",
          "       .",
          "    0.05",
          "    0.05",
          "    0.05",
          "    0.05",
          "    0.05",
          "    0.60",
          "    0.57",
          "    0.57",
          "    0.55",
          "    0.54",
          "    0.53",
          "    0.60",
          "    0.69",
          "    0.68",
          "    0.66",
          "    0.02",
          "       .",
          "    0.03",
          "    0.05",
          "    0.05",
          "    0.06",
          "    0.04",
          "    0.04",
          "    0.05",
          "    0.06",
          "    0.22",
          "    0.19",
          "    0.17",
          "    0.15",
          "    0.13",
          "    0.12",
          "    0.14",
          "    0.16",
          "    0.15",
          "    0.14",
          "       .",
          "       .",
          "       .",
          "       .",
          "       .",
          "       .",
          "       .",
          "       .",
          "       .",
          "       .",
          "    0.28",
          "    0.28",
          "    0.30",
          "    0.29",
          "    0.30",
          "    0.30",
          "    0.38",
          "    0.44",
          "    0.43",
          "    0.41",
          "    0.08",
          "    0.07",
          "    0.07",
          "    0.06",
          "    0.05",
          "    0.04",
          "    0.05",
          "    0.06",
          "    0.06",
          "    0.05"
         ],
         "yaxis": "y"
        },
        {
         "hovertemplate": "Vervoerwijzen=Overige vervoerwijze<br>Perioden=%{x}<br>Ritten per persoon per dag (gemiddeld) (aantal)=%{y}<extra></extra>",
         "legendgroup": "Overige vervoerwijze",
         "line": {
          "color": "#B6E880",
          "dash": "solid"
         },
         "marker": {
          "symbol": "circle"
         },
         "mode": "lines",
         "name": "Overige vervoerwijze",
         "showlegend": true,
         "type": "scattergl",
         "x": [
          "1999*",
          "2003*",
          "2007*",
          "2011*",
          "2015*",
          "2019*",
          "2020*",
          "2021*",
          "2022*",
          "2023*",
          "1999*",
          "2003*",
          "2007*",
          "2011*",
          "2015*",
          "2019*",
          "2020*",
          "2021*",
          "2022*",
          "2023*",
          "1999*",
          "2003*",
          "2007*",
          "2011*",
          "2015*",
          "2019*",
          "2020*",
          "2021*",
          "2022*",
          "2023*",
          "1999*",
          "2003*",
          "2007*",
          "2011*",
          "2015*",
          "2019*",
          "2020*",
          "2021*",
          "2022*",
          "2023*",
          "1999*",
          "2003*",
          "2007*",
          "2011*",
          "2015*",
          "2019*",
          "2020*",
          "2021*",
          "2022*",
          "2023*",
          "1999*",
          "2003*",
          "2007*",
          "2011*",
          "2015*",
          "2019*",
          "2020*",
          "2021*",
          "2022*",
          "2023*",
          "1999*",
          "2003*",
          "2007*",
          "2011*",
          "2015*",
          "2019*",
          "2020*",
          "2021*",
          "2022*",
          "2023*",
          "1999*",
          "2003*",
          "2007*",
          "2011*",
          "2015*",
          "2019*",
          "2020*",
          "2021*",
          "2022*",
          "2023*",
          "1999*",
          "2003*",
          "2007*",
          "2011*",
          "2015*",
          "2019*",
          "2020*",
          "2021*",
          "2022*",
          "2023*",
          "1999*",
          "2003*",
          "2007*",
          "2011*",
          "2015*",
          "2019*",
          "2020*",
          "2021*",
          "2022*",
          "2023*",
          "1999*",
          "2003*",
          "2007*",
          "2011*",
          "2015*",
          "2019*",
          "2020*",
          "2021*",
          "2022*",
          "2023*",
          "1999*",
          "2003*",
          "2007*",
          "2011*",
          "2015*",
          "2019*",
          "2020*",
          "2021*",
          "2022*",
          "2023*",
          "1999*",
          "2003*",
          "2007*",
          "2011*",
          "2015*",
          "2019*",
          "2020*",
          "2021*",
          "2022*",
          "2023*",
          "1999*",
          "2003*",
          "2007*",
          "2011*",
          "2015*",
          "2019*",
          "2020*",
          "2021*",
          "2022*",
          "2023*",
          "1999*",
          "2003*",
          "2007*",
          "2011*",
          "2015*",
          "2019*",
          "2020*",
          "2021*",
          "2022*",
          "2023*",
          "1999*",
          "2003*",
          "2007*",
          "2011*",
          "2015*",
          "2019*",
          "2020*",
          "2021*",
          "2022*",
          "2023*",
          "1999*",
          "2003*",
          "2007*",
          "2011*",
          "2015*",
          "2019*",
          "2020*",
          "2021*",
          "2022*",
          "2023*",
          "1999*",
          "2003*",
          "2007*",
          "2011*",
          "2015*",
          "2019*",
          "2020*",
          "2021*",
          "2022*",
          "2023*"
         ],
         "xaxis": "x",
         "y": [
          "    0.12",
          "    0.11",
          "    0.11",
          "    0.11",
          "    0.10",
          "    0.10",
          "    0.08",
          "    0.09",
          "    0.09",
          "    0.09",
          "    0.05",
          "    0.04",
          "    0.04",
          "    0.04",
          "    0.04",
          "    0.04",
          "    0.03",
          "    0.03",
          "    0.03",
          "    0.03",
          "    0.01",
          "    0.01",
          "    0.01",
          "    0.01",
          "    0.01",
          "    0.01",
          "    0.01",
          "    0.01",
          "    0.01",
          "    0.01",
          "    0.01",
          "    0.01",
          "    0.01",
          "    0.01",
          "    0.01",
          "    0.01",
          "    0.01",
          "    0.01",
          "    0.01",
          "    0.01",
          "    0.03",
          "    0.03",
          "    0.03",
          "    0.03",
          "    0.03",
          "    0.03",
          "    0.02",
          "    0.03",
          "    0.03",
          "    0.02",
          "    0.02",
          "    0.02",
          "    0.02",
          "    0.02",
          "    0.01",
          "    0.01",
          "    0.01",
          "    0.02",
          "    0.02",
          "    0.01",
          "    0.19",
          "    0.16",
          "    0.15",
          "    0.14",
          "    0.13",
          "    0.12",
          "    0.10",
          "    0.12",
          "    0.12",
          "    0.12",
          "    0.08",
          "    0.07",
          "       .",
          "    0.05",
          "       .",
          "    0.05",
          "    0.03",
          "    0.04",
          "    0.04",
          "    0.04",
          "       .",
          "       .",
          "       .",
          "       .",
          "       .",
          "       .",
          "       .",
          "    0.02",
          "       .",
          "       .",
          "    0.02",
          "       .",
          "       .",
          "       .",
          "       .",
          "       .",
          "       .",
          "       .",
          "       .",
          "       .",
          "    0.06",
          "    0.05",
          "    0.05",
          "    0.04",
          "    0.04",
          "    0.04",
          "    0.03",
          "    0.04",
          "    0.04",
          "    0.04",
          "    0.02",
          "       .",
          "       .",
          "       .",
          "       .",
          "       .",
          "       .",
          "    0.02",
          "       .",
          "       .",
          "    0.08",
          "    0.08",
          "    0.09",
          "    0.09",
          "    0.10",
          "    0.10",
          "    0.09",
          "    0.10",
          "    0.10",
          "    0.10",
          "       .",
          "       .",
          "       .",
          "       .",
          "       .",
          "    0.04",
          "    0.04",
          "    0.04",
          "    0.04",
          "    0.04",
          "       .",
          "       .",
          "       .",
          "       .",
          "       .",
          "       .",
          "       .",
          "       .",
          "       .",
          "       .",
          "       .",
          "       .",
          "       .",
          "       .",
          "       .",
          "       .",
          "       .",
          "       .",
          "       .",
          "       .",
          "    0.02",
          "       .",
          "       .",
          "       .",
          "       .",
          "       .",
          "       .",
          "    0.02",
          "       .",
          "    0.02",
          "       .",
          "       .",
          "       .",
          "       .",
          "       .",
          "       .",
          "       .",
          "       .",
          "       .",
          "       ."
         ],
         "yaxis": "y"
        }
       ],
       "layout": {
        "legend": {
         "title": {
          "text": "Vervoerwijzen"
         },
         "tracegroupgap": 0
        },
        "margin": {
         "t": 60
        },
        "template": {
         "data": {
          "bar": [
           {
            "error_x": {
             "color": "#2a3f5f"
            },
            "error_y": {
             "color": "#2a3f5f"
            },
            "marker": {
             "line": {
              "color": "#E5ECF6",
              "width": 0.5
             },
             "pattern": {
              "fillmode": "overlay",
              "size": 10,
              "solidity": 0.2
             }
            },
            "type": "bar"
           }
          ],
          "barpolar": [
           {
            "marker": {
             "line": {
              "color": "#E5ECF6",
              "width": 0.5
             },
             "pattern": {
              "fillmode": "overlay",
              "size": 10,
              "solidity": 0.2
             }
            },
            "type": "barpolar"
           }
          ],
          "carpet": [
           {
            "aaxis": {
             "endlinecolor": "#2a3f5f",
             "gridcolor": "white",
             "linecolor": "white",
             "minorgridcolor": "white",
             "startlinecolor": "#2a3f5f"
            },
            "baxis": {
             "endlinecolor": "#2a3f5f",
             "gridcolor": "white",
             "linecolor": "white",
             "minorgridcolor": "white",
             "startlinecolor": "#2a3f5f"
            },
            "type": "carpet"
           }
          ],
          "choropleth": [
           {
            "colorbar": {
             "outlinewidth": 0,
             "ticks": ""
            },
            "type": "choropleth"
           }
          ],
          "contour": [
           {
            "colorbar": {
             "outlinewidth": 0,
             "ticks": ""
            },
            "colorscale": [
             [
              0,
              "#0d0887"
             ],
             [
              0.1111111111111111,
              "#46039f"
             ],
             [
              0.2222222222222222,
              "#7201a8"
             ],
             [
              0.3333333333333333,
              "#9c179e"
             ],
             [
              0.4444444444444444,
              "#bd3786"
             ],
             [
              0.5555555555555556,
              "#d8576b"
             ],
             [
              0.6666666666666666,
              "#ed7953"
             ],
             [
              0.7777777777777778,
              "#fb9f3a"
             ],
             [
              0.8888888888888888,
              "#fdca26"
             ],
             [
              1,
              "#f0f921"
             ]
            ],
            "type": "contour"
           }
          ],
          "contourcarpet": [
           {
            "colorbar": {
             "outlinewidth": 0,
             "ticks": ""
            },
            "type": "contourcarpet"
           }
          ],
          "heatmap": [
           {
            "colorbar": {
             "outlinewidth": 0,
             "ticks": ""
            },
            "colorscale": [
             [
              0,
              "#0d0887"
             ],
             [
              0.1111111111111111,
              "#46039f"
             ],
             [
              0.2222222222222222,
              "#7201a8"
             ],
             [
              0.3333333333333333,
              "#9c179e"
             ],
             [
              0.4444444444444444,
              "#bd3786"
             ],
             [
              0.5555555555555556,
              "#d8576b"
             ],
             [
              0.6666666666666666,
              "#ed7953"
             ],
             [
              0.7777777777777778,
              "#fb9f3a"
             ],
             [
              0.8888888888888888,
              "#fdca26"
             ],
             [
              1,
              "#f0f921"
             ]
            ],
            "type": "heatmap"
           }
          ],
          "heatmapgl": [
           {
            "colorbar": {
             "outlinewidth": 0,
             "ticks": ""
            },
            "colorscale": [
             [
              0,
              "#0d0887"
             ],
             [
              0.1111111111111111,
              "#46039f"
             ],
             [
              0.2222222222222222,
              "#7201a8"
             ],
             [
              0.3333333333333333,
              "#9c179e"
             ],
             [
              0.4444444444444444,
              "#bd3786"
             ],
             [
              0.5555555555555556,
              "#d8576b"
             ],
             [
              0.6666666666666666,
              "#ed7953"
             ],
             [
              0.7777777777777778,
              "#fb9f3a"
             ],
             [
              0.8888888888888888,
              "#fdca26"
             ],
             [
              1,
              "#f0f921"
             ]
            ],
            "type": "heatmapgl"
           }
          ],
          "histogram": [
           {
            "marker": {
             "pattern": {
              "fillmode": "overlay",
              "size": 10,
              "solidity": 0.2
             }
            },
            "type": "histogram"
           }
          ],
          "histogram2d": [
           {
            "colorbar": {
             "outlinewidth": 0,
             "ticks": ""
            },
            "colorscale": [
             [
              0,
              "#0d0887"
             ],
             [
              0.1111111111111111,
              "#46039f"
             ],
             [
              0.2222222222222222,
              "#7201a8"
             ],
             [
              0.3333333333333333,
              "#9c179e"
             ],
             [
              0.4444444444444444,
              "#bd3786"
             ],
             [
              0.5555555555555556,
              "#d8576b"
             ],
             [
              0.6666666666666666,
              "#ed7953"
             ],
             [
              0.7777777777777778,
              "#fb9f3a"
             ],
             [
              0.8888888888888888,
              "#fdca26"
             ],
             [
              1,
              "#f0f921"
             ]
            ],
            "type": "histogram2d"
           }
          ],
          "histogram2dcontour": [
           {
            "colorbar": {
             "outlinewidth": 0,
             "ticks": ""
            },
            "colorscale": [
             [
              0,
              "#0d0887"
             ],
             [
              0.1111111111111111,
              "#46039f"
             ],
             [
              0.2222222222222222,
              "#7201a8"
             ],
             [
              0.3333333333333333,
              "#9c179e"
             ],
             [
              0.4444444444444444,
              "#bd3786"
             ],
             [
              0.5555555555555556,
              "#d8576b"
             ],
             [
              0.6666666666666666,
              "#ed7953"
             ],
             [
              0.7777777777777778,
              "#fb9f3a"
             ],
             [
              0.8888888888888888,
              "#fdca26"
             ],
             [
              1,
              "#f0f921"
             ]
            ],
            "type": "histogram2dcontour"
           }
          ],
          "mesh3d": [
           {
            "colorbar": {
             "outlinewidth": 0,
             "ticks": ""
            },
            "type": "mesh3d"
           }
          ],
          "parcoords": [
           {
            "line": {
             "colorbar": {
              "outlinewidth": 0,
              "ticks": ""
             }
            },
            "type": "parcoords"
           }
          ],
          "pie": [
           {
            "automargin": true,
            "type": "pie"
           }
          ],
          "scatter": [
           {
            "fillpattern": {
             "fillmode": "overlay",
             "size": 10,
             "solidity": 0.2
            },
            "type": "scatter"
           }
          ],
          "scatter3d": [
           {
            "line": {
             "colorbar": {
              "outlinewidth": 0,
              "ticks": ""
             }
            },
            "marker": {
             "colorbar": {
              "outlinewidth": 0,
              "ticks": ""
             }
            },
            "type": "scatter3d"
           }
          ],
          "scattercarpet": [
           {
            "marker": {
             "colorbar": {
              "outlinewidth": 0,
              "ticks": ""
             }
            },
            "type": "scattercarpet"
           }
          ],
          "scattergeo": [
           {
            "marker": {
             "colorbar": {
              "outlinewidth": 0,
              "ticks": ""
             }
            },
            "type": "scattergeo"
           }
          ],
          "scattergl": [
           {
            "marker": {
             "colorbar": {
              "outlinewidth": 0,
              "ticks": ""
             }
            },
            "type": "scattergl"
           }
          ],
          "scattermapbox": [
           {
            "marker": {
             "colorbar": {
              "outlinewidth": 0,
              "ticks": ""
             }
            },
            "type": "scattermapbox"
           }
          ],
          "scatterpolar": [
           {
            "marker": {
             "colorbar": {
              "outlinewidth": 0,
              "ticks": ""
             }
            },
            "type": "scatterpolar"
           }
          ],
          "scatterpolargl": [
           {
            "marker": {
             "colorbar": {
              "outlinewidth": 0,
              "ticks": ""
             }
            },
            "type": "scatterpolargl"
           }
          ],
          "scatterternary": [
           {
            "marker": {
             "colorbar": {
              "outlinewidth": 0,
              "ticks": ""
             }
            },
            "type": "scatterternary"
           }
          ],
          "surface": [
           {
            "colorbar": {
             "outlinewidth": 0,
             "ticks": ""
            },
            "colorscale": [
             [
              0,
              "#0d0887"
             ],
             [
              0.1111111111111111,
              "#46039f"
             ],
             [
              0.2222222222222222,
              "#7201a8"
             ],
             [
              0.3333333333333333,
              "#9c179e"
             ],
             [
              0.4444444444444444,
              "#bd3786"
             ],
             [
              0.5555555555555556,
              "#d8576b"
             ],
             [
              0.6666666666666666,
              "#ed7953"
             ],
             [
              0.7777777777777778,
              "#fb9f3a"
             ],
             [
              0.8888888888888888,
              "#fdca26"
             ],
             [
              1,
              "#f0f921"
             ]
            ],
            "type": "surface"
           }
          ],
          "table": [
           {
            "cells": {
             "fill": {
              "color": "#EBF0F8"
             },
             "line": {
              "color": "white"
             }
            },
            "header": {
             "fill": {
              "color": "#C8D4E3"
             },
             "line": {
              "color": "white"
             }
            },
            "type": "table"
           }
          ]
         },
         "layout": {
          "annotationdefaults": {
           "arrowcolor": "#2a3f5f",
           "arrowhead": 0,
           "arrowwidth": 1
          },
          "autotypenumbers": "strict",
          "coloraxis": {
           "colorbar": {
            "outlinewidth": 0,
            "ticks": ""
           }
          },
          "colorscale": {
           "diverging": [
            [
             0,
             "#8e0152"
            ],
            [
             0.1,
             "#c51b7d"
            ],
            [
             0.2,
             "#de77ae"
            ],
            [
             0.3,
             "#f1b6da"
            ],
            [
             0.4,
             "#fde0ef"
            ],
            [
             0.5,
             "#f7f7f7"
            ],
            [
             0.6,
             "#e6f5d0"
            ],
            [
             0.7,
             "#b8e186"
            ],
            [
             0.8,
             "#7fbc41"
            ],
            [
             0.9,
             "#4d9221"
            ],
            [
             1,
             "#276419"
            ]
           ],
           "sequential": [
            [
             0,
             "#0d0887"
            ],
            [
             0.1111111111111111,
             "#46039f"
            ],
            [
             0.2222222222222222,
             "#7201a8"
            ],
            [
             0.3333333333333333,
             "#9c179e"
            ],
            [
             0.4444444444444444,
             "#bd3786"
            ],
            [
             0.5555555555555556,
             "#d8576b"
            ],
            [
             0.6666666666666666,
             "#ed7953"
            ],
            [
             0.7777777777777778,
             "#fb9f3a"
            ],
            [
             0.8888888888888888,
             "#fdca26"
            ],
            [
             1,
             "#f0f921"
            ]
           ],
           "sequentialminus": [
            [
             0,
             "#0d0887"
            ],
            [
             0.1111111111111111,
             "#46039f"
            ],
            [
             0.2222222222222222,
             "#7201a8"
            ],
            [
             0.3333333333333333,
             "#9c179e"
            ],
            [
             0.4444444444444444,
             "#bd3786"
            ],
            [
             0.5555555555555556,
             "#d8576b"
            ],
            [
             0.6666666666666666,
             "#ed7953"
            ],
            [
             0.7777777777777778,
             "#fb9f3a"
            ],
            [
             0.8888888888888888,
             "#fdca26"
            ],
            [
             1,
             "#f0f921"
            ]
           ]
          },
          "colorway": [
           "#636efa",
           "#EF553B",
           "#00cc96",
           "#ab63fa",
           "#FFA15A",
           "#19d3f3",
           "#FF6692",
           "#B6E880",
           "#FF97FF",
           "#FECB52"
          ],
          "font": {
           "color": "#2a3f5f"
          },
          "geo": {
           "bgcolor": "white",
           "lakecolor": "white",
           "landcolor": "#E5ECF6",
           "showlakes": true,
           "showland": true,
           "subunitcolor": "white"
          },
          "hoverlabel": {
           "align": "left"
          },
          "hovermode": "closest",
          "mapbox": {
           "style": "light"
          },
          "paper_bgcolor": "white",
          "plot_bgcolor": "#E5ECF6",
          "polar": {
           "angularaxis": {
            "gridcolor": "white",
            "linecolor": "white",
            "ticks": ""
           },
           "bgcolor": "#E5ECF6",
           "radialaxis": {
            "gridcolor": "white",
            "linecolor": "white",
            "ticks": ""
           }
          },
          "scene": {
           "xaxis": {
            "backgroundcolor": "#E5ECF6",
            "gridcolor": "white",
            "gridwidth": 2,
            "linecolor": "white",
            "showbackground": true,
            "ticks": "",
            "zerolinecolor": "white"
           },
           "yaxis": {
            "backgroundcolor": "#E5ECF6",
            "gridcolor": "white",
            "gridwidth": 2,
            "linecolor": "white",
            "showbackground": true,
            "ticks": "",
            "zerolinecolor": "white"
           },
           "zaxis": {
            "backgroundcolor": "#E5ECF6",
            "gridcolor": "white",
            "gridwidth": 2,
            "linecolor": "white",
            "showbackground": true,
            "ticks": "",
            "zerolinecolor": "white"
           }
          },
          "shapedefaults": {
           "line": {
            "color": "#2a3f5f"
           }
          },
          "ternary": {
           "aaxis": {
            "gridcolor": "white",
            "linecolor": "white",
            "ticks": ""
           },
           "baxis": {
            "gridcolor": "white",
            "linecolor": "white",
            "ticks": ""
           },
           "bgcolor": "#E5ECF6",
           "caxis": {
            "gridcolor": "white",
            "linecolor": "white",
            "ticks": ""
           }
          },
          "title": {
           "x": 0.05
          },
          "xaxis": {
           "automargin": true,
           "gridcolor": "white",
           "linecolor": "white",
           "ticks": "",
           "title": {
            "standoff": 15
           },
           "zerolinecolor": "white",
           "zerolinewidth": 2
          },
          "yaxis": {
           "automargin": true,
           "gridcolor": "white",
           "linecolor": "white",
           "ticks": "",
           "title": {
            "standoff": 15
           },
           "zerolinecolor": "white",
           "zerolinewidth": 2
          }
         }
        },
        "xaxis": {
         "anchor": "y",
         "domain": [
          0,
          1
         ],
         "title": {
          "text": "Perioden"
         }
        },
        "yaxis": {
         "anchor": "x",
         "domain": [
          0,
          1
         ],
         "title": {
          "text": "Ritten per persoon per dag (gemiddeld) (aantal)"
         }
        }
       }
      }
     },
     "metadata": {},
     "output_type": "display_data"
    }
   ],
   "source": [
    "px.line(df_mat,\n",
    "        x=\"Perioden\",\n",
    "        y=\"Ritten per persoon per dag (gemiddeld) (aantal)\",\n",
    "        color=\"Vervoerwijzen\")"
   ]
  },
  {
   "cell_type": "code",
   "execution_count": 44,
   "metadata": {},
   "outputs": [
    {
     "data": {
      "text/plain": [
       "{'encoding': 'UTF-8-SIG', 'confidence': 1.0, 'language': ''}"
      ]
     },
     "execution_count": 44,
     "metadata": {},
     "output_type": "execute_result"
    }
   ],
   "source": [
    "\"\"\" EMISSIONS AND AIR QUALITY \"\"\"\n",
    "dataset_path_eaq = 'Emissies_naar_lucht__Nederland_totaal_04102024_195121.csv'\n",
    "with open(dataset_path_eaq, 'rb') as rawdata:\n",
    "\n",
    "    result = chardet.detect(rawdata.read(100000))\n",
    "    \n",
    "result"
   ]
  },
  {
   "cell_type": "code",
   "execution_count": 46,
   "metadata": {},
   "outputs": [
    {
     "data": {
      "text/html": [
       "<div>\n",
       "<style scoped>\n",
       "    .dataframe tbody tr th:only-of-type {\n",
       "        vertical-align: middle;\n",
       "    }\n",
       "\n",
       "    .dataframe tbody tr th {\n",
       "        vertical-align: top;\n",
       "    }\n",
       "\n",
       "    .dataframe thead th {\n",
       "        text-align: right;\n",
       "    }\n",
       "</style>\n",
       "<table border=\"1\" class=\"dataframe\">\n",
       "  <thead>\n",
       "    <tr style=\"text-align: right;\">\n",
       "      <th></th>\n",
       "      <th>Emissiebronnen</th>\n",
       "      <th>Emissies naar lucht</th>\n",
       "      <th>Perioden</th>\n",
       "      <th>Emissies naar lucht (mln kg)</th>\n",
       "    </tr>\n",
       "  </thead>\n",
       "  <tbody>\n",
       "    <tr>\n",
       "      <th>0</th>\n",
       "      <td>Vervoer</td>\n",
       "      <td>Kooldioxide (CO2)</td>\n",
       "      <td>1990</td>\n",
       "      <td>30000.0</td>\n",
       "    </tr>\n",
       "    <tr>\n",
       "      <th>1</th>\n",
       "      <td>Vervoer</td>\n",
       "      <td>Kooldioxide (CO2)</td>\n",
       "      <td>1995</td>\n",
       "      <td>31800.0</td>\n",
       "    </tr>\n",
       "    <tr>\n",
       "      <th>2</th>\n",
       "      <td>Vervoer</td>\n",
       "      <td>Kooldioxide (CO2)</td>\n",
       "      <td>2000</td>\n",
       "      <td>35600.0</td>\n",
       "    </tr>\n",
       "    <tr>\n",
       "      <th>3</th>\n",
       "      <td>Vervoer</td>\n",
       "      <td>Kooldioxide (CO2)</td>\n",
       "      <td>2001</td>\n",
       "      <td>36100.0</td>\n",
       "    </tr>\n",
       "    <tr>\n",
       "      <th>4</th>\n",
       "      <td>Vervoer</td>\n",
       "      <td>Kooldioxide (CO2)</td>\n",
       "      <td>2002</td>\n",
       "      <td>36600.0</td>\n",
       "    </tr>\n",
       "    <tr>\n",
       "      <th>...</th>\n",
       "      <td>...</td>\n",
       "      <td>...</td>\n",
       "      <td>...</td>\n",
       "      <td>...</td>\n",
       "    </tr>\n",
       "    <tr>\n",
       "      <th>2075</th>\n",
       "      <td>Railverkeer; totaal</td>\n",
       "      <td>Koolmonoxide (CO)</td>\n",
       "      <td>2019</td>\n",
       "      <td>0.2</td>\n",
       "    </tr>\n",
       "    <tr>\n",
       "      <th>2076</th>\n",
       "      <td>Railverkeer; totaal</td>\n",
       "      <td>Koolmonoxide (CO)</td>\n",
       "      <td>2020</td>\n",
       "      <td>0.2</td>\n",
       "    </tr>\n",
       "    <tr>\n",
       "      <th>2077</th>\n",
       "      <td>Railverkeer; totaal</td>\n",
       "      <td>Koolmonoxide (CO)</td>\n",
       "      <td>2021</td>\n",
       "      <td>0.2</td>\n",
       "    </tr>\n",
       "    <tr>\n",
       "      <th>2078</th>\n",
       "      <td>Railverkeer; totaal</td>\n",
       "      <td>Koolmonoxide (CO)</td>\n",
       "      <td>2022</td>\n",
       "      <td>0.2</td>\n",
       "    </tr>\n",
       "    <tr>\n",
       "      <th>2079</th>\n",
       "      <td>Railverkeer; totaal</td>\n",
       "      <td>Koolmonoxide (CO)</td>\n",
       "      <td>2023*</td>\n",
       "      <td>0.3</td>\n",
       "    </tr>\n",
       "  </tbody>\n",
       "</table>\n",
       "<p>2080 rows × 4 columns</p>\n",
       "</div>"
      ],
      "text/plain": [
       "           Emissiebronnen Emissies naar lucht Perioden  \\\n",
       "0                 Vervoer   Kooldioxide (CO2)     1990   \n",
       "1                 Vervoer   Kooldioxide (CO2)     1995   \n",
       "2                 Vervoer   Kooldioxide (CO2)     2000   \n",
       "3                 Vervoer   Kooldioxide (CO2)     2001   \n",
       "4                 Vervoer   Kooldioxide (CO2)     2002   \n",
       "...                   ...                 ...      ...   \n",
       "2075  Railverkeer; totaal   Koolmonoxide (CO)     2019   \n",
       "2076  Railverkeer; totaal   Koolmonoxide (CO)     2020   \n",
       "2077  Railverkeer; totaal   Koolmonoxide (CO)     2021   \n",
       "2078  Railverkeer; totaal   Koolmonoxide (CO)     2022   \n",
       "2079  Railverkeer; totaal   Koolmonoxide (CO)    2023*   \n",
       "\n",
       "      Emissies naar lucht (mln kg)  \n",
       "0                          30000.0  \n",
       "1                          31800.0  \n",
       "2                          35600.0  \n",
       "3                          36100.0  \n",
       "4                          36600.0  \n",
       "...                            ...  \n",
       "2075                           0.2  \n",
       "2076                           0.2  \n",
       "2077                           0.2  \n",
       "2078                           0.2  \n",
       "2079                           0.3  \n",
       "\n",
       "[2080 rows x 4 columns]"
      ]
     },
     "execution_count": 46,
     "metadata": {},
     "output_type": "execute_result"
    }
   ],
   "source": [
    "df_eaq = pd.read_csv(dataset_path_eaq,delimiter=\";\",encoding=\"UTF-8-SIG\")\n",
    "df_eaq"
   ]
  },
  {
   "cell_type": "code",
   "execution_count": null,
   "metadata": {},
   "outputs": [],
   "source": []
  },
  {
   "cell_type": "code",
   "execution_count": 38,
   "metadata": {},
   "outputs": [
    {
     "data": {
      "text/plain": [
       "{'encoding': 'UTF-8-SIG', 'confidence': 1.0, 'language': ''}"
      ]
     },
     "execution_count": 38,
     "metadata": {},
     "output_type": "execute_result"
    }
   ],
   "source": [
    "\"\"\" WORKING FROM HOME \"\"\"\n",
    "dataset_path_wfh = 'Werkzame_beroepsbevolking__thuiswerken_04102024_193141.csv'\n",
    "with open(dataset_path_wfh, 'rb') as rawdata:\n",
    "\n",
    "    result = chardet.detect(rawdata.read(100000))\n",
    "    \n",
    "result"
   ]
  },
  {
   "cell_type": "code",
   "execution_count": 41,
   "metadata": {},
   "outputs": [
    {
     "data": {
      "text/html": [
       "<div>\n",
       "<style scoped>\n",
       "    .dataframe tbody tr th:only-of-type {\n",
       "        vertical-align: middle;\n",
       "    }\n",
       "\n",
       "    .dataframe tbody tr th {\n",
       "        vertical-align: top;\n",
       "    }\n",
       "\n",
       "    .dataframe thead th {\n",
       "        text-align: right;\n",
       "    }\n",
       "</style>\n",
       "<table border=\"1\" class=\"dataframe\">\n",
       "  <thead>\n",
       "    <tr style=\"text-align: right;\">\n",
       "      <th></th>\n",
       "      <th>Geslacht</th>\n",
       "      <th>Thuiswerker</th>\n",
       "      <th>Positie werkkring</th>\n",
       "      <th>Persoonskenmerken</th>\n",
       "      <th>Perioden</th>\n",
       "      <th>Werkzame beroepsbevolking (x 1 000)</th>\n",
       "    </tr>\n",
       "  </thead>\n",
       "  <tbody>\n",
       "    <tr>\n",
       "      <th>0</th>\n",
       "      <td>Totaal mannen en vrouwen</td>\n",
       "      <td>Totaal</td>\n",
       "      <td>Totaal</td>\n",
       "      <td>Totaal personen</td>\n",
       "      <td>2013</td>\n",
       "      <td>8266</td>\n",
       "    </tr>\n",
       "    <tr>\n",
       "      <th>1</th>\n",
       "      <td>Totaal mannen en vrouwen</td>\n",
       "      <td>Totaal</td>\n",
       "      <td>Totaal</td>\n",
       "      <td>Totaal personen</td>\n",
       "      <td>2014</td>\n",
       "      <td>8214</td>\n",
       "    </tr>\n",
       "    <tr>\n",
       "      <th>2</th>\n",
       "      <td>Totaal mannen en vrouwen</td>\n",
       "      <td>Totaal</td>\n",
       "      <td>Totaal</td>\n",
       "      <td>Totaal personen</td>\n",
       "      <td>2015</td>\n",
       "      <td>8294</td>\n",
       "    </tr>\n",
       "    <tr>\n",
       "      <th>3</th>\n",
       "      <td>Totaal mannen en vrouwen</td>\n",
       "      <td>Totaal</td>\n",
       "      <td>Totaal</td>\n",
       "      <td>Totaal personen</td>\n",
       "      <td>2016</td>\n",
       "      <td>8403</td>\n",
       "    </tr>\n",
       "    <tr>\n",
       "      <th>4</th>\n",
       "      <td>Totaal mannen en vrouwen</td>\n",
       "      <td>Totaal</td>\n",
       "      <td>Totaal</td>\n",
       "      <td>Totaal personen</td>\n",
       "      <td>2017</td>\n",
       "      <td>8579</td>\n",
       "    </tr>\n",
       "    <tr>\n",
       "      <th>...</th>\n",
       "      <td>...</td>\n",
       "      <td>...</td>\n",
       "      <td>...</td>\n",
       "      <td>...</td>\n",
       "      <td>...</td>\n",
       "      <td>...</td>\n",
       "    </tr>\n",
       "    <tr>\n",
       "      <th>1619</th>\n",
       "      <td>Totaal mannen en vrouwen</td>\n",
       "      <td>Geen thuiswerker</td>\n",
       "      <td>Totaal</td>\n",
       "      <td>Positie: overig lid</td>\n",
       "      <td>2016</td>\n",
       "      <td>119</td>\n",
       "    </tr>\n",
       "    <tr>\n",
       "      <th>1620</th>\n",
       "      <td>Totaal mannen en vrouwen</td>\n",
       "      <td>Geen thuiswerker</td>\n",
       "      <td>Totaal</td>\n",
       "      <td>Positie: overig lid</td>\n",
       "      <td>2017</td>\n",
       "      <td>132</td>\n",
       "    </tr>\n",
       "    <tr>\n",
       "      <th>1621</th>\n",
       "      <td>Totaal mannen en vrouwen</td>\n",
       "      <td>Geen thuiswerker</td>\n",
       "      <td>Totaal</td>\n",
       "      <td>Positie: overig lid</td>\n",
       "      <td>2018</td>\n",
       "      <td>156</td>\n",
       "    </tr>\n",
       "    <tr>\n",
       "      <th>1622</th>\n",
       "      <td>Totaal mannen en vrouwen</td>\n",
       "      <td>Geen thuiswerker</td>\n",
       "      <td>Totaal</td>\n",
       "      <td>Positie: overig lid</td>\n",
       "      <td>2019</td>\n",
       "      <td>167</td>\n",
       "    </tr>\n",
       "    <tr>\n",
       "      <th>1623</th>\n",
       "      <td>Totaal mannen en vrouwen</td>\n",
       "      <td>Geen thuiswerker</td>\n",
       "      <td>Totaal</td>\n",
       "      <td>Positie: overig lid</td>\n",
       "      <td>2020</td>\n",
       "      <td>120</td>\n",
       "    </tr>\n",
       "  </tbody>\n",
       "</table>\n",
       "<p>1624 rows × 6 columns</p>\n",
       "</div>"
      ],
      "text/plain": [
       "                      Geslacht       Thuiswerker Positie werkkring  \\\n",
       "0     Totaal mannen en vrouwen            Totaal            Totaal   \n",
       "1     Totaal mannen en vrouwen            Totaal            Totaal   \n",
       "2     Totaal mannen en vrouwen            Totaal            Totaal   \n",
       "3     Totaal mannen en vrouwen            Totaal            Totaal   \n",
       "4     Totaal mannen en vrouwen            Totaal            Totaal   \n",
       "...                        ...               ...               ...   \n",
       "1619  Totaal mannen en vrouwen  Geen thuiswerker            Totaal   \n",
       "1620  Totaal mannen en vrouwen  Geen thuiswerker            Totaal   \n",
       "1621  Totaal mannen en vrouwen  Geen thuiswerker            Totaal   \n",
       "1622  Totaal mannen en vrouwen  Geen thuiswerker            Totaal   \n",
       "1623  Totaal mannen en vrouwen  Geen thuiswerker            Totaal   \n",
       "\n",
       "        Persoonskenmerken  Perioden  Werkzame beroepsbevolking (x 1 000)  \n",
       "0         Totaal personen      2013                                 8266  \n",
       "1         Totaal personen      2014                                 8214  \n",
       "2         Totaal personen      2015                                 8294  \n",
       "3         Totaal personen      2016                                 8403  \n",
       "4         Totaal personen      2017                                 8579  \n",
       "...                   ...       ...                                  ...  \n",
       "1619  Positie: overig lid      2016                                  119  \n",
       "1620  Positie: overig lid      2017                                  132  \n",
       "1621  Positie: overig lid      2018                                  156  \n",
       "1622  Positie: overig lid      2019                                  167  \n",
       "1623  Positie: overig lid      2020                                  120  \n",
       "\n",
       "[1624 rows x 6 columns]"
      ]
     },
     "execution_count": 41,
     "metadata": {},
     "output_type": "execute_result"
    }
   ],
   "source": [
    "df_wfh = pd.read_csv(dataset_path_wfh,delimiter=\";\",encoding=\"UTF-8-SIG\")\n",
    "df_wfh"
   ]
  },
  {
   "cell_type": "code",
   "execution_count": 82,
   "metadata": {},
   "outputs": [
    {
     "data": {
      "application/vnd.plotly.v1+json": {
       "config": {
        "plotlyServerURL": "https://plot.ly"
       },
       "data": [
        {
         "hovertemplate": "Perioden=%{x}<br>Werkzame beroepsbevolking (x 1 000)=%{y}<extra></extra>",
         "legendgroup": "",
         "line": {
          "color": "#636efa",
          "dash": "solid"
         },
         "marker": {
          "symbol": "circle"
         },
         "mode": "lines",
         "name": "",
         "orientation": "v",
         "showlegend": false,
         "type": "scatter",
         "x": [
          2013,
          2014,
          2015,
          2016,
          2017,
          2018,
          2019,
          2020
         ],
         "xaxis": "x",
         "y": [
          2848,
          2889,
          2978,
          3023,
          3148,
          3254,
          3500,
          3674
         ],
         "yaxis": "y"
        }
       ],
       "layout": {
        "legend": {
         "tracegroupgap": 0
        },
        "margin": {
         "t": 60
        },
        "template": {
         "data": {
          "bar": [
           {
            "error_x": {
             "color": "#2a3f5f"
            },
            "error_y": {
             "color": "#2a3f5f"
            },
            "marker": {
             "line": {
              "color": "#E5ECF6",
              "width": 0.5
             },
             "pattern": {
              "fillmode": "overlay",
              "size": 10,
              "solidity": 0.2
             }
            },
            "type": "bar"
           }
          ],
          "barpolar": [
           {
            "marker": {
             "line": {
              "color": "#E5ECF6",
              "width": 0.5
             },
             "pattern": {
              "fillmode": "overlay",
              "size": 10,
              "solidity": 0.2
             }
            },
            "type": "barpolar"
           }
          ],
          "carpet": [
           {
            "aaxis": {
             "endlinecolor": "#2a3f5f",
             "gridcolor": "white",
             "linecolor": "white",
             "minorgridcolor": "white",
             "startlinecolor": "#2a3f5f"
            },
            "baxis": {
             "endlinecolor": "#2a3f5f",
             "gridcolor": "white",
             "linecolor": "white",
             "minorgridcolor": "white",
             "startlinecolor": "#2a3f5f"
            },
            "type": "carpet"
           }
          ],
          "choropleth": [
           {
            "colorbar": {
             "outlinewidth": 0,
             "ticks": ""
            },
            "type": "choropleth"
           }
          ],
          "contour": [
           {
            "colorbar": {
             "outlinewidth": 0,
             "ticks": ""
            },
            "colorscale": [
             [
              0,
              "#0d0887"
             ],
             [
              0.1111111111111111,
              "#46039f"
             ],
             [
              0.2222222222222222,
              "#7201a8"
             ],
             [
              0.3333333333333333,
              "#9c179e"
             ],
             [
              0.4444444444444444,
              "#bd3786"
             ],
             [
              0.5555555555555556,
              "#d8576b"
             ],
             [
              0.6666666666666666,
              "#ed7953"
             ],
             [
              0.7777777777777778,
              "#fb9f3a"
             ],
             [
              0.8888888888888888,
              "#fdca26"
             ],
             [
              1,
              "#f0f921"
             ]
            ],
            "type": "contour"
           }
          ],
          "contourcarpet": [
           {
            "colorbar": {
             "outlinewidth": 0,
             "ticks": ""
            },
            "type": "contourcarpet"
           }
          ],
          "heatmap": [
           {
            "colorbar": {
             "outlinewidth": 0,
             "ticks": ""
            },
            "colorscale": [
             [
              0,
              "#0d0887"
             ],
             [
              0.1111111111111111,
              "#46039f"
             ],
             [
              0.2222222222222222,
              "#7201a8"
             ],
             [
              0.3333333333333333,
              "#9c179e"
             ],
             [
              0.4444444444444444,
              "#bd3786"
             ],
             [
              0.5555555555555556,
              "#d8576b"
             ],
             [
              0.6666666666666666,
              "#ed7953"
             ],
             [
              0.7777777777777778,
              "#fb9f3a"
             ],
             [
              0.8888888888888888,
              "#fdca26"
             ],
             [
              1,
              "#f0f921"
             ]
            ],
            "type": "heatmap"
           }
          ],
          "heatmapgl": [
           {
            "colorbar": {
             "outlinewidth": 0,
             "ticks": ""
            },
            "colorscale": [
             [
              0,
              "#0d0887"
             ],
             [
              0.1111111111111111,
              "#46039f"
             ],
             [
              0.2222222222222222,
              "#7201a8"
             ],
             [
              0.3333333333333333,
              "#9c179e"
             ],
             [
              0.4444444444444444,
              "#bd3786"
             ],
             [
              0.5555555555555556,
              "#d8576b"
             ],
             [
              0.6666666666666666,
              "#ed7953"
             ],
             [
              0.7777777777777778,
              "#fb9f3a"
             ],
             [
              0.8888888888888888,
              "#fdca26"
             ],
             [
              1,
              "#f0f921"
             ]
            ],
            "type": "heatmapgl"
           }
          ],
          "histogram": [
           {
            "marker": {
             "pattern": {
              "fillmode": "overlay",
              "size": 10,
              "solidity": 0.2
             }
            },
            "type": "histogram"
           }
          ],
          "histogram2d": [
           {
            "colorbar": {
             "outlinewidth": 0,
             "ticks": ""
            },
            "colorscale": [
             [
              0,
              "#0d0887"
             ],
             [
              0.1111111111111111,
              "#46039f"
             ],
             [
              0.2222222222222222,
              "#7201a8"
             ],
             [
              0.3333333333333333,
              "#9c179e"
             ],
             [
              0.4444444444444444,
              "#bd3786"
             ],
             [
              0.5555555555555556,
              "#d8576b"
             ],
             [
              0.6666666666666666,
              "#ed7953"
             ],
             [
              0.7777777777777778,
              "#fb9f3a"
             ],
             [
              0.8888888888888888,
              "#fdca26"
             ],
             [
              1,
              "#f0f921"
             ]
            ],
            "type": "histogram2d"
           }
          ],
          "histogram2dcontour": [
           {
            "colorbar": {
             "outlinewidth": 0,
             "ticks": ""
            },
            "colorscale": [
             [
              0,
              "#0d0887"
             ],
             [
              0.1111111111111111,
              "#46039f"
             ],
             [
              0.2222222222222222,
              "#7201a8"
             ],
             [
              0.3333333333333333,
              "#9c179e"
             ],
             [
              0.4444444444444444,
              "#bd3786"
             ],
             [
              0.5555555555555556,
              "#d8576b"
             ],
             [
              0.6666666666666666,
              "#ed7953"
             ],
             [
              0.7777777777777778,
              "#fb9f3a"
             ],
             [
              0.8888888888888888,
              "#fdca26"
             ],
             [
              1,
              "#f0f921"
             ]
            ],
            "type": "histogram2dcontour"
           }
          ],
          "mesh3d": [
           {
            "colorbar": {
             "outlinewidth": 0,
             "ticks": ""
            },
            "type": "mesh3d"
           }
          ],
          "parcoords": [
           {
            "line": {
             "colorbar": {
              "outlinewidth": 0,
              "ticks": ""
             }
            },
            "type": "parcoords"
           }
          ],
          "pie": [
           {
            "automargin": true,
            "type": "pie"
           }
          ],
          "scatter": [
           {
            "fillpattern": {
             "fillmode": "overlay",
             "size": 10,
             "solidity": 0.2
            },
            "type": "scatter"
           }
          ],
          "scatter3d": [
           {
            "line": {
             "colorbar": {
              "outlinewidth": 0,
              "ticks": ""
             }
            },
            "marker": {
             "colorbar": {
              "outlinewidth": 0,
              "ticks": ""
             }
            },
            "type": "scatter3d"
           }
          ],
          "scattercarpet": [
           {
            "marker": {
             "colorbar": {
              "outlinewidth": 0,
              "ticks": ""
             }
            },
            "type": "scattercarpet"
           }
          ],
          "scattergeo": [
           {
            "marker": {
             "colorbar": {
              "outlinewidth": 0,
              "ticks": ""
             }
            },
            "type": "scattergeo"
           }
          ],
          "scattergl": [
           {
            "marker": {
             "colorbar": {
              "outlinewidth": 0,
              "ticks": ""
             }
            },
            "type": "scattergl"
           }
          ],
          "scattermapbox": [
           {
            "marker": {
             "colorbar": {
              "outlinewidth": 0,
              "ticks": ""
             }
            },
            "type": "scattermapbox"
           }
          ],
          "scatterpolar": [
           {
            "marker": {
             "colorbar": {
              "outlinewidth": 0,
              "ticks": ""
             }
            },
            "type": "scatterpolar"
           }
          ],
          "scatterpolargl": [
           {
            "marker": {
             "colorbar": {
              "outlinewidth": 0,
              "ticks": ""
             }
            },
            "type": "scatterpolargl"
           }
          ],
          "scatterternary": [
           {
            "marker": {
             "colorbar": {
              "outlinewidth": 0,
              "ticks": ""
             }
            },
            "type": "scatterternary"
           }
          ],
          "surface": [
           {
            "colorbar": {
             "outlinewidth": 0,
             "ticks": ""
            },
            "colorscale": [
             [
              0,
              "#0d0887"
             ],
             [
              0.1111111111111111,
              "#46039f"
             ],
             [
              0.2222222222222222,
              "#7201a8"
             ],
             [
              0.3333333333333333,
              "#9c179e"
             ],
             [
              0.4444444444444444,
              "#bd3786"
             ],
             [
              0.5555555555555556,
              "#d8576b"
             ],
             [
              0.6666666666666666,
              "#ed7953"
             ],
             [
              0.7777777777777778,
              "#fb9f3a"
             ],
             [
              0.8888888888888888,
              "#fdca26"
             ],
             [
              1,
              "#f0f921"
             ]
            ],
            "type": "surface"
           }
          ],
          "table": [
           {
            "cells": {
             "fill": {
              "color": "#EBF0F8"
             },
             "line": {
              "color": "white"
             }
            },
            "header": {
             "fill": {
              "color": "#C8D4E3"
             },
             "line": {
              "color": "white"
             }
            },
            "type": "table"
           }
          ]
         },
         "layout": {
          "annotationdefaults": {
           "arrowcolor": "#2a3f5f",
           "arrowhead": 0,
           "arrowwidth": 1
          },
          "autotypenumbers": "strict",
          "coloraxis": {
           "colorbar": {
            "outlinewidth": 0,
            "ticks": ""
           }
          },
          "colorscale": {
           "diverging": [
            [
             0,
             "#8e0152"
            ],
            [
             0.1,
             "#c51b7d"
            ],
            [
             0.2,
             "#de77ae"
            ],
            [
             0.3,
             "#f1b6da"
            ],
            [
             0.4,
             "#fde0ef"
            ],
            [
             0.5,
             "#f7f7f7"
            ],
            [
             0.6,
             "#e6f5d0"
            ],
            [
             0.7,
             "#b8e186"
            ],
            [
             0.8,
             "#7fbc41"
            ],
            [
             0.9,
             "#4d9221"
            ],
            [
             1,
             "#276419"
            ]
           ],
           "sequential": [
            [
             0,
             "#0d0887"
            ],
            [
             0.1111111111111111,
             "#46039f"
            ],
            [
             0.2222222222222222,
             "#7201a8"
            ],
            [
             0.3333333333333333,
             "#9c179e"
            ],
            [
             0.4444444444444444,
             "#bd3786"
            ],
            [
             0.5555555555555556,
             "#d8576b"
            ],
            [
             0.6666666666666666,
             "#ed7953"
            ],
            [
             0.7777777777777778,
             "#fb9f3a"
            ],
            [
             0.8888888888888888,
             "#fdca26"
            ],
            [
             1,
             "#f0f921"
            ]
           ],
           "sequentialminus": [
            [
             0,
             "#0d0887"
            ],
            [
             0.1111111111111111,
             "#46039f"
            ],
            [
             0.2222222222222222,
             "#7201a8"
            ],
            [
             0.3333333333333333,
             "#9c179e"
            ],
            [
             0.4444444444444444,
             "#bd3786"
            ],
            [
             0.5555555555555556,
             "#d8576b"
            ],
            [
             0.6666666666666666,
             "#ed7953"
            ],
            [
             0.7777777777777778,
             "#fb9f3a"
            ],
            [
             0.8888888888888888,
             "#fdca26"
            ],
            [
             1,
             "#f0f921"
            ]
           ]
          },
          "colorway": [
           "#636efa",
           "#EF553B",
           "#00cc96",
           "#ab63fa",
           "#FFA15A",
           "#19d3f3",
           "#FF6692",
           "#B6E880",
           "#FF97FF",
           "#FECB52"
          ],
          "font": {
           "color": "#2a3f5f"
          },
          "geo": {
           "bgcolor": "white",
           "lakecolor": "white",
           "landcolor": "#E5ECF6",
           "showlakes": true,
           "showland": true,
           "subunitcolor": "white"
          },
          "hoverlabel": {
           "align": "left"
          },
          "hovermode": "closest",
          "mapbox": {
           "style": "light"
          },
          "paper_bgcolor": "white",
          "plot_bgcolor": "#E5ECF6",
          "polar": {
           "angularaxis": {
            "gridcolor": "white",
            "linecolor": "white",
            "ticks": ""
           },
           "bgcolor": "#E5ECF6",
           "radialaxis": {
            "gridcolor": "white",
            "linecolor": "white",
            "ticks": ""
           }
          },
          "scene": {
           "xaxis": {
            "backgroundcolor": "#E5ECF6",
            "gridcolor": "white",
            "gridwidth": 2,
            "linecolor": "white",
            "showbackground": true,
            "ticks": "",
            "zerolinecolor": "white"
           },
           "yaxis": {
            "backgroundcolor": "#E5ECF6",
            "gridcolor": "white",
            "gridwidth": 2,
            "linecolor": "white",
            "showbackground": true,
            "ticks": "",
            "zerolinecolor": "white"
           },
           "zaxis": {
            "backgroundcolor": "#E5ECF6",
            "gridcolor": "white",
            "gridwidth": 2,
            "linecolor": "white",
            "showbackground": true,
            "ticks": "",
            "zerolinecolor": "white"
           }
          },
          "shapedefaults": {
           "line": {
            "color": "#2a3f5f"
           }
          },
          "ternary": {
           "aaxis": {
            "gridcolor": "white",
            "linecolor": "white",
            "ticks": ""
           },
           "baxis": {
            "gridcolor": "white",
            "linecolor": "white",
            "ticks": ""
           },
           "bgcolor": "#E5ECF6",
           "caxis": {
            "gridcolor": "white",
            "linecolor": "white",
            "ticks": ""
           }
          },
          "title": {
           "x": 0.05
          },
          "xaxis": {
           "automargin": true,
           "gridcolor": "white",
           "linecolor": "white",
           "ticks": "",
           "title": {
            "standoff": 15
           },
           "zerolinecolor": "white",
           "zerolinewidth": 2
          },
          "yaxis": {
           "automargin": true,
           "gridcolor": "white",
           "linecolor": "white",
           "ticks": "",
           "title": {
            "standoff": 15
           },
           "zerolinecolor": "white",
           "zerolinewidth": 2
          }
         }
        },
        "xaxis": {
         "anchor": "y",
         "domain": [
          0,
          1
         ],
         "title": {
          "text": "Perioden"
         }
        },
        "yaxis": {
         "anchor": "x",
         "domain": [
          0,
          1
         ],
         "title": {
          "text": "Werkzame beroepsbevolking (x 1 000)"
         }
        }
       }
      }
     },
     "metadata": {},
     "output_type": "display_data"
    }
   ],
   "source": [
    "df_thuiswerker = df_wfh[(df_wfh['Thuiswerker'] == 'Thuiswerker') & \n",
    "                        (df_wfh['Positie werkkring'] == 'Totaal') & \n",
    "                        (df_wfh['Persoonskenmerken'] == 'Totaal personen')]\n",
    "\n",
    "\n",
    "px.line(df_thuiswerker,\n",
    "        x=\"Perioden\",\n",
    "        y=\"Werkzame beroepsbevolking (x 1 000)\")"
   ]
  },
  {
   "cell_type": "markdown",
   "metadata": {},
   "source": [
    "# Data Pipeline"
   ]
  },
  {
   "cell_type": "markdown",
   "metadata": {},
   "source": [
    "## 5. Intended Data Pipeline\n",
    "\n",
    "### Data Collection\n",
    "The primary data source for this research will be the CBS Statline database, which provides a wide range of data on mobility, transport, commuting patterns, and environmental factors.\n",
    "\n",
    "### Data Cleaning\n",
    "Data from CBS will be pre-processed to remove incomplete records, normalize values across different datasets, and ensure consistency in time-series data.\n",
    "\n",
    "### Data Integration\n",
    "Different datasets (e.g., mobility data, emissions data, public transport usage data) will be integrated using geographic and temporal references to allow for comprehensive analysis.\n",
    "\n",
    "### Data Analysis\n",
    "Quantitative analysis will be performed to answer each research question:\n",
    "- Time-series analysis of mobility trends over the past decade.\n",
    "- Statistical comparisons of transport mode usage in urban vs. rural areas.\n",
    "- Congestion analysis using data on peak-hour traffic volumes.\n",
    "- Air quality and emissions analysis in cities before and after the rise of remote work.\n",
    "\n",
    "### Visualization\n",
    "The results will be visualized through:\n",
    "- Line graphs showing changes in commuting frequency and transport mode usage.\n",
    "- Heatmaps depicting traffic congestion and emissions levels across regions.\n",
    "- Geographic visualizations comparing urban and rural mobility trends.\n"
   ]
  },
  {
   "cell_type": "markdown",
   "metadata": {},
   "source": [
    "### Time and Spatial Scale\n",
    "\n",
    "- **Time Scale**: The study will focus on a 10-year period, from 2013 to 2023, with a special focus on the years following the COVID-19 pandemic (2020–2023) due to the rapid adoption of remote work.\n",
    "\n",
    "- **Spatial Scale**: The geographical boundary will cover the entirety of the Netherlands, with a particular focus on urban centers (e.g., Amsterdam, Rotterdam, Utrecht) compared to rural areas. This will allow for regional comparison and identification of mobility trends in different parts of the country.\n"
   ]
  },
  {
   "cell_type": "markdown",
   "metadata": {},
   "source": []
  }
 ],
 "metadata": {
  "kernelspec": {
   "display_name": "Python 3",
   "language": "python",
   "name": "python3"
  },
  "language_info": {
   "codemirror_mode": {
    "name": "ipython",
    "version": 3
   },
   "file_extension": ".py",
   "mimetype": "text/x-python",
   "name": "python",
   "nbconvert_exporter": "python",
   "pygments_lexer": "ipython3",
   "version": "3.8.19"
  },
  "orig_nbformat": 4,
  "vscode": {
   "interpreter": {
    "hash": "31f2aee4e71d21fbe5cf8b01ff0e069b9275f58929596ceb00d14d90e3e16cd6"
   }
  }
 },
 "nbformat": 4,
 "nbformat_minor": 2
}
