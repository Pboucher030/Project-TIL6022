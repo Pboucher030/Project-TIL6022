{
 "cells": [
  {
   "cell_type": "markdown",
   "metadata": {},
   "source": [
    "# Project Group - \n",
    "\n",
    "Members and student numbers: \n",
    "\n",
    "- Stijn Brons - 5403707\n",
    "- Philippe Sturm - 5168163\n",
    "- Naut Linssen - 5063108\n",
    "- Pelle Boucher - 4885236\n",
    "- Teun van Wingerden - \n",
    "\n",
    "\n"
   ]
  },
  {
   "cell_type": "markdown",
   "metadata": {},
   "source": [
    "# 1. Introduction\n",
    "Over the past decade, the Netherlands has witnessed a notable increase in remote work, which has significantly altered various aspects of mobility and commuting patterns. The objective of this research is to examine the impact of remote work on mobility trends, transportation modes and their long-term implications for urban planning and environmental outcomes.\n"
   ]
  },
  {
   "cell_type": "markdown",
   "metadata": {},
   "source": [
    "# 2. Research Objective\n",
    "\n",
    "*Requires data modeling and quantitative research in Transport, Infrastructure & Logistics*"
   ]
  },
  {
   "cell_type": "markdown",
   "metadata": {},
   "source": [
    "*The primary objective of this research is to quantify and understand the impact of the increase in remote work over the past 10 years on mobility in the Netherlands.*"
   ]
  },
  {
   "cell_type": "markdown",
   "metadata": {},
   "source": [
    "# 3.Sub-Objectives\n",
    "- **Commuting Patterns**: To assess how remote work has influenced commuting patterns and reduced the frequency of commuting trips in the past decade.\n",
    "- **Transport Modes**: The aim is to assess how remote work has influenced commuting patterns and reduced the frequency of commuting trips over the past decade.\n",
    "- **Traffic Congestion and Public Transport**: To investigate how the rise of remote work has impacted traffic congestion and crowding in public transport, especially during peak hours in urban areas.\n",
    "- **Regional Differences**: To compare the impact of remote work on mobility in urban vs. rural areas in the Netherlands.\n",
    "- **Emissions and Air Quality**: To analyze how remote work has influenced transport-related emissions and air quality in cities.\n",
    "- **Long-term Trends**: To project long-term trends in remote work adoption and their potential effect on future mobility demand and urban infrastructure planning.\n",
    "\n",
    "# 4. Research questions\n",
    "The research questions for this project are:\n",
    "\n",
    "- **RQ1**: How has the frequency and pattern of commuting changed due to the rise of remote work over the past decade?\n",
    "- **RQ2**: To what extent has the use of different transport modes (cars, public transport, bicycles) been affected by remote work in the last 10 years?\n",
    "- **RQ3**: How has remote work influenced traffic congestion and crowding in public transport during peak hours in urban centers?\n",
    "- **RQ4**: What regional differences exist in how remote work has affected mobility in urban vs. rural areas in the Netherlands?\n",
    "- **RQ5**: How has the increase in remote work affected transport-related emissions and air quality in Dutch cities?\n",
    "- **RQ6**: What long-term trends are projected in remote work adoption, and how will they influence future mobility and urban infrastructure planning?\n"
   ]
  },
  {
   "cell_type": "markdown",
   "metadata": {},
   "source": [
    "# Contribution Statement\n",
    "\n",
    "*Be specific. Some of the tasks can be coding (expect everyone to do this), background research, conceptualisation, visualisation, data analysis, data modelling*"
   ]
  },
  {
   "cell_type": "markdown",
   "metadata": {},
   "source": [
    "**Author 1**: Pelle Boucher - Researching data, implementing data in the code, implementing text in the notebook\n",
    "\n",
    "**Author 2**:\n",
    "\n",
    "**Author 3**:"
   ]
  },
  {
   "cell_type": "markdown",
   "metadata": {},
   "source": [
    "# Data Used"
   ]
  },
  {
   "cell_type": "markdown",
   "metadata": {},
   "source": [
    "## Data Sources\n",
    "\n",
    "All data will be collected from the **CBS Statline Database**. This will be the primary data source for mobility, transport usage, and environmental data over the past 10 years in the Netherlands. (Available at [CBS Statline](https://opendata.cbs.nl)).\n",
    "\n",
    "- **Mobility and Transport**: Data on trips, modes of transport, travel motives, age, and gender. (Available at [Mobiliteitstrend](https://opendata.cbs.nl/statline/#/CBS/nl/dataset/84755NED/table?ts=1727864298786)).\n",
    "\n",
    "- **Emissions and Air Quality**: Data on CO2 emissions, particulate matter levels, and other environmental metrics.\n",
    "\n",
    "- **Commuting Patterns**: Information on commuting distances, frequency, and duration for different regions.\n",
    "\n",
    "\n",
    "The data is imported as an csv file and decoded below:"
   ]
  },
  {
   "cell_type": "code",
   "execution_count": 32,
   "metadata": {},
   "outputs": [
    {
     "data": {
      "text/plain": [
       "{'encoding': 'UTF-8-SIG', 'confidence': 1.0, 'language': ''}"
      ]
     },
     "execution_count": 32,
     "metadata": {},
     "output_type": "execute_result"
    }
   ],
   "source": [
    "import pandas as pd\n",
    "import chardet\n",
    "dataset_path = 'Mobiliteitstrend__per_rit_en_motief_02102024_122208.csv'\n",
    "with open(dataset_path, 'rb') as rawdata:\n",
    "\n",
    "    result = chardet.detect(rawdata.read(100000))\n",
    "    \n",
    "result\n",
    "\n"
   ]
  },
  {
   "cell_type": "code",
   "execution_count": 33,
   "metadata": {},
   "outputs": [
    {
     "data": {
      "text/html": [
       "<div>\n",
       "<style scoped>\n",
       "    .dataframe tbody tr th:only-of-type {\n",
       "        vertical-align: middle;\n",
       "    }\n",
       "\n",
       "    .dataframe tbody tr th {\n",
       "        vertical-align: top;\n",
       "    }\n",
       "\n",
       "    .dataframe thead th {\n",
       "        text-align: right;\n",
       "    }\n",
       "</style>\n",
       "<table border=\"1\" class=\"dataframe\">\n",
       "  <thead>\n",
       "    <tr style=\"text-align: right;\">\n",
       "      <th></th>\n",
       "      <th>Geslacht</th>\n",
       "      <th>Leeftijd</th>\n",
       "      <th>Vervoerwijzen</th>\n",
       "      <th>Reismotieven</th>\n",
       "      <th>Marges</th>\n",
       "      <th>Perioden</th>\n",
       "      <th>Ritten per persoon per dag (gemiddeld) (aantal)</th>\n",
       "      <th>Afgelegde afstand per rit (gemiddeld) (km)</th>\n",
       "      <th>Reisduur per rit (Minuten)</th>\n",
       "    </tr>\n",
       "  </thead>\n",
       "  <tbody>\n",
       "    <tr>\n",
       "      <th>0</th>\n",
       "      <td>Totaal mannen en vrouwen</td>\n",
       "      <td>Totaal</td>\n",
       "      <td>Totaal</td>\n",
       "      <td>Totaal</td>\n",
       "      <td>Waarde</td>\n",
       "      <td>1999*</td>\n",
       "      <td>3.41</td>\n",
       "      <td>10.96</td>\n",
       "      <td>23.72</td>\n",
       "    </tr>\n",
       "    <tr>\n",
       "      <th>1</th>\n",
       "      <td>Totaal mannen en vrouwen</td>\n",
       "      <td>Totaal</td>\n",
       "      <td>Totaal</td>\n",
       "      <td>Totaal</td>\n",
       "      <td>Waarde</td>\n",
       "      <td>2003*</td>\n",
       "      <td>3.30</td>\n",
       "      <td>11.04</td>\n",
       "      <td>23.65</td>\n",
       "    </tr>\n",
       "    <tr>\n",
       "      <th>2</th>\n",
       "      <td>Totaal mannen en vrouwen</td>\n",
       "      <td>Totaal</td>\n",
       "      <td>Totaal</td>\n",
       "      <td>Totaal</td>\n",
       "      <td>Waarde</td>\n",
       "      <td>2007*</td>\n",
       "      <td>3.20</td>\n",
       "      <td>11.07</td>\n",
       "      <td>23.88</td>\n",
       "    </tr>\n",
       "    <tr>\n",
       "      <th>3</th>\n",
       "      <td>Totaal mannen en vrouwen</td>\n",
       "      <td>Totaal</td>\n",
       "      <td>Totaal</td>\n",
       "      <td>Totaal</td>\n",
       "      <td>Waarde</td>\n",
       "      <td>2011*</td>\n",
       "      <td>3.09</td>\n",
       "      <td>11.21</td>\n",
       "      <td>23.76</td>\n",
       "    </tr>\n",
       "    <tr>\n",
       "      <th>4</th>\n",
       "      <td>Totaal mannen en vrouwen</td>\n",
       "      <td>Totaal</td>\n",
       "      <td>Totaal</td>\n",
       "      <td>Totaal</td>\n",
       "      <td>Waarde</td>\n",
       "      <td>2015*</td>\n",
       "      <td>3.03</td>\n",
       "      <td>11.36</td>\n",
       "      <td>24.14</td>\n",
       "    </tr>\n",
       "    <tr>\n",
       "      <th>...</th>\n",
       "      <td>...</td>\n",
       "      <td>...</td>\n",
       "      <td>...</td>\n",
       "      <td>...</td>\n",
       "      <td>...</td>\n",
       "      <td>...</td>\n",
       "      <td>...</td>\n",
       "      <td>...</td>\n",
       "      <td>...</td>\n",
       "    </tr>\n",
       "    <tr>\n",
       "      <th>1435</th>\n",
       "      <td>Totaal mannen en vrouwen</td>\n",
       "      <td>60 tot 65 jaar</td>\n",
       "      <td>Overige vervoerwijze</td>\n",
       "      <td>Overige reismotieven</td>\n",
       "      <td>Waarde</td>\n",
       "      <td>2019*</td>\n",
       "      <td>.</td>\n",
       "      <td>.</td>\n",
       "      <td>.</td>\n",
       "    </tr>\n",
       "    <tr>\n",
       "      <th>1436</th>\n",
       "      <td>Totaal mannen en vrouwen</td>\n",
       "      <td>60 tot 65 jaar</td>\n",
       "      <td>Overige vervoerwijze</td>\n",
       "      <td>Overige reismotieven</td>\n",
       "      <td>Waarde</td>\n",
       "      <td>2020*</td>\n",
       "      <td>.</td>\n",
       "      <td>.</td>\n",
       "      <td>.</td>\n",
       "    </tr>\n",
       "    <tr>\n",
       "      <th>1437</th>\n",
       "      <td>Totaal mannen en vrouwen</td>\n",
       "      <td>60 tot 65 jaar</td>\n",
       "      <td>Overige vervoerwijze</td>\n",
       "      <td>Overige reismotieven</td>\n",
       "      <td>Waarde</td>\n",
       "      <td>2021*</td>\n",
       "      <td>.</td>\n",
       "      <td>.</td>\n",
       "      <td>.</td>\n",
       "    </tr>\n",
       "    <tr>\n",
       "      <th>1438</th>\n",
       "      <td>Totaal mannen en vrouwen</td>\n",
       "      <td>60 tot 65 jaar</td>\n",
       "      <td>Overige vervoerwijze</td>\n",
       "      <td>Overige reismotieven</td>\n",
       "      <td>Waarde</td>\n",
       "      <td>2022*</td>\n",
       "      <td>.</td>\n",
       "      <td>.</td>\n",
       "      <td>.</td>\n",
       "    </tr>\n",
       "    <tr>\n",
       "      <th>1439</th>\n",
       "      <td>Totaal mannen en vrouwen</td>\n",
       "      <td>60 tot 65 jaar</td>\n",
       "      <td>Overige vervoerwijze</td>\n",
       "      <td>Overige reismotieven</td>\n",
       "      <td>Waarde</td>\n",
       "      <td>2023*</td>\n",
       "      <td>.</td>\n",
       "      <td>.</td>\n",
       "      <td>.</td>\n",
       "    </tr>\n",
       "  </tbody>\n",
       "</table>\n",
       "<p>1440 rows × 9 columns</p>\n",
       "</div>"
      ],
      "text/plain": [
       "                      Geslacht        Leeftijd         Vervoerwijzen  \\\n",
       "0     Totaal mannen en vrouwen          Totaal                Totaal   \n",
       "1     Totaal mannen en vrouwen          Totaal                Totaal   \n",
       "2     Totaal mannen en vrouwen          Totaal                Totaal   \n",
       "3     Totaal mannen en vrouwen          Totaal                Totaal   \n",
       "4     Totaal mannen en vrouwen          Totaal                Totaal   \n",
       "...                        ...             ...                   ...   \n",
       "1435  Totaal mannen en vrouwen  60 tot 65 jaar  Overige vervoerwijze   \n",
       "1436  Totaal mannen en vrouwen  60 tot 65 jaar  Overige vervoerwijze   \n",
       "1437  Totaal mannen en vrouwen  60 tot 65 jaar  Overige vervoerwijze   \n",
       "1438  Totaal mannen en vrouwen  60 tot 65 jaar  Overige vervoerwijze   \n",
       "1439  Totaal mannen en vrouwen  60 tot 65 jaar  Overige vervoerwijze   \n",
       "\n",
       "              Reismotieven  Marges Perioden  \\\n",
       "0                   Totaal  Waarde    1999*   \n",
       "1                   Totaal  Waarde    2003*   \n",
       "2                   Totaal  Waarde    2007*   \n",
       "3                   Totaal  Waarde    2011*   \n",
       "4                   Totaal  Waarde    2015*   \n",
       "...                    ...     ...      ...   \n",
       "1435  Overige reismotieven  Waarde    2019*   \n",
       "1436  Overige reismotieven  Waarde    2020*   \n",
       "1437  Overige reismotieven  Waarde    2021*   \n",
       "1438  Overige reismotieven  Waarde    2022*   \n",
       "1439  Overige reismotieven  Waarde    2023*   \n",
       "\n",
       "     Ritten per persoon per dag (gemiddeld) (aantal)  \\\n",
       "0                                               3.41   \n",
       "1                                               3.30   \n",
       "2                                               3.20   \n",
       "3                                               3.09   \n",
       "4                                               3.03   \n",
       "...                                              ...   \n",
       "1435                                               .   \n",
       "1436                                               .   \n",
       "1437                                               .   \n",
       "1438                                               .   \n",
       "1439                                               .   \n",
       "\n",
       "     Afgelegde afstand per rit (gemiddeld) (km) Reisduur per rit (Minuten)  \n",
       "0                                         10.96                      23.72  \n",
       "1                                         11.04                      23.65  \n",
       "2                                         11.07                      23.88  \n",
       "3                                         11.21                      23.76  \n",
       "4                                         11.36                      24.14  \n",
       "...                                         ...                        ...  \n",
       "1435                                          .                          .  \n",
       "1436                                          .                          .  \n",
       "1437                                          .                          .  \n",
       "1438                                          .                          .  \n",
       "1439                                          .                          .  \n",
       "\n",
       "[1440 rows x 9 columns]"
      ]
     },
     "execution_count": 33,
     "metadata": {},
     "output_type": "execute_result"
    }
   ],
   "source": [
    "df = pd.read_csv(dataset_path,delimiter=';',encoding='UTF-8-SIG')\n",
    "df"
   ]
  },
  {
   "cell_type": "markdown",
   "metadata": {},
   "source": [
    "# Data Pipeline"
   ]
  },
  {
   "cell_type": "markdown",
   "metadata": {},
   "source": [
    "## 5. Intended Data Pipeline\n",
    "\n",
    "### Data Collection\n",
    "The primary data source for this research will be the CBS Statline database, which provides a wide range of data on mobility, transport, commuting patterns, and environmental factors.\n",
    "\n",
    "### Data Cleaning\n",
    "Data from CBS will be pre-processed to remove incomplete records, normalize values across different datasets, and ensure consistency in time-series data.\n",
    "\n",
    "### Data Integration\n",
    "Different datasets (e.g., mobility data, emissions data, public transport usage data) will be integrated using geographic and temporal references to allow for comprehensive analysis.\n",
    "\n",
    "### Data Analysis\n",
    "Quantitative analysis will be performed to answer each research question:\n",
    "- Time-series analysis of mobility trends over the past decade.\n",
    "- Statistical comparisons of transport mode usage in urban vs. rural areas.\n",
    "- Congestion analysis using data on peak-hour traffic volumes.\n",
    "- Air quality and emissions analysis in cities before and after the rise of remote work.\n",
    "\n",
    "### Visualization\n",
    "The results will be visualized through:\n",
    "- Line graphs showing changes in commuting frequency and transport mode usage.\n",
    "- Heatmaps depicting traffic congestion and emissions levels across regions.\n",
    "- Geographic visualizations comparing urban and rural mobility trends.\n"
   ]
  },
  {
   "cell_type": "markdown",
   "metadata": {},
   "source": [
    "### Time and Spatial Scale\n",
    "\n",
    "- **Time Scale**: The study will focus on a 10-year period, from 2013 to 2023, with a special focus on the years following the COVID-19 pandemic (2020–2023) due to the rapid adoption of remote work.\n",
    "\n",
    "- **Spatial Scale**: The geographical boundary will cover the entirety of the Netherlands, with a particular focus on urban centers (e.g., Amsterdam, Rotterdam, Utrecht) compared to rural areas. This will allow for regional comparison and identification of mobility trends in different parts of the country.\n"
   ]
  },
  {
   "cell_type": "markdown",
   "metadata": {},
   "source": []
  }
 ],
 "metadata": {
  "kernelspec": {
   "display_name": "Python 3",
   "language": "python",
   "name": "python3"
  },
  "language_info": {
   "codemirror_mode": {
    "name": "ipython",
    "version": 3
   },
   "file_extension": ".py",
   "mimetype": "text/x-python",
   "name": "python",
   "nbconvert_exporter": "python",
   "pygments_lexer": "ipython3",
   "version": "3.8.19"
  },
  "orig_nbformat": 4,
  "vscode": {
   "interpreter": {
    "hash": "31f2aee4e71d21fbe5cf8b01ff0e069b9275f58929596ceb00d14d90e3e16cd6"
   }
  }
 },
 "nbformat": 4,
 "nbformat_minor": 2
}
