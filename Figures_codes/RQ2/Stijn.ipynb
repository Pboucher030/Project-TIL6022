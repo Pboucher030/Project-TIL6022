{
 "cells": [
  {
   "cell_type": "code",
   "execution_count": 78,
   "metadata": {},
   "outputs": [
    {
     "data": {
      "text/plain": [
       "{'encoding': 'UTF-8-SIG', 'confidence': 1.0, 'language': ''}"
      ]
     },
     "execution_count": 78,
     "metadata": {},
     "output_type": "execute_result"
    }
   ],
   "source": [
    "import numpy as np\n",
    "import matplotlib.pyplot as plt\n",
    "import numpy as np\n",
    "import pandas as pd\n",
    "import chardet\n",
    "import plotly_express as px\n",
    "\n",
    "\"\"\" MOBILITY AND TRANSPORT\"\"\"\n",
    "dataset_path_mat = '/Users/stijnbrons/Documents/GitHub/Project-TIL6022/Data/Mobiliteitstrend__per_rit_en_motief_02102024_122208.csv'\n",
    "with open(dataset_path_mat, 'rb') as rawdata:\n",
    "\n",
    "    result = chardet.detect(rawdata.read(100000))\n",
    "    \n",
    "result\n",
    "\n"
   ]
  },
  {
   "cell_type": "code",
   "execution_count": 79,
   "metadata": {},
   "outputs": [
    {
     "data": {
      "text/html": [
       "<div>\n",
       "<style scoped>\n",
       "    .dataframe tbody tr th:only-of-type {\n",
       "        vertical-align: middle;\n",
       "    }\n",
       "\n",
       "    .dataframe tbody tr th {\n",
       "        vertical-align: top;\n",
       "    }\n",
       "\n",
       "    .dataframe thead th {\n",
       "        text-align: right;\n",
       "    }\n",
       "</style>\n",
       "<table border=\"1\" class=\"dataframe\">\n",
       "  <thead>\n",
       "    <tr style=\"text-align: right;\">\n",
       "      <th></th>\n",
       "      <th>Geslacht</th>\n",
       "      <th>Leeftijd</th>\n",
       "      <th>Vervoerwijzen</th>\n",
       "      <th>Reismotieven</th>\n",
       "      <th>Marges</th>\n",
       "      <th>Perioden</th>\n",
       "      <th>Ritten per persoon per dag (gemiddeld) (aantal)</th>\n",
       "      <th>Afgelegde afstand per rit (gemiddeld) (km)</th>\n",
       "      <th>Reisduur per rit (Minuten)</th>\n",
       "    </tr>\n",
       "  </thead>\n",
       "  <tbody>\n",
       "    <tr>\n",
       "      <th>0</th>\n",
       "      <td>Totaal mannen en vrouwen</td>\n",
       "      <td>Totaal</td>\n",
       "      <td>Totaal</td>\n",
       "      <td>Totaal</td>\n",
       "      <td>Waarde</td>\n",
       "      <td>1999*</td>\n",
       "      <td>3.41</td>\n",
       "      <td>10.96</td>\n",
       "      <td>23.72</td>\n",
       "    </tr>\n",
       "    <tr>\n",
       "      <th>1</th>\n",
       "      <td>Totaal mannen en vrouwen</td>\n",
       "      <td>Totaal</td>\n",
       "      <td>Totaal</td>\n",
       "      <td>Totaal</td>\n",
       "      <td>Waarde</td>\n",
       "      <td>2003*</td>\n",
       "      <td>3.30</td>\n",
       "      <td>11.04</td>\n",
       "      <td>23.65</td>\n",
       "    </tr>\n",
       "    <tr>\n",
       "      <th>2</th>\n",
       "      <td>Totaal mannen en vrouwen</td>\n",
       "      <td>Totaal</td>\n",
       "      <td>Totaal</td>\n",
       "      <td>Totaal</td>\n",
       "      <td>Waarde</td>\n",
       "      <td>2007*</td>\n",
       "      <td>3.20</td>\n",
       "      <td>11.07</td>\n",
       "      <td>23.88</td>\n",
       "    </tr>\n",
       "    <tr>\n",
       "      <th>3</th>\n",
       "      <td>Totaal mannen en vrouwen</td>\n",
       "      <td>Totaal</td>\n",
       "      <td>Totaal</td>\n",
       "      <td>Totaal</td>\n",
       "      <td>Waarde</td>\n",
       "      <td>2011*</td>\n",
       "      <td>3.09</td>\n",
       "      <td>11.21</td>\n",
       "      <td>23.76</td>\n",
       "    </tr>\n",
       "    <tr>\n",
       "      <th>4</th>\n",
       "      <td>Totaal mannen en vrouwen</td>\n",
       "      <td>Totaal</td>\n",
       "      <td>Totaal</td>\n",
       "      <td>Totaal</td>\n",
       "      <td>Waarde</td>\n",
       "      <td>2015*</td>\n",
       "      <td>3.03</td>\n",
       "      <td>11.36</td>\n",
       "      <td>24.14</td>\n",
       "    </tr>\n",
       "    <tr>\n",
       "      <th>...</th>\n",
       "      <td>...</td>\n",
       "      <td>...</td>\n",
       "      <td>...</td>\n",
       "      <td>...</td>\n",
       "      <td>...</td>\n",
       "      <td>...</td>\n",
       "      <td>...</td>\n",
       "      <td>...</td>\n",
       "      <td>...</td>\n",
       "    </tr>\n",
       "    <tr>\n",
       "      <th>1435</th>\n",
       "      <td>Totaal mannen en vrouwen</td>\n",
       "      <td>60 tot 65 jaar</td>\n",
       "      <td>Overige vervoerwijze</td>\n",
       "      <td>Overige reismotieven</td>\n",
       "      <td>Waarde</td>\n",
       "      <td>2019*</td>\n",
       "      <td>.</td>\n",
       "      <td>.</td>\n",
       "      <td>.</td>\n",
       "    </tr>\n",
       "    <tr>\n",
       "      <th>1436</th>\n",
       "      <td>Totaal mannen en vrouwen</td>\n",
       "      <td>60 tot 65 jaar</td>\n",
       "      <td>Overige vervoerwijze</td>\n",
       "      <td>Overige reismotieven</td>\n",
       "      <td>Waarde</td>\n",
       "      <td>2020*</td>\n",
       "      <td>.</td>\n",
       "      <td>.</td>\n",
       "      <td>.</td>\n",
       "    </tr>\n",
       "    <tr>\n",
       "      <th>1437</th>\n",
       "      <td>Totaal mannen en vrouwen</td>\n",
       "      <td>60 tot 65 jaar</td>\n",
       "      <td>Overige vervoerwijze</td>\n",
       "      <td>Overige reismotieven</td>\n",
       "      <td>Waarde</td>\n",
       "      <td>2021*</td>\n",
       "      <td>.</td>\n",
       "      <td>.</td>\n",
       "      <td>.</td>\n",
       "    </tr>\n",
       "    <tr>\n",
       "      <th>1438</th>\n",
       "      <td>Totaal mannen en vrouwen</td>\n",
       "      <td>60 tot 65 jaar</td>\n",
       "      <td>Overige vervoerwijze</td>\n",
       "      <td>Overige reismotieven</td>\n",
       "      <td>Waarde</td>\n",
       "      <td>2022*</td>\n",
       "      <td>.</td>\n",
       "      <td>.</td>\n",
       "      <td>.</td>\n",
       "    </tr>\n",
       "    <tr>\n",
       "      <th>1439</th>\n",
       "      <td>Totaal mannen en vrouwen</td>\n",
       "      <td>60 tot 65 jaar</td>\n",
       "      <td>Overige vervoerwijze</td>\n",
       "      <td>Overige reismotieven</td>\n",
       "      <td>Waarde</td>\n",
       "      <td>2023*</td>\n",
       "      <td>.</td>\n",
       "      <td>.</td>\n",
       "      <td>.</td>\n",
       "    </tr>\n",
       "  </tbody>\n",
       "</table>\n",
       "<p>1440 rows × 9 columns</p>\n",
       "</div>"
      ],
      "text/plain": [
       "                      Geslacht        Leeftijd         Vervoerwijzen  \\\n",
       "0     Totaal mannen en vrouwen          Totaal                Totaal   \n",
       "1     Totaal mannen en vrouwen          Totaal                Totaal   \n",
       "2     Totaal mannen en vrouwen          Totaal                Totaal   \n",
       "3     Totaal mannen en vrouwen          Totaal                Totaal   \n",
       "4     Totaal mannen en vrouwen          Totaal                Totaal   \n",
       "...                        ...             ...                   ...   \n",
       "1435  Totaal mannen en vrouwen  60 tot 65 jaar  Overige vervoerwijze   \n",
       "1436  Totaal mannen en vrouwen  60 tot 65 jaar  Overige vervoerwijze   \n",
       "1437  Totaal mannen en vrouwen  60 tot 65 jaar  Overige vervoerwijze   \n",
       "1438  Totaal mannen en vrouwen  60 tot 65 jaar  Overige vervoerwijze   \n",
       "1439  Totaal mannen en vrouwen  60 tot 65 jaar  Overige vervoerwijze   \n",
       "\n",
       "              Reismotieven  Marges Perioden  \\\n",
       "0                   Totaal  Waarde    1999*   \n",
       "1                   Totaal  Waarde    2003*   \n",
       "2                   Totaal  Waarde    2007*   \n",
       "3                   Totaal  Waarde    2011*   \n",
       "4                   Totaal  Waarde    2015*   \n",
       "...                    ...     ...      ...   \n",
       "1435  Overige reismotieven  Waarde    2019*   \n",
       "1436  Overige reismotieven  Waarde    2020*   \n",
       "1437  Overige reismotieven  Waarde    2021*   \n",
       "1438  Overige reismotieven  Waarde    2022*   \n",
       "1439  Overige reismotieven  Waarde    2023*   \n",
       "\n",
       "     Ritten per persoon per dag (gemiddeld) (aantal)  \\\n",
       "0                                               3.41   \n",
       "1                                               3.30   \n",
       "2                                               3.20   \n",
       "3                                               3.09   \n",
       "4                                               3.03   \n",
       "...                                              ...   \n",
       "1435                                               .   \n",
       "1436                                               .   \n",
       "1437                                               .   \n",
       "1438                                               .   \n",
       "1439                                               .   \n",
       "\n",
       "     Afgelegde afstand per rit (gemiddeld) (km) Reisduur per rit (Minuten)  \n",
       "0                                         10.96                      23.72  \n",
       "1                                         11.04                      23.65  \n",
       "2                                         11.07                      23.88  \n",
       "3                                         11.21                      23.76  \n",
       "4                                         11.36                      24.14  \n",
       "...                                         ...                        ...  \n",
       "1435                                          .                          .  \n",
       "1436                                          .                          .  \n",
       "1437                                          .                          .  \n",
       "1438                                          .                          .  \n",
       "1439                                          .                          .  \n",
       "\n",
       "[1440 rows x 9 columns]"
      ]
     },
     "execution_count": 79,
     "metadata": {},
     "output_type": "execute_result"
    }
   ],
   "source": [
    "df_mat = pd.read_csv(dataset_path_mat,delimiter=';',encoding='UTF-8-SIG')\n",
    "df_mat"
   ]
  },
  {
   "cell_type": "code",
   "execution_count": 118,
   "metadata": {},
   "outputs": [],
   "source": [
    "df_mat = df_mat[df_mat['Leeftijd']=='Totaal']\n",
    "df_mat = df_mat[df_mat['Vervoerwijzen']=='Totaal']\n",
    "df_mat = df_mat[df_mat['Reismotieven']!='Totaal']\n",
    "df_mat = df_mat.sort_values(['Ritten per persoon per dag (gemiddeld) (aantal)'], ascending=True)\n",
    "df_mat = df_mat.sort_values(['Perioden'], ascending=True)\n"
   ]
  },
  {
   "cell_type": "code",
   "execution_count": null,
   "metadata": {},
   "outputs": [],
   "source": []
  },
  {
   "cell_type": "code",
   "execution_count": 119,
   "metadata": {},
   "outputs": [
    {
     "data": {
      "application/vnd.plotly.v1+json": {
       "config": {
        "plotlyServerURL": "https://plot.ly"
       },
       "data": [
        {
         "alignmentgroup": "True",
         "hovertemplate": "Reismotieven=Vrije tijd<br>Perioden=%{x}<br>Ritten per persoon per dag (gemiddeld) (aantal)=%{y}<extra></extra>",
         "legendgroup": "Vrije tijd",
         "marker": {
          "color": "#636efa",
          "pattern": {
           "shape": ""
          }
         },
         "name": "Vrije tijd",
         "offsetgroup": "Vrije tijd",
         "orientation": "v",
         "showlegend": true,
         "textposition": "auto",
         "type": "bar",
         "x": [
          "1999*",
          "2003*",
          "2007*",
          "2011*",
          "2015*",
          "2019*",
          "2020*",
          "2021*",
          "2022*",
          "2023*"
         ],
         "xaxis": "x",
         "y": [
          "    1.19",
          "    1.15",
          "    1.10",
          "    1.05",
          "    1.07",
          "    1.05",
          "    0.93",
          "    1.03",
          "    1.11",
          "    1.12"
         ],
         "yaxis": "y"
        },
        {
         "alignmentgroup": "True",
         "hovertemplate": "Reismotieven=Overige reismotieven<br>Perioden=%{x}<br>Ritten per persoon per dag (gemiddeld) (aantal)=%{y}<extra></extra>",
         "legendgroup": "Overige reismotieven",
         "marker": {
          "color": "#EF553B",
          "pattern": {
           "shape": ""
          }
         },
         "name": "Overige reismotieven",
         "offsetgroup": "Overige reismotieven",
         "orientation": "v",
         "showlegend": true,
         "textposition": "auto",
         "type": "bar",
         "x": [
          "1999*",
          "2003*",
          "2007*",
          "2011*",
          "2015*",
          "2019*",
          "2020*",
          "2021*",
          "2022*",
          "2023*"
         ],
         "xaxis": "x",
         "y": [
          "    0.59",
          "    0.58",
          "    0.54",
          "    0.51",
          "    0.45",
          "    0.45",
          "    0.40",
          "    0.44",
          "    0.46",
          "    0.46"
         ],
         "yaxis": "y"
        },
        {
         "alignmentgroup": "True",
         "hovertemplate": "Reismotieven=Van en naar het werk<br>Perioden=%{x}<br>Ritten per persoon per dag (gemiddeld) (aantal)=%{y}<extra></extra>",
         "legendgroup": "Van en naar het werk",
         "marker": {
          "color": "#00cc96",
          "pattern": {
           "shape": ""
          }
         },
         "name": "Van en naar het werk",
         "offsetgroup": "Van en naar het werk",
         "orientation": "v",
         "showlegend": true,
         "textposition": "auto",
         "type": "bar",
         "x": [
          "1999*",
          "2003*",
          "2007*",
          "2011*",
          "2015*",
          "2019*",
          "2020*",
          "2021*",
          "2022*",
          "2023*"
         ],
         "xaxis": "x",
         "y": [
          "    0.59",
          "    0.58",
          "    0.61",
          "    0.62",
          "    0.61",
          "    0.61",
          "    0.41",
          "    0.41",
          "    0.48",
          "    0.51"
         ],
         "yaxis": "y"
        },
        {
         "alignmentgroup": "True",
         "hovertemplate": "Reismotieven=Onderwijs volgen, cursus, kinderopvang<br>Perioden=%{x}<br>Ritten per persoon per dag (gemiddeld) (aantal)=%{y}<extra></extra>",
         "legendgroup": "Onderwijs volgen, cursus, kinderopvang",
         "marker": {
          "color": "#ab63fa",
          "pattern": {
           "shape": ""
          }
         },
         "name": "Onderwijs volgen, cursus, kinderopvang",
         "offsetgroup": "Onderwijs volgen, cursus, kinderopvang",
         "orientation": "v",
         "showlegend": true,
         "textposition": "auto",
         "type": "bar",
         "x": [
          "1999*",
          "2003*",
          "2007*",
          "2011*",
          "2015*",
          "2019*",
          "2020*",
          "2021*",
          "2022*",
          "2023*"
         ],
         "xaxis": "x",
         "y": [
          "    0.30",
          "    0.29",
          "    0.30",
          "    0.30",
          "    0.29",
          "    0.28",
          "    0.17",
          "    0.17",
          "    0.22",
          "    0.23"
         ],
         "yaxis": "y"
        },
        {
         "alignmentgroup": "True",
         "hovertemplate": "Reismotieven=Winkelen, boodschappen doen<br>Perioden=%{x}<br>Ritten per persoon per dag (gemiddeld) (aantal)=%{y}<extra></extra>",
         "legendgroup": "Winkelen, boodschappen doen",
         "marker": {
          "color": "#FFA15A",
          "pattern": {
           "shape": ""
          }
         },
         "name": "Winkelen, boodschappen doen",
         "offsetgroup": "Winkelen, boodschappen doen",
         "orientation": "v",
         "showlegend": true,
         "textposition": "auto",
         "type": "bar",
         "x": [
          "1999*",
          "2003*",
          "2007*",
          "2011*",
          "2015*",
          "2019*",
          "2020*",
          "2021*",
          "2022*",
          "2023*"
         ],
         "xaxis": "x",
         "y": [
          "    0.73",
          "    0.70",
          "    0.65",
          "    0.61",
          "    0.61",
          "    0.57",
          "    0.57",
          "    0.57",
          "    0.60",
          "    0.60"
         ],
         "yaxis": "y"
        }
       ],
       "layout": {
        "barmode": "relative",
        "legend": {
         "title": {
          "text": "Reismotieven"
         },
         "tracegroupgap": 0
        },
        "margin": {
         "t": 60
        },
        "template": {
         "data": {
          "bar": [
           {
            "error_x": {
             "color": "#2a3f5f"
            },
            "error_y": {
             "color": "#2a3f5f"
            },
            "marker": {
             "line": {
              "color": "#E5ECF6",
              "width": 0.5
             },
             "pattern": {
              "fillmode": "overlay",
              "size": 10,
              "solidity": 0.2
             }
            },
            "type": "bar"
           }
          ],
          "barpolar": [
           {
            "marker": {
             "line": {
              "color": "#E5ECF6",
              "width": 0.5
             },
             "pattern": {
              "fillmode": "overlay",
              "size": 10,
              "solidity": 0.2
             }
            },
            "type": "barpolar"
           }
          ],
          "carpet": [
           {
            "aaxis": {
             "endlinecolor": "#2a3f5f",
             "gridcolor": "white",
             "linecolor": "white",
             "minorgridcolor": "white",
             "startlinecolor": "#2a3f5f"
            },
            "baxis": {
             "endlinecolor": "#2a3f5f",
             "gridcolor": "white",
             "linecolor": "white",
             "minorgridcolor": "white",
             "startlinecolor": "#2a3f5f"
            },
            "type": "carpet"
           }
          ],
          "choropleth": [
           {
            "colorbar": {
             "outlinewidth": 0,
             "ticks": ""
            },
            "type": "choropleth"
           }
          ],
          "contour": [
           {
            "colorbar": {
             "outlinewidth": 0,
             "ticks": ""
            },
            "colorscale": [
             [
              0,
              "#0d0887"
             ],
             [
              0.1111111111111111,
              "#46039f"
             ],
             [
              0.2222222222222222,
              "#7201a8"
             ],
             [
              0.3333333333333333,
              "#9c179e"
             ],
             [
              0.4444444444444444,
              "#bd3786"
             ],
             [
              0.5555555555555556,
              "#d8576b"
             ],
             [
              0.6666666666666666,
              "#ed7953"
             ],
             [
              0.7777777777777778,
              "#fb9f3a"
             ],
             [
              0.8888888888888888,
              "#fdca26"
             ],
             [
              1,
              "#f0f921"
             ]
            ],
            "type": "contour"
           }
          ],
          "contourcarpet": [
           {
            "colorbar": {
             "outlinewidth": 0,
             "ticks": ""
            },
            "type": "contourcarpet"
           }
          ],
          "heatmap": [
           {
            "colorbar": {
             "outlinewidth": 0,
             "ticks": ""
            },
            "colorscale": [
             [
              0,
              "#0d0887"
             ],
             [
              0.1111111111111111,
              "#46039f"
             ],
             [
              0.2222222222222222,
              "#7201a8"
             ],
             [
              0.3333333333333333,
              "#9c179e"
             ],
             [
              0.4444444444444444,
              "#bd3786"
             ],
             [
              0.5555555555555556,
              "#d8576b"
             ],
             [
              0.6666666666666666,
              "#ed7953"
             ],
             [
              0.7777777777777778,
              "#fb9f3a"
             ],
             [
              0.8888888888888888,
              "#fdca26"
             ],
             [
              1,
              "#f0f921"
             ]
            ],
            "type": "heatmap"
           }
          ],
          "heatmapgl": [
           {
            "colorbar": {
             "outlinewidth": 0,
             "ticks": ""
            },
            "colorscale": [
             [
              0,
              "#0d0887"
             ],
             [
              0.1111111111111111,
              "#46039f"
             ],
             [
              0.2222222222222222,
              "#7201a8"
             ],
             [
              0.3333333333333333,
              "#9c179e"
             ],
             [
              0.4444444444444444,
              "#bd3786"
             ],
             [
              0.5555555555555556,
              "#d8576b"
             ],
             [
              0.6666666666666666,
              "#ed7953"
             ],
             [
              0.7777777777777778,
              "#fb9f3a"
             ],
             [
              0.8888888888888888,
              "#fdca26"
             ],
             [
              1,
              "#f0f921"
             ]
            ],
            "type": "heatmapgl"
           }
          ],
          "histogram": [
           {
            "marker": {
             "pattern": {
              "fillmode": "overlay",
              "size": 10,
              "solidity": 0.2
             }
            },
            "type": "histogram"
           }
          ],
          "histogram2d": [
           {
            "colorbar": {
             "outlinewidth": 0,
             "ticks": ""
            },
            "colorscale": [
             [
              0,
              "#0d0887"
             ],
             [
              0.1111111111111111,
              "#46039f"
             ],
             [
              0.2222222222222222,
              "#7201a8"
             ],
             [
              0.3333333333333333,
              "#9c179e"
             ],
             [
              0.4444444444444444,
              "#bd3786"
             ],
             [
              0.5555555555555556,
              "#d8576b"
             ],
             [
              0.6666666666666666,
              "#ed7953"
             ],
             [
              0.7777777777777778,
              "#fb9f3a"
             ],
             [
              0.8888888888888888,
              "#fdca26"
             ],
             [
              1,
              "#f0f921"
             ]
            ],
            "type": "histogram2d"
           }
          ],
          "histogram2dcontour": [
           {
            "colorbar": {
             "outlinewidth": 0,
             "ticks": ""
            },
            "colorscale": [
             [
              0,
              "#0d0887"
             ],
             [
              0.1111111111111111,
              "#46039f"
             ],
             [
              0.2222222222222222,
              "#7201a8"
             ],
             [
              0.3333333333333333,
              "#9c179e"
             ],
             [
              0.4444444444444444,
              "#bd3786"
             ],
             [
              0.5555555555555556,
              "#d8576b"
             ],
             [
              0.6666666666666666,
              "#ed7953"
             ],
             [
              0.7777777777777778,
              "#fb9f3a"
             ],
             [
              0.8888888888888888,
              "#fdca26"
             ],
             [
              1,
              "#f0f921"
             ]
            ],
            "type": "histogram2dcontour"
           }
          ],
          "mesh3d": [
           {
            "colorbar": {
             "outlinewidth": 0,
             "ticks": ""
            },
            "type": "mesh3d"
           }
          ],
          "parcoords": [
           {
            "line": {
             "colorbar": {
              "outlinewidth": 0,
              "ticks": ""
             }
            },
            "type": "parcoords"
           }
          ],
          "pie": [
           {
            "automargin": true,
            "type": "pie"
           }
          ],
          "scatter": [
           {
            "fillpattern": {
             "fillmode": "overlay",
             "size": 10,
             "solidity": 0.2
            },
            "type": "scatter"
           }
          ],
          "scatter3d": [
           {
            "line": {
             "colorbar": {
              "outlinewidth": 0,
              "ticks": ""
             }
            },
            "marker": {
             "colorbar": {
              "outlinewidth": 0,
              "ticks": ""
             }
            },
            "type": "scatter3d"
           }
          ],
          "scattercarpet": [
           {
            "marker": {
             "colorbar": {
              "outlinewidth": 0,
              "ticks": ""
             }
            },
            "type": "scattercarpet"
           }
          ],
          "scattergeo": [
           {
            "marker": {
             "colorbar": {
              "outlinewidth": 0,
              "ticks": ""
             }
            },
            "type": "scattergeo"
           }
          ],
          "scattergl": [
           {
            "marker": {
             "colorbar": {
              "outlinewidth": 0,
              "ticks": ""
             }
            },
            "type": "scattergl"
           }
          ],
          "scattermapbox": [
           {
            "marker": {
             "colorbar": {
              "outlinewidth": 0,
              "ticks": ""
             }
            },
            "type": "scattermapbox"
           }
          ],
          "scatterpolar": [
           {
            "marker": {
             "colorbar": {
              "outlinewidth": 0,
              "ticks": ""
             }
            },
            "type": "scatterpolar"
           }
          ],
          "scatterpolargl": [
           {
            "marker": {
             "colorbar": {
              "outlinewidth": 0,
              "ticks": ""
             }
            },
            "type": "scatterpolargl"
           }
          ],
          "scatterternary": [
           {
            "marker": {
             "colorbar": {
              "outlinewidth": 0,
              "ticks": ""
             }
            },
            "type": "scatterternary"
           }
          ],
          "surface": [
           {
            "colorbar": {
             "outlinewidth": 0,
             "ticks": ""
            },
            "colorscale": [
             [
              0,
              "#0d0887"
             ],
             [
              0.1111111111111111,
              "#46039f"
             ],
             [
              0.2222222222222222,
              "#7201a8"
             ],
             [
              0.3333333333333333,
              "#9c179e"
             ],
             [
              0.4444444444444444,
              "#bd3786"
             ],
             [
              0.5555555555555556,
              "#d8576b"
             ],
             [
              0.6666666666666666,
              "#ed7953"
             ],
             [
              0.7777777777777778,
              "#fb9f3a"
             ],
             [
              0.8888888888888888,
              "#fdca26"
             ],
             [
              1,
              "#f0f921"
             ]
            ],
            "type": "surface"
           }
          ],
          "table": [
           {
            "cells": {
             "fill": {
              "color": "#EBF0F8"
             },
             "line": {
              "color": "white"
             }
            },
            "header": {
             "fill": {
              "color": "#C8D4E3"
             },
             "line": {
              "color": "white"
             }
            },
            "type": "table"
           }
          ]
         },
         "layout": {
          "annotationdefaults": {
           "arrowcolor": "#2a3f5f",
           "arrowhead": 0,
           "arrowwidth": 1
          },
          "autotypenumbers": "strict",
          "coloraxis": {
           "colorbar": {
            "outlinewidth": 0,
            "ticks": ""
           }
          },
          "colorscale": {
           "diverging": [
            [
             0,
             "#8e0152"
            ],
            [
             0.1,
             "#c51b7d"
            ],
            [
             0.2,
             "#de77ae"
            ],
            [
             0.3,
             "#f1b6da"
            ],
            [
             0.4,
             "#fde0ef"
            ],
            [
             0.5,
             "#f7f7f7"
            ],
            [
             0.6,
             "#e6f5d0"
            ],
            [
             0.7,
             "#b8e186"
            ],
            [
             0.8,
             "#7fbc41"
            ],
            [
             0.9,
             "#4d9221"
            ],
            [
             1,
             "#276419"
            ]
           ],
           "sequential": [
            [
             0,
             "#0d0887"
            ],
            [
             0.1111111111111111,
             "#46039f"
            ],
            [
             0.2222222222222222,
             "#7201a8"
            ],
            [
             0.3333333333333333,
             "#9c179e"
            ],
            [
             0.4444444444444444,
             "#bd3786"
            ],
            [
             0.5555555555555556,
             "#d8576b"
            ],
            [
             0.6666666666666666,
             "#ed7953"
            ],
            [
             0.7777777777777778,
             "#fb9f3a"
            ],
            [
             0.8888888888888888,
             "#fdca26"
            ],
            [
             1,
             "#f0f921"
            ]
           ],
           "sequentialminus": [
            [
             0,
             "#0d0887"
            ],
            [
             0.1111111111111111,
             "#46039f"
            ],
            [
             0.2222222222222222,
             "#7201a8"
            ],
            [
             0.3333333333333333,
             "#9c179e"
            ],
            [
             0.4444444444444444,
             "#bd3786"
            ],
            [
             0.5555555555555556,
             "#d8576b"
            ],
            [
             0.6666666666666666,
             "#ed7953"
            ],
            [
             0.7777777777777778,
             "#fb9f3a"
            ],
            [
             0.8888888888888888,
             "#fdca26"
            ],
            [
             1,
             "#f0f921"
            ]
           ]
          },
          "colorway": [
           "#636efa",
           "#EF553B",
           "#00cc96",
           "#ab63fa",
           "#FFA15A",
           "#19d3f3",
           "#FF6692",
           "#B6E880",
           "#FF97FF",
           "#FECB52"
          ],
          "font": {
           "color": "#2a3f5f"
          },
          "geo": {
           "bgcolor": "white",
           "lakecolor": "white",
           "landcolor": "#E5ECF6",
           "showlakes": true,
           "showland": true,
           "subunitcolor": "white"
          },
          "hoverlabel": {
           "align": "left"
          },
          "hovermode": "closest",
          "mapbox": {
           "style": "light"
          },
          "paper_bgcolor": "white",
          "plot_bgcolor": "#E5ECF6",
          "polar": {
           "angularaxis": {
            "gridcolor": "white",
            "linecolor": "white",
            "ticks": ""
           },
           "bgcolor": "#E5ECF6",
           "radialaxis": {
            "gridcolor": "white",
            "linecolor": "white",
            "ticks": ""
           }
          },
          "scene": {
           "xaxis": {
            "backgroundcolor": "#E5ECF6",
            "gridcolor": "white",
            "gridwidth": 2,
            "linecolor": "white",
            "showbackground": true,
            "ticks": "",
            "zerolinecolor": "white"
           },
           "yaxis": {
            "backgroundcolor": "#E5ECF6",
            "gridcolor": "white",
            "gridwidth": 2,
            "linecolor": "white",
            "showbackground": true,
            "ticks": "",
            "zerolinecolor": "white"
           },
           "zaxis": {
            "backgroundcolor": "#E5ECF6",
            "gridcolor": "white",
            "gridwidth": 2,
            "linecolor": "white",
            "showbackground": true,
            "ticks": "",
            "zerolinecolor": "white"
           }
          },
          "shapedefaults": {
           "line": {
            "color": "#2a3f5f"
           }
          },
          "ternary": {
           "aaxis": {
            "gridcolor": "white",
            "linecolor": "white",
            "ticks": ""
           },
           "baxis": {
            "gridcolor": "white",
            "linecolor": "white",
            "ticks": ""
           },
           "bgcolor": "#E5ECF6",
           "caxis": {
            "gridcolor": "white",
            "linecolor": "white",
            "ticks": ""
           }
          },
          "title": {
           "x": 0.05
          },
          "xaxis": {
           "automargin": true,
           "gridcolor": "white",
           "linecolor": "white",
           "ticks": "",
           "title": {
            "standoff": 15
           },
           "zerolinecolor": "white",
           "zerolinewidth": 2
          },
          "yaxis": {
           "automargin": true,
           "gridcolor": "white",
           "linecolor": "white",
           "ticks": "",
           "title": {
            "standoff": 15
           },
           "zerolinecolor": "white",
           "zerolinewidth": 2
          }
         }
        },
        "xaxis": {
         "anchor": "y",
         "domain": [
          0,
          1
         ],
         "title": {
          "text": "Perioden"
         }
        },
        "yaxis": {
         "anchor": "x",
         "domain": [
          0,
          1
         ],
         "title": {
          "text": "Ritten per persoon per dag (gemiddeld) (aantal)"
         }
        }
       }
      }
     },
     "metadata": {},
     "output_type": "display_data"
    }
   ],
   "source": [
    "px.bar(df_mat,\n",
    "        x=\"Perioden\",\n",
    "        y=\"Ritten per persoon per dag (gemiddeld) (aantal)\",\n",
    "        color=\"Reismotieven\")\n"
   ]
  },
  {
   "cell_type": "code",
   "execution_count": 114,
   "metadata": {},
   "outputs": [
    {
     "data": {
      "application/vnd.plotly.v1+json": {
       "config": {
        "plotlyServerURL": "https://plot.ly"
       },
       "data": [
        {
         "hovertemplate": "Reismotieven=Onderwijs volgen, cursus, kinderopvang<br>Perioden=%{x}<br>Ritten per persoon per dag (gemiddeld) (aantal)=%{y}<extra></extra>",
         "legendgroup": "Onderwijs volgen, cursus, kinderopvang",
         "line": {
          "color": "#636efa",
          "dash": "solid"
         },
         "marker": {
          "symbol": "circle"
         },
         "mode": "lines",
         "name": "Onderwijs volgen, cursus, kinderopvang",
         "orientation": "v",
         "showlegend": true,
         "type": "scatter",
         "x": [
          "2020*",
          "2021*",
          "2022*",
          "2023*",
          "2019*",
          "2015*",
          "2003*",
          "1999*",
          "2011*",
          "2007*"
         ],
         "xaxis": "x",
         "y": [
          "    0.17",
          "    0.17",
          "    0.22",
          "    0.23",
          "    0.28",
          "    0.29",
          "    0.29",
          "    0.30",
          "    0.30",
          "    0.30"
         ],
         "yaxis": "y"
        },
        {
         "hovertemplate": "Reismotieven=Overige reismotieven<br>Perioden=%{x}<br>Ritten per persoon per dag (gemiddeld) (aantal)=%{y}<extra></extra>",
         "legendgroup": "Overige reismotieven",
         "line": {
          "color": "#EF553B",
          "dash": "solid"
         },
         "marker": {
          "symbol": "circle"
         },
         "mode": "lines",
         "name": "Overige reismotieven",
         "orientation": "v",
         "showlegend": true,
         "type": "scatter",
         "x": [
          "2020*",
          "2021*",
          "2015*",
          "2019*",
          "2023*",
          "2022*",
          "2011*",
          "2007*",
          "2003*",
          "1999*"
         ],
         "xaxis": "x",
         "y": [
          "    0.40",
          "    0.44",
          "    0.45",
          "    0.45",
          "    0.46",
          "    0.46",
          "    0.51",
          "    0.54",
          "    0.58",
          "    0.59"
         ],
         "yaxis": "y"
        },
        {
         "hovertemplate": "Reismotieven=Van en naar het werk<br>Perioden=%{x}<br>Ritten per persoon per dag (gemiddeld) (aantal)=%{y}<extra></extra>",
         "legendgroup": "Van en naar het werk",
         "line": {
          "color": "#00cc96",
          "dash": "solid"
         },
         "marker": {
          "symbol": "circle"
         },
         "mode": "lines",
         "name": "Van en naar het werk",
         "orientation": "v",
         "showlegend": true,
         "type": "scatter",
         "x": [
          "2020*",
          "2021*",
          "2022*",
          "2023*",
          "2003*",
          "1999*",
          "2019*",
          "2015*",
          "2007*",
          "2011*"
         ],
         "xaxis": "x",
         "y": [
          "    0.41",
          "    0.41",
          "    0.48",
          "    0.51",
          "    0.58",
          "    0.59",
          "    0.61",
          "    0.61",
          "    0.61",
          "    0.62"
         ],
         "yaxis": "y"
        },
        {
         "hovertemplate": "Reismotieven=Winkelen, boodschappen doen<br>Perioden=%{x}<br>Ritten per persoon per dag (gemiddeld) (aantal)=%{y}<extra></extra>",
         "legendgroup": "Winkelen, boodschappen doen",
         "line": {
          "color": "#ab63fa",
          "dash": "solid"
         },
         "marker": {
          "symbol": "circle"
         },
         "mode": "lines",
         "name": "Winkelen, boodschappen doen",
         "orientation": "v",
         "showlegend": true,
         "type": "scatter",
         "x": [
          "2021*",
          "2020*",
          "2019*",
          "2022*",
          "2023*",
          "2015*",
          "2011*",
          "2007*",
          "2003*",
          "1999*"
         ],
         "xaxis": "x",
         "y": [
          "    0.57",
          "    0.57",
          "    0.57",
          "    0.60",
          "    0.60",
          "    0.61",
          "    0.61",
          "    0.65",
          "    0.70",
          "    0.73"
         ],
         "yaxis": "y"
        },
        {
         "hovertemplate": "Reismotieven=Vrije tijd<br>Perioden=%{x}<br>Ritten per persoon per dag (gemiddeld) (aantal)=%{y}<extra></extra>",
         "legendgroup": "Vrije tijd",
         "line": {
          "color": "#FFA15A",
          "dash": "solid"
         },
         "marker": {
          "symbol": "circle"
         },
         "mode": "lines",
         "name": "Vrije tijd",
         "orientation": "v",
         "showlegend": true,
         "type": "scatter",
         "x": [
          "2020*",
          "2021*",
          "2019*",
          "2011*",
          "2015*",
          "2007*",
          "2022*",
          "2023*",
          "2003*",
          "1999*"
         ],
         "xaxis": "x",
         "y": [
          "    0.93",
          "    1.03",
          "    1.05",
          "    1.05",
          "    1.07",
          "    1.10",
          "    1.11",
          "    1.12",
          "    1.15",
          "    1.19"
         ],
         "yaxis": "y"
        }
       ],
       "layout": {
        "legend": {
         "title": {
          "text": "Reismotieven"
         },
         "tracegroupgap": 0
        },
        "margin": {
         "t": 60
        },
        "template": {
         "data": {
          "bar": [
           {
            "error_x": {
             "color": "#2a3f5f"
            },
            "error_y": {
             "color": "#2a3f5f"
            },
            "marker": {
             "line": {
              "color": "#E5ECF6",
              "width": 0.5
             },
             "pattern": {
              "fillmode": "overlay",
              "size": 10,
              "solidity": 0.2
             }
            },
            "type": "bar"
           }
          ],
          "barpolar": [
           {
            "marker": {
             "line": {
              "color": "#E5ECF6",
              "width": 0.5
             },
             "pattern": {
              "fillmode": "overlay",
              "size": 10,
              "solidity": 0.2
             }
            },
            "type": "barpolar"
           }
          ],
          "carpet": [
           {
            "aaxis": {
             "endlinecolor": "#2a3f5f",
             "gridcolor": "white",
             "linecolor": "white",
             "minorgridcolor": "white",
             "startlinecolor": "#2a3f5f"
            },
            "baxis": {
             "endlinecolor": "#2a3f5f",
             "gridcolor": "white",
             "linecolor": "white",
             "minorgridcolor": "white",
             "startlinecolor": "#2a3f5f"
            },
            "type": "carpet"
           }
          ],
          "choropleth": [
           {
            "colorbar": {
             "outlinewidth": 0,
             "ticks": ""
            },
            "type": "choropleth"
           }
          ],
          "contour": [
           {
            "colorbar": {
             "outlinewidth": 0,
             "ticks": ""
            },
            "colorscale": [
             [
              0,
              "#0d0887"
             ],
             [
              0.1111111111111111,
              "#46039f"
             ],
             [
              0.2222222222222222,
              "#7201a8"
             ],
             [
              0.3333333333333333,
              "#9c179e"
             ],
             [
              0.4444444444444444,
              "#bd3786"
             ],
             [
              0.5555555555555556,
              "#d8576b"
             ],
             [
              0.6666666666666666,
              "#ed7953"
             ],
             [
              0.7777777777777778,
              "#fb9f3a"
             ],
             [
              0.8888888888888888,
              "#fdca26"
             ],
             [
              1,
              "#f0f921"
             ]
            ],
            "type": "contour"
           }
          ],
          "contourcarpet": [
           {
            "colorbar": {
             "outlinewidth": 0,
             "ticks": ""
            },
            "type": "contourcarpet"
           }
          ],
          "heatmap": [
           {
            "colorbar": {
             "outlinewidth": 0,
             "ticks": ""
            },
            "colorscale": [
             [
              0,
              "#0d0887"
             ],
             [
              0.1111111111111111,
              "#46039f"
             ],
             [
              0.2222222222222222,
              "#7201a8"
             ],
             [
              0.3333333333333333,
              "#9c179e"
             ],
             [
              0.4444444444444444,
              "#bd3786"
             ],
             [
              0.5555555555555556,
              "#d8576b"
             ],
             [
              0.6666666666666666,
              "#ed7953"
             ],
             [
              0.7777777777777778,
              "#fb9f3a"
             ],
             [
              0.8888888888888888,
              "#fdca26"
             ],
             [
              1,
              "#f0f921"
             ]
            ],
            "type": "heatmap"
           }
          ],
          "heatmapgl": [
           {
            "colorbar": {
             "outlinewidth": 0,
             "ticks": ""
            },
            "colorscale": [
             [
              0,
              "#0d0887"
             ],
             [
              0.1111111111111111,
              "#46039f"
             ],
             [
              0.2222222222222222,
              "#7201a8"
             ],
             [
              0.3333333333333333,
              "#9c179e"
             ],
             [
              0.4444444444444444,
              "#bd3786"
             ],
             [
              0.5555555555555556,
              "#d8576b"
             ],
             [
              0.6666666666666666,
              "#ed7953"
             ],
             [
              0.7777777777777778,
              "#fb9f3a"
             ],
             [
              0.8888888888888888,
              "#fdca26"
             ],
             [
              1,
              "#f0f921"
             ]
            ],
            "type": "heatmapgl"
           }
          ],
          "histogram": [
           {
            "marker": {
             "pattern": {
              "fillmode": "overlay",
              "size": 10,
              "solidity": 0.2
             }
            },
            "type": "histogram"
           }
          ],
          "histogram2d": [
           {
            "colorbar": {
             "outlinewidth": 0,
             "ticks": ""
            },
            "colorscale": [
             [
              0,
              "#0d0887"
             ],
             [
              0.1111111111111111,
              "#46039f"
             ],
             [
              0.2222222222222222,
              "#7201a8"
             ],
             [
              0.3333333333333333,
              "#9c179e"
             ],
             [
              0.4444444444444444,
              "#bd3786"
             ],
             [
              0.5555555555555556,
              "#d8576b"
             ],
             [
              0.6666666666666666,
              "#ed7953"
             ],
             [
              0.7777777777777778,
              "#fb9f3a"
             ],
             [
              0.8888888888888888,
              "#fdca26"
             ],
             [
              1,
              "#f0f921"
             ]
            ],
            "type": "histogram2d"
           }
          ],
          "histogram2dcontour": [
           {
            "colorbar": {
             "outlinewidth": 0,
             "ticks": ""
            },
            "colorscale": [
             [
              0,
              "#0d0887"
             ],
             [
              0.1111111111111111,
              "#46039f"
             ],
             [
              0.2222222222222222,
              "#7201a8"
             ],
             [
              0.3333333333333333,
              "#9c179e"
             ],
             [
              0.4444444444444444,
              "#bd3786"
             ],
             [
              0.5555555555555556,
              "#d8576b"
             ],
             [
              0.6666666666666666,
              "#ed7953"
             ],
             [
              0.7777777777777778,
              "#fb9f3a"
             ],
             [
              0.8888888888888888,
              "#fdca26"
             ],
             [
              1,
              "#f0f921"
             ]
            ],
            "type": "histogram2dcontour"
           }
          ],
          "mesh3d": [
           {
            "colorbar": {
             "outlinewidth": 0,
             "ticks": ""
            },
            "type": "mesh3d"
           }
          ],
          "parcoords": [
           {
            "line": {
             "colorbar": {
              "outlinewidth": 0,
              "ticks": ""
             }
            },
            "type": "parcoords"
           }
          ],
          "pie": [
           {
            "automargin": true,
            "type": "pie"
           }
          ],
          "scatter": [
           {
            "fillpattern": {
             "fillmode": "overlay",
             "size": 10,
             "solidity": 0.2
            },
            "type": "scatter"
           }
          ],
          "scatter3d": [
           {
            "line": {
             "colorbar": {
              "outlinewidth": 0,
              "ticks": ""
             }
            },
            "marker": {
             "colorbar": {
              "outlinewidth": 0,
              "ticks": ""
             }
            },
            "type": "scatter3d"
           }
          ],
          "scattercarpet": [
           {
            "marker": {
             "colorbar": {
              "outlinewidth": 0,
              "ticks": ""
             }
            },
            "type": "scattercarpet"
           }
          ],
          "scattergeo": [
           {
            "marker": {
             "colorbar": {
              "outlinewidth": 0,
              "ticks": ""
             }
            },
            "type": "scattergeo"
           }
          ],
          "scattergl": [
           {
            "marker": {
             "colorbar": {
              "outlinewidth": 0,
              "ticks": ""
             }
            },
            "type": "scattergl"
           }
          ],
          "scattermapbox": [
           {
            "marker": {
             "colorbar": {
              "outlinewidth": 0,
              "ticks": ""
             }
            },
            "type": "scattermapbox"
           }
          ],
          "scatterpolar": [
           {
            "marker": {
             "colorbar": {
              "outlinewidth": 0,
              "ticks": ""
             }
            },
            "type": "scatterpolar"
           }
          ],
          "scatterpolargl": [
           {
            "marker": {
             "colorbar": {
              "outlinewidth": 0,
              "ticks": ""
             }
            },
            "type": "scatterpolargl"
           }
          ],
          "scatterternary": [
           {
            "marker": {
             "colorbar": {
              "outlinewidth": 0,
              "ticks": ""
             }
            },
            "type": "scatterternary"
           }
          ],
          "surface": [
           {
            "colorbar": {
             "outlinewidth": 0,
             "ticks": ""
            },
            "colorscale": [
             [
              0,
              "#0d0887"
             ],
             [
              0.1111111111111111,
              "#46039f"
             ],
             [
              0.2222222222222222,
              "#7201a8"
             ],
             [
              0.3333333333333333,
              "#9c179e"
             ],
             [
              0.4444444444444444,
              "#bd3786"
             ],
             [
              0.5555555555555556,
              "#d8576b"
             ],
             [
              0.6666666666666666,
              "#ed7953"
             ],
             [
              0.7777777777777778,
              "#fb9f3a"
             ],
             [
              0.8888888888888888,
              "#fdca26"
             ],
             [
              1,
              "#f0f921"
             ]
            ],
            "type": "surface"
           }
          ],
          "table": [
           {
            "cells": {
             "fill": {
              "color": "#EBF0F8"
             },
             "line": {
              "color": "white"
             }
            },
            "header": {
             "fill": {
              "color": "#C8D4E3"
             },
             "line": {
              "color": "white"
             }
            },
            "type": "table"
           }
          ]
         },
         "layout": {
          "annotationdefaults": {
           "arrowcolor": "#2a3f5f",
           "arrowhead": 0,
           "arrowwidth": 1
          },
          "autotypenumbers": "strict",
          "coloraxis": {
           "colorbar": {
            "outlinewidth": 0,
            "ticks": ""
           }
          },
          "colorscale": {
           "diverging": [
            [
             0,
             "#8e0152"
            ],
            [
             0.1,
             "#c51b7d"
            ],
            [
             0.2,
             "#de77ae"
            ],
            [
             0.3,
             "#f1b6da"
            ],
            [
             0.4,
             "#fde0ef"
            ],
            [
             0.5,
             "#f7f7f7"
            ],
            [
             0.6,
             "#e6f5d0"
            ],
            [
             0.7,
             "#b8e186"
            ],
            [
             0.8,
             "#7fbc41"
            ],
            [
             0.9,
             "#4d9221"
            ],
            [
             1,
             "#276419"
            ]
           ],
           "sequential": [
            [
             0,
             "#0d0887"
            ],
            [
             0.1111111111111111,
             "#46039f"
            ],
            [
             0.2222222222222222,
             "#7201a8"
            ],
            [
             0.3333333333333333,
             "#9c179e"
            ],
            [
             0.4444444444444444,
             "#bd3786"
            ],
            [
             0.5555555555555556,
             "#d8576b"
            ],
            [
             0.6666666666666666,
             "#ed7953"
            ],
            [
             0.7777777777777778,
             "#fb9f3a"
            ],
            [
             0.8888888888888888,
             "#fdca26"
            ],
            [
             1,
             "#f0f921"
            ]
           ],
           "sequentialminus": [
            [
             0,
             "#0d0887"
            ],
            [
             0.1111111111111111,
             "#46039f"
            ],
            [
             0.2222222222222222,
             "#7201a8"
            ],
            [
             0.3333333333333333,
             "#9c179e"
            ],
            [
             0.4444444444444444,
             "#bd3786"
            ],
            [
             0.5555555555555556,
             "#d8576b"
            ],
            [
             0.6666666666666666,
             "#ed7953"
            ],
            [
             0.7777777777777778,
             "#fb9f3a"
            ],
            [
             0.8888888888888888,
             "#fdca26"
            ],
            [
             1,
             "#f0f921"
            ]
           ]
          },
          "colorway": [
           "#636efa",
           "#EF553B",
           "#00cc96",
           "#ab63fa",
           "#FFA15A",
           "#19d3f3",
           "#FF6692",
           "#B6E880",
           "#FF97FF",
           "#FECB52"
          ],
          "font": {
           "color": "#2a3f5f"
          },
          "geo": {
           "bgcolor": "white",
           "lakecolor": "white",
           "landcolor": "#E5ECF6",
           "showlakes": true,
           "showland": true,
           "subunitcolor": "white"
          },
          "hoverlabel": {
           "align": "left"
          },
          "hovermode": "closest",
          "mapbox": {
           "style": "light"
          },
          "paper_bgcolor": "white",
          "plot_bgcolor": "#E5ECF6",
          "polar": {
           "angularaxis": {
            "gridcolor": "white",
            "linecolor": "white",
            "ticks": ""
           },
           "bgcolor": "#E5ECF6",
           "radialaxis": {
            "gridcolor": "white",
            "linecolor": "white",
            "ticks": ""
           }
          },
          "scene": {
           "xaxis": {
            "backgroundcolor": "#E5ECF6",
            "gridcolor": "white",
            "gridwidth": 2,
            "linecolor": "white",
            "showbackground": true,
            "ticks": "",
            "zerolinecolor": "white"
           },
           "yaxis": {
            "backgroundcolor": "#E5ECF6",
            "gridcolor": "white",
            "gridwidth": 2,
            "linecolor": "white",
            "showbackground": true,
            "ticks": "",
            "zerolinecolor": "white"
           },
           "zaxis": {
            "backgroundcolor": "#E5ECF6",
            "gridcolor": "white",
            "gridwidth": 2,
            "linecolor": "white",
            "showbackground": true,
            "ticks": "",
            "zerolinecolor": "white"
           }
          },
          "shapedefaults": {
           "line": {
            "color": "#2a3f5f"
           }
          },
          "ternary": {
           "aaxis": {
            "gridcolor": "white",
            "linecolor": "white",
            "ticks": ""
           },
           "baxis": {
            "gridcolor": "white",
            "linecolor": "white",
            "ticks": ""
           },
           "bgcolor": "#E5ECF6",
           "caxis": {
            "gridcolor": "white",
            "linecolor": "white",
            "ticks": ""
           }
          },
          "title": {
           "x": 0.05
          },
          "xaxis": {
           "automargin": true,
           "gridcolor": "white",
           "linecolor": "white",
           "ticks": "",
           "title": {
            "standoff": 15
           },
           "zerolinecolor": "white",
           "zerolinewidth": 2
          },
          "yaxis": {
           "automargin": true,
           "gridcolor": "white",
           "linecolor": "white",
           "ticks": "",
           "title": {
            "standoff": 15
           },
           "zerolinecolor": "white",
           "zerolinewidth": 2
          }
         }
        },
        "xaxis": {
         "anchor": "y",
         "domain": [
          0,
          1
         ],
         "title": {
          "text": "Perioden"
         }
        },
        "yaxis": {
         "anchor": "x",
         "domain": [
          0,
          1
         ],
         "title": {
          "text": "Ritten per persoon per dag (gemiddeld) (aantal)"
         }
        }
       }
      }
     },
     "metadata": {},
     "output_type": "display_data"
    }
   ],
   "source": [
    "px.line(df_mat,\n",
    "        x=\"Perioden\",\n",
    "        y=\"Ritten per persoon per dag (gemiddeld) (aantal)\",\n",
    "        line_group= 'Reismotieven',\n",
    "        color=\"Reismotieven\")\n"
   ]
  },
  {
   "cell_type": "code",
   "execution_count": 76,
   "metadata": {},
   "outputs": [
    {
     "ename": "TypeError",
     "evalue": "sort_values() missing 1 required positional argument: 'by'",
     "output_type": "error",
     "traceback": [
      "\u001b[0;31m---------------------------------------------------------------------------\u001b[0m",
      "\u001b[0;31mTypeError\u001b[0m                                 Traceback (most recent call last)",
      "Cell \u001b[0;32mIn[76], line 4\u001b[0m\n\u001b[1;32m      2\u001b[0m df_mat \u001b[38;5;241m=\u001b[39m df_mat[df_mat[\u001b[38;5;124m'\u001b[39m\u001b[38;5;124mVervoerwijzen\u001b[39m\u001b[38;5;124m'\u001b[39m]\u001b[38;5;241m==\u001b[39m\u001b[38;5;124m'\u001b[39m\u001b[38;5;124mTotaal\u001b[39m\u001b[38;5;124m'\u001b[39m]\n\u001b[1;32m      3\u001b[0m df_mat \u001b[38;5;241m=\u001b[39m df_mat[df_mat[\u001b[38;5;124m'\u001b[39m\u001b[38;5;124mReismotieven\u001b[39m\u001b[38;5;124m'\u001b[39m]\u001b[38;5;241m!=\u001b[39m\u001b[38;5;124m'\u001b[39m\u001b[38;5;124mTotaal\u001b[39m\u001b[38;5;124m'\u001b[39m]\n\u001b[0;32m----> 4\u001b[0m df_mat\u001b[38;5;241m=\u001b[39m \u001b[43mdf_mat\u001b[49m\u001b[38;5;241;43m.\u001b[39;49m\u001b[43msort_values\u001b[49m\u001b[43m(\u001b[49m\u001b[43m)\u001b[49m\n\u001b[1;32m      6\u001b[0m fig \u001b[38;5;241m=\u001b[39m plt\u001b[38;5;241m.\u001b[39mfigure(figsize\u001b[38;5;241m=\u001b[39m(\u001b[38;5;241m12\u001b[39m, \u001b[38;5;241m9\u001b[39m))\n\u001b[1;32m      7\u001b[0m gs \u001b[38;5;241m=\u001b[39m fig\u001b[38;5;241m.\u001b[39madd_gridspec(nrows\u001b[38;5;241m=\u001b[39m\u001b[38;5;241m2\u001b[39m)\n",
      "\u001b[0;31mTypeError\u001b[0m: sort_values() missing 1 required positional argument: 'by'"
     ]
    }
   ],
   "source": [
    "df_mat = df_mat[df_mat['Leeftijd']=='Totaal']\n",
    "df_mat = df_mat[df_mat['Vervoerwijzen']=='Totaal']\n",
    "df_mat = df_mat[df_mat['Reismotieven']!='Totaal']\n",
    "\n",
    "\n",
    "fig = plt.figure(figsize=(12, 9))\n",
    "gs = fig.add_gridspec(nrows=2)\n",
    "colors = ['blue','orange','green','red','purple','brown','black']\n",
    "\n",
    "\n",
    "x = df_mat['Perioden'].drop_duplicates()\n",
    "y = df_mat['Reismotieven'].drop_duplicates()\n",
    "labels = ['from and to work','shopping','education and childcare','other motivations']\n",
    "ax = fig.add_subplot(gs[0])\n",
    "j=0\n",
    "for i in y:\n",
    "    ax.plot(x,df_mat[df_mat['Reismotieven']==i]['Ritten per persoon per dag (gemiddeld) (aantal)'],color = colors[j],marker = '.')\n",
    "    j+=1\n",
    "ax.set_xlabel('Year')\n",
    "ax.set_ylabel('Trips per person per day (on Average)')\n",
    "ax.set_xticks(ax.get_xticks()[::1])\n",
    "ax.set_yticks(ax.get_yticks()[::3])\n",
    "ax.set_title('Trend of Trips per Day of Different Travel Motivations')\n",
    "ax.legend(labels,loc='upper right',bbox_to_anchor=(1.27, 1))\n",
    "\n",
    "\n",
    "\n",
    "plt.show()"
   ]
  },
  {
   "cell_type": "code",
   "execution_count": 54,
   "metadata": {},
   "outputs": [
    {
     "data": {
      "image/png": "[encoded data removed]",
      "text/plain": [
       "<Figure size 1200x900 with 1 Axes>"
      ]
     },
     "metadata": {},
     "output_type": "display_data"
    }
   ],
   "source": [
    "df_mat = df_mat[df_mat['Leeftijd']=='Totaal']\n",
    "df_mat = df_mat[df_mat['Reismotieven']=='Totaal']\n",
    "df_mat = df_mat[df_mat['Vervoerwijzen']!='Totaal']\n",
    "\n",
    "fig = plt.figure(figsize=(12, 9))\n",
    "gs = fig.add_gridspec(nrows=2)\n",
    "colors = ['blue','orange','green','red','purple','brown','black']\n",
    "\n",
    "\n",
    "x = df_mat['Perioden'].drop_duplicates()\n",
    "y = df_mat['Vervoerwijzen'].drop_duplicates()\n",
    "labels = ['Car(driver)','Car(passenger)','Train','Bus/Tram/Metro','Bike','Walk','Other Modes']\n",
    "ax = fig.add_subplot(gs[0])\n",
    "j=0\n",
    "for i in y:\n",
    "    ax.plot(x,df_mat[df_mat['Vervoerwijzen']==i]['Ritten per persoon per dag (gemiddeld) (aantal)'],color = colors[j],marker = '.')\n",
    "    j+=1\n",
    "ax.set_xlabel('Year')\n",
    "ax.set_ylabel('Trips per person per day (on Average)')\n",
    "ax.set_xticks(ax.get_xticks()[::3])\n",
    "ax.set_title('Trend of Trips per Day of Different Modes')\n",
    "ax.legend(labels,loc='upper right',bbox_to_anchor=(1.23, 1))\n",
    "\n",
    "\n",
    "plt.tight_layout()\n",
    "plt.show()"
   ]
  },
  {
   "cell_type": "code",
   "execution_count": 55,
   "metadata": {},
   "outputs": [
    {
     "data": {
      "image/png": "[encoded data removed]",
      "text/plain": [
       "<Figure size 1200x900 with 1 Axes>"
      ]
     },
     "metadata": {},
     "output_type": "display_data"
    }
   ],
   "source": [
    "import matplotlib.pyplot as plt\n",
    "\n",
    "df_1 = df_mat[df_mat['Leeftijd']=='Totaal']\n",
    "df_1 = df_mat[df_mat['Reismotieven']=='Totaal']\n",
    "df_1 = df_mat[df_mat['Vervoerwijzen']!='Totaal']\n",
    "\n",
    "fig = plt.figure(figsize=(12, 9))\n",
    "gs = fig.add_gridspec(nrows=2)\n",
    "colors = ['blue','orange','green','red','purple','brown','black']\n",
    "\n",
    "\n",
    "x = df_1['Perioden'].drop_duplicates()\n",
    "y = df_1['Vervoerwijzen'].drop_duplicates()\n",
    "labels = ['Car(driver)','Car(passenger)','Train','Bus/Tram/Metro','Bike','Walk','Other Modes']\n",
    "ax = fig.add_subplot(gs[0])\n",
    "j=0\n",
    "for i in y:\n",
    "    ax.plot(x,df_1[df_1['Vervoerwijzen']==i]['Ritten per persoon per dag (gemiddeld) (aantal)'],color = colors[j],marker = '.')\n",
    "    j+=1\n",
    "ax.set_xlabel('Year')\n",
    "ax.set_ylabel('Trips per person per day (on Average)')\n",
    "ax.set_xticks(ax.get_xticks()[::1])\n",
    "ax.set_yticks(ax.get_yticks()[::3])\n",
    "ax.set_title('Trend of Trips per Day of Different Modes')\n",
    "ax.legend(labels,loc='upper right',bbox_to_anchor=(1.23, 1))\n",
    "\n",
    "plt.show()\n"
   ]
  },
  {
   "cell_type": "code",
   "execution_count": 77,
   "metadata": {},
   "outputs": [
    {
     "data": {
      "application/vnd.plotly.v1+json": {
       "config": {
        "plotlyServerURL": "https://plot.ly"
       },
       "data": [
        {
         "hovertemplate": "Reismotieven=Van en naar het werk<br>Perioden=%{x}<br>Ritten per persoon per dag (gemiddeld) (aantal)=%{y}<extra></extra>",
         "legendgroup": "Van en naar het werk",
         "line": {
          "color": "#636efa",
          "dash": "solid"
         },
         "marker": {
          "symbol": "circle"
         },
         "mode": "lines",
         "name": "Van en naar het werk",
         "orientation": "v",
         "showlegend": true,
         "type": "scatter",
         "x": [
          "1999*",
          "2003*",
          "2007*",
          "2011*",
          "2015*",
          "2019*",
          "2020*",
          "2021*",
          "2022*",
          "2023*"
         ],
         "xaxis": "x",
         "y": [
          "    0.59",
          "    0.58",
          "    0.61",
          "    0.62",
          "    0.61",
          "    0.61",
          "    0.41",
          "    0.41",
          "    0.48",
          "    0.51"
         ],
         "yaxis": "y"
        },
        {
         "hovertemplate": "Reismotieven=Winkelen, boodschappen doen<br>Perioden=%{x}<br>Ritten per persoon per dag (gemiddeld) (aantal)=%{y}<extra></extra>",
         "legendgroup": "Winkelen, boodschappen doen",
         "line": {
          "color": "#EF553B",
          "dash": "solid"
         },
         "marker": {
          "symbol": "circle"
         },
         "mode": "lines",
         "name": "Winkelen, boodschappen doen",
         "orientation": "v",
         "showlegend": true,
         "type": "scatter",
         "x": [
          "1999*",
          "2003*",
          "2007*",
          "2011*",
          "2015*",
          "2019*",
          "2020*",
          "2021*",
          "2022*",
          "2023*"
         ],
         "xaxis": "x",
         "y": [
          "    0.73",
          "    0.70",
          "    0.65",
          "    0.61",
          "    0.61",
          "    0.57",
          "    0.57",
          "    0.57",
          "    0.60",
          "    0.60"
         ],
         "yaxis": "y"
        },
        {
         "hovertemplate": "Reismotieven=Onderwijs volgen, cursus, kinderopvang<br>Perioden=%{x}<br>Ritten per persoon per dag (gemiddeld) (aantal)=%{y}<extra></extra>",
         "legendgroup": "Onderwijs volgen, cursus, kinderopvang",
         "line": {
          "color": "#00cc96",
          "dash": "solid"
         },
         "marker": {
          "symbol": "circle"
         },
         "mode": "lines",
         "name": "Onderwijs volgen, cursus, kinderopvang",
         "orientation": "v",
         "showlegend": true,
         "type": "scatter",
         "x": [
          "1999*",
          "2003*",
          "2007*",
          "2011*",
          "2015*",
          "2019*",
          "2020*",
          "2021*",
          "2022*",
          "2023*"
         ],
         "xaxis": "x",
         "y": [
          "    0.30",
          "    0.29",
          "    0.30",
          "    0.30",
          "    0.29",
          "    0.28",
          "    0.17",
          "    0.17",
          "    0.22",
          "    0.23"
         ],
         "yaxis": "y"
        },
        {
         "hovertemplate": "Reismotieven=Vrije tijd<br>Perioden=%{x}<br>Ritten per persoon per dag (gemiddeld) (aantal)=%{y}<extra></extra>",
         "legendgroup": "Vrije tijd",
         "line": {
          "color": "#ab63fa",
          "dash": "solid"
         },
         "marker": {
          "symbol": "circle"
         },
         "mode": "lines",
         "name": "Vrije tijd",
         "orientation": "v",
         "showlegend": true,
         "type": "scatter",
         "x": [
          "1999*",
          "2003*",
          "2007*",
          "2011*",
          "2015*",
          "2019*",
          "2020*",
          "2021*",
          "2022*",
          "2023*"
         ],
         "xaxis": "x",
         "y": [
          "    1.19",
          "    1.15",
          "    1.10",
          "    1.05",
          "    1.07",
          "    1.05",
          "    0.93",
          "    1.03",
          "    1.11",
          "    1.12"
         ],
         "yaxis": "y"
        },
        {
         "hovertemplate": "Reismotieven=Overige reismotieven<br>Perioden=%{x}<br>Ritten per persoon per dag (gemiddeld) (aantal)=%{y}<extra></extra>",
         "legendgroup": "Overige reismotieven",
         "line": {
          "color": "#FFA15A",
          "dash": "solid"
         },
         "marker": {
          "symbol": "circle"
         },
         "mode": "lines",
         "name": "Overige reismotieven",
         "orientation": "v",
         "showlegend": true,
         "type": "scatter",
         "x": [
          "1999*",
          "2003*",
          "2007*",
          "2011*",
          "2015*",
          "2019*",
          "2020*",
          "2021*",
          "2022*",
          "2023*"
         ],
         "xaxis": "x",
         "y": [
          "    0.59",
          "    0.58",
          "    0.54",
          "    0.51",
          "    0.45",
          "    0.45",
          "    0.40",
          "    0.44",
          "    0.46",
          "    0.46"
         ],
         "yaxis": "y"
        }
       ],
       "layout": {
        "legend": {
         "title": {
          "text": "Reismotieven"
         },
         "tracegroupgap": 0
        },
        "margin": {
         "t": 60
        },
        "template": {
         "data": {
          "bar": [
           {
            "error_x": {
             "color": "#2a3f5f"
            },
            "error_y": {
             "color": "#2a3f5f"
            },
            "marker": {
             "line": {
              "color": "#E5ECF6",
              "width": 0.5
             },
             "pattern": {
              "fillmode": "overlay",
              "size": 10,
              "solidity": 0.2
             }
            },
            "type": "bar"
           }
          ],
          "barpolar": [
           {
            "marker": {
             "line": {
              "color": "#E5ECF6",
              "width": 0.5
             },
             "pattern": {
              "fillmode": "overlay",
              "size": 10,
              "solidity": 0.2
             }
            },
            "type": "barpolar"
           }
          ],
          "carpet": [
           {
            "aaxis": {
             "endlinecolor": "#2a3f5f",
             "gridcolor": "white",
             "linecolor": "white",
             "minorgridcolor": "white",
             "startlinecolor": "#2a3f5f"
            },
            "baxis": {
             "endlinecolor": "#2a3f5f",
             "gridcolor": "white",
             "linecolor": "white",
             "minorgridcolor": "white",
             "startlinecolor": "#2a3f5f"
            },
            "type": "carpet"
           }
          ],
          "choropleth": [
           {
            "colorbar": {
             "outlinewidth": 0,
             "ticks": ""
            },
            "type": "choropleth"
           }
          ],
          "contour": [
           {
            "colorbar": {
             "outlinewidth": 0,
             "ticks": ""
            },
            "colorscale": [
             [
              0,
              "#0d0887"
             ],
             [
              0.1111111111111111,
              "#46039f"
             ],
             [
              0.2222222222222222,
              "#7201a8"
             ],
             [
              0.3333333333333333,
              "#9c179e"
             ],
             [
              0.4444444444444444,
              "#bd3786"
             ],
             [
              0.5555555555555556,
              "#d8576b"
             ],
             [
              0.6666666666666666,
              "#ed7953"
             ],
             [
              0.7777777777777778,
              "#fb9f3a"
             ],
             [
              0.8888888888888888,
              "#fdca26"
             ],
             [
              1,
              "#f0f921"
             ]
            ],
            "type": "contour"
           }
          ],
          "contourcarpet": [
           {
            "colorbar": {
             "outlinewidth": 0,
             "ticks": ""
            },
            "type": "contourcarpet"
           }
          ],
          "heatmap": [
           {
            "colorbar": {
             "outlinewidth": 0,
             "ticks": ""
            },
            "colorscale": [
             [
              0,
              "#0d0887"
             ],
             [
              0.1111111111111111,
              "#46039f"
             ],
             [
              0.2222222222222222,
              "#7201a8"
             ],
             [
              0.3333333333333333,
              "#9c179e"
             ],
             [
              0.4444444444444444,
              "#bd3786"
             ],
             [
              0.5555555555555556,
              "#d8576b"
             ],
             [
              0.6666666666666666,
              "#ed7953"
             ],
             [
              0.7777777777777778,
              "#fb9f3a"
             ],
             [
              0.8888888888888888,
              "#fdca26"
             ],
             [
              1,
              "#f0f921"
             ]
            ],
            "type": "heatmap"
           }
          ],
          "heatmapgl": [
           {
            "colorbar": {
             "outlinewidth": 0,
             "ticks": ""
            },
            "colorscale": [
             [
              0,
              "#0d0887"
             ],
             [
              0.1111111111111111,
              "#46039f"
             ],
             [
              0.2222222222222222,
              "#7201a8"
             ],
             [
              0.3333333333333333,
              "#9c179e"
             ],
             [
              0.4444444444444444,
              "#bd3786"
             ],
             [
              0.5555555555555556,
              "#d8576b"
             ],
             [
              0.6666666666666666,
              "#ed7953"
             ],
             [
              0.7777777777777778,
              "#fb9f3a"
             ],
             [
              0.8888888888888888,
              "#fdca26"
             ],
             [
              1,
              "#f0f921"
             ]
            ],
            "type": "heatmapgl"
           }
          ],
          "histogram": [
           {
            "marker": {
             "pattern": {
              "fillmode": "overlay",
              "size": 10,
              "solidity": 0.2
             }
            },
            "type": "histogram"
           }
          ],
          "histogram2d": [
           {
            "colorbar": {
             "outlinewidth": 0,
             "ticks": ""
            },
            "colorscale": [
             [
              0,
              "#0d0887"
             ],
             [
              0.1111111111111111,
              "#46039f"
             ],
             [
              0.2222222222222222,
              "#7201a8"
             ],
             [
              0.3333333333333333,
              "#9c179e"
             ],
             [
              0.4444444444444444,
              "#bd3786"
             ],
             [
              0.5555555555555556,
              "#d8576b"
             ],
             [
              0.6666666666666666,
              "#ed7953"
             ],
             [
              0.7777777777777778,
              "#fb9f3a"
             ],
             [
              0.8888888888888888,
              "#fdca26"
             ],
             [
              1,
              "#f0f921"
             ]
            ],
            "type": "histogram2d"
           }
          ],
          "histogram2dcontour": [
           {
            "colorbar": {
             "outlinewidth": 0,
             "ticks": ""
            },
            "colorscale": [
             [
              0,
              "#0d0887"
             ],
             [
              0.1111111111111111,
              "#46039f"
             ],
             [
              0.2222222222222222,
              "#7201a8"
             ],
             [
              0.3333333333333333,
              "#9c179e"
             ],
             [
              0.4444444444444444,
              "#bd3786"
             ],
             [
              0.5555555555555556,
              "#d8576b"
             ],
             [
              0.6666666666666666,
              "#ed7953"
             ],
             [
              0.7777777777777778,
              "#fb9f3a"
             ],
             [
              0.8888888888888888,
              "#fdca26"
             ],
             [
              1,
              "#f0f921"
             ]
            ],
            "type": "histogram2dcontour"
           }
          ],
          "mesh3d": [
           {
            "colorbar": {
             "outlinewidth": 0,
             "ticks": ""
            },
            "type": "mesh3d"
           }
          ],
          "parcoords": [
           {
            "line": {
             "colorbar": {
              "outlinewidth": 0,
              "ticks": ""
             }
            },
            "type": "parcoords"
           }
          ],
          "pie": [
           {
            "automargin": true,
            "type": "pie"
           }
          ],
          "scatter": [
           {
            "fillpattern": {
             "fillmode": "overlay",
             "size": 10,
             "solidity": 0.2
            },
            "type": "scatter"
           }
          ],
          "scatter3d": [
           {
            "line": {
             "colorbar": {
              "outlinewidth": 0,
              "ticks": ""
             }
            },
            "marker": {
             "colorbar": {
              "outlinewidth": 0,
              "ticks": ""
             }
            },
            "type": "scatter3d"
           }
          ],
          "scattercarpet": [
           {
            "marker": {
             "colorbar": {
              "outlinewidth": 0,
              "ticks": ""
             }
            },
            "type": "scattercarpet"
           }
          ],
          "scattergeo": [
           {
            "marker": {
             "colorbar": {
              "outlinewidth": 0,
              "ticks": ""
             }
            },
            "type": "scattergeo"
           }
          ],
          "scattergl": [
           {
            "marker": {
             "colorbar": {
              "outlinewidth": 0,
              "ticks": ""
             }
            },
            "type": "scattergl"
           }
          ],
          "scattermapbox": [
           {
            "marker": {
             "colorbar": {
              "outlinewidth": 0,
              "ticks": ""
             }
            },
            "type": "scattermapbox"
           }
          ],
          "scatterpolar": [
           {
            "marker": {
             "colorbar": {
              "outlinewidth": 0,
              "ticks": ""
             }
            },
            "type": "scatterpolar"
           }
          ],
          "scatterpolargl": [
           {
            "marker": {
             "colorbar": {
              "outlinewidth": 0,
              "ticks": ""
             }
            },
            "type": "scatterpolargl"
           }
          ],
          "scatterternary": [
           {
            "marker": {
             "colorbar": {
              "outlinewidth": 0,
              "ticks": ""
             }
            },
            "type": "scatterternary"
           }
          ],
          "surface": [
           {
            "colorbar": {
             "outlinewidth": 0,
             "ticks": ""
            },
            "colorscale": [
             [
              0,
              "#0d0887"
             ],
             [
              0.1111111111111111,
              "#46039f"
             ],
             [
              0.2222222222222222,
              "#7201a8"
             ],
             [
              0.3333333333333333,
              "#9c179e"
             ],
             [
              0.4444444444444444,
              "#bd3786"
             ],
             [
              0.5555555555555556,
              "#d8576b"
             ],
             [
              0.6666666666666666,
              "#ed7953"
             ],
             [
              0.7777777777777778,
              "#fb9f3a"
             ],
             [
              0.8888888888888888,
              "#fdca26"
             ],
             [
              1,
              "#f0f921"
             ]
            ],
            "type": "surface"
           }
          ],
          "table": [
           {
            "cells": {
             "fill": {
              "color": "#EBF0F8"
             },
             "line": {
              "color": "white"
             }
            },
            "header": {
             "fill": {
              "color": "#C8D4E3"
             },
             "line": {
              "color": "white"
             }
            },
            "type": "table"
           }
          ]
         },
         "layout": {
          "annotationdefaults": {
           "arrowcolor": "#2a3f5f",
           "arrowhead": 0,
           "arrowwidth": 1
          },
          "autotypenumbers": "strict",
          "coloraxis": {
           "colorbar": {
            "outlinewidth": 0,
            "ticks": ""
           }
          },
          "colorscale": {
           "diverging": [
            [
             0,
             "#8e0152"
            ],
            [
             0.1,
             "#c51b7d"
            ],
            [
             0.2,
             "#de77ae"
            ],
            [
             0.3,
             "#f1b6da"
            ],
            [
             0.4,
             "#fde0ef"
            ],
            [
             0.5,
             "#f7f7f7"
            ],
            [
             0.6,
             "#e6f5d0"
            ],
            [
             0.7,
             "#b8e186"
            ],
            [
             0.8,
             "#7fbc41"
            ],
            [
             0.9,
             "#4d9221"
            ],
            [
             1,
             "#276419"
            ]
           ],
           "sequential": [
            [
             0,
             "#0d0887"
            ],
            [
             0.1111111111111111,
             "#46039f"
            ],
            [
             0.2222222222222222,
             "#7201a8"
            ],
            [
             0.3333333333333333,
             "#9c179e"
            ],
            [
             0.4444444444444444,
             "#bd3786"
            ],
            [
             0.5555555555555556,
             "#d8576b"
            ],
            [
             0.6666666666666666,
             "#ed7953"
            ],
            [
             0.7777777777777778,
             "#fb9f3a"
            ],
            [
             0.8888888888888888,
             "#fdca26"
            ],
            [
             1,
             "#f0f921"
            ]
           ],
           "sequentialminus": [
            [
             0,
             "#0d0887"
            ],
            [
             0.1111111111111111,
             "#46039f"
            ],
            [
             0.2222222222222222,
             "#7201a8"
            ],
            [
             0.3333333333333333,
             "#9c179e"
            ],
            [
             0.4444444444444444,
             "#bd3786"
            ],
            [
             0.5555555555555556,
             "#d8576b"
            ],
            [
             0.6666666666666666,
             "#ed7953"
            ],
            [
             0.7777777777777778,
             "#fb9f3a"
            ],
            [
             0.8888888888888888,
             "#fdca26"
            ],
            [
             1,
             "#f0f921"
            ]
           ]
          },
          "colorway": [
           "#636efa",
           "#EF553B",
           "#00cc96",
           "#ab63fa",
           "#FFA15A",
           "#19d3f3",
           "#FF6692",
           "#B6E880",
           "#FF97FF",
           "#FECB52"
          ],
          "font": {
           "color": "#2a3f5f"
          },
          "geo": {
           "bgcolor": "white",
           "lakecolor": "white",
           "landcolor": "#E5ECF6",
           "showlakes": true,
           "showland": true,
           "subunitcolor": "white"
          },
          "hoverlabel": {
           "align": "left"
          },
          "hovermode": "closest",
          "mapbox": {
           "style": "light"
          },
          "paper_bgcolor": "white",
          "plot_bgcolor": "#E5ECF6",
          "polar": {
           "angularaxis": {
            "gridcolor": "white",
            "linecolor": "white",
            "ticks": ""
           },
           "bgcolor": "#E5ECF6",
           "radialaxis": {
            "gridcolor": "white",
            "linecolor": "white",
            "ticks": ""
           }
          },
          "scene": {
           "xaxis": {
            "backgroundcolor": "#E5ECF6",
            "gridcolor": "white",
            "gridwidth": 2,
            "linecolor": "white",
            "showbackground": true,
            "ticks": "",
            "zerolinecolor": "white"
           },
           "yaxis": {
            "backgroundcolor": "#E5ECF6",
            "gridcolor": "white",
            "gridwidth": 2,
            "linecolor": "white",
            "showbackground": true,
            "ticks": "",
            "zerolinecolor": "white"
           },
           "zaxis": {
            "backgroundcolor": "#E5ECF6",
            "gridcolor": "white",
            "gridwidth": 2,
            "linecolor": "white",
            "showbackground": true,
            "ticks": "",
            "zerolinecolor": "white"
           }
          },
          "shapedefaults": {
           "line": {
            "color": "#2a3f5f"
           }
          },
          "ternary": {
           "aaxis": {
            "gridcolor": "white",
            "linecolor": "white",
            "ticks": ""
           },
           "baxis": {
            "gridcolor": "white",
            "linecolor": "white",
            "ticks": ""
           },
           "bgcolor": "#E5ECF6",
           "caxis": {
            "gridcolor": "white",
            "linecolor": "white",
            "ticks": ""
           }
          },
          "title": {
           "x": 0.05
          },
          "xaxis": {
           "automargin": true,
           "gridcolor": "white",
           "linecolor": "white",
           "ticks": "",
           "title": {
            "standoff": 15
           },
           "zerolinecolor": "white",
           "zerolinewidth": 2
          },
          "yaxis": {
           "automargin": true,
           "gridcolor": "white",
           "linecolor": "white",
           "ticks": "",
           "title": {
            "standoff": 15
           },
           "zerolinecolor": "white",
           "zerolinewidth": 2
          }
         }
        },
        "xaxis": {
         "anchor": "y",
         "domain": [
          0,
          1
         ],
         "title": {
          "text": "Perioden"
         }
        },
        "yaxis": {
         "anchor": "x",
         "domain": [
          0,
          1
         ],
         "title": {
          "text": "Ritten per persoon per dag (gemiddeld) (aantal)"
         }
        }
       }
      }
     },
     "metadata": {},
     "output_type": "display_data"
    }
   ],
   "source": [
    "px.line(df_mat,\n",
    "        x=\"Perioden\",\n",
    "        y=\"Ritten per persoon per dag (gemiddeld) (aantal)\",\n",
    "        line_group=\"Reismotieven\",\n",
    "        color=\"Reismotieven\")\n"
   ]
  },
  {
   "cell_type": "code",
   "execution_count": null,
   "metadata": {},
   "outputs": [],
   "source": []
  }
 ],
 "metadata": {
  "kernelspec": {
   "display_name": "TIL6022",
   "language": "python",
   "name": "python3"
  },
  "language_info": {
   "codemirror_mode": {
    "name": "ipython",
    "version": 3
   },
   "file_extension": ".py",
   "mimetype": "text/x-python",
   "name": "python",
   "nbconvert_exporter": "python",
   "pygments_lexer": "ipython3",
   "version": "3.8.19"
  }
 },
 "nbformat": 4,
 "nbformat_minor": 2
}
