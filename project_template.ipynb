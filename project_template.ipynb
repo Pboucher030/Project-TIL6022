{
 "cells": [
  {
   "cell_type": "markdown",
   "metadata": {},
   "source": [
    "# Research proposal TIL Programming: \n",
    "### Working from home and mobility patterns\n",
    "\n",
    "\n",
    "\n"
   ]
  },
  {
   "cell_type": "markdown",
   "metadata": {},
   "source": [
    "## Project Group 20\n",
    "\n",
    "Members and student numbers: \n",
    "\n",
    "- Stijn Brons - 5403707\n",
    "- Philippe Sturm - 5168163\n",
    "- Naut Linssen - 5032563\n",
    "- Pelle Boucher - 4885236\n",
    "- Teun van Wingerden - 5063108\n"
   ]
  },
  {
   "cell_type": "markdown",
   "metadata": {},
   "source": [
    "# 1. Introduction\n",
    "Over the past decade, the Netherlands has witnessed a notable increase in remote work, which has significantly altered various aspects of mobility and commuting patterns. The objective of this research is to examine the impact of remote work on mobility trends, transportation modes and their long-term implications for urban planning and environmental outcomes.\n"
   ]
  },
  {
   "cell_type": "markdown",
   "metadata": {},
   "source": [
    "# 2. Research Objective\n",
    "\n",
    "*Requires data modeling and quantitative research in Transport, Infrastructure & Logistics*"
   ]
  },
  {
   "cell_type": "markdown",
   "metadata": {},
   "source": [
    "*The primary objective of this research is to quantify and understand the impact of the increase in remote work over the past 10 years on mobility in the Netherlands.*"
   ]
  },
  {
   "cell_type": "markdown",
   "metadata": {},
   "source": [
    "# 3.Sub-Objectives\n",
    "- **Commuting Patterns**: To assess how remote work has influenced commuting patterns and reduced the frequency of commuting trips in the past decade.\n",
    "- **Transport Modes**: The aim is to assess how remote work has influenced commuting patterns and reduced the frequency of commuting trips over the past decade.\n",
    "- **Emissions and Air Quality**: To analyze how remote work has influenced transport-related emissions and air quality in the Netherlands\n",
    "- **Long-term Trends**: To project long-term trends in remote work adoption and their potential effect on future mobility demand and urban infrastructure planning.\n",
    "\n",
    "# 4. Research questions\n",
    "The main function is:\n",
    "- How has the rise of remote work over the past decade influenced commuting patterns, transport mode usage, environmental impact, and future mobility planning?\n",
    "\n",
    "The sub-research questions for this project are:\n",
    "\n",
    "- **RQ1**: How has the frequency and pattern of commuting changed due to the rise of remote work over the past decade?\n",
    "- **RQ2**: To what extent has the use of different transport modes (cars, public transport, bicycles) been affected by remote work in the last 10 years?\n",
    "- **RQ3**: How has the increase in remote work affected transport-related emissions and air quality in The Netherlands?\n",
    "- **RQ4**: What long-term trends are projected in remote work adoption, and how will they influence future mobility and urban infrastructure planning?\n"
   ]
  },
  {
   "cell_type": "markdown",
   "metadata": {},
   "source": [
    "# Contribution Statement\n",
    "\n",
    "*Be specific. Some of the tasks can be coding (expect everyone to do this), background research, conceptualisation, visualisation, data analysis, data modelling*"
   ]
  },
  {
   "cell_type": "markdown",
   "metadata": {},
   "source": [
    "**Author 1**: Pelle Boucher - Implementing data in the code, implementing text in the notebook\n",
    "\n",
    "**Author 2**: Teun van Wingerden - Writing text\n",
    "\n",
    "**Author 3**: Stijn Brons - Setting up the notebook\n",
    "\n",
    "**Author 4**: Philippe Sturm - Data Research\n",
    "\n",
    "**Author 5**: Naut Linssen - Data Research"
   ]
  },
  {
   "cell_type": "markdown",
   "metadata": {},
   "source": [
    "# Data Used"
   ]
  },
  {
   "cell_type": "markdown",
   "metadata": {},
   "source": [
    "## Data Sources\n",
    "\n",
    "All data will be collected from the **CBS Statline Database**. This will be the primary data source for mobility, transport usage, and environmental data over the past 10 years in the Netherlands. (Available at [CBS Statline](https://opendata.cbs.nl)).\n",
    "\n",
    "- **Mobility and Transport**: Data on trips, modes of transport, travel motives, age, and gender. (Available at [Mobiliteitstrend](https://opendata.cbs.nl/statline/#/CBS/nl/dataset/84755NED/table?ts=1727864298786)).\n",
    "\n",
    "- **Emissions and Air Quality**: Data on CO2 emissions, particulate matter levels, and other environmental metrics.\n",
    "\n",
    "- **Working from home**: Data on people working from home, per age group, education level, labour duration and position in the family Available at [Working from home](https://opendata.cbs.nl/statline/#/CBS/nl/dataset/83258NED/table?ts=1728062945121).\n",
    "\n",
    "\n",
    "The data is imported as an csv file and decoded below:"
   ]
  },
  {
   "cell_type": "code",
   "execution_count": 1,
   "metadata": {},
   "outputs": [
    {
     "ename": "FileNotFoundError",
     "evalue": "[Errno 2] No such file or directory: 'Mobiliteitstrend__per_rit_en_motief_02102024_122208.csv'",
     "output_type": "error",
     "traceback": [
      "\u001b[1;31m---------------------------------------------------------------------------\u001b[0m",
      "\u001b[1;31mFileNotFoundError\u001b[0m                         Traceback (most recent call last)",
      "Cell \u001b[1;32mIn[1], line 6\u001b[0m\n\u001b[0;32m      4\u001b[0m \u001b[38;5;124;03m\"\"\" MOBILITY AND TRANSPORT\"\"\"\u001b[39;00m\n\u001b[0;32m      5\u001b[0m dataset_path_mat \u001b[38;5;241m=\u001b[39m \u001b[38;5;124m'\u001b[39m\u001b[38;5;124mMobiliteitstrend__per_rit_en_motief_02102024_122208.csv\u001b[39m\u001b[38;5;124m'\u001b[39m\n\u001b[1;32m----> 6\u001b[0m \u001b[38;5;28;01mwith\u001b[39;00m \u001b[38;5;28;43mopen\u001b[39;49m\u001b[43m(\u001b[49m\u001b[43mdataset_path_mat\u001b[49m\u001b[43m,\u001b[49m\u001b[43m \u001b[49m\u001b[38;5;124;43m'\u001b[39;49m\u001b[38;5;124;43mrb\u001b[39;49m\u001b[38;5;124;43m'\u001b[39;49m\u001b[43m)\u001b[49m \u001b[38;5;28;01mas\u001b[39;00m rawdata:\n\u001b[0;32m      8\u001b[0m     result \u001b[38;5;241m=\u001b[39m chardet\u001b[38;5;241m.\u001b[39mdetect(rawdata\u001b[38;5;241m.\u001b[39mread(\u001b[38;5;241m100000\u001b[39m))\n\u001b[0;32m     10\u001b[0m result\n",
      "File \u001b[1;32mc:\\Users\\Pelle Boucher\\.conda\\envs\\TIL6022\\lib\\site-packages\\IPython\\core\\interactiveshell.py:284\u001b[0m, in \u001b[0;36m_modified_open\u001b[1;34m(file, *args, **kwargs)\u001b[0m\n\u001b[0;32m    277\u001b[0m \u001b[38;5;28;01mif\u001b[39;00m file \u001b[38;5;129;01min\u001b[39;00m {\u001b[38;5;241m0\u001b[39m, \u001b[38;5;241m1\u001b[39m, \u001b[38;5;241m2\u001b[39m}:\n\u001b[0;32m    278\u001b[0m     \u001b[38;5;28;01mraise\u001b[39;00m \u001b[38;5;167;01mValueError\u001b[39;00m(\n\u001b[0;32m    279\u001b[0m         \u001b[38;5;124mf\u001b[39m\u001b[38;5;124m\"\u001b[39m\u001b[38;5;124mIPython won\u001b[39m\u001b[38;5;124m'\u001b[39m\u001b[38;5;124mt let you open fd=\u001b[39m\u001b[38;5;132;01m{\u001b[39;00mfile\u001b[38;5;132;01m}\u001b[39;00m\u001b[38;5;124m by default \u001b[39m\u001b[38;5;124m\"\u001b[39m\n\u001b[0;32m    280\u001b[0m         \u001b[38;5;124m\"\u001b[39m\u001b[38;5;124mas it is likely to crash IPython. If you know what you are doing, \u001b[39m\u001b[38;5;124m\"\u001b[39m\n\u001b[0;32m    281\u001b[0m         \u001b[38;5;124m\"\u001b[39m\u001b[38;5;124myou can use builtins\u001b[39m\u001b[38;5;124m'\u001b[39m\u001b[38;5;124m open.\u001b[39m\u001b[38;5;124m\"\u001b[39m\n\u001b[0;32m    282\u001b[0m     )\n\u001b[1;32m--> 284\u001b[0m \u001b[38;5;28;01mreturn\u001b[39;00m \u001b[43mio_open\u001b[49m\u001b[43m(\u001b[49m\u001b[43mfile\u001b[49m\u001b[43m,\u001b[49m\u001b[43m \u001b[49m\u001b[38;5;241;43m*\u001b[39;49m\u001b[43margs\u001b[49m\u001b[43m,\u001b[49m\u001b[43m \u001b[49m\u001b[38;5;241;43m*\u001b[39;49m\u001b[38;5;241;43m*\u001b[39;49m\u001b[43mkwargs\u001b[49m\u001b[43m)\u001b[49m\n",
      "\u001b[1;31mFileNotFoundError\u001b[0m: [Errno 2] No such file or directory: 'Mobiliteitstrend__per_rit_en_motief_02102024_122208.csv'"
     ]
    }
   ],
   "source": [
    "import pandas as pd\n",
    "import chardet\n",
    "import plotly_express as px\n",
    "\"\"\" MOBILITY AND TRANSPORT\"\"\"\n",
    "dataset_path_mat = 'Mobiliteitstrend__per_rit_en_motief_02102024_122208.csv'\n",
    "with open(dataset_path_mat, 'rb') as rawdata:\n",
    "\n",
    "    result = chardet.detect(rawdata.read(100000))\n",
    "    \n",
    "result\n",
    "\n"
   ]
  },
  {
   "cell_type": "code",
   "execution_count": 2,
   "metadata": {},
   "outputs": [
    {
     "ename": "FileNotFoundError",
     "evalue": "[Errno 2] No such file or directory: 'Mobiliteitstrend__per_rit_en_motief_02102024_122208.csv'",
     "output_type": "error",
     "traceback": [
      "\u001b[1;31m---------------------------------------------------------------------------\u001b[0m",
      "\u001b[1;31mFileNotFoundError\u001b[0m                         Traceback (most recent call last)",
      "Cell \u001b[1;32mIn[2], line 1\u001b[0m\n\u001b[1;32m----> 1\u001b[0m df_mat \u001b[38;5;241m=\u001b[39m \u001b[43mpd\u001b[49m\u001b[38;5;241;43m.\u001b[39;49m\u001b[43mread_csv\u001b[49m\u001b[43m(\u001b[49m\u001b[43mdataset_path_mat\u001b[49m\u001b[43m,\u001b[49m\u001b[43mdelimiter\u001b[49m\u001b[38;5;241;43m=\u001b[39;49m\u001b[38;5;124;43m'\u001b[39;49m\u001b[38;5;124;43m;\u001b[39;49m\u001b[38;5;124;43m'\u001b[39;49m\u001b[43m,\u001b[49m\u001b[43mencoding\u001b[49m\u001b[38;5;241;43m=\u001b[39;49m\u001b[38;5;124;43m'\u001b[39;49m\u001b[38;5;124;43mUTF-8-SIG\u001b[39;49m\u001b[38;5;124;43m'\u001b[39;49m\u001b[43m)\u001b[49m\n\u001b[0;32m      2\u001b[0m df_mat\n",
      "File \u001b[1;32mc:\\Users\\Pelle Boucher\\.conda\\envs\\TIL6022\\lib\\site-packages\\pandas\\io\\parsers\\readers.py:912\u001b[0m, in \u001b[0;36mread_csv\u001b[1;34m(filepath_or_buffer, sep, delimiter, header, names, index_col, usecols, dtype, engine, converters, true_values, false_values, skipinitialspace, skiprows, skipfooter, nrows, na_values, keep_default_na, na_filter, verbose, skip_blank_lines, parse_dates, infer_datetime_format, keep_date_col, date_parser, date_format, dayfirst, cache_dates, iterator, chunksize, compression, thousands, decimal, lineterminator, quotechar, quoting, doublequote, escapechar, comment, encoding, encoding_errors, dialect, on_bad_lines, delim_whitespace, low_memory, memory_map, float_precision, storage_options, dtype_backend)\u001b[0m\n\u001b[0;32m    899\u001b[0m kwds_defaults \u001b[38;5;241m=\u001b[39m _refine_defaults_read(\n\u001b[0;32m    900\u001b[0m     dialect,\n\u001b[0;32m    901\u001b[0m     delimiter,\n\u001b[1;32m   (...)\u001b[0m\n\u001b[0;32m    908\u001b[0m     dtype_backend\u001b[38;5;241m=\u001b[39mdtype_backend,\n\u001b[0;32m    909\u001b[0m )\n\u001b[0;32m    910\u001b[0m kwds\u001b[38;5;241m.\u001b[39mupdate(kwds_defaults)\n\u001b[1;32m--> 912\u001b[0m \u001b[38;5;28;01mreturn\u001b[39;00m \u001b[43m_read\u001b[49m\u001b[43m(\u001b[49m\u001b[43mfilepath_or_buffer\u001b[49m\u001b[43m,\u001b[49m\u001b[43m \u001b[49m\u001b[43mkwds\u001b[49m\u001b[43m)\u001b[49m\n",
      "File \u001b[1;32mc:\\Users\\Pelle Boucher\\.conda\\envs\\TIL6022\\lib\\site-packages\\pandas\\io\\parsers\\readers.py:577\u001b[0m, in \u001b[0;36m_read\u001b[1;34m(filepath_or_buffer, kwds)\u001b[0m\n\u001b[0;32m    574\u001b[0m _validate_names(kwds\u001b[38;5;241m.\u001b[39mget(\u001b[38;5;124m\"\u001b[39m\u001b[38;5;124mnames\u001b[39m\u001b[38;5;124m\"\u001b[39m, \u001b[38;5;28;01mNone\u001b[39;00m))\n\u001b[0;32m    576\u001b[0m \u001b[38;5;66;03m# Create the parser.\u001b[39;00m\n\u001b[1;32m--> 577\u001b[0m parser \u001b[38;5;241m=\u001b[39m \u001b[43mTextFileReader\u001b[49m\u001b[43m(\u001b[49m\u001b[43mfilepath_or_buffer\u001b[49m\u001b[43m,\u001b[49m\u001b[43m \u001b[49m\u001b[38;5;241;43m*\u001b[39;49m\u001b[38;5;241;43m*\u001b[39;49m\u001b[43mkwds\u001b[49m\u001b[43m)\u001b[49m\n\u001b[0;32m    579\u001b[0m \u001b[38;5;28;01mif\u001b[39;00m chunksize \u001b[38;5;129;01mor\u001b[39;00m iterator:\n\u001b[0;32m    580\u001b[0m     \u001b[38;5;28;01mreturn\u001b[39;00m parser\n",
      "File \u001b[1;32mc:\\Users\\Pelle Boucher\\.conda\\envs\\TIL6022\\lib\\site-packages\\pandas\\io\\parsers\\readers.py:1407\u001b[0m, in \u001b[0;36mTextFileReader.__init__\u001b[1;34m(self, f, engine, **kwds)\u001b[0m\n\u001b[0;32m   1404\u001b[0m     \u001b[38;5;28mself\u001b[39m\u001b[38;5;241m.\u001b[39moptions[\u001b[38;5;124m\"\u001b[39m\u001b[38;5;124mhas_index_names\u001b[39m\u001b[38;5;124m\"\u001b[39m] \u001b[38;5;241m=\u001b[39m kwds[\u001b[38;5;124m\"\u001b[39m\u001b[38;5;124mhas_index_names\u001b[39m\u001b[38;5;124m\"\u001b[39m]\n\u001b[0;32m   1406\u001b[0m \u001b[38;5;28mself\u001b[39m\u001b[38;5;241m.\u001b[39mhandles: IOHandles \u001b[38;5;241m|\u001b[39m \u001b[38;5;28;01mNone\u001b[39;00m \u001b[38;5;241m=\u001b[39m \u001b[38;5;28;01mNone\u001b[39;00m\n\u001b[1;32m-> 1407\u001b[0m \u001b[38;5;28mself\u001b[39m\u001b[38;5;241m.\u001b[39m_engine \u001b[38;5;241m=\u001b[39m \u001b[38;5;28;43mself\u001b[39;49m\u001b[38;5;241;43m.\u001b[39;49m\u001b[43m_make_engine\u001b[49m\u001b[43m(\u001b[49m\u001b[43mf\u001b[49m\u001b[43m,\u001b[49m\u001b[43m \u001b[49m\u001b[38;5;28;43mself\u001b[39;49m\u001b[38;5;241;43m.\u001b[39;49m\u001b[43mengine\u001b[49m\u001b[43m)\u001b[49m\n",
      "File \u001b[1;32mc:\\Users\\Pelle Boucher\\.conda\\envs\\TIL6022\\lib\\site-packages\\pandas\\io\\parsers\\readers.py:1661\u001b[0m, in \u001b[0;36mTextFileReader._make_engine\u001b[1;34m(self, f, engine)\u001b[0m\n\u001b[0;32m   1659\u001b[0m     \u001b[38;5;28;01mif\u001b[39;00m \u001b[38;5;124m\"\u001b[39m\u001b[38;5;124mb\u001b[39m\u001b[38;5;124m\"\u001b[39m \u001b[38;5;129;01mnot\u001b[39;00m \u001b[38;5;129;01min\u001b[39;00m mode:\n\u001b[0;32m   1660\u001b[0m         mode \u001b[38;5;241m+\u001b[39m\u001b[38;5;241m=\u001b[39m \u001b[38;5;124m\"\u001b[39m\u001b[38;5;124mb\u001b[39m\u001b[38;5;124m\"\u001b[39m\n\u001b[1;32m-> 1661\u001b[0m \u001b[38;5;28mself\u001b[39m\u001b[38;5;241m.\u001b[39mhandles \u001b[38;5;241m=\u001b[39m \u001b[43mget_handle\u001b[49m\u001b[43m(\u001b[49m\n\u001b[0;32m   1662\u001b[0m \u001b[43m    \u001b[49m\u001b[43mf\u001b[49m\u001b[43m,\u001b[49m\n\u001b[0;32m   1663\u001b[0m \u001b[43m    \u001b[49m\u001b[43mmode\u001b[49m\u001b[43m,\u001b[49m\n\u001b[0;32m   1664\u001b[0m \u001b[43m    \u001b[49m\u001b[43mencoding\u001b[49m\u001b[38;5;241;43m=\u001b[39;49m\u001b[38;5;28;43mself\u001b[39;49m\u001b[38;5;241;43m.\u001b[39;49m\u001b[43moptions\u001b[49m\u001b[38;5;241;43m.\u001b[39;49m\u001b[43mget\u001b[49m\u001b[43m(\u001b[49m\u001b[38;5;124;43m\"\u001b[39;49m\u001b[38;5;124;43mencoding\u001b[39;49m\u001b[38;5;124;43m\"\u001b[39;49m\u001b[43m,\u001b[49m\u001b[43m \u001b[49m\u001b[38;5;28;43;01mNone\u001b[39;49;00m\u001b[43m)\u001b[49m\u001b[43m,\u001b[49m\n\u001b[0;32m   1665\u001b[0m \u001b[43m    \u001b[49m\u001b[43mcompression\u001b[49m\u001b[38;5;241;43m=\u001b[39;49m\u001b[38;5;28;43mself\u001b[39;49m\u001b[38;5;241;43m.\u001b[39;49m\u001b[43moptions\u001b[49m\u001b[38;5;241;43m.\u001b[39;49m\u001b[43mget\u001b[49m\u001b[43m(\u001b[49m\u001b[38;5;124;43m\"\u001b[39;49m\u001b[38;5;124;43mcompression\u001b[39;49m\u001b[38;5;124;43m\"\u001b[39;49m\u001b[43m,\u001b[49m\u001b[43m \u001b[49m\u001b[38;5;28;43;01mNone\u001b[39;49;00m\u001b[43m)\u001b[49m\u001b[43m,\u001b[49m\n\u001b[0;32m   1666\u001b[0m \u001b[43m    \u001b[49m\u001b[43mmemory_map\u001b[49m\u001b[38;5;241;43m=\u001b[39;49m\u001b[38;5;28;43mself\u001b[39;49m\u001b[38;5;241;43m.\u001b[39;49m\u001b[43moptions\u001b[49m\u001b[38;5;241;43m.\u001b[39;49m\u001b[43mget\u001b[49m\u001b[43m(\u001b[49m\u001b[38;5;124;43m\"\u001b[39;49m\u001b[38;5;124;43mmemory_map\u001b[39;49m\u001b[38;5;124;43m\"\u001b[39;49m\u001b[43m,\u001b[49m\u001b[43m \u001b[49m\u001b[38;5;28;43;01mFalse\u001b[39;49;00m\u001b[43m)\u001b[49m\u001b[43m,\u001b[49m\n\u001b[0;32m   1667\u001b[0m \u001b[43m    \u001b[49m\u001b[43mis_text\u001b[49m\u001b[38;5;241;43m=\u001b[39;49m\u001b[43mis_text\u001b[49m\u001b[43m,\u001b[49m\n\u001b[0;32m   1668\u001b[0m \u001b[43m    \u001b[49m\u001b[43merrors\u001b[49m\u001b[38;5;241;43m=\u001b[39;49m\u001b[38;5;28;43mself\u001b[39;49m\u001b[38;5;241;43m.\u001b[39;49m\u001b[43moptions\u001b[49m\u001b[38;5;241;43m.\u001b[39;49m\u001b[43mget\u001b[49m\u001b[43m(\u001b[49m\u001b[38;5;124;43m\"\u001b[39;49m\u001b[38;5;124;43mencoding_errors\u001b[39;49m\u001b[38;5;124;43m\"\u001b[39;49m\u001b[43m,\u001b[49m\u001b[43m \u001b[49m\u001b[38;5;124;43m\"\u001b[39;49m\u001b[38;5;124;43mstrict\u001b[39;49m\u001b[38;5;124;43m\"\u001b[39;49m\u001b[43m)\u001b[49m\u001b[43m,\u001b[49m\n\u001b[0;32m   1669\u001b[0m \u001b[43m    \u001b[49m\u001b[43mstorage_options\u001b[49m\u001b[38;5;241;43m=\u001b[39;49m\u001b[38;5;28;43mself\u001b[39;49m\u001b[38;5;241;43m.\u001b[39;49m\u001b[43moptions\u001b[49m\u001b[38;5;241;43m.\u001b[39;49m\u001b[43mget\u001b[49m\u001b[43m(\u001b[49m\u001b[38;5;124;43m\"\u001b[39;49m\u001b[38;5;124;43mstorage_options\u001b[39;49m\u001b[38;5;124;43m\"\u001b[39;49m\u001b[43m,\u001b[49m\u001b[43m \u001b[49m\u001b[38;5;28;43;01mNone\u001b[39;49;00m\u001b[43m)\u001b[49m\u001b[43m,\u001b[49m\n\u001b[0;32m   1670\u001b[0m \u001b[43m\u001b[49m\u001b[43m)\u001b[49m\n\u001b[0;32m   1671\u001b[0m \u001b[38;5;28;01massert\u001b[39;00m \u001b[38;5;28mself\u001b[39m\u001b[38;5;241m.\u001b[39mhandles \u001b[38;5;129;01mis\u001b[39;00m \u001b[38;5;129;01mnot\u001b[39;00m \u001b[38;5;28;01mNone\u001b[39;00m\n\u001b[0;32m   1672\u001b[0m f \u001b[38;5;241m=\u001b[39m \u001b[38;5;28mself\u001b[39m\u001b[38;5;241m.\u001b[39mhandles\u001b[38;5;241m.\u001b[39mhandle\n",
      "File \u001b[1;32mc:\\Users\\Pelle Boucher\\.conda\\envs\\TIL6022\\lib\\site-packages\\pandas\\io\\common.py:859\u001b[0m, in \u001b[0;36mget_handle\u001b[1;34m(path_or_buf, mode, encoding, compression, memory_map, is_text, errors, storage_options)\u001b[0m\n\u001b[0;32m    854\u001b[0m \u001b[38;5;28;01melif\u001b[39;00m \u001b[38;5;28misinstance\u001b[39m(handle, \u001b[38;5;28mstr\u001b[39m):\n\u001b[0;32m    855\u001b[0m     \u001b[38;5;66;03m# Check whether the filename is to be opened in binary mode.\u001b[39;00m\n\u001b[0;32m    856\u001b[0m     \u001b[38;5;66;03m# Binary mode does not support 'encoding' and 'newline'.\u001b[39;00m\n\u001b[0;32m    857\u001b[0m     \u001b[38;5;28;01mif\u001b[39;00m ioargs\u001b[38;5;241m.\u001b[39mencoding \u001b[38;5;129;01mand\u001b[39;00m \u001b[38;5;124m\"\u001b[39m\u001b[38;5;124mb\u001b[39m\u001b[38;5;124m\"\u001b[39m \u001b[38;5;129;01mnot\u001b[39;00m \u001b[38;5;129;01min\u001b[39;00m ioargs\u001b[38;5;241m.\u001b[39mmode:\n\u001b[0;32m    858\u001b[0m         \u001b[38;5;66;03m# Encoding\u001b[39;00m\n\u001b[1;32m--> 859\u001b[0m         handle \u001b[38;5;241m=\u001b[39m \u001b[38;5;28;43mopen\u001b[39;49m\u001b[43m(\u001b[49m\n\u001b[0;32m    860\u001b[0m \u001b[43m            \u001b[49m\u001b[43mhandle\u001b[49m\u001b[43m,\u001b[49m\n\u001b[0;32m    861\u001b[0m \u001b[43m            \u001b[49m\u001b[43mioargs\u001b[49m\u001b[38;5;241;43m.\u001b[39;49m\u001b[43mmode\u001b[49m\u001b[43m,\u001b[49m\n\u001b[0;32m    862\u001b[0m \u001b[43m            \u001b[49m\u001b[43mencoding\u001b[49m\u001b[38;5;241;43m=\u001b[39;49m\u001b[43mioargs\u001b[49m\u001b[38;5;241;43m.\u001b[39;49m\u001b[43mencoding\u001b[49m\u001b[43m,\u001b[49m\n\u001b[0;32m    863\u001b[0m \u001b[43m            \u001b[49m\u001b[43merrors\u001b[49m\u001b[38;5;241;43m=\u001b[39;49m\u001b[43merrors\u001b[49m\u001b[43m,\u001b[49m\n\u001b[0;32m    864\u001b[0m \u001b[43m            \u001b[49m\u001b[43mnewline\u001b[49m\u001b[38;5;241;43m=\u001b[39;49m\u001b[38;5;124;43m\"\u001b[39;49m\u001b[38;5;124;43m\"\u001b[39;49m\u001b[43m,\u001b[49m\n\u001b[0;32m    865\u001b[0m \u001b[43m        \u001b[49m\u001b[43m)\u001b[49m\n\u001b[0;32m    866\u001b[0m     \u001b[38;5;28;01melse\u001b[39;00m:\n\u001b[0;32m    867\u001b[0m         \u001b[38;5;66;03m# Binary mode\u001b[39;00m\n\u001b[0;32m    868\u001b[0m         handle \u001b[38;5;241m=\u001b[39m \u001b[38;5;28mopen\u001b[39m(handle, ioargs\u001b[38;5;241m.\u001b[39mmode)\n",
      "\u001b[1;31mFileNotFoundError\u001b[0m: [Errno 2] No such file or directory: 'Mobiliteitstrend__per_rit_en_motief_02102024_122208.csv'"
     ]
    }
   ],
   "source": [
    "df_mat = pd.read_csv(dataset_path_mat,delimiter=';',encoding='UTF-8-SIG')\n",
    "df_mat"
   ]
  },
  {
   "cell_type": "code",
   "execution_count": 3,
   "metadata": {},
   "outputs": [],
   "source": [
    "import matplotlib.pyplot as plt"
   ]
  },
  {
   "cell_type": "code",
   "execution_count": 2,
   "metadata": {},
   "outputs": [
    {
     "ename": "NameError",
     "evalue": "name 'df_mat' is not defined",
     "output_type": "error",
     "traceback": [
      "\u001b[1;31m---------------------------------------------------------------------------\u001b[0m",
      "\u001b[1;31mNameError\u001b[0m                                 Traceback (most recent call last)",
      "Cell \u001b[1;32mIn[2], line 3\u001b[0m\n\u001b[0;32m      1\u001b[0m \u001b[38;5;28;01mimport\u001b[39;00m \u001b[38;5;21;01mmatplotlib\u001b[39;00m\u001b[38;5;21;01m.\u001b[39;00m\u001b[38;5;21;01mpyplot\u001b[39;00m \u001b[38;5;28;01mas\u001b[39;00m \u001b[38;5;21;01mplt\u001b[39;00m\n\u001b[1;32m----> 3\u001b[0m df_mat \u001b[38;5;241m=\u001b[39m \u001b[43mdf_mat\u001b[49m[df_mat[\u001b[38;5;124m'\u001b[39m\u001b[38;5;124mLeeftijd\u001b[39m\u001b[38;5;124m'\u001b[39m]\u001b[38;5;241m==\u001b[39m\u001b[38;5;124m'\u001b[39m\u001b[38;5;124mTotaal\u001b[39m\u001b[38;5;124m'\u001b[39m]\n\u001b[0;32m      4\u001b[0m df_mat \u001b[38;5;241m=\u001b[39m df_mat[df_mat[\u001b[38;5;124m'\u001b[39m\u001b[38;5;124mReismotieven\u001b[39m\u001b[38;5;124m'\u001b[39m]\u001b[38;5;241m==\u001b[39m\u001b[38;5;124m'\u001b[39m\u001b[38;5;124mTotaal\u001b[39m\u001b[38;5;124m'\u001b[39m]\n\u001b[0;32m      5\u001b[0m df_mat \u001b[38;5;241m=\u001b[39m df_mat[df_mat[\u001b[38;5;124m'\u001b[39m\u001b[38;5;124mVervoerwijzen\u001b[39m\u001b[38;5;124m'\u001b[39m]\u001b[38;5;241m!=\u001b[39m\u001b[38;5;124m'\u001b[39m\u001b[38;5;124mTotaal\u001b[39m\u001b[38;5;124m'\u001b[39m]\n",
      "\u001b[1;31mNameError\u001b[0m: name 'df_mat' is not defined"
     ]
    }
   ],
   "source": [
    "import matplotlib.pyplot as plt\n",
    "\n",
    "df_mat = df_mat[df_mat['Leeftijd']=='Totaal']\n",
    "df_mat = df_mat[df_mat['Reismotieven']=='Totaal']\n",
    "df_mat = df_mat[df_mat['Vervoerwijzen']!='Totaal']\n",
    "\n",
    "fig = plt.figure(figsize=(12, 9))\n",
    "gs = fig.add_gridspec(nrows=2)\n",
    "colors = ['blue','orange','green','red','purple','brown','black']\n",
    "\n",
    "\n",
    "x = df_mat['Perioden'].drop_duplicates()\n",
    "y = df_mat['Vervoerwijzen'].drop_duplicates()\n",
    "labels = ['Car(driver)','Car(passenger)','Train','Bus/Tram/Metro','Bike','Walk','Other Modes']\n",
    "ax = fig.add_subplot(gs[0])\n",
    "j=0\n",
    "for i in y:\n",
    "    ax.plot(x,df_mat[df_mat['Vervoerwijzen']==i]['Ritten per persoon per dag (gemiddeld) (aantal)'],color = colors[j],marker = '.')\n",
    "    j+=1\n",
    "ax.set_xlabel('Year')\n",
    "ax.set_ylabel('Trips per person per day (on Average)')\n",
    "ax.set_xticks(ax.get_xticks()[::3])\n",
    "ax.set_title('Trend of Trips per Day of Different Modes')\n",
    "ax.legend(labels,loc='upper right',bbox_to_anchor=(1.23, 1))\n",
    "\n",
    "ax = fig.add_subplot(gs[1])\n",
    "j=0\n",
    "for i in y:\n",
    "    ax.plot(x,df_mat[df_mat['Vervoerwijzen']==i]['Afgelegde afstand per rit (gemiddeld) (km)'],color = colors[j],marker = '.')\n",
    "    j+=1\n",
    "ax.set_xlabel('Year')\n",
    "ax.set_ylabel('Distance Travelled per Trip (on Average) (km)')\n",
    "ax.set_xticks(ax.get_xticks()[::3])\n",
    "ax.set_title('Trend of Distance Travelled per Trip of Different Modes')\n",
    "ax.legend(labels,loc='upper right',bbox_to_anchor=(1.23, 1))\n",
    "\n",
    "plt.show()"
   ]
  },
  {
   "cell_type": "code",
   "execution_count": 5,
   "metadata": {},
   "outputs": [
    {
     "ename": "FileNotFoundError",
     "evalue": "[Errno 2] No such file or directory: 'Emissies_naar_lucht__Nederland_totaal_04102024_195121.csv'",
     "output_type": "error",
     "traceback": [
      "\u001b[1;31m---------------------------------------------------------------------------\u001b[0m",
      "\u001b[1;31mFileNotFoundError\u001b[0m                         Traceback (most recent call last)",
      "Cell \u001b[1;32mIn[5], line 3\u001b[0m\n\u001b[0;32m      1\u001b[0m \u001b[38;5;124;03m\"\"\" EMISSIONS AND AIR QUALITY \"\"\"\u001b[39;00m\n\u001b[0;32m      2\u001b[0m dataset_path_eaq \u001b[38;5;241m=\u001b[39m \u001b[38;5;124m'\u001b[39m\u001b[38;5;124mEmissies_naar_lucht__Nederland_totaal_04102024_195121.csv\u001b[39m\u001b[38;5;124m'\u001b[39m\n\u001b[1;32m----> 3\u001b[0m \u001b[38;5;28;01mwith\u001b[39;00m \u001b[38;5;28;43mopen\u001b[39;49m\u001b[43m(\u001b[49m\u001b[43mdataset_path_eaq\u001b[49m\u001b[43m,\u001b[49m\u001b[43m \u001b[49m\u001b[38;5;124;43m'\u001b[39;49m\u001b[38;5;124;43mrb\u001b[39;49m\u001b[38;5;124;43m'\u001b[39;49m\u001b[43m)\u001b[49m \u001b[38;5;28;01mas\u001b[39;00m rawdata:\n\u001b[0;32m      5\u001b[0m     result \u001b[38;5;241m=\u001b[39m chardet\u001b[38;5;241m.\u001b[39mdetect(rawdata\u001b[38;5;241m.\u001b[39mread(\u001b[38;5;241m100000\u001b[39m))\n\u001b[0;32m      7\u001b[0m result\n",
      "File \u001b[1;32mc:\\Users\\Pelle Boucher\\.conda\\envs\\TIL6022\\lib\\site-packages\\IPython\\core\\interactiveshell.py:284\u001b[0m, in \u001b[0;36m_modified_open\u001b[1;34m(file, *args, **kwargs)\u001b[0m\n\u001b[0;32m    277\u001b[0m \u001b[38;5;28;01mif\u001b[39;00m file \u001b[38;5;129;01min\u001b[39;00m {\u001b[38;5;241m0\u001b[39m, \u001b[38;5;241m1\u001b[39m, \u001b[38;5;241m2\u001b[39m}:\n\u001b[0;32m    278\u001b[0m     \u001b[38;5;28;01mraise\u001b[39;00m \u001b[38;5;167;01mValueError\u001b[39;00m(\n\u001b[0;32m    279\u001b[0m         \u001b[38;5;124mf\u001b[39m\u001b[38;5;124m\"\u001b[39m\u001b[38;5;124mIPython won\u001b[39m\u001b[38;5;124m'\u001b[39m\u001b[38;5;124mt let you open fd=\u001b[39m\u001b[38;5;132;01m{\u001b[39;00mfile\u001b[38;5;132;01m}\u001b[39;00m\u001b[38;5;124m by default \u001b[39m\u001b[38;5;124m\"\u001b[39m\n\u001b[0;32m    280\u001b[0m         \u001b[38;5;124m\"\u001b[39m\u001b[38;5;124mas it is likely to crash IPython. If you know what you are doing, \u001b[39m\u001b[38;5;124m\"\u001b[39m\n\u001b[0;32m    281\u001b[0m         \u001b[38;5;124m\"\u001b[39m\u001b[38;5;124myou can use builtins\u001b[39m\u001b[38;5;124m'\u001b[39m\u001b[38;5;124m open.\u001b[39m\u001b[38;5;124m\"\u001b[39m\n\u001b[0;32m    282\u001b[0m     )\n\u001b[1;32m--> 284\u001b[0m \u001b[38;5;28;01mreturn\u001b[39;00m \u001b[43mio_open\u001b[49m\u001b[43m(\u001b[49m\u001b[43mfile\u001b[49m\u001b[43m,\u001b[49m\u001b[43m \u001b[49m\u001b[38;5;241;43m*\u001b[39;49m\u001b[43margs\u001b[49m\u001b[43m,\u001b[49m\u001b[43m \u001b[49m\u001b[38;5;241;43m*\u001b[39;49m\u001b[38;5;241;43m*\u001b[39;49m\u001b[43mkwargs\u001b[49m\u001b[43m)\u001b[49m\n",
      "\u001b[1;31mFileNotFoundError\u001b[0m: [Errno 2] No such file or directory: 'Emissies_naar_lucht__Nederland_totaal_04102024_195121.csv'"
     ]
    }
   ],
   "source": [
    "\"\"\" EMISSIONS AND AIR QUALITY \"\"\"\n",
    "dataset_path_eaq = 'Emissies_naar_lucht__Nederland_totaal_04102024_195121.csv'\n",
    "with open(dataset_path_eaq, 'rb') as rawdata:\n",
    "\n",
    "    result = chardet.detect(rawdata.read(100000))\n",
    "    \n",
    "result"
   ]
  },
  {
   "cell_type": "code",
   "execution_count": 3,
   "metadata": {},
   "outputs": [
    {
     "ename": "NameError",
     "evalue": "name 'dataset_path_eaq' is not defined",
     "output_type": "error",
     "traceback": [
      "\u001b[1;31m---------------------------------------------------------------------------\u001b[0m",
      "\u001b[1;31mNameError\u001b[0m                                 Traceback (most recent call last)",
      "Cell \u001b[1;32mIn[3], line 1\u001b[0m\n\u001b[1;32m----> 1\u001b[0m df_eaq \u001b[38;5;241m=\u001b[39m pd\u001b[38;5;241m.\u001b[39mread_csv(\u001b[43mdataset_path_eaq\u001b[49m,delimiter\u001b[38;5;241m=\u001b[39m\u001b[38;5;124m\"\u001b[39m\u001b[38;5;124m;\u001b[39m\u001b[38;5;124m\"\u001b[39m,encoding\u001b[38;5;241m=\u001b[39m\u001b[38;5;124m\"\u001b[39m\u001b[38;5;124mUTF-8-SIG\u001b[39m\u001b[38;5;124m\"\u001b[39m)\n\u001b[0;32m      2\u001b[0m df_eaq\n",
      "\u001b[1;31mNameError\u001b[0m: name 'dataset_path_eaq' is not defined"
     ]
    }
   ],
   "source": [
    "df_eaq = pd.read_csv(dataset_path_eaq,delimiter=\";\",encoding=\"UTF-8-SIG\")\n",
    "df_eaq"
   ]
  },
  {
   "cell_type": "code",
   "execution_count": 4,
   "metadata": {},
   "outputs": [],
   "source": [
    "\"\"\" WORKING FROM HOME \"\"\"\n",
    "dataset_path_wfh1 = 'Data/Werkzame_beroepsbevolking__thuiswerken_04102024_193141.csv'\n",
    "dataset_path_wfh2 = 'Data/Werkzame_beroepsbevolking__thuiswerken_07102024_101921.csv'\n",
    "with open(dataset_path_wfh1, 'rb') as rawdata:\n",
    "\n",
    "    result = chardet.detect(rawdata.read(100000))\n",
    "    result"
   ]
  },
  {
   "cell_type": "code",
   "execution_count": 5,
   "metadata": {},
   "outputs": [
    {
     "data": {
      "text/html": [
       "<div>\n",
       "<style scoped>\n",
       "    .dataframe tbody tr th:only-of-type {\n",
       "        vertical-align: middle;\n",
       "    }\n",
       "\n",
       "    .dataframe tbody tr th {\n",
       "        vertical-align: top;\n",
       "    }\n",
       "\n",
       "    .dataframe thead th {\n",
       "        text-align: right;\n",
       "    }\n",
       "</style>\n",
       "<table border=\"1\" class=\"dataframe\">\n",
       "  <thead>\n",
       "    <tr style=\"text-align: right;\">\n",
       "      <th></th>\n",
       "      <th>Geslacht</th>\n",
       "      <th>Thuiswerker</th>\n",
       "      <th>Positie werkkring</th>\n",
       "      <th>Persoonskenmerken</th>\n",
       "      <th>Perioden</th>\n",
       "      <th>Werkzame beroepsbevolking (x 1 000)</th>\n",
       "    </tr>\n",
       "  </thead>\n",
       "  <tbody>\n",
       "    <tr>\n",
       "      <th>0</th>\n",
       "      <td>Totaal mannen en vrouwen</td>\n",
       "      <td>Totaal</td>\n",
       "      <td>Totaal</td>\n",
       "      <td>Totaal personen</td>\n",
       "      <td>2013</td>\n",
       "      <td>8266</td>\n",
       "    </tr>\n",
       "    <tr>\n",
       "      <th>1</th>\n",
       "      <td>Totaal mannen en vrouwen</td>\n",
       "      <td>Totaal</td>\n",
       "      <td>Totaal</td>\n",
       "      <td>Totaal personen</td>\n",
       "      <td>2014</td>\n",
       "      <td>8214</td>\n",
       "    </tr>\n",
       "    <tr>\n",
       "      <th>2</th>\n",
       "      <td>Totaal mannen en vrouwen</td>\n",
       "      <td>Totaal</td>\n",
       "      <td>Totaal</td>\n",
       "      <td>Totaal personen</td>\n",
       "      <td>2015</td>\n",
       "      <td>8294</td>\n",
       "    </tr>\n",
       "    <tr>\n",
       "      <th>3</th>\n",
       "      <td>Totaal mannen en vrouwen</td>\n",
       "      <td>Totaal</td>\n",
       "      <td>Totaal</td>\n",
       "      <td>Totaal personen</td>\n",
       "      <td>2016</td>\n",
       "      <td>8403</td>\n",
       "    </tr>\n",
       "    <tr>\n",
       "      <th>4</th>\n",
       "      <td>Totaal mannen en vrouwen</td>\n",
       "      <td>Totaal</td>\n",
       "      <td>Totaal</td>\n",
       "      <td>Totaal personen</td>\n",
       "      <td>2017</td>\n",
       "      <td>8579</td>\n",
       "    </tr>\n",
       "    <tr>\n",
       "      <th>...</th>\n",
       "      <td>...</td>\n",
       "      <td>...</td>\n",
       "      <td>...</td>\n",
       "      <td>...</td>\n",
       "      <td>...</td>\n",
       "      <td>...</td>\n",
       "    </tr>\n",
       "    <tr>\n",
       "      <th>3595</th>\n",
       "      <td>Totaal mannen en vrouwen</td>\n",
       "      <td>Soms thuiswerken</td>\n",
       "      <td>Zelfstandige zonder personeel (zzp)</td>\n",
       "      <td>13 Beroepsklasse overig</td>\n",
       "      <td>2022</td>\n",
       "      <td>3</td>\n",
       "    </tr>\n",
       "    <tr>\n",
       "      <th>3596</th>\n",
       "      <td>Totaal mannen en vrouwen</td>\n",
       "      <td>Soms thuiswerken</td>\n",
       "      <td>Zelfstandige zonder personeel (zzp)</td>\n",
       "      <td>13 Beroepsklasse overig</td>\n",
       "      <td>2023</td>\n",
       "      <td>4</td>\n",
       "    </tr>\n",
       "    <tr>\n",
       "      <th>3597</th>\n",
       "      <td>Totaal mannen en vrouwen</td>\n",
       "      <td>Niet thuiswerken</td>\n",
       "      <td>Zelfstandige zonder personeel (zzp)</td>\n",
       "      <td>13 Beroepsklasse overig</td>\n",
       "      <td>2021</td>\n",
       "      <td>4</td>\n",
       "    </tr>\n",
       "    <tr>\n",
       "      <th>3598</th>\n",
       "      <td>Totaal mannen en vrouwen</td>\n",
       "      <td>Niet thuiswerken</td>\n",
       "      <td>Zelfstandige zonder personeel (zzp)</td>\n",
       "      <td>13 Beroepsklasse overig</td>\n",
       "      <td>2022</td>\n",
       "      <td>6</td>\n",
       "    </tr>\n",
       "    <tr>\n",
       "      <th>3599</th>\n",
       "      <td>Totaal mannen en vrouwen</td>\n",
       "      <td>Niet thuiswerken</td>\n",
       "      <td>Zelfstandige zonder personeel (zzp)</td>\n",
       "      <td>13 Beroepsklasse overig</td>\n",
       "      <td>2023</td>\n",
       "      <td>7</td>\n",
       "    </tr>\n",
       "  </tbody>\n",
       "</table>\n",
       "<p>5224 rows × 6 columns</p>\n",
       "</div>"
      ],
      "text/plain": [
       "                      Geslacht       Thuiswerker  \\\n",
       "0     Totaal mannen en vrouwen            Totaal   \n",
       "1     Totaal mannen en vrouwen            Totaal   \n",
       "2     Totaal mannen en vrouwen            Totaal   \n",
       "3     Totaal mannen en vrouwen            Totaal   \n",
       "4     Totaal mannen en vrouwen            Totaal   \n",
       "...                        ...               ...   \n",
       "3595  Totaal mannen en vrouwen  Soms thuiswerken   \n",
       "3596  Totaal mannen en vrouwen  Soms thuiswerken   \n",
       "3597  Totaal mannen en vrouwen  Niet thuiswerken   \n",
       "3598  Totaal mannen en vrouwen  Niet thuiswerken   \n",
       "3599  Totaal mannen en vrouwen  Niet thuiswerken   \n",
       "\n",
       "                        Positie werkkring        Persoonskenmerken  Perioden  \\\n",
       "0                                  Totaal          Totaal personen      2013   \n",
       "1                                  Totaal          Totaal personen      2014   \n",
       "2                                  Totaal          Totaal personen      2015   \n",
       "3                                  Totaal          Totaal personen      2016   \n",
       "4                                  Totaal          Totaal personen      2017   \n",
       "...                                   ...                      ...       ...   \n",
       "3595  Zelfstandige zonder personeel (zzp)  13 Beroepsklasse overig      2022   \n",
       "3596  Zelfstandige zonder personeel (zzp)  13 Beroepsklasse overig      2023   \n",
       "3597  Zelfstandige zonder personeel (zzp)  13 Beroepsklasse overig      2021   \n",
       "3598  Zelfstandige zonder personeel (zzp)  13 Beroepsklasse overig      2022   \n",
       "3599  Zelfstandige zonder personeel (zzp)  13 Beroepsklasse overig      2023   \n",
       "\n",
       "      Werkzame beroepsbevolking (x 1 000)  \n",
       "0                                    8266  \n",
       "1                                    8214  \n",
       "2                                    8294  \n",
       "3                                    8403  \n",
       "4                                    8579  \n",
       "...                                   ...  \n",
       "3595                                    3  \n",
       "3596                                    4  \n",
       "3597                                    4  \n",
       "3598                                    6  \n",
       "3599                                    7  \n",
       "\n",
       "[5224 rows x 6 columns]"
      ]
     },
     "execution_count": 5,
     "metadata": {},
     "output_type": "execute_result"
    }
   ],
   "source": [
    "df_wfh1 = pd.read_csv(dataset_path_wfh1,delimiter=\";\",encoding=\"UTF-8-SIG\")\n",
    "df_wfh2 = pd.read_csv(dataset_path_wfh2,delimiter=\";\",encoding=\"UTF-8-SIG\")\n",
    "\n",
    "df_wfh1\n",
    "\n",
    "df_wfh2.rename(columns={'Positie in de werkkring': 'Positie werkkring'}, inplace=True)\n",
    "df_wfh2.rename(columns={'Thuiswerken': 'Thuiswerker'}, inplace=True)\n",
    "\n",
    "columns = list(df_wfh2.columns)\n",
    "columns.insert(1, columns.pop(columns.index('Thuiswerker')))\n",
    "df_wfh2 = df_wfh2[columns]  \n",
    "\n",
    "df_merged = pd.concat([df_wfh1,df_wfh2])\n",
    "\n",
    "df_merged"
   ]
  },
  {
   "cell_type": "markdown",
   "metadata": {},
   "source": [
    "# Data Pipeline"
   ]
  },
  {
   "cell_type": "markdown",
   "metadata": {},
   "source": [
    "## 5. Intended Data Pipeline\n",
    "\n",
    "### Data Collection\n",
    "The primary data source for this research will be the CBS Statline database, which provides a wide range of data on mobility, transport, commuting patterns, and environmental factors.\n",
    "\n",
    "### Data Cleaning\n",
    "Data from CBS will be pre-processed to remove incomplete records, normalize values across different datasets, and ensure consistency in time-series data.\n",
    "\n",
    "### Data Integration\n",
    "Different datasets (e.g., mobility data, emissions data, public transport usage data) will be integrated using geographic and temporal references to allow for comprehensive analysis.\n",
    "\n",
    "### Data Analysis\n",
    "Quantitative analysis will be performed to answer each research question:\n",
    "- Time-series analysis of mobility trends over the past decade.\n",
    "- Statistical comparisons of transport mode usage in urban vs. rural areas.\n",
    "- Congestion analysis using data on peak-hour traffic volumes.\n",
    "- Air quality and emissions analysis in cities before and after the rise of remote work.\n",
    "\n",
    "### Visualization\n",
    "The results will be visualized through:\n",
    "- Line graphs showing changes in commuting frequency and transport mode usage.\n",
    "- Heatmaps depicting traffic congestion and emissions levels across regions.\n",
    "- Geographic visualizations comparing urban and rural mobility trends.\n"
   ]
  },
  {
   "cell_type": "markdown",
   "metadata": {},
   "source": [
    "### Time and Spatial Scale\n",
    "\n",
    "- **Time Scale**: The study will focus on a 10-year period, from 2013 to 2023, with a special focus on the years following the COVID-19 pandemic (2020–2023) due to the rapid adoption of remote work.\n",
    "\n",
    "- **Spatial Scale**: The geographical boundary will cover the entirety of the Netherlands, with a particular focus on urban centers (e.g., Amsterdam, Rotterdam, Utrecht) compared to rural areas. This will allow for regional comparison and identification of mobility trends in different parts of the country.\n"
   ]
  },
  {
   "cell_type": "markdown",
   "metadata": {},
   "source": []
  },
  {
   "cell_type": "markdown",
   "metadata": {},
   "source": []
  }
 ],
 "metadata": {
  "kernelspec": {
   "display_name": "TIL6022",
   "language": "python",
   "name": "python3"
  },
  "language_info": {
   "codemirror_mode": {
    "name": "ipython",
    "version": 3
   },
   "file_extension": ".py",
   "mimetype": "text/x-python",
   "name": "python",
   "nbconvert_exporter": "python",
   "pygments_lexer": "ipython3",
   "version": "3.8.19"
  },
  "orig_nbformat": 4
 },
 "nbformat": 4,
 "nbformat_minor": 2
}
