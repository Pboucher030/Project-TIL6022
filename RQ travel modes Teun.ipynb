{
 "cells": [
  {
   "cell_type": "code",
   "execution_count": 2,
   "metadata": {},
   "outputs": [
    {
     "data": {
      "text/plain": [
       "{'encoding': 'UTF-8-SIG', 'confidence': 1.0, 'language': ''}"
      ]
     },
     "execution_count": 2,
     "metadata": {},
     "output_type": "execute_result"
    }
   ],
   "source": [
    "import numpy as np\n",
    "import matplotlib.pyplot as plt\n",
    "import numpy as np\n",
    "import pandas as pd\n",
    "import chardet\n",
    "import plotly_express as px\n",
    "\n",
    "\n",
    "\"\"\" MOBILITY AND TRANSPORT\"\"\"\n",
    "dataset_path_mat = 'C:/Users/teun/OneDrive/Documenten/Transport_Infrastructure_Logistics/jaar 2/TIL_Programming/data_assignment/Mobiliteitstrend__per_rit_en_motief_02102024_122208.csv'\n",
    "with open(dataset_path_mat, 'rb') as rawdata:\n",
    "\n",
    "    result = chardet.detect(rawdata.read(100000))\n",
    "\n",
    "dataset_path_wfh1 = 'C:/Users/teun/OneDrive/Documenten/Transport_Infrastructure_Logistics/jaar 2/TIL_Programming/data_assignment/Werkzame_beroepsbevolking__thuiswerken_04102024_193141.csv'\n",
    "dataset_path_wfh2 = 'C:/Users/teun/OneDrive/Documenten/Transport_Infrastructure_Logistics/jaar 2/TIL_Programming/data_assignment/Werkzame_beroepsbevolking__thuiswerken_07102024_101921.csv'\n",
    "df_mat_path = 'C:/Users/teun/OneDrive/Documenten/Transport_Infrastructure_Logistics/jaar 2/TIL_Programming/data_assignment/Mobiliteitstrend__per_rit_en_motief_02102024_122208.csv'\n",
    "\n",
    "df_wfh1 = pd.read_csv(dataset_path_wfh1, delimiter=\";\", encoding=\"UTF-8-SIG\")\n",
    "df_wfh2 = pd.read_csv(dataset_path_wfh2, delimiter=\";\", encoding=\"UTF-8-SIG\")\n",
    "df_mat = pd.read_csv(df_mat_path, delimiter=\";\", encoding=\"UTF-8-SIG\")\n",
    "    \n",
    "result"
   ]
  },
  {
   "cell_type": "code",
   "execution_count": 3,
   "metadata": {},
   "outputs": [
    {
     "data": {
      "application/vnd.plotly.v1+json": {
       "config": {
        "plotlyServerURL": "https://plot.ly"
       },
       "data": [
        {
         "hovertemplate": "Periods=%{x}<br>Number of remote working people (x1 000)=%{y}<extra></extra>",
         "legendgroup": "",
         "line": {
          "color": "#636efa",
          "dash": "solid"
         },
         "marker": {
          "symbol": "circle"
         },
         "mode": "lines",
         "name": "",
         "orientation": "v",
         "showlegend": false,
         "type": "scatter",
         "x": [
          2013,
          2014,
          2015,
          2016,
          2017,
          2018,
          2019,
          2020,
          2021,
          2022,
          2023
         ],
         "xaxis": "x",
         "y": [
          2848,
          2889,
          2978,
          3023,
          3148,
          3254,
          3500,
          3674,
          4996,
          5069,
          5059
         ],
         "yaxis": "y"
        }
       ],
       "layout": {
        "legend": {
         "tracegroupgap": 0
        },
        "template": {
         "data": {
          "bar": [
           {
            "error_x": {
             "color": "#2a3f5f"
            },
            "error_y": {
             "color": "#2a3f5f"
            },
            "marker": {
             "line": {
              "color": "#E5ECF6",
              "width": 0.5
             },
             "pattern": {
              "fillmode": "overlay",
              "size": 10,
              "solidity": 0.2
             }
            },
            "type": "bar"
           }
          ],
          "barpolar": [
           {
            "marker": {
             "line": {
              "color": "#E5ECF6",
              "width": 0.5
             },
             "pattern": {
              "fillmode": "overlay",
              "size": 10,
              "solidity": 0.2
             }
            },
            "type": "barpolar"
           }
          ],
          "carpet": [
           {
            "aaxis": {
             "endlinecolor": "#2a3f5f",
             "gridcolor": "white",
             "linecolor": "white",
             "minorgridcolor": "white",
             "startlinecolor": "#2a3f5f"
            },
            "baxis": {
             "endlinecolor": "#2a3f5f",
             "gridcolor": "white",
             "linecolor": "white",
             "minorgridcolor": "white",
             "startlinecolor": "#2a3f5f"
            },
            "type": "carpet"
           }
          ],
          "choropleth": [
           {
            "colorbar": {
             "outlinewidth": 0,
             "ticks": ""
            },
            "type": "choropleth"
           }
          ],
          "contour": [
           {
            "colorbar": {
             "outlinewidth": 0,
             "ticks": ""
            },
            "colorscale": [
             [
              0,
              "#0d0887"
             ],
             [
              0.1111111111111111,
              "#46039f"
             ],
             [
              0.2222222222222222,
              "#7201a8"
             ],
             [
              0.3333333333333333,
              "#9c179e"
             ],
             [
              0.4444444444444444,
              "#bd3786"
             ],
             [
              0.5555555555555556,
              "#d8576b"
             ],
             [
              0.6666666666666666,
              "#ed7953"
             ],
             [
              0.7777777777777778,
              "#fb9f3a"
             ],
             [
              0.8888888888888888,
              "#fdca26"
             ],
             [
              1,
              "#f0f921"
             ]
            ],
            "type": "contour"
           }
          ],
          "contourcarpet": [
           {
            "colorbar": {
             "outlinewidth": 0,
             "ticks": ""
            },
            "type": "contourcarpet"
           }
          ],
          "heatmap": [
           {
            "colorbar": {
             "outlinewidth": 0,
             "ticks": ""
            },
            "colorscale": [
             [
              0,
              "#0d0887"
             ],
             [
              0.1111111111111111,
              "#46039f"
             ],
             [
              0.2222222222222222,
              "#7201a8"
             ],
             [
              0.3333333333333333,
              "#9c179e"
             ],
             [
              0.4444444444444444,
              "#bd3786"
             ],
             [
              0.5555555555555556,
              "#d8576b"
             ],
             [
              0.6666666666666666,
              "#ed7953"
             ],
             [
              0.7777777777777778,
              "#fb9f3a"
             ],
             [
              0.8888888888888888,
              "#fdca26"
             ],
             [
              1,
              "#f0f921"
             ]
            ],
            "type": "heatmap"
           }
          ],
          "heatmapgl": [
           {
            "colorbar": {
             "outlinewidth": 0,
             "ticks": ""
            },
            "colorscale": [
             [
              0,
              "#0d0887"
             ],
             [
              0.1111111111111111,
              "#46039f"
             ],
             [
              0.2222222222222222,
              "#7201a8"
             ],
             [
              0.3333333333333333,
              "#9c179e"
             ],
             [
              0.4444444444444444,
              "#bd3786"
             ],
             [
              0.5555555555555556,
              "#d8576b"
             ],
             [
              0.6666666666666666,
              "#ed7953"
             ],
             [
              0.7777777777777778,
              "#fb9f3a"
             ],
             [
              0.8888888888888888,
              "#fdca26"
             ],
             [
              1,
              "#f0f921"
             ]
            ],
            "type": "heatmapgl"
           }
          ],
          "histogram": [
           {
            "marker": {
             "pattern": {
              "fillmode": "overlay",
              "size": 10,
              "solidity": 0.2
             }
            },
            "type": "histogram"
           }
          ],
          "histogram2d": [
           {
            "colorbar": {
             "outlinewidth": 0,
             "ticks": ""
            },
            "colorscale": [
             [
              0,
              "#0d0887"
             ],
             [
              0.1111111111111111,
              "#46039f"
             ],
             [
              0.2222222222222222,
              "#7201a8"
             ],
             [
              0.3333333333333333,
              "#9c179e"
             ],
             [
              0.4444444444444444,
              "#bd3786"
             ],
             [
              0.5555555555555556,
              "#d8576b"
             ],
             [
              0.6666666666666666,
              "#ed7953"
             ],
             [
              0.7777777777777778,
              "#fb9f3a"
             ],
             [
              0.8888888888888888,
              "#fdca26"
             ],
             [
              1,
              "#f0f921"
             ]
            ],
            "type": "histogram2d"
           }
          ],
          "histogram2dcontour": [
           {
            "colorbar": {
             "outlinewidth": 0,
             "ticks": ""
            },
            "colorscale": [
             [
              0,
              "#0d0887"
             ],
             [
              0.1111111111111111,
              "#46039f"
             ],
             [
              0.2222222222222222,
              "#7201a8"
             ],
             [
              0.3333333333333333,
              "#9c179e"
             ],
             [
              0.4444444444444444,
              "#bd3786"
             ],
             [
              0.5555555555555556,
              "#d8576b"
             ],
             [
              0.6666666666666666,
              "#ed7953"
             ],
             [
              0.7777777777777778,
              "#fb9f3a"
             ],
             [
              0.8888888888888888,
              "#fdca26"
             ],
             [
              1,
              "#f0f921"
             ]
            ],
            "type": "histogram2dcontour"
           }
          ],
          "mesh3d": [
           {
            "colorbar": {
             "outlinewidth": 0,
             "ticks": ""
            },
            "type": "mesh3d"
           }
          ],
          "parcoords": [
           {
            "line": {
             "colorbar": {
              "outlinewidth": 0,
              "ticks": ""
             }
            },
            "type": "parcoords"
           }
          ],
          "pie": [
           {
            "automargin": true,
            "type": "pie"
           }
          ],
          "scatter": [
           {
            "fillpattern": {
             "fillmode": "overlay",
             "size": 10,
             "solidity": 0.2
            },
            "type": "scatter"
           }
          ],
          "scatter3d": [
           {
            "line": {
             "colorbar": {
              "outlinewidth": 0,
              "ticks": ""
             }
            },
            "marker": {
             "colorbar": {
              "outlinewidth": 0,
              "ticks": ""
             }
            },
            "type": "scatter3d"
           }
          ],
          "scattercarpet": [
           {
            "marker": {
             "colorbar": {
              "outlinewidth": 0,
              "ticks": ""
             }
            },
            "type": "scattercarpet"
           }
          ],
          "scattergeo": [
           {
            "marker": {
             "colorbar": {
              "outlinewidth": 0,
              "ticks": ""
             }
            },
            "type": "scattergeo"
           }
          ],
          "scattergl": [
           {
            "marker": {
             "colorbar": {
              "outlinewidth": 0,
              "ticks": ""
             }
            },
            "type": "scattergl"
           }
          ],
          "scattermapbox": [
           {
            "marker": {
             "colorbar": {
              "outlinewidth": 0,
              "ticks": ""
             }
            },
            "type": "scattermapbox"
           }
          ],
          "scatterpolar": [
           {
            "marker": {
             "colorbar": {
              "outlinewidth": 0,
              "ticks": ""
             }
            },
            "type": "scatterpolar"
           }
          ],
          "scatterpolargl": [
           {
            "marker": {
             "colorbar": {
              "outlinewidth": 0,
              "ticks": ""
             }
            },
            "type": "scatterpolargl"
           }
          ],
          "scatterternary": [
           {
            "marker": {
             "colorbar": {
              "outlinewidth": 0,
              "ticks": ""
             }
            },
            "type": "scatterternary"
           }
          ],
          "surface": [
           {
            "colorbar": {
             "outlinewidth": 0,
             "ticks": ""
            },
            "colorscale": [
             [
              0,
              "#0d0887"
             ],
             [
              0.1111111111111111,
              "#46039f"
             ],
             [
              0.2222222222222222,
              "#7201a8"
             ],
             [
              0.3333333333333333,
              "#9c179e"
             ],
             [
              0.4444444444444444,
              "#bd3786"
             ],
             [
              0.5555555555555556,
              "#d8576b"
             ],
             [
              0.6666666666666666,
              "#ed7953"
             ],
             [
              0.7777777777777778,
              "#fb9f3a"
             ],
             [
              0.8888888888888888,
              "#fdca26"
             ],
             [
              1,
              "#f0f921"
             ]
            ],
            "type": "surface"
           }
          ],
          "table": [
           {
            "cells": {
             "fill": {
              "color": "#EBF0F8"
             },
             "line": {
              "color": "white"
             }
            },
            "header": {
             "fill": {
              "color": "#C8D4E3"
             },
             "line": {
              "color": "white"
             }
            },
            "type": "table"
           }
          ]
         },
         "layout": {
          "annotationdefaults": {
           "arrowcolor": "#2a3f5f",
           "arrowhead": 0,
           "arrowwidth": 1
          },
          "autotypenumbers": "strict",
          "coloraxis": {
           "colorbar": {
            "outlinewidth": 0,
            "ticks": ""
           }
          },
          "colorscale": {
           "diverging": [
            [
             0,
             "#8e0152"
            ],
            [
             0.1,
             "#c51b7d"
            ],
            [
             0.2,
             "#de77ae"
            ],
            [
             0.3,
             "#f1b6da"
            ],
            [
             0.4,
             "#fde0ef"
            ],
            [
             0.5,
             "#f7f7f7"
            ],
            [
             0.6,
             "#e6f5d0"
            ],
            [
             0.7,
             "#b8e186"
            ],
            [
             0.8,
             "#7fbc41"
            ],
            [
             0.9,
             "#4d9221"
            ],
            [
             1,
             "#276419"
            ]
           ],
           "sequential": [
            [
             0,
             "#0d0887"
            ],
            [
             0.1111111111111111,
             "#46039f"
            ],
            [
             0.2222222222222222,
             "#7201a8"
            ],
            [
             0.3333333333333333,
             "#9c179e"
            ],
            [
             0.4444444444444444,
             "#bd3786"
            ],
            [
             0.5555555555555556,
             "#d8576b"
            ],
            [
             0.6666666666666666,
             "#ed7953"
            ],
            [
             0.7777777777777778,
             "#fb9f3a"
            ],
            [
             0.8888888888888888,
             "#fdca26"
            ],
            [
             1,
             "#f0f921"
            ]
           ],
           "sequentialminus": [
            [
             0,
             "#0d0887"
            ],
            [
             0.1111111111111111,
             "#46039f"
            ],
            [
             0.2222222222222222,
             "#7201a8"
            ],
            [
             0.3333333333333333,
             "#9c179e"
            ],
            [
             0.4444444444444444,
             "#bd3786"
            ],
            [
             0.5555555555555556,
             "#d8576b"
            ],
            [
             0.6666666666666666,
             "#ed7953"
            ],
            [
             0.7777777777777778,
             "#fb9f3a"
            ],
            [
             0.8888888888888888,
             "#fdca26"
            ],
            [
             1,
             "#f0f921"
            ]
           ]
          },
          "colorway": [
           "#636efa",
           "#EF553B",
           "#00cc96",
           "#ab63fa",
           "#FFA15A",
           "#19d3f3",
           "#FF6692",
           "#B6E880",
           "#FF97FF",
           "#FECB52"
          ],
          "font": {
           "color": "#2a3f5f"
          },
          "geo": {
           "bgcolor": "white",
           "lakecolor": "white",
           "landcolor": "#E5ECF6",
           "showlakes": true,
           "showland": true,
           "subunitcolor": "white"
          },
          "hoverlabel": {
           "align": "left"
          },
          "hovermode": "closest",
          "mapbox": {
           "style": "light"
          },
          "paper_bgcolor": "white",
          "plot_bgcolor": "#E5ECF6",
          "polar": {
           "angularaxis": {
            "gridcolor": "white",
            "linecolor": "white",
            "ticks": ""
           },
           "bgcolor": "#E5ECF6",
           "radialaxis": {
            "gridcolor": "white",
            "linecolor": "white",
            "ticks": ""
           }
          },
          "scene": {
           "xaxis": {
            "backgroundcolor": "#E5ECF6",
            "gridcolor": "white",
            "gridwidth": 2,
            "linecolor": "white",
            "showbackground": true,
            "ticks": "",
            "zerolinecolor": "white"
           },
           "yaxis": {
            "backgroundcolor": "#E5ECF6",
            "gridcolor": "white",
            "gridwidth": 2,
            "linecolor": "white",
            "showbackground": true,
            "ticks": "",
            "zerolinecolor": "white"
           },
           "zaxis": {
            "backgroundcolor": "#E5ECF6",
            "gridcolor": "white",
            "gridwidth": 2,
            "linecolor": "white",
            "showbackground": true,
            "ticks": "",
            "zerolinecolor": "white"
           }
          },
          "shapedefaults": {
           "line": {
            "color": "#2a3f5f"
           }
          },
          "ternary": {
           "aaxis": {
            "gridcolor": "white",
            "linecolor": "white",
            "ticks": ""
           },
           "baxis": {
            "gridcolor": "white",
            "linecolor": "white",
            "ticks": ""
           },
           "bgcolor": "#E5ECF6",
           "caxis": {
            "gridcolor": "white",
            "linecolor": "white",
            "ticks": ""
           }
          },
          "title": {
           "x": 0.05
          },
          "xaxis": {
           "automargin": true,
           "gridcolor": "white",
           "linecolor": "white",
           "ticks": "",
           "title": {
            "standoff": 15
           },
           "zerolinecolor": "white",
           "zerolinewidth": 2
          },
          "yaxis": {
           "automargin": true,
           "gridcolor": "white",
           "linecolor": "white",
           "ticks": "",
           "title": {
            "standoff": 15
           },
           "zerolinecolor": "white",
           "zerolinewidth": 2
          }
         }
        },
        "title": {
         "text": "Number of remote working people"
        },
        "xaxis": {
         "anchor": "y",
         "domain": [
          0,
          1
         ],
         "title": {
          "text": "Periods"
         }
        },
        "yaxis": {
         "anchor": "x",
         "domain": [
          0,
          1
         ],
         "title": {
          "text": "Number of remote working people (x1 000)"
         }
        }
       }
      }
     },
     "metadata": {},
     "output_type": "display_data"
    }
   ],
   "source": [
    "df_wfh1 = pd.read_csv(dataset_path_wfh1,delimiter=\";\",encoding=\"UTF-8-SIG\")\n",
    "df_wfh2 = pd.read_csv(dataset_path_wfh2,delimiter=\";\",encoding=\"UTF-8-SIG\")\n",
    "df_mat = pd.read_csv('Data/Mobiliteitstrend__per_rit_en_motief_02102024_122208.csv',delimiter=\";\",encoding=\"UTF-8-SIG\")\n",
    "\n",
    "df_wfh2.rename(columns={'Positie in de werkkring': 'Positie werkkring'}, inplace=True)\n",
    "df_wfh2.rename(columns={'Thuiswerken': 'Thuiswerker'}, inplace=True)\n",
    "\n",
    "columns = list(df_wfh2.columns)\n",
    "columns.insert(1, columns.pop(columns.index('Thuiswerker')))\n",
    "df_wfh2 = df_wfh2[columns]  \n",
    "\n",
    "df_merged = pd.concat([df_wfh1,df_wfh2])\n",
    "\n",
    "thuiswerker_mapping = {\n",
    "    'Thuiswerker die gewoonlijk thuis werkt': 'Meestal thuiswerken',\n",
    "    'Thuiswerker, incidenteel op vaste dagen': 'Soms thuiswerken',\n",
    "    'Thuiswerker, incidenteel geen vaste dag': 'Soms thuiswerken',\n",
    "    'Geen thuiswerker': 'Niet thuiswerken'\n",
    "}\n",
    "\n",
    "df_merged['Thuiswerker'] = df_merged['Thuiswerker'].replace(thuiswerker_mapping)\n",
    "\n",
    "df_filtered = df_merged[\n",
    "    (df_merged['Positie werkkring'] == 'Totaal') &\n",
    "    (df_merged['Persoonskenmerken'] == 'Totaal personen') &\n",
    "    (~df_merged['Thuiswerker'].isin([\"Thuiswerker\",\"Totaal\",\"Meestal of soms thuiswerken\",\"Thuiswerker die incidenteel thuis werkt\"]))\n",
    "]\n",
    "\n",
    "\n",
    "df_filtered1 = df_wfh1[(df_wfh1['Thuiswerker'] == \"Thuiswerker\")&(df_wfh1['Positie werkkring'] == 'Totaal')&(df_wfh1['Persoonskenmerken'] == 'Totaal personen')]\n",
    "df_filtered2 = df_wfh2[(df_wfh2['Thuiswerker'] == \"Meestal of soms thuiswerken\")&(df_wfh2['Positie werkkring'] == 'Totaal')&(df_wfh2['Persoonskenmerken'] == 'Totaal personen')]\n",
    "\n",
    "df_wfh_line = pd.concat([df_filtered1,df_filtered2])\n",
    "\n",
    "\n",
    "px.line(df_wfh_line,\n",
    "        x=\"Perioden\",\n",
    "        y=\"Werkzame beroepsbevolking (x 1 000)\",\n",
    "        title = \"Number of remote working people\",\n",
    "        labels={\"Perioden\": \"Periods\", \"Werkzame beroepsbevolking (x 1 000)\": \"Number of remote working people (x1 000)\"})"
   ]
  },
  {
   "cell_type": "code",
   "execution_count": 8,
   "metadata": {},
   "outputs": [
    {
     "data": {
      "text/html": [
       "<div>\n",
       "<style scoped>\n",
       "    .dataframe tbody tr th:only-of-type {\n",
       "        vertical-align: middle;\n",
       "    }\n",
       "\n",
       "    .dataframe tbody tr th {\n",
       "        vertical-align: top;\n",
       "    }\n",
       "\n",
       "    .dataframe thead th {\n",
       "        text-align: right;\n",
       "    }\n",
       "</style>\n",
       "<table border=\"1\" class=\"dataframe\">\n",
       "  <thead>\n",
       "    <tr style=\"text-align: right;\">\n",
       "      <th></th>\n",
       "      <th>Geslacht</th>\n",
       "      <th>Leeftijd</th>\n",
       "      <th>Vervoerwijzen</th>\n",
       "      <th>Reismotieven</th>\n",
       "      <th>Marges</th>\n",
       "      <th>Perioden</th>\n",
       "      <th>Ritten per persoon per dag (gemiddeld) (aantal)</th>\n",
       "      <th>Afgelegde afstand per rit (gemiddeld) (km)</th>\n",
       "      <th>Reisduur per rit (Minuten)</th>\n",
       "    </tr>\n",
       "  </thead>\n",
       "  <tbody>\n",
       "    <tr>\n",
       "      <th>0</th>\n",
       "      <td>Totaal mannen en vrouwen</td>\n",
       "      <td>Totaal</td>\n",
       "      <td>Totaal</td>\n",
       "      <td>Totaal</td>\n",
       "      <td>Waarde</td>\n",
       "      <td>1999*</td>\n",
       "      <td>3.41</td>\n",
       "      <td>10.96</td>\n",
       "      <td>23.72</td>\n",
       "    </tr>\n",
       "    <tr>\n",
       "      <th>1</th>\n",
       "      <td>Totaal mannen en vrouwen</td>\n",
       "      <td>Totaal</td>\n",
       "      <td>Totaal</td>\n",
       "      <td>Totaal</td>\n",
       "      <td>Waarde</td>\n",
       "      <td>2003*</td>\n",
       "      <td>3.30</td>\n",
       "      <td>11.04</td>\n",
       "      <td>23.65</td>\n",
       "    </tr>\n",
       "    <tr>\n",
       "      <th>2</th>\n",
       "      <td>Totaal mannen en vrouwen</td>\n",
       "      <td>Totaal</td>\n",
       "      <td>Totaal</td>\n",
       "      <td>Totaal</td>\n",
       "      <td>Waarde</td>\n",
       "      <td>2007*</td>\n",
       "      <td>3.20</td>\n",
       "      <td>11.07</td>\n",
       "      <td>23.88</td>\n",
       "    </tr>\n",
       "    <tr>\n",
       "      <th>3</th>\n",
       "      <td>Totaal mannen en vrouwen</td>\n",
       "      <td>Totaal</td>\n",
       "      <td>Totaal</td>\n",
       "      <td>Totaal</td>\n",
       "      <td>Waarde</td>\n",
       "      <td>2011*</td>\n",
       "      <td>3.09</td>\n",
       "      <td>11.21</td>\n",
       "      <td>23.76</td>\n",
       "    </tr>\n",
       "    <tr>\n",
       "      <th>4</th>\n",
       "      <td>Totaal mannen en vrouwen</td>\n",
       "      <td>Totaal</td>\n",
       "      <td>Totaal</td>\n",
       "      <td>Totaal</td>\n",
       "      <td>Waarde</td>\n",
       "      <td>2015*</td>\n",
       "      <td>3.03</td>\n",
       "      <td>11.36</td>\n",
       "      <td>24.14</td>\n",
       "    </tr>\n",
       "    <tr>\n",
       "      <th>...</th>\n",
       "      <td>...</td>\n",
       "      <td>...</td>\n",
       "      <td>...</td>\n",
       "      <td>...</td>\n",
       "      <td>...</td>\n",
       "      <td>...</td>\n",
       "      <td>...</td>\n",
       "      <td>...</td>\n",
       "      <td>...</td>\n",
       "    </tr>\n",
       "    <tr>\n",
       "      <th>1435</th>\n",
       "      <td>Totaal mannen en vrouwen</td>\n",
       "      <td>60 tot 65 jaar</td>\n",
       "      <td>Overige vervoerwijze</td>\n",
       "      <td>Overige reismotieven</td>\n",
       "      <td>Waarde</td>\n",
       "      <td>2019*</td>\n",
       "      <td>.</td>\n",
       "      <td>.</td>\n",
       "      <td>.</td>\n",
       "    </tr>\n",
       "    <tr>\n",
       "      <th>1436</th>\n",
       "      <td>Totaal mannen en vrouwen</td>\n",
       "      <td>60 tot 65 jaar</td>\n",
       "      <td>Overige vervoerwijze</td>\n",
       "      <td>Overige reismotieven</td>\n",
       "      <td>Waarde</td>\n",
       "      <td>2020*</td>\n",
       "      <td>.</td>\n",
       "      <td>.</td>\n",
       "      <td>.</td>\n",
       "    </tr>\n",
       "    <tr>\n",
       "      <th>1437</th>\n",
       "      <td>Totaal mannen en vrouwen</td>\n",
       "      <td>60 tot 65 jaar</td>\n",
       "      <td>Overige vervoerwijze</td>\n",
       "      <td>Overige reismotieven</td>\n",
       "      <td>Waarde</td>\n",
       "      <td>2021*</td>\n",
       "      <td>.</td>\n",
       "      <td>.</td>\n",
       "      <td>.</td>\n",
       "    </tr>\n",
       "    <tr>\n",
       "      <th>1438</th>\n",
       "      <td>Totaal mannen en vrouwen</td>\n",
       "      <td>60 tot 65 jaar</td>\n",
       "      <td>Overige vervoerwijze</td>\n",
       "      <td>Overige reismotieven</td>\n",
       "      <td>Waarde</td>\n",
       "      <td>2022*</td>\n",
       "      <td>.</td>\n",
       "      <td>.</td>\n",
       "      <td>.</td>\n",
       "    </tr>\n",
       "    <tr>\n",
       "      <th>1439</th>\n",
       "      <td>Totaal mannen en vrouwen</td>\n",
       "      <td>60 tot 65 jaar</td>\n",
       "      <td>Overige vervoerwijze</td>\n",
       "      <td>Overige reismotieven</td>\n",
       "      <td>Waarde</td>\n",
       "      <td>2023*</td>\n",
       "      <td>.</td>\n",
       "      <td>.</td>\n",
       "      <td>.</td>\n",
       "    </tr>\n",
       "  </tbody>\n",
       "</table>\n",
       "<p>1440 rows × 9 columns</p>\n",
       "</div>"
      ],
      "text/plain": [
       "                      Geslacht        Leeftijd         Vervoerwijzen  \\\n",
       "0     Totaal mannen en vrouwen          Totaal                Totaal   \n",
       "1     Totaal mannen en vrouwen          Totaal                Totaal   \n",
       "2     Totaal mannen en vrouwen          Totaal                Totaal   \n",
       "3     Totaal mannen en vrouwen          Totaal                Totaal   \n",
       "4     Totaal mannen en vrouwen          Totaal                Totaal   \n",
       "...                        ...             ...                   ...   \n",
       "1435  Totaal mannen en vrouwen  60 tot 65 jaar  Overige vervoerwijze   \n",
       "1436  Totaal mannen en vrouwen  60 tot 65 jaar  Overige vervoerwijze   \n",
       "1437  Totaal mannen en vrouwen  60 tot 65 jaar  Overige vervoerwijze   \n",
       "1438  Totaal mannen en vrouwen  60 tot 65 jaar  Overige vervoerwijze   \n",
       "1439  Totaal mannen en vrouwen  60 tot 65 jaar  Overige vervoerwijze   \n",
       "\n",
       "              Reismotieven  Marges Perioden  \\\n",
       "0                   Totaal  Waarde    1999*   \n",
       "1                   Totaal  Waarde    2003*   \n",
       "2                   Totaal  Waarde    2007*   \n",
       "3                   Totaal  Waarde    2011*   \n",
       "4                   Totaal  Waarde    2015*   \n",
       "...                    ...     ...      ...   \n",
       "1435  Overige reismotieven  Waarde    2019*   \n",
       "1436  Overige reismotieven  Waarde    2020*   \n",
       "1437  Overige reismotieven  Waarde    2021*   \n",
       "1438  Overige reismotieven  Waarde    2022*   \n",
       "1439  Overige reismotieven  Waarde    2023*   \n",
       "\n",
       "     Ritten per persoon per dag (gemiddeld) (aantal)  \\\n",
       "0                                               3.41   \n",
       "1                                               3.30   \n",
       "2                                               3.20   \n",
       "3                                               3.09   \n",
       "4                                               3.03   \n",
       "...                                              ...   \n",
       "1435                                               .   \n",
       "1436                                               .   \n",
       "1437                                               .   \n",
       "1438                                               .   \n",
       "1439                                               .   \n",
       "\n",
       "     Afgelegde afstand per rit (gemiddeld) (km) Reisduur per rit (Minuten)  \n",
       "0                                         10.96                      23.72  \n",
       "1                                         11.04                      23.65  \n",
       "2                                         11.07                      23.88  \n",
       "3                                         11.21                      23.76  \n",
       "4                                         11.36                      24.14  \n",
       "...                                         ...                        ...  \n",
       "1435                                          .                          .  \n",
       "1436                                          .                          .  \n",
       "1437                                          .                          .  \n",
       "1438                                          .                          .  \n",
       "1439                                          .                          .  \n",
       "\n",
       "[1440 rows x 9 columns]"
      ]
     },
     "execution_count": 8,
     "metadata": {},
     "output_type": "execute_result"
    }
   ],
   "source": [
    "df_mod = pd.read_csv(dataset_path_mat,delimiter=';',encoding='UTF-8-SIG')\n",
    "df_mod"
   ]
  },
  {
   "cell_type": "code",
   "execution_count": 9,
   "metadata": {},
   "outputs": [
    {
     "name": "stderr",
     "output_type": "stream",
     "text": [
      "C:\\Users\\teun\\AppData\\Local\\Temp\\ipykernel_11676\\2896205784.py:9: SettingWithCopyWarning:\n",
      "\n",
      "\n",
      "A value is trying to be set on a copy of a slice from a DataFrame.\n",
      "Try using .loc[row_indexer,col_indexer] = value instead\n",
      "\n",
      "See the caveats in the documentation: https://pandas.pydata.org/pandas-docs/stable/user_guide/indexing.html#returning-a-view-versus-a-copy\n",
      "\n"
     ]
    },
    {
     "data": {
      "application/vnd.plotly.v1+json": {
       "config": {
        "plotlyServerURL": "https://plot.ly"
       },
       "data": [
        {
         "alignmentgroup": "True",
         "hovertemplate": "Travel motives=Car (passenger)<br>Periods=%{x}<br>Number of trips per day (average)=%{y}<extra></extra>",
         "legendgroup": "Car (passenger)",
         "marker": {
          "color": "#636efa",
          "pattern": {
           "shape": ""
          }
         },
         "name": "Car (passenger)",
         "offsetgroup": "Car (passenger)",
         "orientation": "v",
         "showlegend": true,
         "textposition": "auto",
         "type": "bar",
         "x": [
          "1999*",
          "2003*",
          "2007*",
          "2011*",
          "2015*",
          "2019*",
          "2020*",
          "2021*",
          "2022*",
          "2023*"
         ],
         "xaxis": "x",
         "y": [
          "    0.48",
          "    0.44",
          "    0.40",
          "    0.36",
          "    0.34",
          "    0.32",
          "    0.25",
          "    0.27",
          "    0.29",
          "    0.31"
         ],
         "yaxis": "y"
        },
        {
         "alignmentgroup": "True",
         "hovertemplate": "Travel motives=Fiets<br>Periods=%{x}<br>Number of trips per day (average)=%{y}<extra></extra>",
         "legendgroup": "Fiets",
         "marker": {
          "color": "#EF553B",
          "pattern": {
           "shape": ""
          }
         },
         "name": "Fiets",
         "offsetgroup": "Fiets",
         "orientation": "v",
         "showlegend": true,
         "textposition": "auto",
         "type": "bar",
         "x": [
          "1999*",
          "2003*",
          "2007*",
          "2011*",
          "2015*",
          "2019*",
          "2020*",
          "2021*",
          "2022*",
          "2023*"
         ],
         "xaxis": "x",
         "y": [
          "    0.87",
          "    0.87",
          "    0.85",
          "    0.85",
          "    0.84",
          "    0.82",
          "    0.65",
          "    0.67",
          "    0.78",
          "    0.78"
         ],
         "yaxis": "y"
        },
        {
         "alignmentgroup": "True",
         "hovertemplate": "Travel motives=Walking<br>Periods=%{x}<br>Number of trips per day (average)=%{y}<extra></extra>",
         "legendgroup": "Walking",
         "marker": {
          "color": "#00cc96",
          "pattern": {
           "shape": ""
          }
         },
         "name": "Walking",
         "offsetgroup": "Walking",
         "orientation": "v",
         "showlegend": true,
         "textposition": "auto",
         "type": "bar",
         "x": [
          "1999*",
          "2003*",
          "2007*",
          "2011*",
          "2015*",
          "2019*",
          "2020*",
          "2021*",
          "2022*",
          "2023*"
         ],
         "xaxis": "x",
         "y": [
          "    0.65",
          "    0.62",
          "    0.63",
          "    0.61",
          "    0.60",
          "    0.58",
          "    0.61",
          "    0.69",
          "    0.70",
          "    0.69"
         ],
         "yaxis": "y"
        },
        {
         "alignmentgroup": "True",
         "hovertemplate": "Travel motives=Other travel mode<br>Periods=%{x}<br>Number of trips per day (average)=%{y}<extra></extra>",
         "legendgroup": "Other travel mode",
         "marker": {
          "color": "#ab63fa",
          "pattern": {
           "shape": ""
          }
         },
         "name": "Other travel mode",
         "offsetgroup": "Other travel mode",
         "orientation": "v",
         "showlegend": true,
         "textposition": "auto",
         "type": "bar",
         "x": [
          "1999*",
          "2003*",
          "2007*",
          "2011*",
          "2015*",
          "2019*",
          "2020*",
          "2021*",
          "2022*",
          "2023*"
         ],
         "xaxis": "x",
         "y": [
          "    0.12",
          "    0.11",
          "    0.11",
          "    0.11",
          "    0.10",
          "    0.10",
          "    0.08",
          "    0.09",
          "    0.09",
          "    0.09"
         ],
         "yaxis": "y"
        },
        {
         "alignmentgroup": "True",
         "hovertemplate": "Travel motives=Train<br>Periods=%{x}<br>Number of trips per day (average)=%{y}<extra></extra>",
         "legendgroup": "Train",
         "marker": {
          "color": "#FFA15A",
          "pattern": {
           "shape": ""
          }
         },
         "name": "Train",
         "offsetgroup": "Train",
         "orientation": "v",
         "showlegend": true,
         "textposition": "auto",
         "type": "bar",
         "x": [
          "1999*",
          "2003*",
          "2007*",
          "2011*",
          "2015*",
          "2019*",
          "2020*",
          "2021*",
          "2022*",
          "2023*"
         ],
         "xaxis": "x",
         "y": [
          "    0.07",
          "    0.07",
          "    0.07",
          "    0.07",
          "    0.08",
          "    0.08",
          "    0.04",
          "    0.04",
          "    0.05",
          "    0.07"
         ],
         "yaxis": "y"
        },
        {
         "alignmentgroup": "True",
         "hovertemplate": "Travel motives=Bus/tram/metro<br>Periods=%{x}<br>Number of trips per day (average)=%{y}<extra></extra>",
         "legendgroup": "Bus/tram/metro",
         "marker": {
          "color": "#19d3f3",
          "pattern": {
           "shape": ""
          }
         },
         "name": "Bus/tram/metro",
         "offsetgroup": "Bus/tram/metro",
         "orientation": "v",
         "showlegend": true,
         "textposition": "auto",
         "type": "bar",
         "x": [
          "1999*",
          "2003*",
          "2007*",
          "2011*",
          "2015*",
          "2019*",
          "2020*",
          "2021*",
          "2022*",
          "2023*"
         ],
         "xaxis": "x",
         "y": [
          "    0.16",
          "    0.14",
          "    0.13",
          "    0.13",
          "    0.12",
          "    0.12",
          "    0.06",
          "    0.06",
          "    0.08",
          "    0.10"
         ],
         "yaxis": "y"
        },
        {
         "alignmentgroup": "True",
         "hovertemplate": "Travel motives=Car (driver)<br>Periods=%{x}<br>Number of trips per day (average)=%{y}<extra></extra>",
         "legendgroup": "Car (driver)",
         "marker": {
          "color": "#FF6692",
          "pattern": {
           "shape": ""
          }
         },
         "name": "Car (driver)",
         "offsetgroup": "Car (driver)",
         "orientation": "v",
         "showlegend": true,
         "textposition": "auto",
         "type": "bar",
         "x": [
          "1999*",
          "2003*",
          "2007*",
          "2011*",
          "2015*",
          "2019*",
          "2020*",
          "2021*",
          "2022*",
          "2023*"
         ],
         "xaxis": "x",
         "y": [
          "    1.06",
          "    1.04",
          "    1.01",
          "    0.97",
          "    0.95",
          "    0.94",
          "    0.79",
          "    0.81",
          "    0.86",
          "    0.90"
         ],
         "yaxis": "y"
        }
       ],
       "layout": {
        "barmode": "relative",
        "legend": {
         "title": {
          "text": "Travel motives"
         },
         "tracegroupgap": 0
        },
        "template": {
         "data": {
          "bar": [
           {
            "error_x": {
             "color": "#2a3f5f"
            },
            "error_y": {
             "color": "#2a3f5f"
            },
            "marker": {
             "line": {
              "color": "#E5ECF6",
              "width": 0.5
             },
             "pattern": {
              "fillmode": "overlay",
              "size": 10,
              "solidity": 0.2
             }
            },
            "type": "bar"
           }
          ],
          "barpolar": [
           {
            "marker": {
             "line": {
              "color": "#E5ECF6",
              "width": 0.5
             },
             "pattern": {
              "fillmode": "overlay",
              "size": 10,
              "solidity": 0.2
             }
            },
            "type": "barpolar"
           }
          ],
          "carpet": [
           {
            "aaxis": {
             "endlinecolor": "#2a3f5f",
             "gridcolor": "white",
             "linecolor": "white",
             "minorgridcolor": "white",
             "startlinecolor": "#2a3f5f"
            },
            "baxis": {
             "endlinecolor": "#2a3f5f",
             "gridcolor": "white",
             "linecolor": "white",
             "minorgridcolor": "white",
             "startlinecolor": "#2a3f5f"
            },
            "type": "carpet"
           }
          ],
          "choropleth": [
           {
            "colorbar": {
             "outlinewidth": 0,
             "ticks": ""
            },
            "type": "choropleth"
           }
          ],
          "contour": [
           {
            "colorbar": {
             "outlinewidth": 0,
             "ticks": ""
            },
            "colorscale": [
             [
              0,
              "#0d0887"
             ],
             [
              0.1111111111111111,
              "#46039f"
             ],
             [
              0.2222222222222222,
              "#7201a8"
             ],
             [
              0.3333333333333333,
              "#9c179e"
             ],
             [
              0.4444444444444444,
              "#bd3786"
             ],
             [
              0.5555555555555556,
              "#d8576b"
             ],
             [
              0.6666666666666666,
              "#ed7953"
             ],
             [
              0.7777777777777778,
              "#fb9f3a"
             ],
             [
              0.8888888888888888,
              "#fdca26"
             ],
             [
              1,
              "#f0f921"
             ]
            ],
            "type": "contour"
           }
          ],
          "contourcarpet": [
           {
            "colorbar": {
             "outlinewidth": 0,
             "ticks": ""
            },
            "type": "contourcarpet"
           }
          ],
          "heatmap": [
           {
            "colorbar": {
             "outlinewidth": 0,
             "ticks": ""
            },
            "colorscale": [
             [
              0,
              "#0d0887"
             ],
             [
              0.1111111111111111,
              "#46039f"
             ],
             [
              0.2222222222222222,
              "#7201a8"
             ],
             [
              0.3333333333333333,
              "#9c179e"
             ],
             [
              0.4444444444444444,
              "#bd3786"
             ],
             [
              0.5555555555555556,
              "#d8576b"
             ],
             [
              0.6666666666666666,
              "#ed7953"
             ],
             [
              0.7777777777777778,
              "#fb9f3a"
             ],
             [
              0.8888888888888888,
              "#fdca26"
             ],
             [
              1,
              "#f0f921"
             ]
            ],
            "type": "heatmap"
           }
          ],
          "heatmapgl": [
           {
            "colorbar": {
             "outlinewidth": 0,
             "ticks": ""
            },
            "colorscale": [
             [
              0,
              "#0d0887"
             ],
             [
              0.1111111111111111,
              "#46039f"
             ],
             [
              0.2222222222222222,
              "#7201a8"
             ],
             [
              0.3333333333333333,
              "#9c179e"
             ],
             [
              0.4444444444444444,
              "#bd3786"
             ],
             [
              0.5555555555555556,
              "#d8576b"
             ],
             [
              0.6666666666666666,
              "#ed7953"
             ],
             [
              0.7777777777777778,
              "#fb9f3a"
             ],
             [
              0.8888888888888888,
              "#fdca26"
             ],
             [
              1,
              "#f0f921"
             ]
            ],
            "type": "heatmapgl"
           }
          ],
          "histogram": [
           {
            "marker": {
             "pattern": {
              "fillmode": "overlay",
              "size": 10,
              "solidity": 0.2
             }
            },
            "type": "histogram"
           }
          ],
          "histogram2d": [
           {
            "colorbar": {
             "outlinewidth": 0,
             "ticks": ""
            },
            "colorscale": [
             [
              0,
              "#0d0887"
             ],
             [
              0.1111111111111111,
              "#46039f"
             ],
             [
              0.2222222222222222,
              "#7201a8"
             ],
             [
              0.3333333333333333,
              "#9c179e"
             ],
             [
              0.4444444444444444,
              "#bd3786"
             ],
             [
              0.5555555555555556,
              "#d8576b"
             ],
             [
              0.6666666666666666,
              "#ed7953"
             ],
             [
              0.7777777777777778,
              "#fb9f3a"
             ],
             [
              0.8888888888888888,
              "#fdca26"
             ],
             [
              1,
              "#f0f921"
             ]
            ],
            "type": "histogram2d"
           }
          ],
          "histogram2dcontour": [
           {
            "colorbar": {
             "outlinewidth": 0,
             "ticks": ""
            },
            "colorscale": [
             [
              0,
              "#0d0887"
             ],
             [
              0.1111111111111111,
              "#46039f"
             ],
             [
              0.2222222222222222,
              "#7201a8"
             ],
             [
              0.3333333333333333,
              "#9c179e"
             ],
             [
              0.4444444444444444,
              "#bd3786"
             ],
             [
              0.5555555555555556,
              "#d8576b"
             ],
             [
              0.6666666666666666,
              "#ed7953"
             ],
             [
              0.7777777777777778,
              "#fb9f3a"
             ],
             [
              0.8888888888888888,
              "#fdca26"
             ],
             [
              1,
              "#f0f921"
             ]
            ],
            "type": "histogram2dcontour"
           }
          ],
          "mesh3d": [
           {
            "colorbar": {
             "outlinewidth": 0,
             "ticks": ""
            },
            "type": "mesh3d"
           }
          ],
          "parcoords": [
           {
            "line": {
             "colorbar": {
              "outlinewidth": 0,
              "ticks": ""
             }
            },
            "type": "parcoords"
           }
          ],
          "pie": [
           {
            "automargin": true,
            "type": "pie"
           }
          ],
          "scatter": [
           {
            "fillpattern": {
             "fillmode": "overlay",
             "size": 10,
             "solidity": 0.2
            },
            "type": "scatter"
           }
          ],
          "scatter3d": [
           {
            "line": {
             "colorbar": {
              "outlinewidth": 0,
              "ticks": ""
             }
            },
            "marker": {
             "colorbar": {
              "outlinewidth": 0,
              "ticks": ""
             }
            },
            "type": "scatter3d"
           }
          ],
          "scattercarpet": [
           {
            "marker": {
             "colorbar": {
              "outlinewidth": 0,
              "ticks": ""
             }
            },
            "type": "scattercarpet"
           }
          ],
          "scattergeo": [
           {
            "marker": {
             "colorbar": {
              "outlinewidth": 0,
              "ticks": ""
             }
            },
            "type": "scattergeo"
           }
          ],
          "scattergl": [
           {
            "marker": {
             "colorbar": {
              "outlinewidth": 0,
              "ticks": ""
             }
            },
            "type": "scattergl"
           }
          ],
          "scattermapbox": [
           {
            "marker": {
             "colorbar": {
              "outlinewidth": 0,
              "ticks": ""
             }
            },
            "type": "scattermapbox"
           }
          ],
          "scatterpolar": [
           {
            "marker": {
             "colorbar": {
              "outlinewidth": 0,
              "ticks": ""
             }
            },
            "type": "scatterpolar"
           }
          ],
          "scatterpolargl": [
           {
            "marker": {
             "colorbar": {
              "outlinewidth": 0,
              "ticks": ""
             }
            },
            "type": "scatterpolargl"
           }
          ],
          "scatterternary": [
           {
            "marker": {
             "colorbar": {
              "outlinewidth": 0,
              "ticks": ""
             }
            },
            "type": "scatterternary"
           }
          ],
          "surface": [
           {
            "colorbar": {
             "outlinewidth": 0,
             "ticks": ""
            },
            "colorscale": [
             [
              0,
              "#0d0887"
             ],
             [
              0.1111111111111111,
              "#46039f"
             ],
             [
              0.2222222222222222,
              "#7201a8"
             ],
             [
              0.3333333333333333,
              "#9c179e"
             ],
             [
              0.4444444444444444,
              "#bd3786"
             ],
             [
              0.5555555555555556,
              "#d8576b"
             ],
             [
              0.6666666666666666,
              "#ed7953"
             ],
             [
              0.7777777777777778,
              "#fb9f3a"
             ],
             [
              0.8888888888888888,
              "#fdca26"
             ],
             [
              1,
              "#f0f921"
             ]
            ],
            "type": "surface"
           }
          ],
          "table": [
           {
            "cells": {
             "fill": {
              "color": "#EBF0F8"
             },
             "line": {
              "color": "white"
             }
            },
            "header": {
             "fill": {
              "color": "#C8D4E3"
             },
             "line": {
              "color": "white"
             }
            },
            "type": "table"
           }
          ]
         },
         "layout": {
          "annotationdefaults": {
           "arrowcolor": "#2a3f5f",
           "arrowhead": 0,
           "arrowwidth": 1
          },
          "autotypenumbers": "strict",
          "coloraxis": {
           "colorbar": {
            "outlinewidth": 0,
            "ticks": ""
           }
          },
          "colorscale": {
           "diverging": [
            [
             0,
             "#8e0152"
            ],
            [
             0.1,
             "#c51b7d"
            ],
            [
             0.2,
             "#de77ae"
            ],
            [
             0.3,
             "#f1b6da"
            ],
            [
             0.4,
             "#fde0ef"
            ],
            [
             0.5,
             "#f7f7f7"
            ],
            [
             0.6,
             "#e6f5d0"
            ],
            [
             0.7,
             "#b8e186"
            ],
            [
             0.8,
             "#7fbc41"
            ],
            [
             0.9,
             "#4d9221"
            ],
            [
             1,
             "#276419"
            ]
           ],
           "sequential": [
            [
             0,
             "#0d0887"
            ],
            [
             0.1111111111111111,
             "#46039f"
            ],
            [
             0.2222222222222222,
             "#7201a8"
            ],
            [
             0.3333333333333333,
             "#9c179e"
            ],
            [
             0.4444444444444444,
             "#bd3786"
            ],
            [
             0.5555555555555556,
             "#d8576b"
            ],
            [
             0.6666666666666666,
             "#ed7953"
            ],
            [
             0.7777777777777778,
             "#fb9f3a"
            ],
            [
             0.8888888888888888,
             "#fdca26"
            ],
            [
             1,
             "#f0f921"
            ]
           ],
           "sequentialminus": [
            [
             0,
             "#0d0887"
            ],
            [
             0.1111111111111111,
             "#46039f"
            ],
            [
             0.2222222222222222,
             "#7201a8"
            ],
            [
             0.3333333333333333,
             "#9c179e"
            ],
            [
             0.4444444444444444,
             "#bd3786"
            ],
            [
             0.5555555555555556,
             "#d8576b"
            ],
            [
             0.6666666666666666,
             "#ed7953"
            ],
            [
             0.7777777777777778,
             "#fb9f3a"
            ],
            [
             0.8888888888888888,
             "#fdca26"
            ],
            [
             1,
             "#f0f921"
            ]
           ]
          },
          "colorway": [
           "#636efa",
           "#EF553B",
           "#00cc96",
           "#ab63fa",
           "#FFA15A",
           "#19d3f3",
           "#FF6692",
           "#B6E880",
           "#FF97FF",
           "#FECB52"
          ],
          "font": {
           "color": "#2a3f5f"
          },
          "geo": {
           "bgcolor": "white",
           "lakecolor": "white",
           "landcolor": "#E5ECF6",
           "showlakes": true,
           "showland": true,
           "subunitcolor": "white"
          },
          "hoverlabel": {
           "align": "left"
          },
          "hovermode": "closest",
          "mapbox": {
           "style": "light"
          },
          "paper_bgcolor": "white",
          "plot_bgcolor": "#E5ECF6",
          "polar": {
           "angularaxis": {
            "gridcolor": "white",
            "linecolor": "white",
            "ticks": ""
           },
           "bgcolor": "#E5ECF6",
           "radialaxis": {
            "gridcolor": "white",
            "linecolor": "white",
            "ticks": ""
           }
          },
          "scene": {
           "xaxis": {
            "backgroundcolor": "#E5ECF6",
            "gridcolor": "white",
            "gridwidth": 2,
            "linecolor": "white",
            "showbackground": true,
            "ticks": "",
            "zerolinecolor": "white"
           },
           "yaxis": {
            "backgroundcolor": "#E5ECF6",
            "gridcolor": "white",
            "gridwidth": 2,
            "linecolor": "white",
            "showbackground": true,
            "ticks": "",
            "zerolinecolor": "white"
           },
           "zaxis": {
            "backgroundcolor": "#E5ECF6",
            "gridcolor": "white",
            "gridwidth": 2,
            "linecolor": "white",
            "showbackground": true,
            "ticks": "",
            "zerolinecolor": "white"
           }
          },
          "shapedefaults": {
           "line": {
            "color": "#2a3f5f"
           }
          },
          "ternary": {
           "aaxis": {
            "gridcolor": "white",
            "linecolor": "white",
            "ticks": ""
           },
           "baxis": {
            "gridcolor": "white",
            "linecolor": "white",
            "ticks": ""
           },
           "bgcolor": "#E5ECF6",
           "caxis": {
            "gridcolor": "white",
            "linecolor": "white",
            "ticks": ""
           }
          },
          "title": {
           "x": 0.05
          },
          "xaxis": {
           "automargin": true,
           "gridcolor": "white",
           "linecolor": "white",
           "ticks": "",
           "title": {
            "standoff": 15
           },
           "zerolinecolor": "white",
           "zerolinewidth": 2
          },
          "yaxis": {
           "automargin": true,
           "gridcolor": "white",
           "linecolor": "white",
           "ticks": "",
           "title": {
            "standoff": 15
           },
           "zerolinecolor": "white",
           "zerolinewidth": 2
          }
         }
        },
        "title": {
         "text": "Travel motives over time"
        },
        "xaxis": {
         "anchor": "y",
         "domain": [
          0,
          1
         ],
         "title": {
          "text": "Periods"
         }
        },
        "yaxis": {
         "anchor": "x",
         "domain": [
          0,
          1
         ],
         "title": {
          "text": "Number of trips per day (average)"
         },
         "type": "linear"
        }
       }
      }
     },
     "metadata": {},
     "output_type": "display_data"
    }
   ],
   "source": [
    "df_mod = df_mod.sort_values(['Ritten per persoon per dag (gemiddeld) (aantal)'], ascending=True)\n",
    "df_mod = df_mod.sort_values(['Perioden'], ascending=True)\n",
    "df_mod_total = df_mod[\n",
    "    (df_mod['Geslacht'] == \"Totaal mannen en vrouwen\") &\n",
    "    (df_mod[\"Leeftijd\"] == \"Totaal\") &\n",
    "    (df_mod[\"Vervoerwijzen\"] != \"Totaal\")&\n",
    "    (df_mod[\"Reismotieven\"] == \"Totaal\")]\n",
    "\n",
    "df_mod_total['Reismotieven'] = df_mod_total['Vervoerwijzen'].replace({\n",
    "    \"Auto (bestuurder)\": \"Car (driver)\",\n",
    "    \"Overige vervoerwijze\": \"Other travel mode\",\n",
    "    \"Auto (passagier)\": \"Car (passenger)\",\n",
    "    \"Trein\": \"Train\",\n",
    "    \"Lopen\": \"Walking\"})\n",
    "\n",
    "fig = px.bar(df_mod_total,\n",
    "        x=\"Perioden\",\n",
    "        y=\"Ritten per persoon per dag (gemiddeld) (aantal)\",\n",
    "        color=\"Reismotieven\",\n",
    "        title= \"Travel motives over time\",\n",
    "        labels= {\"Perioden\": \"Periods\", \"Ritten per persoon per dag (gemiddeld) (aantal)\": \"Number of trips per day (average)\", \"Reismotieven\": \"Travel motives\"})\n",
    "fig.update_yaxes(type='linear')\n",
    "fig.show()"
   ]
  },
  {
   "cell_type": "code",
   "execution_count": 10,
   "metadata": {},
   "outputs": [
    {
     "data": {
      "application/vnd.plotly.v1+json": {
       "config": {
        "plotlyServerURL": "https://plot.ly"
       },
       "data": [
        {
         "alignmentgroup": "True",
         "hovertemplate": "Transportation modes=Auto (passagier)<br>Periods=%{x}<br>Percentage of trips (%)=%{y}<extra></extra>",
         "legendgroup": "Auto (passagier)",
         "marker": {
          "color": "#636efa",
          "pattern": {
           "shape": ""
          }
         },
         "name": "Auto (passagier)",
         "offsetgroup": "Auto (passagier)",
         "orientation": "v",
         "showlegend": true,
         "textposition": "auto",
         "texttemplate": "%{y:.1f}",
         "type": "bar",
         "x": [
          "1999*",
          "2003*",
          "2007*",
          "2011*",
          "2015*",
          "2019*",
          "2020*",
          "2021*",
          "2022*",
          "2023*"
         ],
         "xaxis": "x",
         "y": [
          14.076246334310849,
          13.37386018237082,
          12.5,
          11.612903225806452,
          11.221122112211221,
          10.810810810810812,
          10.080645161290324,
          10.266159695817493,
          10.17543859649123,
          10.544217687074832
         ],
         "yaxis": "y"
        },
        {
         "alignmentgroup": "True",
         "hovertemplate": "Transportation modes=Fiets<br>Periods=%{x}<br>Percentage of trips (%)=%{y}<extra></extra>",
         "legendgroup": "Fiets",
         "marker": {
          "color": "#EF553B",
          "pattern": {
           "shape": ""
          }
         },
         "name": "Fiets",
         "offsetgroup": "Fiets",
         "orientation": "v",
         "showlegend": true,
         "textposition": "auto",
         "texttemplate": "%{y:.1f}",
         "type": "bar",
         "x": [
          "1999*",
          "2003*",
          "2007*",
          "2011*",
          "2015*",
          "2019*",
          "2020*",
          "2021*",
          "2022*",
          "2023*"
         ],
         "xaxis": "x",
         "y": [
          25.513196480938415,
          26.443768996960486,
          26.5625,
          27.41935483870968,
          27.72277227722772,
          27.7027027027027,
          26.209677419354836,
          25.475285171102662,
          27.368421052631582,
          26.530612244897966
         ],
         "yaxis": "y"
        },
        {
         "alignmentgroup": "True",
         "hovertemplate": "Transportation modes=Lopen<br>Periods=%{x}<br>Percentage of trips (%)=%{y}<extra></extra>",
         "legendgroup": "Lopen",
         "marker": {
          "color": "#00cc96",
          "pattern": {
           "shape": ""
          }
         },
         "name": "Lopen",
         "offsetgroup": "Lopen",
         "orientation": "v",
         "showlegend": true,
         "textposition": "auto",
         "texttemplate": "%{y:.1f}",
         "type": "bar",
         "x": [
          "1999*",
          "2003*",
          "2007*",
          "2011*",
          "2015*",
          "2019*",
          "2020*",
          "2021*",
          "2022*",
          "2023*"
         ],
         "xaxis": "x",
         "y": [
          19.06158357771261,
          18.84498480243161,
          19.6875,
          19.67741935483871,
          19.801980198019802,
          19.594594594594597,
          24.596774193548388,
          26.235741444866918,
          24.56140350877193,
          23.46938775510204
         ],
         "yaxis": "y"
        },
        {
         "alignmentgroup": "True",
         "hovertemplate": "Transportation modes=Overige vervoerwijze<br>Periods=%{x}<br>Percentage of trips (%)=%{y}<extra></extra>",
         "legendgroup": "Overige vervoerwijze",
         "marker": {
          "color": "#ab63fa",
          "pattern": {
           "shape": ""
          }
         },
         "name": "Overige vervoerwijze",
         "offsetgroup": "Overige vervoerwijze",
         "orientation": "v",
         "showlegend": true,
         "textposition": "auto",
         "texttemplate": "%{y:.1f}",
         "type": "bar",
         "x": [
          "1999*",
          "2003*",
          "2007*",
          "2011*",
          "2015*",
          "2019*",
          "2020*",
          "2021*",
          "2022*",
          "2023*"
         ],
         "xaxis": "x",
         "y": [
          3.519061583577712,
          3.343465045592705,
          3.4374999999999996,
          3.5483870967741944,
          3.3003300330033,
          3.3783783783783794,
          3.225806451612903,
          3.4220532319391634,
          3.1578947368421053,
          3.0612244897959187
         ],
         "yaxis": "y"
        },
        {
         "alignmentgroup": "True",
         "hovertemplate": "Transportation modes=Trein<br>Periods=%{x}<br>Percentage of trips (%)=%{y}<extra></extra>",
         "legendgroup": "Trein",
         "marker": {
          "color": "#FFA15A",
          "pattern": {
           "shape": ""
          }
         },
         "name": "Trein",
         "offsetgroup": "Trein",
         "orientation": "v",
         "showlegend": true,
         "textposition": "auto",
         "texttemplate": "%{y:.1f}",
         "type": "bar",
         "x": [
          "1999*",
          "2003*",
          "2007*",
          "2011*",
          "2015*",
          "2019*",
          "2020*",
          "2021*",
          "2022*",
          "2023*"
         ],
         "xaxis": "x",
         "y": [
          2.052785923753666,
          2.1276595744680855,
          2.1875,
          2.258064516129033,
          2.64026402640264,
          2.702702702702703,
          1.6129032258064515,
          1.5209125475285172,
          1.754385964912281,
          2.3809523809523814
         ],
         "yaxis": "y"
        },
        {
         "alignmentgroup": "True",
         "hovertemplate": "Transportation modes=Bus/tram/metro<br>Periods=%{x}<br>Percentage of trips (%)=%{y}<extra></extra>",
         "legendgroup": "Bus/tram/metro",
         "marker": {
          "color": "#19d3f3",
          "pattern": {
           "shape": ""
          }
         },
         "name": "Bus/tram/metro",
         "offsetgroup": "Bus/tram/metro",
         "orientation": "v",
         "showlegend": true,
         "textposition": "auto",
         "texttemplate": "%{y:.1f}",
         "type": "bar",
         "x": [
          "1999*",
          "2003*",
          "2007*",
          "2011*",
          "2015*",
          "2019*",
          "2020*",
          "2021*",
          "2022*",
          "2023*"
         ],
         "xaxis": "x",
         "y": [
          4.69208211143695,
          4.255319148936171,
          4.0625,
          4.193548387096775,
          3.96039603960396,
          4.054054054054054,
          2.4193548387096775,
          2.2813688212927756,
          2.8070175438596494,
          3.401360544217688
         ],
         "yaxis": "y"
        },
        {
         "alignmentgroup": "True",
         "hovertemplate": "Transportation modes=Auto (bestuurder)<br>Periods=%{x}<br>Percentage of trips (%)=%{y}<extra></extra>",
         "legendgroup": "Auto (bestuurder)",
         "marker": {
          "color": "#FF6692",
          "pattern": {
           "shape": ""
          }
         },
         "name": "Auto (bestuurder)",
         "offsetgroup": "Auto (bestuurder)",
         "orientation": "v",
         "showlegend": true,
         "textposition": "auto",
         "texttemplate": "%{y:.1f}",
         "type": "bar",
         "x": [
          "1999*",
          "2003*",
          "2007*",
          "2011*",
          "2015*",
          "2019*",
          "2020*",
          "2021*",
          "2022*",
          "2023*"
         ],
         "xaxis": "x",
         "y": [
          31.085043988269796,
          31.61094224924012,
          31.5625,
          31.290322580645164,
          31.35313531353135,
          31.75675675675676,
          31.85483870967742,
          30.798479087452474,
          30.175438596491233,
          30.61224489795919
         ],
         "yaxis": "y"
        }
       ],
       "layout": {
        "barmode": "relative",
        "legend": {
         "title": {
          "text": "Transportation modes"
         },
         "tracegroupgap": 0
        },
        "template": {
         "data": {
          "bar": [
           {
            "error_x": {
             "color": "#2a3f5f"
            },
            "error_y": {
             "color": "#2a3f5f"
            },
            "marker": {
             "line": {
              "color": "#E5ECF6",
              "width": 0.5
             },
             "pattern": {
              "fillmode": "overlay",
              "size": 10,
              "solidity": 0.2
             }
            },
            "type": "bar"
           }
          ],
          "barpolar": [
           {
            "marker": {
             "line": {
              "color": "#E5ECF6",
              "width": 0.5
             },
             "pattern": {
              "fillmode": "overlay",
              "size": 10,
              "solidity": 0.2
             }
            },
            "type": "barpolar"
           }
          ],
          "carpet": [
           {
            "aaxis": {
             "endlinecolor": "#2a3f5f",
             "gridcolor": "white",
             "linecolor": "white",
             "minorgridcolor": "white",
             "startlinecolor": "#2a3f5f"
            },
            "baxis": {
             "endlinecolor": "#2a3f5f",
             "gridcolor": "white",
             "linecolor": "white",
             "minorgridcolor": "white",
             "startlinecolor": "#2a3f5f"
            },
            "type": "carpet"
           }
          ],
          "choropleth": [
           {
            "colorbar": {
             "outlinewidth": 0,
             "ticks": ""
            },
            "type": "choropleth"
           }
          ],
          "contour": [
           {
            "colorbar": {
             "outlinewidth": 0,
             "ticks": ""
            },
            "colorscale": [
             [
              0,
              "#0d0887"
             ],
             [
              0.1111111111111111,
              "#46039f"
             ],
             [
              0.2222222222222222,
              "#7201a8"
             ],
             [
              0.3333333333333333,
              "#9c179e"
             ],
             [
              0.4444444444444444,
              "#bd3786"
             ],
             [
              0.5555555555555556,
              "#d8576b"
             ],
             [
              0.6666666666666666,
              "#ed7953"
             ],
             [
              0.7777777777777778,
              "#fb9f3a"
             ],
             [
              0.8888888888888888,
              "#fdca26"
             ],
             [
              1,
              "#f0f921"
             ]
            ],
            "type": "contour"
           }
          ],
          "contourcarpet": [
           {
            "colorbar": {
             "outlinewidth": 0,
             "ticks": ""
            },
            "type": "contourcarpet"
           }
          ],
          "heatmap": [
           {
            "colorbar": {
             "outlinewidth": 0,
             "ticks": ""
            },
            "colorscale": [
             [
              0,
              "#0d0887"
             ],
             [
              0.1111111111111111,
              "#46039f"
             ],
             [
              0.2222222222222222,
              "#7201a8"
             ],
             [
              0.3333333333333333,
              "#9c179e"
             ],
             [
              0.4444444444444444,
              "#bd3786"
             ],
             [
              0.5555555555555556,
              "#d8576b"
             ],
             [
              0.6666666666666666,
              "#ed7953"
             ],
             [
              0.7777777777777778,
              "#fb9f3a"
             ],
             [
              0.8888888888888888,
              "#fdca26"
             ],
             [
              1,
              "#f0f921"
             ]
            ],
            "type": "heatmap"
           }
          ],
          "heatmapgl": [
           {
            "colorbar": {
             "outlinewidth": 0,
             "ticks": ""
            },
            "colorscale": [
             [
              0,
              "#0d0887"
             ],
             [
              0.1111111111111111,
              "#46039f"
             ],
             [
              0.2222222222222222,
              "#7201a8"
             ],
             [
              0.3333333333333333,
              "#9c179e"
             ],
             [
              0.4444444444444444,
              "#bd3786"
             ],
             [
              0.5555555555555556,
              "#d8576b"
             ],
             [
              0.6666666666666666,
              "#ed7953"
             ],
             [
              0.7777777777777778,
              "#fb9f3a"
             ],
             [
              0.8888888888888888,
              "#fdca26"
             ],
             [
              1,
              "#f0f921"
             ]
            ],
            "type": "heatmapgl"
           }
          ],
          "histogram": [
           {
            "marker": {
             "pattern": {
              "fillmode": "overlay",
              "size": 10,
              "solidity": 0.2
             }
            },
            "type": "histogram"
           }
          ],
          "histogram2d": [
           {
            "colorbar": {
             "outlinewidth": 0,
             "ticks": ""
            },
            "colorscale": [
             [
              0,
              "#0d0887"
             ],
             [
              0.1111111111111111,
              "#46039f"
             ],
             [
              0.2222222222222222,
              "#7201a8"
             ],
             [
              0.3333333333333333,
              "#9c179e"
             ],
             [
              0.4444444444444444,
              "#bd3786"
             ],
             [
              0.5555555555555556,
              "#d8576b"
             ],
             [
              0.6666666666666666,
              "#ed7953"
             ],
             [
              0.7777777777777778,
              "#fb9f3a"
             ],
             [
              0.8888888888888888,
              "#fdca26"
             ],
             [
              1,
              "#f0f921"
             ]
            ],
            "type": "histogram2d"
           }
          ],
          "histogram2dcontour": [
           {
            "colorbar": {
             "outlinewidth": 0,
             "ticks": ""
            },
            "colorscale": [
             [
              0,
              "#0d0887"
             ],
             [
              0.1111111111111111,
              "#46039f"
             ],
             [
              0.2222222222222222,
              "#7201a8"
             ],
             [
              0.3333333333333333,
              "#9c179e"
             ],
             [
              0.4444444444444444,
              "#bd3786"
             ],
             [
              0.5555555555555556,
              "#d8576b"
             ],
             [
              0.6666666666666666,
              "#ed7953"
             ],
             [
              0.7777777777777778,
              "#fb9f3a"
             ],
             [
              0.8888888888888888,
              "#fdca26"
             ],
             [
              1,
              "#f0f921"
             ]
            ],
            "type": "histogram2dcontour"
           }
          ],
          "mesh3d": [
           {
            "colorbar": {
             "outlinewidth": 0,
             "ticks": ""
            },
            "type": "mesh3d"
           }
          ],
          "parcoords": [
           {
            "line": {
             "colorbar": {
              "outlinewidth": 0,
              "ticks": ""
             }
            },
            "type": "parcoords"
           }
          ],
          "pie": [
           {
            "automargin": true,
            "type": "pie"
           }
          ],
          "scatter": [
           {
            "fillpattern": {
             "fillmode": "overlay",
             "size": 10,
             "solidity": 0.2
            },
            "type": "scatter"
           }
          ],
          "scatter3d": [
           {
            "line": {
             "colorbar": {
              "outlinewidth": 0,
              "ticks": ""
             }
            },
            "marker": {
             "colorbar": {
              "outlinewidth": 0,
              "ticks": ""
             }
            },
            "type": "scatter3d"
           }
          ],
          "scattercarpet": [
           {
            "marker": {
             "colorbar": {
              "outlinewidth": 0,
              "ticks": ""
             }
            },
            "type": "scattercarpet"
           }
          ],
          "scattergeo": [
           {
            "marker": {
             "colorbar": {
              "outlinewidth": 0,
              "ticks": ""
             }
            },
            "type": "scattergeo"
           }
          ],
          "scattergl": [
           {
            "marker": {
             "colorbar": {
              "outlinewidth": 0,
              "ticks": ""
             }
            },
            "type": "scattergl"
           }
          ],
          "scattermapbox": [
           {
            "marker": {
             "colorbar": {
              "outlinewidth": 0,
              "ticks": ""
             }
            },
            "type": "scattermapbox"
           }
          ],
          "scatterpolar": [
           {
            "marker": {
             "colorbar": {
              "outlinewidth": 0,
              "ticks": ""
             }
            },
            "type": "scatterpolar"
           }
          ],
          "scatterpolargl": [
           {
            "marker": {
             "colorbar": {
              "outlinewidth": 0,
              "ticks": ""
             }
            },
            "type": "scatterpolargl"
           }
          ],
          "scatterternary": [
           {
            "marker": {
             "colorbar": {
              "outlinewidth": 0,
              "ticks": ""
             }
            },
            "type": "scatterternary"
           }
          ],
          "surface": [
           {
            "colorbar": {
             "outlinewidth": 0,
             "ticks": ""
            },
            "colorscale": [
             [
              0,
              "#0d0887"
             ],
             [
              0.1111111111111111,
              "#46039f"
             ],
             [
              0.2222222222222222,
              "#7201a8"
             ],
             [
              0.3333333333333333,
              "#9c179e"
             ],
             [
              0.4444444444444444,
              "#bd3786"
             ],
             [
              0.5555555555555556,
              "#d8576b"
             ],
             [
              0.6666666666666666,
              "#ed7953"
             ],
             [
              0.7777777777777778,
              "#fb9f3a"
             ],
             [
              0.8888888888888888,
              "#fdca26"
             ],
             [
              1,
              "#f0f921"
             ]
            ],
            "type": "surface"
           }
          ],
          "table": [
           {
            "cells": {
             "fill": {
              "color": "#EBF0F8"
             },
             "line": {
              "color": "white"
             }
            },
            "header": {
             "fill": {
              "color": "#C8D4E3"
             },
             "line": {
              "color": "white"
             }
            },
            "type": "table"
           }
          ]
         },
         "layout": {
          "annotationdefaults": {
           "arrowcolor": "#2a3f5f",
           "arrowhead": 0,
           "arrowwidth": 1
          },
          "autotypenumbers": "strict",
          "coloraxis": {
           "colorbar": {
            "outlinewidth": 0,
            "ticks": ""
           }
          },
          "colorscale": {
           "diverging": [
            [
             0,
             "#8e0152"
            ],
            [
             0.1,
             "#c51b7d"
            ],
            [
             0.2,
             "#de77ae"
            ],
            [
             0.3,
             "#f1b6da"
            ],
            [
             0.4,
             "#fde0ef"
            ],
            [
             0.5,
             "#f7f7f7"
            ],
            [
             0.6,
             "#e6f5d0"
            ],
            [
             0.7,
             "#b8e186"
            ],
            [
             0.8,
             "#7fbc41"
            ],
            [
             0.9,
             "#4d9221"
            ],
            [
             1,
             "#276419"
            ]
           ],
           "sequential": [
            [
             0,
             "#0d0887"
            ],
            [
             0.1111111111111111,
             "#46039f"
            ],
            [
             0.2222222222222222,
             "#7201a8"
            ],
            [
             0.3333333333333333,
             "#9c179e"
            ],
            [
             0.4444444444444444,
             "#bd3786"
            ],
            [
             0.5555555555555556,
             "#d8576b"
            ],
            [
             0.6666666666666666,
             "#ed7953"
            ],
            [
             0.7777777777777778,
             "#fb9f3a"
            ],
            [
             0.8888888888888888,
             "#fdca26"
            ],
            [
             1,
             "#f0f921"
            ]
           ],
           "sequentialminus": [
            [
             0,
             "#0d0887"
            ],
            [
             0.1111111111111111,
             "#46039f"
            ],
            [
             0.2222222222222222,
             "#7201a8"
            ],
            [
             0.3333333333333333,
             "#9c179e"
            ],
            [
             0.4444444444444444,
             "#bd3786"
            ],
            [
             0.5555555555555556,
             "#d8576b"
            ],
            [
             0.6666666666666666,
             "#ed7953"
            ],
            [
             0.7777777777777778,
             "#fb9f3a"
            ],
            [
             0.8888888888888888,
             "#fdca26"
            ],
            [
             1,
             "#f0f921"
            ]
           ]
          },
          "colorway": [
           "#636efa",
           "#EF553B",
           "#00cc96",
           "#ab63fa",
           "#FFA15A",
           "#19d3f3",
           "#FF6692",
           "#B6E880",
           "#FF97FF",
           "#FECB52"
          ],
          "font": {
           "color": "#2a3f5f"
          },
          "geo": {
           "bgcolor": "white",
           "lakecolor": "white",
           "landcolor": "#E5ECF6",
           "showlakes": true,
           "showland": true,
           "subunitcolor": "white"
          },
          "hoverlabel": {
           "align": "left"
          },
          "hovermode": "closest",
          "mapbox": {
           "style": "light"
          },
          "paper_bgcolor": "white",
          "plot_bgcolor": "#E5ECF6",
          "polar": {
           "angularaxis": {
            "gridcolor": "white",
            "linecolor": "white",
            "ticks": ""
           },
           "bgcolor": "#E5ECF6",
           "radialaxis": {
            "gridcolor": "white",
            "linecolor": "white",
            "ticks": ""
           }
          },
          "scene": {
           "xaxis": {
            "backgroundcolor": "#E5ECF6",
            "gridcolor": "white",
            "gridwidth": 2,
            "linecolor": "white",
            "showbackground": true,
            "ticks": "",
            "zerolinecolor": "white"
           },
           "yaxis": {
            "backgroundcolor": "#E5ECF6",
            "gridcolor": "white",
            "gridwidth": 2,
            "linecolor": "white",
            "showbackground": true,
            "ticks": "",
            "zerolinecolor": "white"
           },
           "zaxis": {
            "backgroundcolor": "#E5ECF6",
            "gridcolor": "white",
            "gridwidth": 2,
            "linecolor": "white",
            "showbackground": true,
            "ticks": "",
            "zerolinecolor": "white"
           }
          },
          "shapedefaults": {
           "line": {
            "color": "#2a3f5f"
           }
          },
          "ternary": {
           "aaxis": {
            "gridcolor": "white",
            "linecolor": "white",
            "ticks": ""
           },
           "baxis": {
            "gridcolor": "white",
            "linecolor": "white",
            "ticks": ""
           },
           "bgcolor": "#E5ECF6",
           "caxis": {
            "gridcolor": "white",
            "linecolor": "white",
            "ticks": ""
           }
          },
          "title": {
           "x": 0.05
          },
          "xaxis": {
           "automargin": true,
           "gridcolor": "white",
           "linecolor": "white",
           "ticks": "",
           "title": {
            "standoff": 15
           },
           "zerolinecolor": "white",
           "zerolinewidth": 2
          },
          "yaxis": {
           "automargin": true,
           "gridcolor": "white",
           "linecolor": "white",
           "ticks": "",
           "title": {
            "standoff": 15
           },
           "zerolinecolor": "white",
           "zerolinewidth": 2
          }
         }
        },
        "title": {
         "text": "Transportation modes over time"
        },
        "xaxis": {
         "anchor": "y",
         "domain": [
          0,
          1
         ],
         "title": {
          "text": "Periods"
         }
        },
        "yaxis": {
         "anchor": "x",
         "domain": [
          0,
          1
         ],
         "title": {
          "text": "Percentage of trips (%)"
         },
         "type": "linear"
        }
       }
      }
     },
     "metadata": {},
     "output_type": "display_data"
    }
   ],
   "source": [
    "df_pct = df_mod_total.copy()\n",
    "df_pct['Ritten per persoon per dag (gemiddeld) (aantal)'] = (\n",
    "    df_pct['Ritten per persoon per dag (gemiddeld) (aantal)']\n",
    "    .str.replace(',', '.')\n",
    "    .astype(float)  \n",
    ")\n",
    "\n",
    "df_pct['percentage'] = df_pct.groupby('Perioden')['Ritten per persoon per dag (gemiddeld) (aantal)'].transform(\n",
    "    lambda x: (x / x.sum() * 100))\n",
    "\n",
    "\n",
    "fig = px.bar(df_pct,\n",
    "        x=\"Perioden\",\n",
    "        y=\"percentage\",\n",
    "        color=\"Vervoerwijzen\",\n",
    "        title=\"Transportation modes over time\",\n",
    "        labels={\"Perioden\": \"Periods\", \n",
    "                \"percentage\": \"Percentage of trips (%)\", \n",
    "                \"Vervoerwijzen\": \"Transportation modes\"},\n",
    "        text_auto='.1f')\n",
    "\n",
    "fig.update_yaxes(type='linear')\n",
    "fig.show()"
   ]
  },
  {
   "cell_type": "code",
   "execution_count": 17,
   "metadata": {},
   "outputs": [],
   "source": [
    "# Redefine pivot table\n",
    "df_filtered_agg_pivot = df_filtered_agg.pivot(index='Perioden', columns='Thuiswerker', values='Percentage')\n",
    "\n",
    "# Fill NaN values with 0 to allow for addition without errors\n",
    "df_filtered_agg_pivot = df_filtered_agg_pivot.fillna(0)\n",
    "\n",
    "# Calculate Home_Work_Percentage directly from pivoted values\n",
    "df_filtered_agg_pivot['Home_Work_Percentage'] = df_filtered_agg_pivot.get('Soms thuiswerken', 0) + df_filtered_agg_pivot.get('Meestal thuiswerken', 0)\n",
    "\n",
    "# Reset index to access 'Perioden' for merging\n",
    "df_filtered_agg_pivot = df_filtered_agg_pivot.reset_index()\n",
    "\n",
    "# Ensure Perioden columns are strings for consistency\n",
    "df_filtered_agg_pivot['Perioden'] = df_filtered_agg_pivot['Perioden'].astype(str)\n",
    "car_usage_data['Perioden'] = car_usage_data['Perioden'].astype(str)\n",
    "\n",
    "# Merge the data on 'Perioden' column\n",
    "merged_data_actual = pd.merge(\n",
    "    df_filtered_agg_pivot[['Perioden', 'Home_Work_Percentage']], \n",
    "    car_usage_data, \n",
    "    on='Perioden', \n",
    "    how='inner'\n",
    ")"
   ]
  },
  {
   "cell_type": "code",
   "execution_count": 18,
   "metadata": {},
   "outputs": [
    {
     "name": "stdout",
     "output_type": "stream",
     "text": [
      "Jaar 2015: Thuiswerken Percentage = 35.91320072332731%, Autogebruik Percentage = 31.35313531353135%\n",
      "Jaar 2019: Thuiswerken Percentage = 39.086237712243076%, Autogebruik Percentage = 31.75675675675676%\n",
      "Jaar 2020: Thuiswerken Percentage = 41.034521282538265%, Autogebruik Percentage = 31.85483870967742%\n",
      "Jaar 2021: Thuiswerken Percentage = 53.98163155051324%, Autogebruik Percentage = 30.798479087452474%\n",
      "Jaar 2022: Thuiswerken Percentage = 53.08965228320067%, Autogebruik Percentage = 30.175438596491233%\n",
      "Jaar 2023: Thuiswerken Percentage = 51.951520131470836%, Autogebruik Percentage = 30.61224489795919%\n"
     ]
    },
    {
     "data": {
      "image/png": "[encoded data removed]",
      "text/plain": [
       "<Figure size 1000x600 with 1 Axes>"
      ]
     },
     "metadata": {},
     "output_type": "display_data"
    }
   ],
   "source": [
    "# Maak een pivot tabel en voeg kolommen samen\n",
    "df_pivot = df_filtered_agg.pivot(index='Perioden', columns='Thuiswerker', values='Percentage').fillna(0)\n",
    "df_pivot['Thuiswerk_Percentage'] = df_pivot.get('Soms thuiswerken', 0) + df_pivot.get('Meestal thuiswerken', 0)\n",
    "\n",
    "# Zet 'Perioden' als string voor consistente bewerkingen en reset de index\n",
    "df_pivot = df_pivot.reset_index()\n",
    "df_pivot['Perioden'] = df_pivot['Perioden'].astype(str)\n",
    "car_usage_data['Perioden'] = car_usage_data['Perioden'].astype(str)\n",
    "\n",
    "# Merge de datasets op basis van 'Perioden'\n",
    "merged_data = pd.merge(\n",
    "    df_pivot[['Perioden', 'Thuiswerk_Percentage']], \n",
    "    car_usage_data, \n",
    "    on='Perioden', \n",
    "    how='inner'\n",
    ")\n",
    "\n",
    "# Print de periodes met bijbehorende percentages\n",
    "for index, row in merged_data.iterrows():\n",
    "    print(f\"Jaar {row['Perioden']}: Thuiswerken Percentage = {row['Thuiswerk_Percentage']}%, Autogebruik Percentage = {row['percentage']}%\")\n",
    "\n",
    "# Maak een scatter plot met trendlijn\n",
    "plt.figure(figsize=(10, 6))\n",
    "plt.scatter(merged_data['Thuiswerk_Percentage'], merged_data['percentage'], label='Data')\n",
    "plt.xlabel('Percentage Thuiswerken (Soms + Meestal)')\n",
    "plt.ylabel('Percentage Autogebruik')\n",
    "plt.title('Relatie tussen Thuiswerken en Autogebruik')\n",
    "\n",
    "# Voeg trendlijn toe\n",
    "z = np.polyfit(merged_data['Thuiswerk_Percentage'], merged_data['percentage'], 1)\n",
    "p = np.poly1d(z)\n",
    "plt.plot(merged_data['Thuiswerk_Percentage'], p(merged_data['Thuiswerk_Percentage']), \"r--\", label='Trendlijn')\n",
    "\n",
    "plt.grid(True)\n",
    "plt.legend()\n",
    "plt.show()"
   ]
  },
  {
   "cell_type": "code",
   "execution_count": null,
   "metadata": {},
   "outputs": [],
   "source": []
  },
  {
   "cell_type": "code",
   "execution_count": null,
   "metadata": {},
   "outputs": [],
   "source": []
  }
 ],
 "metadata": {
  "kernelspec": {
   "display_name": "Python 3",
   "language": "python",
   "name": "python3"
  },
  "language_info": {
   "codemirror_mode": {
    "name": "ipython",
    "version": 3
   },
   "file_extension": ".py",
   "mimetype": "text/x-python",
   "name": "python",
   "nbconvert_exporter": "python",
   "pygments_lexer": "ipython3",
   "version": "3.11.5"
  }
 },
 "nbformat": 4,
 "nbformat_minor": 2
}
