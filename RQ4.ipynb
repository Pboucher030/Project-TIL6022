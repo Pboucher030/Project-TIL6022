{
 "cells": [
  {
   "cell_type": "code",
   "execution_count": 1,
   "metadata": {},
   "outputs": [
    {
     "name": "stderr",
     "output_type": "stream",
     "text": [
      "<>:9: SyntaxWarning: invalid escape sequence '\\M'\n",
      "<>:9: SyntaxWarning: invalid escape sequence '\\M'\n",
      "C:\\Users\\phili\\AppData\\Local\\Temp\\ipykernel_6448\\4066365237.py:9: SyntaxWarning: invalid escape sequence '\\M'\n",
      "  dataset_path_mat = 'Data\\Mobiliteitstrend__per_rit_en_motief_02102024_122208.csv'\n"
     ]
    },
    {
     "data": {
      "text/plain": [
       "{'encoding': 'UTF-8-SIG', 'confidence': 1.0, 'language': ''}"
      ]
     },
     "execution_count": 1,
     "metadata": {},
     "output_type": "execute_result"
    }
   ],
   "source": [
    "import numpy as np\n",
    "import matplotlib.pyplot as plt\n",
    "import pandas as pd\n",
    "import chardet\n",
    "import plotly_express as px\n",
    "\n",
    "\"\"\" MOBILITY AND TRANSPORT\"\"\"\n",
    "dataset_path_mat = 'Data\\Mobiliteitstrend__per_rit_en_motief_02102024_122208.csv'\n",
    "with open(dataset_path_mat, 'rb') as rawdata:\n",
    "\n",
    "    result = chardet.detect(rawdata.read(100000))\n",
    "    \n",
    "result"
   ]
  },
  {
   "cell_type": "code",
   "execution_count": 14,
   "metadata": {},
   "outputs": [
    {
     "data": {
      "text/html": [
       "<div>\n",
       "<style scoped>\n",
       "    .dataframe tbody tr th:only-of-type {\n",
       "        vertical-align: middle;\n",
       "    }\n",
       "\n",
       "    .dataframe tbody tr th {\n",
       "        vertical-align: top;\n",
       "    }\n",
       "\n",
       "    .dataframe thead th {\n",
       "        text-align: right;\n",
       "    }\n",
       "</style>\n",
       "<table border=\"1\" class=\"dataframe\">\n",
       "  <thead>\n",
       "    <tr style=\"text-align: right;\">\n",
       "      <th></th>\n",
       "      <th>Geslacht</th>\n",
       "      <th>Leeftijd</th>\n",
       "      <th>Vervoerwijzen</th>\n",
       "      <th>Reismotieven</th>\n",
       "      <th>Marges</th>\n",
       "      <th>Perioden</th>\n",
       "      <th>Ritten per persoon per dag (gemiddeld) (aantal)</th>\n",
       "      <th>Afgelegde afstand per rit (gemiddeld) (km)</th>\n",
       "      <th>Reisduur per rit (Minuten)</th>\n",
       "    </tr>\n",
       "  </thead>\n",
       "  <tbody>\n",
       "    <tr>\n",
       "      <th>0</th>\n",
       "      <td>Totaal mannen en vrouwen</td>\n",
       "      <td>Totaal</td>\n",
       "      <td>Totaal</td>\n",
       "      <td>Totaal</td>\n",
       "      <td>Waarde</td>\n",
       "      <td>1999</td>\n",
       "      <td>3.41</td>\n",
       "      <td>10.96</td>\n",
       "      <td>23.72</td>\n",
       "    </tr>\n",
       "    <tr>\n",
       "      <th>1</th>\n",
       "      <td>Totaal mannen en vrouwen</td>\n",
       "      <td>Totaal</td>\n",
       "      <td>Totaal</td>\n",
       "      <td>Totaal</td>\n",
       "      <td>Waarde</td>\n",
       "      <td>2003</td>\n",
       "      <td>3.30</td>\n",
       "      <td>11.04</td>\n",
       "      <td>23.65</td>\n",
       "    </tr>\n",
       "    <tr>\n",
       "      <th>2</th>\n",
       "      <td>Totaal mannen en vrouwen</td>\n",
       "      <td>Totaal</td>\n",
       "      <td>Totaal</td>\n",
       "      <td>Totaal</td>\n",
       "      <td>Waarde</td>\n",
       "      <td>2007</td>\n",
       "      <td>3.20</td>\n",
       "      <td>11.07</td>\n",
       "      <td>23.88</td>\n",
       "    </tr>\n",
       "    <tr>\n",
       "      <th>3</th>\n",
       "      <td>Totaal mannen en vrouwen</td>\n",
       "      <td>Totaal</td>\n",
       "      <td>Totaal</td>\n",
       "      <td>Totaal</td>\n",
       "      <td>Waarde</td>\n",
       "      <td>2011</td>\n",
       "      <td>3.09</td>\n",
       "      <td>11.21</td>\n",
       "      <td>23.76</td>\n",
       "    </tr>\n",
       "    <tr>\n",
       "      <th>4</th>\n",
       "      <td>Totaal mannen en vrouwen</td>\n",
       "      <td>Totaal</td>\n",
       "      <td>Totaal</td>\n",
       "      <td>Totaal</td>\n",
       "      <td>Waarde</td>\n",
       "      <td>2015</td>\n",
       "      <td>3.03</td>\n",
       "      <td>11.36</td>\n",
       "      <td>24.14</td>\n",
       "    </tr>\n",
       "    <tr>\n",
       "      <th>...</th>\n",
       "      <td>...</td>\n",
       "      <td>...</td>\n",
       "      <td>...</td>\n",
       "      <td>...</td>\n",
       "      <td>...</td>\n",
       "      <td>...</td>\n",
       "      <td>...</td>\n",
       "      <td>...</td>\n",
       "      <td>...</td>\n",
       "    </tr>\n",
       "    <tr>\n",
       "      <th>1435</th>\n",
       "      <td>Totaal mannen en vrouwen</td>\n",
       "      <td>60 tot 65 jaar</td>\n",
       "      <td>Overige vervoerwijze</td>\n",
       "      <td>Overige reismotieven</td>\n",
       "      <td>Waarde</td>\n",
       "      <td>2019</td>\n",
       "      <td>.</td>\n",
       "      <td>.</td>\n",
       "      <td>.</td>\n",
       "    </tr>\n",
       "    <tr>\n",
       "      <th>1436</th>\n",
       "      <td>Totaal mannen en vrouwen</td>\n",
       "      <td>60 tot 65 jaar</td>\n",
       "      <td>Overige vervoerwijze</td>\n",
       "      <td>Overige reismotieven</td>\n",
       "      <td>Waarde</td>\n",
       "      <td>2020</td>\n",
       "      <td>.</td>\n",
       "      <td>.</td>\n",
       "      <td>.</td>\n",
       "    </tr>\n",
       "    <tr>\n",
       "      <th>1437</th>\n",
       "      <td>Totaal mannen en vrouwen</td>\n",
       "      <td>60 tot 65 jaar</td>\n",
       "      <td>Overige vervoerwijze</td>\n",
       "      <td>Overige reismotieven</td>\n",
       "      <td>Waarde</td>\n",
       "      <td>2021</td>\n",
       "      <td>.</td>\n",
       "      <td>.</td>\n",
       "      <td>.</td>\n",
       "    </tr>\n",
       "    <tr>\n",
       "      <th>1438</th>\n",
       "      <td>Totaal mannen en vrouwen</td>\n",
       "      <td>60 tot 65 jaar</td>\n",
       "      <td>Overige vervoerwijze</td>\n",
       "      <td>Overige reismotieven</td>\n",
       "      <td>Waarde</td>\n",
       "      <td>2022</td>\n",
       "      <td>.</td>\n",
       "      <td>.</td>\n",
       "      <td>.</td>\n",
       "    </tr>\n",
       "    <tr>\n",
       "      <th>1439</th>\n",
       "      <td>Totaal mannen en vrouwen</td>\n",
       "      <td>60 tot 65 jaar</td>\n",
       "      <td>Overige vervoerwijze</td>\n",
       "      <td>Overige reismotieven</td>\n",
       "      <td>Waarde</td>\n",
       "      <td>2023</td>\n",
       "      <td>.</td>\n",
       "      <td>.</td>\n",
       "      <td>.</td>\n",
       "    </tr>\n",
       "  </tbody>\n",
       "</table>\n",
       "<p>1440 rows × 9 columns</p>\n",
       "</div>"
      ],
      "text/plain": [
       "                      Geslacht        Leeftijd         Vervoerwijzen  \\\n",
       "0     Totaal mannen en vrouwen          Totaal                Totaal   \n",
       "1     Totaal mannen en vrouwen          Totaal                Totaal   \n",
       "2     Totaal mannen en vrouwen          Totaal                Totaal   \n",
       "3     Totaal mannen en vrouwen          Totaal                Totaal   \n",
       "4     Totaal mannen en vrouwen          Totaal                Totaal   \n",
       "...                        ...             ...                   ...   \n",
       "1435  Totaal mannen en vrouwen  60 tot 65 jaar  Overige vervoerwijze   \n",
       "1436  Totaal mannen en vrouwen  60 tot 65 jaar  Overige vervoerwijze   \n",
       "1437  Totaal mannen en vrouwen  60 tot 65 jaar  Overige vervoerwijze   \n",
       "1438  Totaal mannen en vrouwen  60 tot 65 jaar  Overige vervoerwijze   \n",
       "1439  Totaal mannen en vrouwen  60 tot 65 jaar  Overige vervoerwijze   \n",
       "\n",
       "              Reismotieven  Marges Perioden  \\\n",
       "0                   Totaal  Waarde     1999   \n",
       "1                   Totaal  Waarde     2003   \n",
       "2                   Totaal  Waarde     2007   \n",
       "3                   Totaal  Waarde     2011   \n",
       "4                   Totaal  Waarde     2015   \n",
       "...                    ...     ...      ...   \n",
       "1435  Overige reismotieven  Waarde     2019   \n",
       "1436  Overige reismotieven  Waarde     2020   \n",
       "1437  Overige reismotieven  Waarde     2021   \n",
       "1438  Overige reismotieven  Waarde     2022   \n",
       "1439  Overige reismotieven  Waarde     2023   \n",
       "\n",
       "     Ritten per persoon per dag (gemiddeld) (aantal)  \\\n",
       "0                                               3.41   \n",
       "1                                               3.30   \n",
       "2                                               3.20   \n",
       "3                                               3.09   \n",
       "4                                               3.03   \n",
       "...                                              ...   \n",
       "1435                                               .   \n",
       "1436                                               .   \n",
       "1437                                               .   \n",
       "1438                                               .   \n",
       "1439                                               .   \n",
       "\n",
       "     Afgelegde afstand per rit (gemiddeld) (km) Reisduur per rit (Minuten)  \n",
       "0                                         10.96                      23.72  \n",
       "1                                         11.04                      23.65  \n",
       "2                                         11.07                      23.88  \n",
       "3                                         11.21                      23.76  \n",
       "4                                         11.36                      24.14  \n",
       "...                                         ...                        ...  \n",
       "1435                                          .                          .  \n",
       "1436                                          .                          .  \n",
       "1437                                          .                          .  \n",
       "1438                                          .                          .  \n",
       "1439                                          .                          .  \n",
       "\n",
       "[1440 rows x 9 columns]"
      ]
     },
     "execution_count": 14,
     "metadata": {},
     "output_type": "execute_result"
    }
   ],
   "source": [
    "df_mat = pd.read_csv(dataset_path_mat,delimiter=';',encoding='UTF-8-SIG')\n",
    "\n",
    "\n",
    "df_mat['Perioden'] = df_mat['Perioden'].str.replace('*', '', regex=False)\n",
    "\n",
    "df_mat"
   ]
  },
  {
   "cell_type": "code",
   "execution_count": 15,
   "metadata": {},
   "outputs": [
    {
     "data": {
      "application/vnd.plotly.v1+json": {
       "config": {
        "plotlyServerURL": "https://plot.ly"
       },
       "data": [
        {
         "hovertemplate": "Vervoerwijzen=Auto (bestuurder)<br>Perioden=%{x}<br>Ritten per persoon per dag (gemiddeld) (aantal)=%{y}<extra></extra>",
         "legendgroup": "Auto (bestuurder)",
         "marker": {
          "color": "#636efa",
          "symbol": "circle"
         },
         "mode": "markers",
         "name": "Auto (bestuurder)",
         "orientation": "v",
         "showlegend": true,
         "type": "scatter",
         "x": [
          "1999",
          "2003",
          "2007",
          "2011",
          "2015",
          "2019",
          "2020",
          "2021",
          "2022",
          "2023"
         ],
         "xaxis": "x",
         "y": [
          "    0.23",
          "    0.24",
          "    0.26",
          "    0.26",
          "    0.25",
          "    0.25",
          "    0.19",
          "    0.19",
          "    0.21",
          "    0.22"
         ],
         "yaxis": "y"
        },
        {
         "hovertemplate": "<b>OLS trendline</b><br>Ritten per persoon per dag (gemiddeld) (aantal) = -0.00160606 * Perioden + 3.46461<br>R<sup>2</sup>=0.266004<br><br>Vervoerwijzen=Auto (bestuurder)<br>Perioden=%{x}<br>Ritten per persoon per dag (gemiddeld) (aantal)=%{y} <b>(trend)</b><extra></extra>",
         "legendgroup": "Auto (bestuurder)",
         "marker": {
          "color": "#636efa",
          "symbol": "circle"
         },
         "mode": "lines",
         "name": "Auto (bestuurder)",
         "showlegend": false,
         "type": "scatter",
         "x": [
          "1999",
          "2003",
          "2007",
          "2011",
          "2015",
          "2019",
          "2020",
          "2021",
          "2022",
          "2023"
         ],
         "xaxis": "x",
         "y": [
          0.2540909090909049,
          0.24766666666666293,
          0.24124242424242093,
          0.23481818181817937,
          0.22839393939393737,
          0.22196969696969537,
          0.22036363636363454,
          0.21875757575757415,
          0.21715151515151376,
          0.21554545454545337
         ],
         "yaxis": "y"
        },
        {
         "hovertemplate": "Vervoerwijzen=Auto (passagier)<br>Perioden=%{x}<br>Ritten per persoon per dag (gemiddeld) (aantal)=%{y}<extra></extra>",
         "legendgroup": "Auto (passagier)",
         "marker": {
          "color": "#EF553B",
          "symbol": "circle"
         },
         "mode": "markers",
         "name": "Auto (passagier)",
         "orientation": "v",
         "showlegend": true,
         "type": "scatter",
         "x": [
          "1999",
          "2003",
          "2007",
          "2011",
          "2015",
          "2019",
          "2020",
          "2021",
          "2022",
          "2023"
         ],
         "xaxis": "x",
         "y": [
          "    0.05",
          "    0.04",
          "    0.03",
          "    0.03",
          "    0.02",
          "    0.02",
          "    0.01",
          "    0.01",
          "    0.01",
          "    0.02"
         ],
         "yaxis": "y"
        },
        {
         "hovertemplate": "<b>OLS trendline</b><br>Ritten per persoon per dag (gemiddeld) (aantal) = -0.00148485 * Perioden + 3.01448<br>R<sup>2</sup>=0.887288<br><br>Vervoerwijzen=Auto (passagier)<br>Perioden=%{x}<br>Ritten per persoon per dag (gemiddeld) (aantal)=%{y} <b>(trend)</b><extra></extra>",
         "legendgroup": "Auto (passagier)",
         "marker": {
          "color": "#EF553B",
          "symbol": "circle"
         },
         "mode": "lines",
         "name": "Auto (passagier)",
         "showlegend": false,
         "type": "scatter",
         "x": [
          "1999",
          "2003",
          "2007",
          "2011",
          "2015",
          "2019",
          "2020",
          "2021",
          "2022",
          "2023"
         ],
         "xaxis": "x",
         "y": [
          0.04627272727272702,
          0.04033333333333289,
          0.0343939393939392,
          0.02845454545454551,
          0.02251515151515182,
          0.016575757575758132,
          0.015090909090909488,
          0.013606060606061288,
          0.012121212121212643,
          0.010636363636364443
         ],
         "yaxis": "y"
        },
        {
         "hovertemplate": "Vervoerwijzen=Trein<br>Perioden=%{x}<br>Ritten per persoon per dag (gemiddeld) (aantal)=%{y}<extra></extra>",
         "legendgroup": "Trein",
         "marker": {
          "color": "#00cc96",
          "symbol": "circle"
         },
         "mode": "markers",
         "name": "Trein",
         "orientation": "v",
         "showlegend": true,
         "type": "scatter",
         "x": [
          "1999",
          "2003",
          "2007",
          "2011",
          "2015",
          "2019",
          "2020",
          "2021",
          "2022",
          "2023"
         ],
         "xaxis": "x",
         "y": [
          "    0.02",
          "    0.03",
          "    0.03",
          "    0.03",
          "    0.03",
          "    0.03",
          "    0.01",
          "    0.01",
          "    0.02",
          "    0.02"
         ],
         "yaxis": "y"
        },
        {
         "hovertemplate": "<b>OLS trendline</b><br>Ritten per persoon per dag (gemiddeld) (aantal) = -0.000424242 * Perioden + 0.877424<br>R<sup>2</sup>=0.194734<br><br>Vervoerwijzen=Trein<br>Perioden=%{x}<br>Ritten per persoon per dag (gemiddeld) (aantal)=%{y} <b>(trend)</b><extra></extra>",
         "legendgroup": "Trein",
         "marker": {
          "color": "#00cc96",
          "symbol": "circle"
         },
         "mode": "lines",
         "name": "Trein",
         "showlegend": false,
         "type": "scatter",
         "x": [
          "1999",
          "2003",
          "2007",
          "2011",
          "2015",
          "2019",
          "2020",
          "2021",
          "2022",
          "2023"
         ],
         "xaxis": "x",
         "y": [
          0.029363636363635703,
          0.027666666666666173,
          0.025969696969696643,
          0.024272727272727113,
          0.022575757575757582,
          0.020878787878788052,
          0.020454545454545614,
          0.020030303030303287,
          0.01960606060606085,
          0.019181818181818522
         ],
         "yaxis": "y"
        },
        {
         "hovertemplate": "Vervoerwijzen=Bus/tram/metro<br>Perioden=%{x}<br>Ritten per persoon per dag (gemiddeld) (aantal)=%{y}<extra></extra>",
         "legendgroup": "Bus/tram/metro",
         "marker": {
          "color": "#ab63fa",
          "symbol": "circle"
         },
         "mode": "markers",
         "name": "Bus/tram/metro",
         "orientation": "v",
         "showlegend": true,
         "type": "scatter",
         "x": [
          "1999",
          "2003",
          "2007",
          "2011",
          "2015",
          "2019",
          "2020",
          "2021",
          "2022",
          "2023"
         ],
         "xaxis": "x",
         "y": [
          "    0.04",
          "    0.04",
          "    0.04",
          "    0.04",
          "    0.04",
          "    0.04",
          "    0.02",
          "    0.02",
          "    0.02",
          "    0.03"
         ],
         "yaxis": "y"
        },
        {
         "hovertemplate": "<b>OLS trendline</b><br>Ritten per persoon per dag (gemiddeld) (aantal) = -0.000772727 * Perioden + 1.58927<br>R<sup>2</sup>=0.486532<br><br>Vervoerwijzen=Bus/tram/metro<br>Perioden=%{x}<br>Ritten per persoon per dag (gemiddeld) (aantal)=%{y} <b>(trend)</b><extra></extra>",
         "legendgroup": "Bus/tram/metro",
         "marker": {
          "color": "#ab63fa",
          "symbol": "circle"
         },
         "mode": "lines",
         "name": "Bus/tram/metro",
         "showlegend": false,
         "type": "scatter",
         "x": [
          "1999",
          "2003",
          "2007",
          "2011",
          "2015",
          "2019",
          "2020",
          "2021",
          "2022",
          "2023"
         ],
         "xaxis": "x",
         "y": [
          0.04459090909090868,
          0.04149999999999987,
          0.03840909090909084,
          0.035318181818182026,
          0.03222727272727299,
          0.02913636363636396,
          0.028363636363636813,
          0.027590909090909665,
          0.026818181818182296,
          0.02604545454545515
         ],
         "yaxis": "y"
        },
        {
         "hovertemplate": "Vervoerwijzen=Fiets<br>Perioden=%{x}<br>Ritten per persoon per dag (gemiddeld) (aantal)=%{y}<extra></extra>",
         "legendgroup": "Fiets",
         "marker": {
          "color": "#FFA15A",
          "symbol": "circle"
         },
         "mode": "markers",
         "name": "Fiets",
         "orientation": "v",
         "showlegend": true,
         "type": "scatter",
         "x": [
          "1999",
          "2003",
          "2007",
          "2011",
          "2015",
          "2019",
          "2020",
          "2021",
          "2022",
          "2023"
         ],
         "xaxis": "x",
         "y": [
          "    0.15",
          "    0.15",
          "    0.15",
          "    0.16",
          "    0.16",
          "    0.16",
          "    0.11",
          "    0.11",
          "    0.13",
          "    0.14"
         ],
         "yaxis": "y"
        },
        {
         "hovertemplate": "<b>OLS trendline</b><br>Ritten per persoon per dag (gemiddeld) (aantal) = -0.00112121 * Perioden + 2.40012<br>R<sup>2</sup>=0.246934<br><br>Vervoerwijzen=Fiets<br>Perioden=%{x}<br>Ritten per persoon per dag (gemiddeld) (aantal)=%{y} <b>(trend)</b><extra></extra>",
         "legendgroup": "Fiets",
         "marker": {
          "color": "#FFA15A",
          "symbol": "circle"
         },
         "mode": "lines",
         "name": "Fiets",
         "showlegend": false,
         "type": "scatter",
         "x": [
          "1999",
          "2003",
          "2007",
          "2011",
          "2015",
          "2019",
          "2020",
          "2021",
          "2022",
          "2023"
         ],
         "xaxis": "x",
         "y": [
          0.1588181818181802,
          0.15433333333333188,
          0.14984848484848357,
          0.14536363636363525,
          0.14087878787878738,
          0.13639393939393907,
          0.135272727272727,
          0.1341515151515149,
          0.13303030303030283,
          0.13190909090909075
         ],
         "yaxis": "y"
        },
        {
         "hovertemplate": "Vervoerwijzen=Lopen<br>Perioden=%{x}<br>Ritten per persoon per dag (gemiddeld) (aantal)=%{y}<extra></extra>",
         "legendgroup": "Lopen",
         "marker": {
          "color": "#19d3f3",
          "symbol": "circle"
         },
         "mode": "markers",
         "name": "Lopen",
         "orientation": "v",
         "showlegend": true,
         "type": "scatter",
         "x": [
          "1999",
          "2003",
          "2007",
          "2011",
          "2015",
          "2019",
          "2020",
          "2021",
          "2022",
          "2023"
         ],
         "xaxis": "x",
         "y": [
          "    0.05",
          "    0.05",
          "    0.06",
          "    0.07",
          "    0.07",
          "    0.07",
          "    0.04",
          "    0.04",
          "    0.05",
          "    0.06"
         ],
         "yaxis": "y"
        },
        {
         "hovertemplate": "<b>OLS trendline</b><br>Ritten per persoon per dag (gemiddeld) (aantal) = -7.57576e-05 * Perioden + 0.208576<br>R<sup>2</sup>=0.003055<br><br>Vervoerwijzen=Lopen<br>Perioden=%{x}<br>Ritten per persoon per dag (gemiddeld) (aantal)=%{y} <b>(trend)</b><extra></extra>",
         "legendgroup": "Lopen",
         "marker": {
          "color": "#19d3f3",
          "symbol": "circle"
         },
         "mode": "lines",
         "name": "Lopen",
         "showlegend": false,
         "type": "scatter",
         "x": [
          "1999",
          "2003",
          "2007",
          "2011",
          "2015",
          "2019",
          "2020",
          "2021",
          "2022",
          "2023"
         ],
         "xaxis": "x",
         "y": [
          0.0571363636363631,
          0.056833333333332875,
          0.05653030303030265,
          0.05622727272727243,
          0.05592424242424221,
          0.05562121212121199,
          0.055545454545454426,
          0.05546969696969686,
          0.05539393939393933,
          0.055318181818181766
         ],
         "yaxis": "y"
        },
        {
         "hovertemplate": "Vervoerwijzen=Overige vervoerwijze<br>Perioden=%{x}<br>Ritten per persoon per dag (gemiddeld) (aantal)=%{y}<extra></extra>",
         "legendgroup": "Overige vervoerwijze",
         "marker": {
          "color": "#FF6692",
          "symbol": "circle"
         },
         "mode": "markers",
         "name": "Overige vervoerwijze",
         "orientation": "v",
         "showlegend": true,
         "type": "scatter",
         "x": [
          "1999",
          "2003",
          "2007",
          "2011",
          "2015",
          "2019",
          "2020",
          "2021",
          "2022",
          "2023"
         ],
         "xaxis": "x",
         "y": [
          "    0.05",
          "    0.04",
          "    0.04",
          "    0.04",
          "    0.04",
          "    0.04",
          "    0.03",
          "    0.03",
          "    0.03",
          "    0.03"
         ],
         "yaxis": "y"
        },
        {
         "hovertemplate": "<b>OLS trendline</b><br>Ritten per persoon per dag (gemiddeld) (aantal) = -0.000681818 * Perioden + 1.41018<br>R<sup>2</sup>=0.748337<br><br>Vervoerwijzen=Overige vervoerwijze<br>Perioden=%{x}<br>Ritten per persoon per dag (gemiddeld) (aantal)=%{y} <b>(trend)</b><extra></extra>",
         "legendgroup": "Overige vervoerwijze",
         "marker": {
          "color": "#FF6692",
          "symbol": "circle"
         },
         "mode": "lines",
         "name": "Overige vervoerwijze",
         "showlegend": false,
         "type": "scatter",
         "x": [
          "1999",
          "2003",
          "2007",
          "2011",
          "2015",
          "2019",
          "2020",
          "2021",
          "2022",
          "2023"
         ],
         "xaxis": "x",
         "y": [
          0.04722727272727245,
          0.04449999999999976,
          0.04177272727272707,
          0.03904545454545438,
          0.036318181818181916,
          0.03359090909090923,
          0.032909090909091,
          0.03222727272727277,
          0.031545454545454765,
          0.030863636363636537
         ],
         "yaxis": "y"
        }
       ],
       "layout": {
        "legend": {
         "title": {
          "text": "Vervoerwijzen"
         },
         "tracegroupgap": 0
        },
        "margin": {
         "t": 60
        },
        "template": {
         "data": {
          "bar": [
           {
            "error_x": {
             "color": "#2a3f5f"
            },
            "error_y": {
             "color": "#2a3f5f"
            },
            "marker": {
             "line": {
              "color": "#E5ECF6",
              "width": 0.5
             },
             "pattern": {
              "fillmode": "overlay",
              "size": 10,
              "solidity": 0.2
             }
            },
            "type": "bar"
           }
          ],
          "barpolar": [
           {
            "marker": {
             "line": {
              "color": "#E5ECF6",
              "width": 0.5
             },
             "pattern": {
              "fillmode": "overlay",
              "size": 10,
              "solidity": 0.2
             }
            },
            "type": "barpolar"
           }
          ],
          "carpet": [
           {
            "aaxis": {
             "endlinecolor": "#2a3f5f",
             "gridcolor": "white",
             "linecolor": "white",
             "minorgridcolor": "white",
             "startlinecolor": "#2a3f5f"
            },
            "baxis": {
             "endlinecolor": "#2a3f5f",
             "gridcolor": "white",
             "linecolor": "white",
             "minorgridcolor": "white",
             "startlinecolor": "#2a3f5f"
            },
            "type": "carpet"
           }
          ],
          "choropleth": [
           {
            "colorbar": {
             "outlinewidth": 0,
             "ticks": ""
            },
            "type": "choropleth"
           }
          ],
          "contour": [
           {
            "colorbar": {
             "outlinewidth": 0,
             "ticks": ""
            },
            "colorscale": [
             [
              0,
              "#0d0887"
             ],
             [
              0.1111111111111111,
              "#46039f"
             ],
             [
              0.2222222222222222,
              "#7201a8"
             ],
             [
              0.3333333333333333,
              "#9c179e"
             ],
             [
              0.4444444444444444,
              "#bd3786"
             ],
             [
              0.5555555555555556,
              "#d8576b"
             ],
             [
              0.6666666666666666,
              "#ed7953"
             ],
             [
              0.7777777777777778,
              "#fb9f3a"
             ],
             [
              0.8888888888888888,
              "#fdca26"
             ],
             [
              1,
              "#f0f921"
             ]
            ],
            "type": "contour"
           }
          ],
          "contourcarpet": [
           {
            "colorbar": {
             "outlinewidth": 0,
             "ticks": ""
            },
            "type": "contourcarpet"
           }
          ],
          "heatmap": [
           {
            "colorbar": {
             "outlinewidth": 0,
             "ticks": ""
            },
            "colorscale": [
             [
              0,
              "#0d0887"
             ],
             [
              0.1111111111111111,
              "#46039f"
             ],
             [
              0.2222222222222222,
              "#7201a8"
             ],
             [
              0.3333333333333333,
              "#9c179e"
             ],
             [
              0.4444444444444444,
              "#bd3786"
             ],
             [
              0.5555555555555556,
              "#d8576b"
             ],
             [
              0.6666666666666666,
              "#ed7953"
             ],
             [
              0.7777777777777778,
              "#fb9f3a"
             ],
             [
              0.8888888888888888,
              "#fdca26"
             ],
             [
              1,
              "#f0f921"
             ]
            ],
            "type": "heatmap"
           }
          ],
          "heatmapgl": [
           {
            "colorbar": {
             "outlinewidth": 0,
             "ticks": ""
            },
            "colorscale": [
             [
              0,
              "#0d0887"
             ],
             [
              0.1111111111111111,
              "#46039f"
             ],
             [
              0.2222222222222222,
              "#7201a8"
             ],
             [
              0.3333333333333333,
              "#9c179e"
             ],
             [
              0.4444444444444444,
              "#bd3786"
             ],
             [
              0.5555555555555556,
              "#d8576b"
             ],
             [
              0.6666666666666666,
              "#ed7953"
             ],
             [
              0.7777777777777778,
              "#fb9f3a"
             ],
             [
              0.8888888888888888,
              "#fdca26"
             ],
             [
              1,
              "#f0f921"
             ]
            ],
            "type": "heatmapgl"
           }
          ],
          "histogram": [
           {
            "marker": {
             "pattern": {
              "fillmode": "overlay",
              "size": 10,
              "solidity": 0.2
             }
            },
            "type": "histogram"
           }
          ],
          "histogram2d": [
           {
            "colorbar": {
             "outlinewidth": 0,
             "ticks": ""
            },
            "colorscale": [
             [
              0,
              "#0d0887"
             ],
             [
              0.1111111111111111,
              "#46039f"
             ],
             [
              0.2222222222222222,
              "#7201a8"
             ],
             [
              0.3333333333333333,
              "#9c179e"
             ],
             [
              0.4444444444444444,
              "#bd3786"
             ],
             [
              0.5555555555555556,
              "#d8576b"
             ],
             [
              0.6666666666666666,
              "#ed7953"
             ],
             [
              0.7777777777777778,
              "#fb9f3a"
             ],
             [
              0.8888888888888888,
              "#fdca26"
             ],
             [
              1,
              "#f0f921"
             ]
            ],
            "type": "histogram2d"
           }
          ],
          "histogram2dcontour": [
           {
            "colorbar": {
             "outlinewidth": 0,
             "ticks": ""
            },
            "colorscale": [
             [
              0,
              "#0d0887"
             ],
             [
              0.1111111111111111,
              "#46039f"
             ],
             [
              0.2222222222222222,
              "#7201a8"
             ],
             [
              0.3333333333333333,
              "#9c179e"
             ],
             [
              0.4444444444444444,
              "#bd3786"
             ],
             [
              0.5555555555555556,
              "#d8576b"
             ],
             [
              0.6666666666666666,
              "#ed7953"
             ],
             [
              0.7777777777777778,
              "#fb9f3a"
             ],
             [
              0.8888888888888888,
              "#fdca26"
             ],
             [
              1,
              "#f0f921"
             ]
            ],
            "type": "histogram2dcontour"
           }
          ],
          "mesh3d": [
           {
            "colorbar": {
             "outlinewidth": 0,
             "ticks": ""
            },
            "type": "mesh3d"
           }
          ],
          "parcoords": [
           {
            "line": {
             "colorbar": {
              "outlinewidth": 0,
              "ticks": ""
             }
            },
            "type": "parcoords"
           }
          ],
          "pie": [
           {
            "automargin": true,
            "type": "pie"
           }
          ],
          "scatter": [
           {
            "fillpattern": {
             "fillmode": "overlay",
             "size": 10,
             "solidity": 0.2
            },
            "type": "scatter"
           }
          ],
          "scatter3d": [
           {
            "line": {
             "colorbar": {
              "outlinewidth": 0,
              "ticks": ""
             }
            },
            "marker": {
             "colorbar": {
              "outlinewidth": 0,
              "ticks": ""
             }
            },
            "type": "scatter3d"
           }
          ],
          "scattercarpet": [
           {
            "marker": {
             "colorbar": {
              "outlinewidth": 0,
              "ticks": ""
             }
            },
            "type": "scattercarpet"
           }
          ],
          "scattergeo": [
           {
            "marker": {
             "colorbar": {
              "outlinewidth": 0,
              "ticks": ""
             }
            },
            "type": "scattergeo"
           }
          ],
          "scattergl": [
           {
            "marker": {
             "colorbar": {
              "outlinewidth": 0,
              "ticks": ""
             }
            },
            "type": "scattergl"
           }
          ],
          "scattermapbox": [
           {
            "marker": {
             "colorbar": {
              "outlinewidth": 0,
              "ticks": ""
             }
            },
            "type": "scattermapbox"
           }
          ],
          "scatterpolar": [
           {
            "marker": {
             "colorbar": {
              "outlinewidth": 0,
              "ticks": ""
             }
            },
            "type": "scatterpolar"
           }
          ],
          "scatterpolargl": [
           {
            "marker": {
             "colorbar": {
              "outlinewidth": 0,
              "ticks": ""
             }
            },
            "type": "scatterpolargl"
           }
          ],
          "scatterternary": [
           {
            "marker": {
             "colorbar": {
              "outlinewidth": 0,
              "ticks": ""
             }
            },
            "type": "scatterternary"
           }
          ],
          "surface": [
           {
            "colorbar": {
             "outlinewidth": 0,
             "ticks": ""
            },
            "colorscale": [
             [
              0,
              "#0d0887"
             ],
             [
              0.1111111111111111,
              "#46039f"
             ],
             [
              0.2222222222222222,
              "#7201a8"
             ],
             [
              0.3333333333333333,
              "#9c179e"
             ],
             [
              0.4444444444444444,
              "#bd3786"
             ],
             [
              0.5555555555555556,
              "#d8576b"
             ],
             [
              0.6666666666666666,
              "#ed7953"
             ],
             [
              0.7777777777777778,
              "#fb9f3a"
             ],
             [
              0.8888888888888888,
              "#fdca26"
             ],
             [
              1,
              "#f0f921"
             ]
            ],
            "type": "surface"
           }
          ],
          "table": [
           {
            "cells": {
             "fill": {
              "color": "#EBF0F8"
             },
             "line": {
              "color": "white"
             }
            },
            "header": {
             "fill": {
              "color": "#C8D4E3"
             },
             "line": {
              "color": "white"
             }
            },
            "type": "table"
           }
          ]
         },
         "layout": {
          "annotationdefaults": {
           "arrowcolor": "#2a3f5f",
           "arrowhead": 0,
           "arrowwidth": 1
          },
          "autotypenumbers": "strict",
          "coloraxis": {
           "colorbar": {
            "outlinewidth": 0,
            "ticks": ""
           }
          },
          "colorscale": {
           "diverging": [
            [
             0,
             "#8e0152"
            ],
            [
             0.1,
             "#c51b7d"
            ],
            [
             0.2,
             "#de77ae"
            ],
            [
             0.3,
             "#f1b6da"
            ],
            [
             0.4,
             "#fde0ef"
            ],
            [
             0.5,
             "#f7f7f7"
            ],
            [
             0.6,
             "#e6f5d0"
            ],
            [
             0.7,
             "#b8e186"
            ],
            [
             0.8,
             "#7fbc41"
            ],
            [
             0.9,
             "#4d9221"
            ],
            [
             1,
             "#276419"
            ]
           ],
           "sequential": [
            [
             0,
             "#0d0887"
            ],
            [
             0.1111111111111111,
             "#46039f"
            ],
            [
             0.2222222222222222,
             "#7201a8"
            ],
            [
             0.3333333333333333,
             "#9c179e"
            ],
            [
             0.4444444444444444,
             "#bd3786"
            ],
            [
             0.5555555555555556,
             "#d8576b"
            ],
            [
             0.6666666666666666,
             "#ed7953"
            ],
            [
             0.7777777777777778,
             "#fb9f3a"
            ],
            [
             0.8888888888888888,
             "#fdca26"
            ],
            [
             1,
             "#f0f921"
            ]
           ],
           "sequentialminus": [
            [
             0,
             "#0d0887"
            ],
            [
             0.1111111111111111,
             "#46039f"
            ],
            [
             0.2222222222222222,
             "#7201a8"
            ],
            [
             0.3333333333333333,
             "#9c179e"
            ],
            [
             0.4444444444444444,
             "#bd3786"
            ],
            [
             0.5555555555555556,
             "#d8576b"
            ],
            [
             0.6666666666666666,
             "#ed7953"
            ],
            [
             0.7777777777777778,
             "#fb9f3a"
            ],
            [
             0.8888888888888888,
             "#fdca26"
            ],
            [
             1,
             "#f0f921"
            ]
           ]
          },
          "colorway": [
           "#636efa",
           "#EF553B",
           "#00cc96",
           "#ab63fa",
           "#FFA15A",
           "#19d3f3",
           "#FF6692",
           "#B6E880",
           "#FF97FF",
           "#FECB52"
          ],
          "font": {
           "color": "#2a3f5f"
          },
          "geo": {
           "bgcolor": "white",
           "lakecolor": "white",
           "landcolor": "#E5ECF6",
           "showlakes": true,
           "showland": true,
           "subunitcolor": "white"
          },
          "hoverlabel": {
           "align": "left"
          },
          "hovermode": "closest",
          "mapbox": {
           "style": "light"
          },
          "paper_bgcolor": "white",
          "plot_bgcolor": "#E5ECF6",
          "polar": {
           "angularaxis": {
            "gridcolor": "white",
            "linecolor": "white",
            "ticks": ""
           },
           "bgcolor": "#E5ECF6",
           "radialaxis": {
            "gridcolor": "white",
            "linecolor": "white",
            "ticks": ""
           }
          },
          "scene": {
           "xaxis": {
            "backgroundcolor": "#E5ECF6",
            "gridcolor": "white",
            "gridwidth": 2,
            "linecolor": "white",
            "showbackground": true,
            "ticks": "",
            "zerolinecolor": "white"
           },
           "yaxis": {
            "backgroundcolor": "#E5ECF6",
            "gridcolor": "white",
            "gridwidth": 2,
            "linecolor": "white",
            "showbackground": true,
            "ticks": "",
            "zerolinecolor": "white"
           },
           "zaxis": {
            "backgroundcolor": "#E5ECF6",
            "gridcolor": "white",
            "gridwidth": 2,
            "linecolor": "white",
            "showbackground": true,
            "ticks": "",
            "zerolinecolor": "white"
           }
          },
          "shapedefaults": {
           "line": {
            "color": "#2a3f5f"
           }
          },
          "ternary": {
           "aaxis": {
            "gridcolor": "white",
            "linecolor": "white",
            "ticks": ""
           },
           "baxis": {
            "gridcolor": "white",
            "linecolor": "white",
            "ticks": ""
           },
           "bgcolor": "#E5ECF6",
           "caxis": {
            "gridcolor": "white",
            "linecolor": "white",
            "ticks": ""
           }
          },
          "title": {
           "x": 0.05
          },
          "xaxis": {
           "automargin": true,
           "gridcolor": "white",
           "linecolor": "white",
           "ticks": "",
           "title": {
            "standoff": 15
           },
           "zerolinecolor": "white",
           "zerolinewidth": 2
          },
          "yaxis": {
           "automargin": true,
           "gridcolor": "white",
           "linecolor": "white",
           "ticks": "",
           "title": {
            "standoff": 15
           },
           "zerolinecolor": "white",
           "zerolinewidth": 2
          }
         }
        },
        "xaxis": {
         "anchor": "y",
         "domain": [
          0,
          1
         ],
         "title": {
          "text": "Perioden"
         }
        },
        "yaxis": {
         "anchor": "x",
         "domain": [
          0,
          1
         ],
         "title": {
          "text": "Ritten per persoon per dag (gemiddeld) (aantal)"
         },
         "type": "linear"
        }
       }
      }
     },
     "metadata": {},
     "output_type": "display_data"
    }
   ],
   "source": [
    "df_mat_total = df_mat[\n",
    "    (df_mat['Geslacht'] == \"Totaal mannen en vrouwen\") &\n",
    "    (df_mat[\"Leeftijd\"] == \"Totaal\") &\n",
    "    (df_mat[\"Vervoerwijzen\"] != \"Totaal\")&\n",
    "    (df_mat[\"Reismotieven\"] == \"Van en naar het werk\")]\n",
    "\n",
    "fig = px.scatter(df_mat_total,\n",
    "              x='Perioden',\n",
    "              y='Ritten per persoon per dag (gemiddeld) (aantal)',\n",
    "              color=\"Vervoerwijzen\",\n",
    "              trendline=\"ols\")\n",
    "\n",
    "fig.update_yaxes(type='linear')\n",
    "fig.show()\n",
    "\n",
    "\n"
   ]
  },
  {
   "cell_type": "code",
   "execution_count": 16,
   "metadata": {},
   "outputs": [
    {
     "data": {
      "application/vnd.plotly.v1+json": {
       "config": {
        "plotlyServerURL": "https://plot.ly"
       },
       "data": [
        {
         "hovertemplate": "Vervoerwijzen=Auto (bestuurder)<br>Perioden=%{x}<br>Ritten per persoon per dag (gemiddeld) (aantal)=%{y}<extra></extra>",
         "legendgroup": "Auto (bestuurder)",
         "marker": {
          "color": "#636efa",
          "symbol": "circle"
         },
         "mode": "markers",
         "name": "Auto (bestuurder)",
         "orientation": "h",
         "showlegend": true,
         "type": "scatter",
         "x": [
          1999,
          2003,
          2007,
          2011,
          2015,
          2019,
          2020,
          2021,
          2022,
          2023
         ],
         "xaxis": "x",
         "y": [
          "    0.23",
          "    0.24",
          "    0.26",
          "    0.26",
          "    0.25",
          "    0.25",
          "    0.19",
          "    0.19",
          "    0.21",
          "    0.22"
         ],
         "yaxis": "y"
        },
        {
         "hovertemplate": "<b>OLS trendline</b><br>Ritten per persoon per dag (gemiddeld) (aantal) = -0.00160606 * Perioden + 3.46461<br>R<sup>2</sup>=0.266004<br><br>Vervoerwijzen=Auto (bestuurder)<br>Perioden=%{x}<br>Ritten per persoon per dag (gemiddeld) (aantal)=%{y} <b>(trend)</b><extra></extra>",
         "legendgroup": "Auto (bestuurder)",
         "marker": {
          "color": "#636efa",
          "symbol": "circle"
         },
         "mode": "lines",
         "name": "Auto (bestuurder)",
         "showlegend": false,
         "type": "scatter",
         "x": [
          1999,
          2003,
          2007,
          2011,
          2015,
          2019,
          2020,
          2021,
          2022,
          2023
         ],
         "xaxis": "x",
         "y": [
          0.2540909090909049,
          0.24766666666666293,
          0.24124242424242093,
          0.23481818181817937,
          0.22839393939393737,
          0.22196969696969537,
          0.22036363636363454,
          0.21875757575757415,
          0.21715151515151376,
          0.21554545454545337
         ],
         "yaxis": "y"
        },
        {
         "hovertemplate": "Vervoerwijzen=Auto (passagier)<br>Perioden=%{x}<br>Ritten per persoon per dag (gemiddeld) (aantal)=%{y}<extra></extra>",
         "legendgroup": "Auto (passagier)",
         "marker": {
          "color": "#EF553B",
          "symbol": "circle"
         },
         "mode": "markers",
         "name": "Auto (passagier)",
         "orientation": "h",
         "showlegend": true,
         "type": "scatter",
         "x": [
          1999,
          2003,
          2007,
          2011,
          2015,
          2019,
          2020,
          2021,
          2022,
          2023
         ],
         "xaxis": "x",
         "y": [
          "    0.05",
          "    0.04",
          "    0.03",
          "    0.03",
          "    0.02",
          "    0.02",
          "    0.01",
          "    0.01",
          "    0.01",
          "    0.02"
         ],
         "yaxis": "y"
        },
        {
         "hovertemplate": "<b>OLS trendline</b><br>Ritten per persoon per dag (gemiddeld) (aantal) = -0.00148485 * Perioden + 3.01448<br>R<sup>2</sup>=0.887288<br><br>Vervoerwijzen=Auto (passagier)<br>Perioden=%{x}<br>Ritten per persoon per dag (gemiddeld) (aantal)=%{y} <b>(trend)</b><extra></extra>",
         "legendgroup": "Auto (passagier)",
         "marker": {
          "color": "#EF553B",
          "symbol": "circle"
         },
         "mode": "lines",
         "name": "Auto (passagier)",
         "showlegend": false,
         "type": "scatter",
         "x": [
          1999,
          2003,
          2007,
          2011,
          2015,
          2019,
          2020,
          2021,
          2022,
          2023
         ],
         "xaxis": "x",
         "y": [
          0.04627272727272702,
          0.04033333333333289,
          0.0343939393939392,
          0.02845454545454551,
          0.02251515151515182,
          0.016575757575758132,
          0.015090909090909488,
          0.013606060606061288,
          0.012121212121212643,
          0.010636363636364443
         ],
         "yaxis": "y"
        },
        {
         "hovertemplate": "Vervoerwijzen=Trein<br>Perioden=%{x}<br>Ritten per persoon per dag (gemiddeld) (aantal)=%{y}<extra></extra>",
         "legendgroup": "Trein",
         "marker": {
          "color": "#00cc96",
          "symbol": "circle"
         },
         "mode": "markers",
         "name": "Trein",
         "orientation": "h",
         "showlegend": true,
         "type": "scatter",
         "x": [
          1999,
          2003,
          2007,
          2011,
          2015,
          2019,
          2020,
          2021,
          2022,
          2023
         ],
         "xaxis": "x",
         "y": [
          "    0.02",
          "    0.03",
          "    0.03",
          "    0.03",
          "    0.03",
          "    0.03",
          "    0.01",
          "    0.01",
          "    0.02",
          "    0.02"
         ],
         "yaxis": "y"
        },
        {
         "hovertemplate": "<b>OLS trendline</b><br>Ritten per persoon per dag (gemiddeld) (aantal) = -0.000424242 * Perioden + 0.877424<br>R<sup>2</sup>=0.194734<br><br>Vervoerwijzen=Trein<br>Perioden=%{x}<br>Ritten per persoon per dag (gemiddeld) (aantal)=%{y} <b>(trend)</b><extra></extra>",
         "legendgroup": "Trein",
         "marker": {
          "color": "#00cc96",
          "symbol": "circle"
         },
         "mode": "lines",
         "name": "Trein",
         "showlegend": false,
         "type": "scatter",
         "x": [
          1999,
          2003,
          2007,
          2011,
          2015,
          2019,
          2020,
          2021,
          2022,
          2023
         ],
         "xaxis": "x",
         "y": [
          0.029363636363635703,
          0.027666666666666173,
          0.025969696969696643,
          0.024272727272727113,
          0.022575757575757582,
          0.020878787878788052,
          0.020454545454545614,
          0.020030303030303287,
          0.01960606060606085,
          0.019181818181818522
         ],
         "yaxis": "y"
        },
        {
         "hovertemplate": "Vervoerwijzen=Bus/tram/metro<br>Perioden=%{x}<br>Ritten per persoon per dag (gemiddeld) (aantal)=%{y}<extra></extra>",
         "legendgroup": "Bus/tram/metro",
         "marker": {
          "color": "#ab63fa",
          "symbol": "circle"
         },
         "mode": "markers",
         "name": "Bus/tram/metro",
         "orientation": "h",
         "showlegend": true,
         "type": "scatter",
         "x": [
          1999,
          2003,
          2007,
          2011,
          2015,
          2019,
          2020,
          2021,
          2022,
          2023
         ],
         "xaxis": "x",
         "y": [
          "    0.04",
          "    0.04",
          "    0.04",
          "    0.04",
          "    0.04",
          "    0.04",
          "    0.02",
          "    0.02",
          "    0.02",
          "    0.03"
         ],
         "yaxis": "y"
        },
        {
         "hovertemplate": "<b>OLS trendline</b><br>Ritten per persoon per dag (gemiddeld) (aantal) = -0.000772727 * Perioden + 1.58927<br>R<sup>2</sup>=0.486532<br><br>Vervoerwijzen=Bus/tram/metro<br>Perioden=%{x}<br>Ritten per persoon per dag (gemiddeld) (aantal)=%{y} <b>(trend)</b><extra></extra>",
         "legendgroup": "Bus/tram/metro",
         "marker": {
          "color": "#ab63fa",
          "symbol": "circle"
         },
         "mode": "lines",
         "name": "Bus/tram/metro",
         "showlegend": false,
         "type": "scatter",
         "x": [
          1999,
          2003,
          2007,
          2011,
          2015,
          2019,
          2020,
          2021,
          2022,
          2023
         ],
         "xaxis": "x",
         "y": [
          0.04459090909090868,
          0.04149999999999987,
          0.03840909090909084,
          0.035318181818182026,
          0.03222727272727299,
          0.02913636363636396,
          0.028363636363636813,
          0.027590909090909665,
          0.026818181818182296,
          0.02604545454545515
         ],
         "yaxis": "y"
        },
        {
         "hovertemplate": "Vervoerwijzen=Fiets<br>Perioden=%{x}<br>Ritten per persoon per dag (gemiddeld) (aantal)=%{y}<extra></extra>",
         "legendgroup": "Fiets",
         "marker": {
          "color": "#FFA15A",
          "symbol": "circle"
         },
         "mode": "markers",
         "name": "Fiets",
         "orientation": "h",
         "showlegend": true,
         "type": "scatter",
         "x": [
          1999,
          2003,
          2007,
          2011,
          2015,
          2019,
          2020,
          2021,
          2022,
          2023
         ],
         "xaxis": "x",
         "y": [
          "    0.15",
          "    0.15",
          "    0.15",
          "    0.16",
          "    0.16",
          "    0.16",
          "    0.11",
          "    0.11",
          "    0.13",
          "    0.14"
         ],
         "yaxis": "y"
        },
        {
         "hovertemplate": "<b>OLS trendline</b><br>Ritten per persoon per dag (gemiddeld) (aantal) = -0.00112121 * Perioden + 2.40012<br>R<sup>2</sup>=0.246934<br><br>Vervoerwijzen=Fiets<br>Perioden=%{x}<br>Ritten per persoon per dag (gemiddeld) (aantal)=%{y} <b>(trend)</b><extra></extra>",
         "legendgroup": "Fiets",
         "marker": {
          "color": "#FFA15A",
          "symbol": "circle"
         },
         "mode": "lines",
         "name": "Fiets",
         "showlegend": false,
         "type": "scatter",
         "x": [
          1999,
          2003,
          2007,
          2011,
          2015,
          2019,
          2020,
          2021,
          2022,
          2023
         ],
         "xaxis": "x",
         "y": [
          0.1588181818181802,
          0.15433333333333188,
          0.14984848484848357,
          0.14536363636363525,
          0.14087878787878738,
          0.13639393939393907,
          0.135272727272727,
          0.1341515151515149,
          0.13303030303030283,
          0.13190909090909075
         ],
         "yaxis": "y"
        },
        {
         "hovertemplate": "Vervoerwijzen=Lopen<br>Perioden=%{x}<br>Ritten per persoon per dag (gemiddeld) (aantal)=%{y}<extra></extra>",
         "legendgroup": "Lopen",
         "marker": {
          "color": "#19d3f3",
          "symbol": "circle"
         },
         "mode": "markers",
         "name": "Lopen",
         "orientation": "h",
         "showlegend": true,
         "type": "scatter",
         "x": [
          1999,
          2003,
          2007,
          2011,
          2015,
          2019,
          2020,
          2021,
          2022,
          2023
         ],
         "xaxis": "x",
         "y": [
          "    0.05",
          "    0.05",
          "    0.06",
          "    0.07",
          "    0.07",
          "    0.07",
          "    0.04",
          "    0.04",
          "    0.05",
          "    0.06"
         ],
         "yaxis": "y"
        },
        {
         "hovertemplate": "<b>OLS trendline</b><br>Ritten per persoon per dag (gemiddeld) (aantal) = -7.57576e-05 * Perioden + 0.208576<br>R<sup>2</sup>=0.003055<br><br>Vervoerwijzen=Lopen<br>Perioden=%{x}<br>Ritten per persoon per dag (gemiddeld) (aantal)=%{y} <b>(trend)</b><extra></extra>",
         "legendgroup": "Lopen",
         "marker": {
          "color": "#19d3f3",
          "symbol": "circle"
         },
         "mode": "lines",
         "name": "Lopen",
         "showlegend": false,
         "type": "scatter",
         "x": [
          1999,
          2003,
          2007,
          2011,
          2015,
          2019,
          2020,
          2021,
          2022,
          2023
         ],
         "xaxis": "x",
         "y": [
          0.0571363636363631,
          0.056833333333332875,
          0.05653030303030265,
          0.05622727272727243,
          0.05592424242424221,
          0.05562121212121199,
          0.055545454545454426,
          0.05546969696969686,
          0.05539393939393933,
          0.055318181818181766
         ],
         "yaxis": "y"
        },
        {
         "hovertemplate": "Vervoerwijzen=Overige vervoerwijze<br>Perioden=%{x}<br>Ritten per persoon per dag (gemiddeld) (aantal)=%{y}<extra></extra>",
         "legendgroup": "Overige vervoerwijze",
         "marker": {
          "color": "#FF6692",
          "symbol": "circle"
         },
         "mode": "markers",
         "name": "Overige vervoerwijze",
         "orientation": "h",
         "showlegend": true,
         "type": "scatter",
         "x": [
          1999,
          2003,
          2007,
          2011,
          2015,
          2019,
          2020,
          2021,
          2022,
          2023
         ],
         "xaxis": "x",
         "y": [
          "    0.05",
          "    0.04",
          "    0.04",
          "    0.04",
          "    0.04",
          "    0.04",
          "    0.03",
          "    0.03",
          "    0.03",
          "    0.03"
         ],
         "yaxis": "y"
        },
        {
         "hovertemplate": "<b>OLS trendline</b><br>Ritten per persoon per dag (gemiddeld) (aantal) = -0.000681818 * Perioden + 1.41018<br>R<sup>2</sup>=0.748337<br><br>Vervoerwijzen=Overige vervoerwijze<br>Perioden=%{x}<br>Ritten per persoon per dag (gemiddeld) (aantal)=%{y} <b>(trend)</b><extra></extra>",
         "legendgroup": "Overige vervoerwijze",
         "marker": {
          "color": "#FF6692",
          "symbol": "circle"
         },
         "mode": "lines",
         "name": "Overige vervoerwijze",
         "showlegend": false,
         "type": "scatter",
         "x": [
          1999,
          2003,
          2007,
          2011,
          2015,
          2019,
          2020,
          2021,
          2022,
          2023
         ],
         "xaxis": "x",
         "y": [
          0.04722727272727245,
          0.04449999999999976,
          0.04177272727272707,
          0.03904545454545438,
          0.036318181818181916,
          0.03359090909090923,
          0.032909090909091,
          0.03222727272727277,
          0.031545454545454765,
          0.030863636363636537
         ],
         "yaxis": "y"
        },
        {
         "mode": "lines",
         "name": "Projected Trend (2024-2030)",
         "type": "scatter",
         "x": [
          2024,
          2025,
          2026,
          2027,
          2028,
          2029,
          2030
         ],
         "y": [
          0.06904761904761902,
          0.06816666666666671,
          0.06728571428571417,
          0.06640476190476186,
          0.06552380952380954,
          0.06464285714285722,
          0.06376190476190469
         ]
        }
       ],
       "layout": {
        "legend": {
         "title": {
          "text": "Vervoerwijzen"
         },
         "tracegroupgap": 0
        },
        "margin": {
         "t": 60
        },
        "template": {
         "data": {
          "bar": [
           {
            "error_x": {
             "color": "#2a3f5f"
            },
            "error_y": {
             "color": "#2a3f5f"
            },
            "marker": {
             "line": {
              "color": "#E5ECF6",
              "width": 0.5
             },
             "pattern": {
              "fillmode": "overlay",
              "size": 10,
              "solidity": 0.2
             }
            },
            "type": "bar"
           }
          ],
          "barpolar": [
           {
            "marker": {
             "line": {
              "color": "#E5ECF6",
              "width": 0.5
             },
             "pattern": {
              "fillmode": "overlay",
              "size": 10,
              "solidity": 0.2
             }
            },
            "type": "barpolar"
           }
          ],
          "carpet": [
           {
            "aaxis": {
             "endlinecolor": "#2a3f5f",
             "gridcolor": "white",
             "linecolor": "white",
             "minorgridcolor": "white",
             "startlinecolor": "#2a3f5f"
            },
            "baxis": {
             "endlinecolor": "#2a3f5f",
             "gridcolor": "white",
             "linecolor": "white",
             "minorgridcolor": "white",
             "startlinecolor": "#2a3f5f"
            },
            "type": "carpet"
           }
          ],
          "choropleth": [
           {
            "colorbar": {
             "outlinewidth": 0,
             "ticks": ""
            },
            "type": "choropleth"
           }
          ],
          "contour": [
           {
            "colorbar": {
             "outlinewidth": 0,
             "ticks": ""
            },
            "colorscale": [
             [
              0,
              "#0d0887"
             ],
             [
              0.1111111111111111,
              "#46039f"
             ],
             [
              0.2222222222222222,
              "#7201a8"
             ],
             [
              0.3333333333333333,
              "#9c179e"
             ],
             [
              0.4444444444444444,
              "#bd3786"
             ],
             [
              0.5555555555555556,
              "#d8576b"
             ],
             [
              0.6666666666666666,
              "#ed7953"
             ],
             [
              0.7777777777777778,
              "#fb9f3a"
             ],
             [
              0.8888888888888888,
              "#fdca26"
             ],
             [
              1,
              "#f0f921"
             ]
            ],
            "type": "contour"
           }
          ],
          "contourcarpet": [
           {
            "colorbar": {
             "outlinewidth": 0,
             "ticks": ""
            },
            "type": "contourcarpet"
           }
          ],
          "heatmap": [
           {
            "colorbar": {
             "outlinewidth": 0,
             "ticks": ""
            },
            "colorscale": [
             [
              0,
              "#0d0887"
             ],
             [
              0.1111111111111111,
              "#46039f"
             ],
             [
              0.2222222222222222,
              "#7201a8"
             ],
             [
              0.3333333333333333,
              "#9c179e"
             ],
             [
              0.4444444444444444,
              "#bd3786"
             ],
             [
              0.5555555555555556,
              "#d8576b"
             ],
             [
              0.6666666666666666,
              "#ed7953"
             ],
             [
              0.7777777777777778,
              "#fb9f3a"
             ],
             [
              0.8888888888888888,
              "#fdca26"
             ],
             [
              1,
              "#f0f921"
             ]
            ],
            "type": "heatmap"
           }
          ],
          "heatmapgl": [
           {
            "colorbar": {
             "outlinewidth": 0,
             "ticks": ""
            },
            "colorscale": [
             [
              0,
              "#0d0887"
             ],
             [
              0.1111111111111111,
              "#46039f"
             ],
             [
              0.2222222222222222,
              "#7201a8"
             ],
             [
              0.3333333333333333,
              "#9c179e"
             ],
             [
              0.4444444444444444,
              "#bd3786"
             ],
             [
              0.5555555555555556,
              "#d8576b"
             ],
             [
              0.6666666666666666,
              "#ed7953"
             ],
             [
              0.7777777777777778,
              "#fb9f3a"
             ],
             [
              0.8888888888888888,
              "#fdca26"
             ],
             [
              1,
              "#f0f921"
             ]
            ],
            "type": "heatmapgl"
           }
          ],
          "histogram": [
           {
            "marker": {
             "pattern": {
              "fillmode": "overlay",
              "size": 10,
              "solidity": 0.2
             }
            },
            "type": "histogram"
           }
          ],
          "histogram2d": [
           {
            "colorbar": {
             "outlinewidth": 0,
             "ticks": ""
            },
            "colorscale": [
             [
              0,
              "#0d0887"
             ],
             [
              0.1111111111111111,
              "#46039f"
             ],
             [
              0.2222222222222222,
              "#7201a8"
             ],
             [
              0.3333333333333333,
              "#9c179e"
             ],
             [
              0.4444444444444444,
              "#bd3786"
             ],
             [
              0.5555555555555556,
              "#d8576b"
             ],
             [
              0.6666666666666666,
              "#ed7953"
             ],
             [
              0.7777777777777778,
              "#fb9f3a"
             ],
             [
              0.8888888888888888,
              "#fdca26"
             ],
             [
              1,
              "#f0f921"
             ]
            ],
            "type": "histogram2d"
           }
          ],
          "histogram2dcontour": [
           {
            "colorbar": {
             "outlinewidth": 0,
             "ticks": ""
            },
            "colorscale": [
             [
              0,
              "#0d0887"
             ],
             [
              0.1111111111111111,
              "#46039f"
             ],
             [
              0.2222222222222222,
              "#7201a8"
             ],
             [
              0.3333333333333333,
              "#9c179e"
             ],
             [
              0.4444444444444444,
              "#bd3786"
             ],
             [
              0.5555555555555556,
              "#d8576b"
             ],
             [
              0.6666666666666666,
              "#ed7953"
             ],
             [
              0.7777777777777778,
              "#fb9f3a"
             ],
             [
              0.8888888888888888,
              "#fdca26"
             ],
             [
              1,
              "#f0f921"
             ]
            ],
            "type": "histogram2dcontour"
           }
          ],
          "mesh3d": [
           {
            "colorbar": {
             "outlinewidth": 0,
             "ticks": ""
            },
            "type": "mesh3d"
           }
          ],
          "parcoords": [
           {
            "line": {
             "colorbar": {
              "outlinewidth": 0,
              "ticks": ""
             }
            },
            "type": "parcoords"
           }
          ],
          "pie": [
           {
            "automargin": true,
            "type": "pie"
           }
          ],
          "scatter": [
           {
            "fillpattern": {
             "fillmode": "overlay",
             "size": 10,
             "solidity": 0.2
            },
            "type": "scatter"
           }
          ],
          "scatter3d": [
           {
            "line": {
             "colorbar": {
              "outlinewidth": 0,
              "ticks": ""
             }
            },
            "marker": {
             "colorbar": {
              "outlinewidth": 0,
              "ticks": ""
             }
            },
            "type": "scatter3d"
           }
          ],
          "scattercarpet": [
           {
            "marker": {
             "colorbar": {
              "outlinewidth": 0,
              "ticks": ""
             }
            },
            "type": "scattercarpet"
           }
          ],
          "scattergeo": [
           {
            "marker": {
             "colorbar": {
              "outlinewidth": 0,
              "ticks": ""
             }
            },
            "type": "scattergeo"
           }
          ],
          "scattergl": [
           {
            "marker": {
             "colorbar": {
              "outlinewidth": 0,
              "ticks": ""
             }
            },
            "type": "scattergl"
           }
          ],
          "scattermapbox": [
           {
            "marker": {
             "colorbar": {
              "outlinewidth": 0,
              "ticks": ""
             }
            },
            "type": "scattermapbox"
           }
          ],
          "scatterpolar": [
           {
            "marker": {
             "colorbar": {
              "outlinewidth": 0,
              "ticks": ""
             }
            },
            "type": "scatterpolar"
           }
          ],
          "scatterpolargl": [
           {
            "marker": {
             "colorbar": {
              "outlinewidth": 0,
              "ticks": ""
             }
            },
            "type": "scatterpolargl"
           }
          ],
          "scatterternary": [
           {
            "marker": {
             "colorbar": {
              "outlinewidth": 0,
              "ticks": ""
             }
            },
            "type": "scatterternary"
           }
          ],
          "surface": [
           {
            "colorbar": {
             "outlinewidth": 0,
             "ticks": ""
            },
            "colorscale": [
             [
              0,
              "#0d0887"
             ],
             [
              0.1111111111111111,
              "#46039f"
             ],
             [
              0.2222222222222222,
              "#7201a8"
             ],
             [
              0.3333333333333333,
              "#9c179e"
             ],
             [
              0.4444444444444444,
              "#bd3786"
             ],
             [
              0.5555555555555556,
              "#d8576b"
             ],
             [
              0.6666666666666666,
              "#ed7953"
             ],
             [
              0.7777777777777778,
              "#fb9f3a"
             ],
             [
              0.8888888888888888,
              "#fdca26"
             ],
             [
              1,
              "#f0f921"
             ]
            ],
            "type": "surface"
           }
          ],
          "table": [
           {
            "cells": {
             "fill": {
              "color": "#EBF0F8"
             },
             "line": {
              "color": "white"
             }
            },
            "header": {
             "fill": {
              "color": "#C8D4E3"
             },
             "line": {
              "color": "white"
             }
            },
            "type": "table"
           }
          ]
         },
         "layout": {
          "annotationdefaults": {
           "arrowcolor": "#2a3f5f",
           "arrowhead": 0,
           "arrowwidth": 1
          },
          "autotypenumbers": "strict",
          "coloraxis": {
           "colorbar": {
            "outlinewidth": 0,
            "ticks": ""
           }
          },
          "colorscale": {
           "diverging": [
            [
             0,
             "#8e0152"
            ],
            [
             0.1,
             "#c51b7d"
            ],
            [
             0.2,
             "#de77ae"
            ],
            [
             0.3,
             "#f1b6da"
            ],
            [
             0.4,
             "#fde0ef"
            ],
            [
             0.5,
             "#f7f7f7"
            ],
            [
             0.6,
             "#e6f5d0"
            ],
            [
             0.7,
             "#b8e186"
            ],
            [
             0.8,
             "#7fbc41"
            ],
            [
             0.9,
             "#4d9221"
            ],
            [
             1,
             "#276419"
            ]
           ],
           "sequential": [
            [
             0,
             "#0d0887"
            ],
            [
             0.1111111111111111,
             "#46039f"
            ],
            [
             0.2222222222222222,
             "#7201a8"
            ],
            [
             0.3333333333333333,
             "#9c179e"
            ],
            [
             0.4444444444444444,
             "#bd3786"
            ],
            [
             0.5555555555555556,
             "#d8576b"
            ],
            [
             0.6666666666666666,
             "#ed7953"
            ],
            [
             0.7777777777777778,
             "#fb9f3a"
            ],
            [
             0.8888888888888888,
             "#fdca26"
            ],
            [
             1,
             "#f0f921"
            ]
           ],
           "sequentialminus": [
            [
             0,
             "#0d0887"
            ],
            [
             0.1111111111111111,
             "#46039f"
            ],
            [
             0.2222222222222222,
             "#7201a8"
            ],
            [
             0.3333333333333333,
             "#9c179e"
            ],
            [
             0.4444444444444444,
             "#bd3786"
            ],
            [
             0.5555555555555556,
             "#d8576b"
            ],
            [
             0.6666666666666666,
             "#ed7953"
            ],
            [
             0.7777777777777778,
             "#fb9f3a"
            ],
            [
             0.8888888888888888,
             "#fdca26"
            ],
            [
             1,
             "#f0f921"
            ]
           ]
          },
          "colorway": [
           "#636efa",
           "#EF553B",
           "#00cc96",
           "#ab63fa",
           "#FFA15A",
           "#19d3f3",
           "#FF6692",
           "#B6E880",
           "#FF97FF",
           "#FECB52"
          ],
          "font": {
           "color": "#2a3f5f"
          },
          "geo": {
           "bgcolor": "white",
           "lakecolor": "white",
           "landcolor": "#E5ECF6",
           "showlakes": true,
           "showland": true,
           "subunitcolor": "white"
          },
          "hoverlabel": {
           "align": "left"
          },
          "hovermode": "closest",
          "mapbox": {
           "style": "light"
          },
          "paper_bgcolor": "white",
          "plot_bgcolor": "#E5ECF6",
          "polar": {
           "angularaxis": {
            "gridcolor": "white",
            "linecolor": "white",
            "ticks": ""
           },
           "bgcolor": "#E5ECF6",
           "radialaxis": {
            "gridcolor": "white",
            "linecolor": "white",
            "ticks": ""
           }
          },
          "scene": {
           "xaxis": {
            "backgroundcolor": "#E5ECF6",
            "gridcolor": "white",
            "gridwidth": 2,
            "linecolor": "white",
            "showbackground": true,
            "ticks": "",
            "zerolinecolor": "white"
           },
           "yaxis": {
            "backgroundcolor": "#E5ECF6",
            "gridcolor": "white",
            "gridwidth": 2,
            "linecolor": "white",
            "showbackground": true,
            "ticks": "",
            "zerolinecolor": "white"
           },
           "zaxis": {
            "backgroundcolor": "#E5ECF6",
            "gridcolor": "white",
            "gridwidth": 2,
            "linecolor": "white",
            "showbackground": true,
            "ticks": "",
            "zerolinecolor": "white"
           }
          },
          "shapedefaults": {
           "line": {
            "color": "#2a3f5f"
           }
          },
          "ternary": {
           "aaxis": {
            "gridcolor": "white",
            "linecolor": "white",
            "ticks": ""
           },
           "baxis": {
            "gridcolor": "white",
            "linecolor": "white",
            "ticks": ""
           },
           "bgcolor": "#E5ECF6",
           "caxis": {
            "gridcolor": "white",
            "linecolor": "white",
            "ticks": ""
           }
          },
          "title": {
           "x": 0.05
          },
          "xaxis": {
           "automargin": true,
           "gridcolor": "white",
           "linecolor": "white",
           "ticks": "",
           "title": {
            "standoff": 15
           },
           "zerolinecolor": "white",
           "zerolinewidth": 2
          },
          "yaxis": {
           "automargin": true,
           "gridcolor": "white",
           "linecolor": "white",
           "ticks": "",
           "title": {
            "standoff": 15
           },
           "zerolinecolor": "white",
           "zerolinewidth": 2
          }
         }
        },
        "title": {
         "text": "Remote Work Trend Projections and Mobility (2024-2030)"
        },
        "xaxis": {
         "anchor": "y",
         "domain": [
          0,
          1
         ],
         "title": {
          "text": "Perioden"
         }
        },
        "yaxis": {
         "anchor": "x",
         "domain": [
          0,
          1
         ],
         "title": {
          "text": "Ritten per persoon per dag (gemiddeld)"
         }
        }
       }
      }
     },
     "metadata": {},
     "output_type": "display_data"
    }
   ],
   "source": [
    "import plotly.express as px\n",
    "from sklearn.linear_model import LinearRegression\n",
    "import numpy as np\n",
    "\n",
    "# Clean and filter the data\n",
    "df_mat['Perioden'] = df_mat['Perioden'].str.replace('*', '', regex=False).astype(int)\n",
    "\n",
    "df_mat_total = df_mat[\n",
    "    (df_mat['Geslacht'] == \"Totaal mannen en vrouwen\") &\n",
    "    (df_mat[\"Leeftijd\"] == \"Totaal\") &\n",
    "    (df_mat[\"Vervoerwijzen\"] != \"Totaal\") &\n",
    "    (df_mat[\"Reismotieven\"] == \"Van en naar het werk\")\n",
    "]\n",
    "\n",
    "# Prepare data for regression\n",
    "X = df_mat_total[['Perioden']].values.reshape(-1, 1)\n",
    "y = df_mat_total['Ritten per persoon per dag (gemiddeld) (aantal)'].astype(float).values\n",
    "\n",
    "# Fit the regression model\n",
    "model = LinearRegression()\n",
    "model.fit(X, y)\n",
    "\n",
    "# Future periods for prediction\n",
    "future_periods = np.arange(2024, 2031).reshape(-1, 1)\n",
    "predicted_trend = model.predict(future_periods)\n",
    "\n",
    "# Plot the historical data and future predictions\n",
    "fig = px.scatter(df_mat_total, \n",
    "                 x='Perioden', \n",
    "                 y='Ritten per persoon per dag (gemiddeld) (aantal)', \n",
    "                 color=\"Vervoerwijzen\", \n",
    "                 trendline=\"ols\")\n",
    "\n",
    "# Add the future trendline\n",
    "fig.add_scatter(x=future_periods.flatten(), y=predicted_trend, mode='lines', name='Projected Trend (2024-2030)')\n",
    "\n",
    "fig.update_layout(\n",
    "    xaxis_title='Perioden',\n",
    "    yaxis_title='Ritten per persoon per dag (gemiddeld)',\n",
    "    title='Remote Work Trend Projections and Mobility (2024-2030)'\n",
    ")\n",
    "\n",
    "fig.show()\n"
   ]
  },
  {
   "cell_type": "code",
   "execution_count": null,
   "metadata": {},
   "outputs": [],
   "source": []
  }
 ],
 "metadata": {
  "kernelspec": {
   "display_name": "TIL6022",
   "language": "python",
   "name": "python3"
  },
  "language_info": {
   "codemirror_mode": {
    "name": "ipython",
    "version": 3
   },
   "file_extension": ".py",
   "mimetype": "text/x-python",
   "name": "python",
   "nbconvert_exporter": "python",
   "pygments_lexer": "ipython3",
   "version": "3.8.19"
  }
 },
 "nbformat": 4,
 "nbformat_minor": 2
}
